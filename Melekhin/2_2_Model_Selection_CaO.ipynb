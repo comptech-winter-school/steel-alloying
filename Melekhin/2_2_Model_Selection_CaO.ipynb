{
 "cells": [
  {
   "cell_type": "code",
   "execution_count": 15,
   "metadata": {},
   "outputs": [],
   "source": [
    "import pandas as pd\n",
    "import matplotlib.pyplot as plt\n",
    "import numpy as np\n",
    "\n",
    "from sklearn.metrics import mean_absolute_percentage_error\n",
    "from sklearn.preprocessing import StandardScaler\n",
    "from sklearn.linear_model import LinearRegression, Lasso, Ridge\n",
    "from sklearn.svm import LinearSVR\n",
    "from sklearn.model_selection import cross_val_score, train_test_split\n",
    "from sklearn.feature_selection import SelectFromModel\n",
    "from sklearn.ensemble import StackingRegressor\n",
    "from sklearn.ensemble import RandomForestRegressor\n",
    "\n",
    "import lightgbm as lgb\n",
    "from lightgbm import LGBMRegressor"
   ]
  },
  {
   "cell_type": "code",
   "execution_count": 2,
   "metadata": {},
   "outputs": [
    {
     "name": "stdout",
     "output_type": "stream",
     "text": [
      "\n",
      "System:\n",
      "    python: 3.8.5 (default, Sep  4 2020, 02:22:02)  [Clang 10.0.0 ]\n",
      "executable: /Users/metra4ok/anaconda3/bin/python\n",
      "   machine: macOS-10.15.7-x86_64-i386-64bit\n",
      "\n",
      "Python dependencies:\n",
      "          pip: 20.3.3\n",
      "   setuptools: 52.0.0.post20210125\n",
      "      sklearn: 0.24.1\n",
      "        numpy: 1.19.2\n",
      "        scipy: 1.5.2\n",
      "       Cython: 0.29.21\n",
      "       pandas: 1.2.1\n",
      "   matplotlib: 3.3.2\n",
      "       joblib: 1.0.0\n",
      "threadpoolctl: 2.1.0\n",
      "\n",
      "Built with OpenMP: True\n"
     ]
    }
   ],
   "source": [
    "import sklearn\n",
    "sklearn.show_versions()"
   ]
  },
  {
   "cell_type": "code",
   "execution_count": 3,
   "metadata": {},
   "outputs": [],
   "source": [
    "import random\n",
    "\n",
    "seed = 42\n",
    "np.random.seed(seed)\n",
    "random.seed(seed)"
   ]
  },
  {
   "cell_type": "markdown",
   "metadata": {},
   "source": [
    "# Загрузка датасета"
   ]
  },
  {
   "cell_type": "code",
   "execution_count": 4,
   "metadata": {},
   "outputs": [
    {
     "data": {
      "text/html": [
       "<div>\n",
       "<style scoped>\n",
       "    .dataframe tbody tr th:only-of-type {\n",
       "        vertical-align: middle;\n",
       "    }\n",
       "\n",
       "    .dataframe tbody tr th {\n",
       "        vertical-align: top;\n",
       "    }\n",
       "\n",
       "    .dataframe thead th {\n",
       "        text-align: right;\n",
       "    }\n",
       "</style>\n",
       "<table border=\"1\" class=\"dataframe\">\n",
       "  <thead>\n",
       "    <tr style=\"text-align: right;\">\n",
       "      <th></th>\n",
       "      <th>МАРКА_rare</th>\n",
       "      <th>МАРКА_Э76ХФ</th>\n",
       "      <th>МАРКА_Э90ХАФ</th>\n",
       "      <th>ПРОФИЛЬ_rare</th>\n",
       "      <th>ПРОФИЛЬ_Р65</th>\n",
       "      <th>t вып-обр</th>\n",
       "      <th>t обработка</th>\n",
       "      <th>t под током</th>\n",
       "      <th>t продувка</th>\n",
       "      <th>ПСН гр.</th>\n",
       "      <th>...</th>\n",
       "      <th>химшлак первый MnO_1</th>\n",
       "      <th>химшлак первый R_1</th>\n",
       "      <th>химшлак первый SiO2_1</th>\n",
       "      <th>химшлак последний Al2O3</th>\n",
       "      <th>химшлак последний CaO</th>\n",
       "      <th>химшлак последний FeO</th>\n",
       "      <th>химшлак последний MgO</th>\n",
       "      <th>химшлак последний MnO</th>\n",
       "      <th>химшлак последний R</th>\n",
       "      <th>химшлак последний SiO2</th>\n",
       "    </tr>\n",
       "  </thead>\n",
       "  <tbody>\n",
       "    <tr>\n",
       "      <th>0</th>\n",
       "      <td>0</td>\n",
       "      <td>1</td>\n",
       "      <td>0</td>\n",
       "      <td>0</td>\n",
       "      <td>1</td>\n",
       "      <td>29.0</td>\n",
       "      <td>45.366667</td>\n",
       "      <td>24.400000</td>\n",
       "      <td>41.033333</td>\n",
       "      <td>3.004414</td>\n",
       "      <td>...</td>\n",
       "      <td>0.12</td>\n",
       "      <td>2.6</td>\n",
       "      <td>22.704914</td>\n",
       "      <td>NaN</td>\n",
       "      <td>53.4</td>\n",
       "      <td>1.0</td>\n",
       "      <td>5.8</td>\n",
       "      <td>0.15</td>\n",
       "      <td>2.6</td>\n",
       "      <td>NaN</td>\n",
       "    </tr>\n",
       "    <tr>\n",
       "      <th>1</th>\n",
       "      <td>0</td>\n",
       "      <td>1</td>\n",
       "      <td>0</td>\n",
       "      <td>0</td>\n",
       "      <td>1</td>\n",
       "      <td>26.0</td>\n",
       "      <td>44.066667</td>\n",
       "      <td>13.866667</td>\n",
       "      <td>44.066667</td>\n",
       "      <td>3.004414</td>\n",
       "      <td>...</td>\n",
       "      <td>0.14</td>\n",
       "      <td>2.2</td>\n",
       "      <td>22.704914</td>\n",
       "      <td>NaN</td>\n",
       "      <td>59.3</td>\n",
       "      <td>0.6</td>\n",
       "      <td>4.1</td>\n",
       "      <td>0.11</td>\n",
       "      <td>2.3</td>\n",
       "      <td>NaN</td>\n",
       "    </tr>\n",
       "    <tr>\n",
       "      <th>2</th>\n",
       "      <td>0</td>\n",
       "      <td>1</td>\n",
       "      <td>0</td>\n",
       "      <td>0</td>\n",
       "      <td>1</td>\n",
       "      <td>24.0</td>\n",
       "      <td>43.350000</td>\n",
       "      <td>17.950000</td>\n",
       "      <td>43.350000</td>\n",
       "      <td>3.004414</td>\n",
       "      <td>...</td>\n",
       "      <td>0.12</td>\n",
       "      <td>2.6</td>\n",
       "      <td>22.704914</td>\n",
       "      <td>NaN</td>\n",
       "      <td>57.2</td>\n",
       "      <td>0.5</td>\n",
       "      <td>8.1</td>\n",
       "      <td>0.13</td>\n",
       "      <td>2.3</td>\n",
       "      <td>NaN</td>\n",
       "    </tr>\n",
       "    <tr>\n",
       "      <th>3</th>\n",
       "      <td>0</td>\n",
       "      <td>1</td>\n",
       "      <td>0</td>\n",
       "      <td>0</td>\n",
       "      <td>1</td>\n",
       "      <td>17.0</td>\n",
       "      <td>46.183333</td>\n",
       "      <td>19.816667</td>\n",
       "      <td>46.183333</td>\n",
       "      <td>3.004414</td>\n",
       "      <td>...</td>\n",
       "      <td>0.11</td>\n",
       "      <td>2.4</td>\n",
       "      <td>22.704914</td>\n",
       "      <td>NaN</td>\n",
       "      <td>60.3</td>\n",
       "      <td>0.5</td>\n",
       "      <td>6.3</td>\n",
       "      <td>0.12</td>\n",
       "      <td>2.6</td>\n",
       "      <td>NaN</td>\n",
       "    </tr>\n",
       "    <tr>\n",
       "      <th>4</th>\n",
       "      <td>0</td>\n",
       "      <td>1</td>\n",
       "      <td>0</td>\n",
       "      <td>0</td>\n",
       "      <td>1</td>\n",
       "      <td>20.0</td>\n",
       "      <td>48.500000</td>\n",
       "      <td>17.033333</td>\n",
       "      <td>48.500000</td>\n",
       "      <td>3.004414</td>\n",
       "      <td>...</td>\n",
       "      <td>0.12</td>\n",
       "      <td>2.4</td>\n",
       "      <td>22.704914</td>\n",
       "      <td>NaN</td>\n",
       "      <td>60.3</td>\n",
       "      <td>0.6</td>\n",
       "      <td>4.5</td>\n",
       "      <td>0.09</td>\n",
       "      <td>2.5</td>\n",
       "      <td>NaN</td>\n",
       "    </tr>\n",
       "  </tbody>\n",
       "</table>\n",
       "<p>5 rows × 72 columns</p>\n",
       "</div>"
      ],
      "text/plain": [
       "   МАРКА_rare  МАРКА_Э76ХФ  МАРКА_Э90ХАФ  ПРОФИЛЬ_rare  ПРОФИЛЬ_Р65  \\\n",
       "0           0            1             0             0            1   \n",
       "1           0            1             0             0            1   \n",
       "2           0            1             0             0            1   \n",
       "3           0            1             0             0            1   \n",
       "4           0            1             0             0            1   \n",
       "\n",
       "   t вып-обр  t обработка  t под током  t продувка   ПСН гр.  ...  \\\n",
       "0       29.0    45.366667    24.400000   41.033333  3.004414  ...   \n",
       "1       26.0    44.066667    13.866667   44.066667  3.004414  ...   \n",
       "2       24.0    43.350000    17.950000   43.350000  3.004414  ...   \n",
       "3       17.0    46.183333    19.816667   46.183333  3.004414  ...   \n",
       "4       20.0    48.500000    17.033333   48.500000  3.004414  ...   \n",
       "\n",
       "   химшлак первый MnO_1  химшлак первый R_1  химшлак первый SiO2_1  \\\n",
       "0                  0.12                 2.6              22.704914   \n",
       "1                  0.14                 2.2              22.704914   \n",
       "2                  0.12                 2.6              22.704914   \n",
       "3                  0.11                 2.4              22.704914   \n",
       "4                  0.12                 2.4              22.704914   \n",
       "\n",
       "   химшлак последний Al2O3  химшлак последний CaO  химшлак последний FeO  \\\n",
       "0                      NaN                   53.4                    1.0   \n",
       "1                      NaN                   59.3                    0.6   \n",
       "2                      NaN                   57.2                    0.5   \n",
       "3                      NaN                   60.3                    0.5   \n",
       "4                      NaN                   60.3                    0.6   \n",
       "\n",
       "   химшлак последний MgO  химшлак последний MnO  химшлак последний R  \\\n",
       "0                    5.8                   0.15                  2.6   \n",
       "1                    4.1                   0.11                  2.3   \n",
       "2                    8.1                   0.13                  2.3   \n",
       "3                    6.3                   0.12                  2.6   \n",
       "4                    4.5                   0.09                  2.5   \n",
       "\n",
       "   химшлак последний SiO2  \n",
       "0                     NaN  \n",
       "1                     NaN  \n",
       "2                     NaN  \n",
       "3                     NaN  \n",
       "4                     NaN  \n",
       "\n",
       "[5 rows x 72 columns]"
      ]
     },
     "execution_count": 4,
     "metadata": {},
     "output_type": "execute_result"
    }
   ],
   "source": [
    "data = pd.read_csv('preprocessed_data.csv', index_col=0)\n",
    "\n",
    "data.head()"
   ]
  },
  {
   "cell_type": "code",
   "execution_count": 5,
   "metadata": {},
   "outputs": [
    {
     "data": {
      "text/plain": [
       "(6237, 72)"
      ]
     },
     "execution_count": 5,
     "metadata": {},
     "output_type": "execute_result"
    }
   ],
   "source": [
    "data.shape"
   ]
  },
  {
   "cell_type": "code",
   "execution_count": 6,
   "metadata": {},
   "outputs": [],
   "source": [
    "target_features = ['химшлак последний Al2O3', 'химшлак последний CaO',\n",
    "                   'химшлак последний FeO', 'химшлак последний MgO',\n",
    "                   'химшлак последний MnO', 'химшлак последний R',\n",
    "                   'химшлак последний SiO2']"
   ]
  },
  {
   "cell_type": "markdown",
   "metadata": {},
   "source": [
    "Для каждого таргета будем строить свою модель.\n",
    "\n",
    "**У некоторых таргетов есть пропуски значений - их необходимо удалять**"
   ]
  },
  {
   "cell_type": "markdown",
   "metadata": {},
   "source": [
    "# химшлак последний CaO\n",
    "\n",
    "1. Разделение данных"
   ]
  },
  {
   "cell_type": "code",
   "execution_count": 7,
   "metadata": {},
   "outputs": [],
   "source": [
    "target = 'химшлак последний CaO'\n",
    "targets_to_drop = ['химшлак последний Al2O3', 'химшлак последний FeO',\n",
    "                   'химшлак последний MgO', 'химшлак последний MnO',\n",
    "                   'химшлак последний R', 'химшлак последний SiO2']\n",
    "cleaned_data = data.drop(targets_to_drop, axis=1)\n",
    "cleaned_data = cleaned_data.dropna()\n",
    "X = cleaned_data.drop(target, axis=1)\n",
    "y = cleaned_data[target]"
   ]
  },
  {
   "cell_type": "code",
   "execution_count": 8,
   "metadata": {},
   "outputs": [],
   "source": [
    "categorical_features = ['МАРКА_rare', 'МАРКА_Э76ХФ', 'МАРКА_Э90ХАФ',\n",
    "                        'ПРОФИЛЬ_rare', 'ПРОФИЛЬ_Р65']\n",
    "\n",
    "numerical_features = ['t вып-обр', 't обработка', 't под током', 't продувка',\n",
    "       'ПСН гр.', 'чист расход C', 'чист расход Cr', 'чист расход Mn',\n",
    "       'чист расход Si', 'чист расход V', 'температура первая',\n",
    "       'температура последняя', 'Ar (интенс.)', 'эл. энергия (интенс.)',\n",
    "       'произв жидкая сталь', 'расход газ Ar', 'сыпуч известь РП',\n",
    "       'сыпуч кокс пыль УСТК', 'сыпуч  кокс. мелочь КМ1', 'сыпуч  шпат плав.',\n",
    "       'ферспл CaC2', 'ферспл  FeV-80', 'ферспл  Mn5Si65Al0.5',\n",
    "       'ферспл SiMn18', 'ферспл  фх850А', 'эл. энергия',\n",
    "       'химсталь первый Al_1', 'химсталь первый C_1', 'химсталь первый Cr_1',\n",
    "       'химсталь первый Cu_1', 'химсталь первый Mn_1', 'химсталь первый Mo_1',\n",
    "       'химсталь первый N_1', 'химсталь первый Ni_1', 'химсталь первый P_1',\n",
    "       'химсталь первый S_1', 'химсталь первый Si_1', 'химсталь первый Ti_1',\n",
    "       'химсталь первый V_1', 'химсталь последний Al', 'химсталь последний C',\n",
    "       'химсталь последний Ca', 'химсталь последний Cr',\n",
    "       'химсталь последний Cu', 'химсталь последний Mn',\n",
    "       'химсталь последний Mo', 'химсталь последний N',\n",
    "       'химсталь последний Ni', 'химсталь последний P', 'химсталь последний S',\n",
    "       'химсталь последний Si', 'химсталь последний Ti',\n",
    "       'химсталь последний V', 'химшлак первый Al2O3_1',\n",
    "       'химшлак первый CaO_1', 'химшлак первый FeO_1', 'химшлак первый MgO_1',\n",
    "       'химшлак первый MnO_1', 'химшлак первый R_1', 'химшлак первый SiO2_1']"
   ]
  },
  {
   "cell_type": "markdown",
   "metadata": {},
   "source": [
    "2. Нормализация"
   ]
  },
  {
   "cell_type": "code",
   "execution_count": 9,
   "metadata": {},
   "outputs": [],
   "source": [
    "X_categorical = pd.DataFrame(np.array(X[categorical_features]), columns=categorical_features)\n",
    "X_scaled = pd.DataFrame(StandardScaler().fit_transform(X.drop(categorical_features, axis=1)), \n",
    "                        columns=numerical_features)\n",
    "\n",
    "X = X_categorical.join(X_scaled)"
   ]
  },
  {
   "cell_type": "markdown",
   "metadata": {},
   "source": [
    "# Baseline"
   ]
  },
  {
   "cell_type": "code",
   "execution_count": 13,
   "metadata": {
    "scrolled": true
   },
   "outputs": [
    {
     "name": "stdout",
     "output_type": "stream",
     "text": [
      "Кросс-валидация: 4.82%\n"
     ]
    }
   ],
   "source": [
    "lin_reg_base = LinearRegression()\n",
    "scores_lin_reg_base = cross_val_score(lin_reg_base, X, y, \n",
    "                                      scoring='neg_mean_absolute_percentage_error')\n",
    "print(\"Кросс-валидация: {:.2f}%\".format(np.abs(scores_lin_reg_base.mean())*100))"
   ]
  },
  {
   "cell_type": "code",
   "execution_count": 19,
   "metadata": {},
   "outputs": [
    {
     "name": "stdout",
     "output_type": "stream",
     "text": [
      "Было признаков: 65\n",
      "Отобрано признаков: 50\n",
      "Удалено признаков: 15\n"
     ]
    }
   ],
   "source": [
    "sel_ = SelectFromModel(Lasso(alpha=0.005, random_state=seed))\n",
    "sel_.fit(X, y)\n",
    "\n",
    "selected_features = X.columns[(sel_.get_support())]\n",
    "\n",
    "print('Было признаков: {}'.format((X.shape[1])))\n",
    "print('Отобрано признаков: {}'.format(len(selected_features)))\n",
    "print('Удалено признаков: {}'.format(np.sum(sel_.estimator_.coef_ == 0)))\n",
    "\n",
    "X = X[selected_features]"
   ]
  },
  {
   "cell_type": "code",
   "execution_count": 20,
   "metadata": {},
   "outputs": [
    {
     "name": "stdout",
     "output_type": "stream",
     "text": [
      "Кросс-валидация: 4.82%\n"
     ]
    }
   ],
   "source": [
    "lin_reg = LinearRegression()\n",
    "scores_lin_reg = cross_val_score(lin_reg_base, X, y, \n",
    "                                 scoring='neg_mean_absolute_percentage_error')\n",
    "print(\"Кросс-валидация: {:.2f}%\".format(np.abs(scores_lin_reg_base.mean())*100))"
   ]
  },
  {
   "cell_type": "code",
   "execution_count": 21,
   "metadata": {},
   "outputs": [
    {
     "name": "stdout",
     "output_type": "stream",
     "text": [
      "Кросс-валидация: 4.77%\n"
     ]
    }
   ],
   "source": [
    "estimators = [('lr', LinearRegression()), \n",
    "              ('lgb', LGBMRegressor()),\n",
    "              ('rf', RandomForestRegressor())]\n",
    "\n",
    "stacking_reg_Al = StackingRegressor(estimators=estimators)\n",
    "scores_stacking = cross_val_score(stacking_reg_Al, X, y, \n",
    "                                  scoring='neg_mean_absolute_percentage_error')\n",
    "print(\"Кросс-валидация: {:.2f}%\".format(np.abs(scores_stacking.mean())*100))"
   ]
  }
 ],
 "metadata": {
  "kernelspec": {
   "display_name": "Python 3",
   "language": "python",
   "name": "python3"
  },
  "language_info": {
   "codemirror_mode": {
    "name": "ipython",
    "version": 3
   },
   "file_extension": ".py",
   "mimetype": "text/x-python",
   "name": "python",
   "nbconvert_exporter": "python",
   "pygments_lexer": "ipython3",
   "version": "3.8.5"
  }
 },
 "nbformat": 4,
 "nbformat_minor": 4
}
