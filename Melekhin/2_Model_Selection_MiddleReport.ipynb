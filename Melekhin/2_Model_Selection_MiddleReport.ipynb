{
 "cells": [
  {
   "cell_type": "code",
   "execution_count": 13,
   "id": "legislative-delight",
   "metadata": {},
   "outputs": [],
   "source": [
    "import pandas as pd\n",
    "import matplotlib.pyplot as plt\n",
    "import numpy as np\n",
    "\n",
    "from sklearn.metrics import mean_absolute_percentage_error\n",
    "from sklearn.preprocessing import StandardScaler\n",
    "from sklearn.linear_model import LinearRegression, Lasso, Ridge\n",
    "from sklearn.svm import LinearSVR\n",
    "from sklearn.model_selection import cross_val_score, train_test_split\n",
    "from sklearn.feature_selection import SelectFromModel\n",
    "from sklearn.ensemble import StackingRegressor\n",
    "from sklearn.ensemble import RandomForestRegressor\n",
    "\n",
    "import lightgbm as lgb\n",
    "from lightgbm import LGBMRegressor"
   ]
  },
  {
   "cell_type": "code",
   "execution_count": 2,
   "id": "honest-market",
   "metadata": {},
   "outputs": [
    {
     "name": "stdout",
     "output_type": "stream",
     "text": [
      "\n",
      "System:\n",
      "    python: 3.8.5 (default, Sep  4 2020, 02:22:02)  [Clang 10.0.0 ]\n",
      "executable: /Users/metra4ok/anaconda3/bin/python\n",
      "   machine: macOS-10.15.7-x86_64-i386-64bit\n",
      "\n",
      "Python dependencies:\n",
      "          pip: 20.3.3\n",
      "   setuptools: 52.0.0.post20210125\n",
      "      sklearn: 0.24.1\n",
      "        numpy: 1.19.2\n",
      "        scipy: 1.5.2\n",
      "       Cython: 0.29.21\n",
      "       pandas: 1.2.1\n",
      "   matplotlib: 3.3.2\n",
      "       joblib: 1.0.0\n",
      "threadpoolctl: 2.1.0\n",
      "\n",
      "Built with OpenMP: True\n"
     ]
    }
   ],
   "source": [
    "import sklearn\n",
    "sklearn.show_versions()"
   ]
  },
  {
   "cell_type": "code",
   "execution_count": 3,
   "id": "compressed-slope",
   "metadata": {},
   "outputs": [],
   "source": [
    "import random\n",
    "\n",
    "seed = 42\n",
    "np.random.seed(seed)\n",
    "random.seed(seed)"
   ]
  },
  {
   "cell_type": "markdown",
   "id": "based-gateway",
   "metadata": {},
   "source": [
    "# Загрузка датасета"
   ]
  },
  {
   "cell_type": "code",
   "execution_count": 4,
   "id": "animal-makeup",
   "metadata": {},
   "outputs": [
    {
     "data": {
      "text/html": [
       "<div>\n",
       "<style scoped>\n",
       "    .dataframe tbody tr th:only-of-type {\n",
       "        vertical-align: middle;\n",
       "    }\n",
       "\n",
       "    .dataframe tbody tr th {\n",
       "        vertical-align: top;\n",
       "    }\n",
       "\n",
       "    .dataframe thead th {\n",
       "        text-align: right;\n",
       "    }\n",
       "</style>\n",
       "<table border=\"1\" class=\"dataframe\">\n",
       "  <thead>\n",
       "    <tr style=\"text-align: right;\">\n",
       "      <th></th>\n",
       "      <th>МАРКА_rare</th>\n",
       "      <th>МАРКА_Э76ХФ</th>\n",
       "      <th>МАРКА_Э90ХАФ</th>\n",
       "      <th>ПРОФИЛЬ_rare</th>\n",
       "      <th>ПРОФИЛЬ_Р65</th>\n",
       "      <th>t вып-обр</th>\n",
       "      <th>t обработка</th>\n",
       "      <th>t под током</th>\n",
       "      <th>t продувка</th>\n",
       "      <th>ПСН гр.</th>\n",
       "      <th>...</th>\n",
       "      <th>химшлак первый MnO_1</th>\n",
       "      <th>химшлак первый R_1</th>\n",
       "      <th>химшлак первый SiO2_1</th>\n",
       "      <th>химшлак последний Al2O3</th>\n",
       "      <th>химшлак последний CaO</th>\n",
       "      <th>химшлак последний FeO</th>\n",
       "      <th>химшлак последний MgO</th>\n",
       "      <th>химшлак последний MnO</th>\n",
       "      <th>химшлак последний R</th>\n",
       "      <th>химшлак последний SiO2</th>\n",
       "    </tr>\n",
       "  </thead>\n",
       "  <tbody>\n",
       "    <tr>\n",
       "      <th>0</th>\n",
       "      <td>0</td>\n",
       "      <td>1</td>\n",
       "      <td>0</td>\n",
       "      <td>0</td>\n",
       "      <td>1</td>\n",
       "      <td>29.0</td>\n",
       "      <td>45.366667</td>\n",
       "      <td>24.400000</td>\n",
       "      <td>41.033333</td>\n",
       "      <td>3.004414</td>\n",
       "      <td>...</td>\n",
       "      <td>0.12</td>\n",
       "      <td>2.6</td>\n",
       "      <td>22.704914</td>\n",
       "      <td>NaN</td>\n",
       "      <td>53.4</td>\n",
       "      <td>1.0</td>\n",
       "      <td>5.8</td>\n",
       "      <td>0.15</td>\n",
       "      <td>2.6</td>\n",
       "      <td>NaN</td>\n",
       "    </tr>\n",
       "    <tr>\n",
       "      <th>1</th>\n",
       "      <td>0</td>\n",
       "      <td>1</td>\n",
       "      <td>0</td>\n",
       "      <td>0</td>\n",
       "      <td>1</td>\n",
       "      <td>26.0</td>\n",
       "      <td>44.066667</td>\n",
       "      <td>13.866667</td>\n",
       "      <td>44.066667</td>\n",
       "      <td>3.004414</td>\n",
       "      <td>...</td>\n",
       "      <td>0.14</td>\n",
       "      <td>2.2</td>\n",
       "      <td>22.704914</td>\n",
       "      <td>NaN</td>\n",
       "      <td>59.3</td>\n",
       "      <td>0.6</td>\n",
       "      <td>4.1</td>\n",
       "      <td>0.11</td>\n",
       "      <td>2.3</td>\n",
       "      <td>NaN</td>\n",
       "    </tr>\n",
       "    <tr>\n",
       "      <th>2</th>\n",
       "      <td>0</td>\n",
       "      <td>1</td>\n",
       "      <td>0</td>\n",
       "      <td>0</td>\n",
       "      <td>1</td>\n",
       "      <td>24.0</td>\n",
       "      <td>43.350000</td>\n",
       "      <td>17.950000</td>\n",
       "      <td>43.350000</td>\n",
       "      <td>3.004414</td>\n",
       "      <td>...</td>\n",
       "      <td>0.12</td>\n",
       "      <td>2.6</td>\n",
       "      <td>22.704914</td>\n",
       "      <td>NaN</td>\n",
       "      <td>57.2</td>\n",
       "      <td>0.5</td>\n",
       "      <td>8.1</td>\n",
       "      <td>0.13</td>\n",
       "      <td>2.3</td>\n",
       "      <td>NaN</td>\n",
       "    </tr>\n",
       "    <tr>\n",
       "      <th>3</th>\n",
       "      <td>0</td>\n",
       "      <td>1</td>\n",
       "      <td>0</td>\n",
       "      <td>0</td>\n",
       "      <td>1</td>\n",
       "      <td>17.0</td>\n",
       "      <td>46.183333</td>\n",
       "      <td>19.816667</td>\n",
       "      <td>46.183333</td>\n",
       "      <td>3.004414</td>\n",
       "      <td>...</td>\n",
       "      <td>0.11</td>\n",
       "      <td>2.4</td>\n",
       "      <td>22.704914</td>\n",
       "      <td>NaN</td>\n",
       "      <td>60.3</td>\n",
       "      <td>0.5</td>\n",
       "      <td>6.3</td>\n",
       "      <td>0.12</td>\n",
       "      <td>2.6</td>\n",
       "      <td>NaN</td>\n",
       "    </tr>\n",
       "    <tr>\n",
       "      <th>4</th>\n",
       "      <td>0</td>\n",
       "      <td>1</td>\n",
       "      <td>0</td>\n",
       "      <td>0</td>\n",
       "      <td>1</td>\n",
       "      <td>20.0</td>\n",
       "      <td>48.500000</td>\n",
       "      <td>17.033333</td>\n",
       "      <td>48.500000</td>\n",
       "      <td>3.004414</td>\n",
       "      <td>...</td>\n",
       "      <td>0.12</td>\n",
       "      <td>2.4</td>\n",
       "      <td>22.704914</td>\n",
       "      <td>NaN</td>\n",
       "      <td>60.3</td>\n",
       "      <td>0.6</td>\n",
       "      <td>4.5</td>\n",
       "      <td>0.09</td>\n",
       "      <td>2.5</td>\n",
       "      <td>NaN</td>\n",
       "    </tr>\n",
       "  </tbody>\n",
       "</table>\n",
       "<p>5 rows × 72 columns</p>\n",
       "</div>"
      ],
      "text/plain": [
       "   МАРКА_rare  МАРКА_Э76ХФ  МАРКА_Э90ХАФ  ПРОФИЛЬ_rare  ПРОФИЛЬ_Р65  \\\n",
       "0           0            1             0             0            1   \n",
       "1           0            1             0             0            1   \n",
       "2           0            1             0             0            1   \n",
       "3           0            1             0             0            1   \n",
       "4           0            1             0             0            1   \n",
       "\n",
       "   t вып-обр  t обработка  t под током  t продувка   ПСН гр.  ...  \\\n",
       "0       29.0    45.366667    24.400000   41.033333  3.004414  ...   \n",
       "1       26.0    44.066667    13.866667   44.066667  3.004414  ...   \n",
       "2       24.0    43.350000    17.950000   43.350000  3.004414  ...   \n",
       "3       17.0    46.183333    19.816667   46.183333  3.004414  ...   \n",
       "4       20.0    48.500000    17.033333   48.500000  3.004414  ...   \n",
       "\n",
       "   химшлак первый MnO_1  химшлак первый R_1  химшлак первый SiO2_1  \\\n",
       "0                  0.12                 2.6              22.704914   \n",
       "1                  0.14                 2.2              22.704914   \n",
       "2                  0.12                 2.6              22.704914   \n",
       "3                  0.11                 2.4              22.704914   \n",
       "4                  0.12                 2.4              22.704914   \n",
       "\n",
       "   химшлак последний Al2O3  химшлак последний CaO  химшлак последний FeO  \\\n",
       "0                      NaN                   53.4                    1.0   \n",
       "1                      NaN                   59.3                    0.6   \n",
       "2                      NaN                   57.2                    0.5   \n",
       "3                      NaN                   60.3                    0.5   \n",
       "4                      NaN                   60.3                    0.6   \n",
       "\n",
       "   химшлак последний MgO  химшлак последний MnO  химшлак последний R  \\\n",
       "0                    5.8                   0.15                  2.6   \n",
       "1                    4.1                   0.11                  2.3   \n",
       "2                    8.1                   0.13                  2.3   \n",
       "3                    6.3                   0.12                  2.6   \n",
       "4                    4.5                   0.09                  2.5   \n",
       "\n",
       "   химшлак последний SiO2  \n",
       "0                     NaN  \n",
       "1                     NaN  \n",
       "2                     NaN  \n",
       "3                     NaN  \n",
       "4                     NaN  \n",
       "\n",
       "[5 rows x 72 columns]"
      ]
     },
     "execution_count": 4,
     "metadata": {},
     "output_type": "execute_result"
    }
   ],
   "source": [
    "data = pd.read_csv('preprocessed_data.csv', index_col=0)\n",
    "\n",
    "data.head()"
   ]
  },
  {
   "cell_type": "code",
   "execution_count": 5,
   "id": "logical-aside",
   "metadata": {},
   "outputs": [
    {
     "data": {
      "text/plain": [
       "(6237, 72)"
      ]
     },
     "execution_count": 5,
     "metadata": {},
     "output_type": "execute_result"
    }
   ],
   "source": [
    "data.shape"
   ]
  },
  {
   "cell_type": "code",
   "execution_count": 7,
   "id": "improving-orientation",
   "metadata": {},
   "outputs": [],
   "source": [
    "target_features = ['химшлак последний Al2O3', 'химшлак последний CaO',\n",
    "                   'химшлак последний FeO', 'химшлак последний MgO',\n",
    "                   'химшлак последний MnO', 'химшлак последний R',\n",
    "                   'химшлак последний SiO2']\n",
    "\n",
    "categorical_features = ['МАРКА_rare', 'МАРКА_Э76ХФ', 'МАРКА_Э90ХАФ',\n",
    "                        'ПРОФИЛЬ_rare', 'ПРОФИЛЬ_Р65']\n",
    "\n",
    "numerical_features = ['t вып-обр', 't обработка', 't под током', 't продувка',\n",
    "       'ПСН гр.', 'чист расход C', 'чист расход Cr', 'чист расход Mn',\n",
    "       'чист расход Si', 'чист расход V', 'температура первая',\n",
    "       'температура последняя', 'Ar (интенс.)', 'эл. энергия (интенс.)',\n",
    "       'произв жидкая сталь', 'расход газ Ar', 'сыпуч известь РП',\n",
    "       'сыпуч кокс пыль УСТК', 'сыпуч  кокс. мелочь КМ1', 'сыпуч  шпат плав.',\n",
    "       'ферспл CaC2', 'ферспл  FeV-80', 'ферспл  Mn5Si65Al0.5',\n",
    "       'ферспл SiMn18', 'ферспл  фх850А', 'эл. энергия',\n",
    "       'химсталь первый Al_1', 'химсталь первый C_1', 'химсталь первый Cr_1',\n",
    "       'химсталь первый Cu_1', 'химсталь первый Mn_1', 'химсталь первый Mo_1',\n",
    "       'химсталь первый N_1', 'химсталь первый Ni_1', 'химсталь первый P_1',\n",
    "       'химсталь первый S_1', 'химсталь первый Si_1', 'химсталь первый Ti_1',\n",
    "       'химсталь первый V_1', 'химсталь последний Al', 'химсталь последний C',\n",
    "       'химсталь последний Ca', 'химсталь последний Cr',\n",
    "       'химсталь последний Cu', 'химсталь последний Mn',\n",
    "       'химсталь последний Mo', 'химсталь последний N',\n",
    "       'химсталь последний Ni', 'химсталь последний P', 'химсталь последний S',\n",
    "       'химсталь последний Si', 'химсталь последний Ti',\n",
    "       'химсталь последний V', 'химшлак первый Al2O3_1',\n",
    "       'химшлак первый CaO_1', 'химшлак первый FeO_1', 'химшлак первый MgO_1',\n",
    "       'химшлак первый MnO_1', 'химшлак первый R_1', 'химшлак первый SiO2_1']"
   ]
  },
  {
   "cell_type": "markdown",
   "id": "champion-crystal",
   "metadata": {},
   "source": [
    "Для каждого таргета будем строить свою модель.\n",
    "\n",
    "**У некоторых таргетов есть пропуски значений - их необходимо удалять**"
   ]
  },
  {
   "cell_type": "code",
   "execution_count": 19,
   "id": "innocent-remove",
   "metadata": {},
   "outputs": [],
   "source": [
    "scores = {}\n",
    "models = {}"
   ]
  },
  {
   "cell_type": "markdown",
   "id": "recorded-furniture",
   "metadata": {},
   "source": [
    "# Al2O3\n",
    "\n",
    "Значение MAPE на бейзлайне = 11.38%  \n",
    "В результате здесь **MAPE = 11.14%**"
   ]
  },
  {
   "cell_type": "code",
   "execution_count": 9,
   "id": "labeled-powder",
   "metadata": {},
   "outputs": [],
   "source": [
    "target = 'химшлак последний Al2O3'\n",
    "targets_to_drop = ['химшлак последний CaO', 'химшлак последний FeO',\n",
    "                   'химшлак последний MgO', 'химшлак последний MnO', 'химшлак последний R',\n",
    "                   'химшлак последний SiO2']\n",
    "cleaned_data = data.drop(targets_to_drop, axis=1)\n",
    "cleaned_data = cleaned_data.dropna()\n",
    "X = cleaned_data.drop(target, axis=1)\n",
    "y = cleaned_data[target]"
   ]
  },
  {
   "cell_type": "markdown",
   "id": "adverse-windows",
   "metadata": {},
   "source": [
    "## Нормализация"
   ]
  },
  {
   "cell_type": "code",
   "execution_count": 10,
   "id": "intermediate-camping",
   "metadata": {},
   "outputs": [],
   "source": [
    "X_categorical = pd.DataFrame(np.array(X[categorical_features]), columns=categorical_features)\n",
    "X_scaled = pd.DataFrame(StandardScaler().fit_transform(X.drop(categorical_features, axis=1)), \n",
    "                        columns=numerical_features)\n",
    "\n",
    "X = X_categorical.join(X_scaled)"
   ]
  },
  {
   "cell_type": "markdown",
   "id": "occasional-arabic",
   "metadata": {},
   "source": [
    "## Отбор фич с помощью Lasso"
   ]
  },
  {
   "cell_type": "code",
   "execution_count": 11,
   "id": "conscious-hacker",
   "metadata": {},
   "outputs": [
    {
     "name": "stdout",
     "output_type": "stream",
     "text": [
      "Было признаков: 65\n",
      "Отобрано признаков: 38\n",
      "Удалено признаков: 27\n"
     ]
    }
   ],
   "source": [
    "sel_ = SelectFromModel(Lasso(alpha=0.005, random_state=seed))\n",
    "sel_.fit(X, y)\n",
    "\n",
    "selected_features = X.columns[(sel_.get_support())]\n",
    "\n",
    "print('Было признаков: {}'.format((X.shape[1])))\n",
    "print('Отобрано признаков: {}'.format(len(selected_features)))\n",
    "print('Удалено признаков: {}'.format(np.sum(sel_.estimator_.coef_ == 0)))"
   ]
  },
  {
   "cell_type": "code",
   "execution_count": 12,
   "id": "collect-manufacturer",
   "metadata": {},
   "outputs": [],
   "source": [
    "X = X[selected_features]"
   ]
  },
  {
   "cell_type": "markdown",
   "id": "nominated-perth",
   "metadata": {},
   "source": [
    "## Модель со стекингом"
   ]
  },
  {
   "cell_type": "code",
   "execution_count": null,
   "id": "norwegian-switzerland",
   "metadata": {},
   "outputs": [],
   "source": []
  },
  {
   "cell_type": "code",
   "execution_count": 18,
   "id": "administrative-vacation",
   "metadata": {},
   "outputs": [
    {
     "name": "stdout",
     "output_type": "stream",
     "text": [
      "Кросс-валидация: 11.14420274313871%\n"
     ]
    }
   ],
   "source": [
    "estimators = [('lr', LinearRegression()), \n",
    "              ('lgb', LGBMRegressor()),\n",
    "              ('rf', RandomForestRegressor())]\n",
    "\n",
    "stacking_reg = StackingRegressor(estimators=estimators)\n",
    "scores_stacking = cross_val_score(stacking_reg, X, y, \n",
    "                                  scoring='neg_mean_absolute_percentage_error')\n",
    "print(\"Кросс-валидация: {:.2f}%\".format(np.abs(scores_stacking.mean())*100))"
   ]
  },
  {
   "cell_type": "code",
   "execution_count": 20,
   "id": "close-quilt",
   "metadata": {},
   "outputs": [],
   "source": [
    "scores['Al2O3'] = np.abs(scores_stacking.mean())*100\n",
    "models['Al2O3'] = stacking_reg"
   ]
  },
  {
   "cell_type": "markdown",
   "id": "awful-oxygen",
   "metadata": {},
   "source": [
    "# CaO\n",
    "\n",
    "MAPE на бейзлайне = 4.82%  \n",
    "В итоговом пайплайне **MAPE = 4.76%**"
   ]
  },
  {
   "cell_type": "code",
   "execution_count": 22,
   "id": "latin-composition",
   "metadata": {},
   "outputs": [],
   "source": [
    "target = 'химшлак последний CaO'\n",
    "targets_to_drop = ['химшлак последний Al2O3', 'химшлак последний FeO',\n",
    "                   'химшлак последний MgO', 'химшлак последний MnO',\n",
    "                   'химшлак последний R', 'химшлак последний SiO2']\n",
    "cleaned_data = data.drop(targets_to_drop, axis=1)\n",
    "cleaned_data = cleaned_data.dropna()\n",
    "X = cleaned_data.drop(target, axis=1)\n",
    "y = cleaned_data[target]"
   ]
  },
  {
   "cell_type": "markdown",
   "id": "dated-senator",
   "metadata": {},
   "source": [
    "## Нормализация"
   ]
  },
  {
   "cell_type": "code",
   "execution_count": 23,
   "id": "potential-ballot",
   "metadata": {},
   "outputs": [],
   "source": [
    "X_categorical = pd.DataFrame(np.array(X[categorical_features]), columns=categorical_features)\n",
    "X_scaled = pd.DataFrame(StandardScaler().fit_transform(X.drop(categorical_features, axis=1)), \n",
    "                        columns=numerical_features)\n",
    "\n",
    "X = X_categorical.join(X_scaled)"
   ]
  },
  {
   "cell_type": "markdown",
   "id": "formal-phone",
   "metadata": {},
   "source": [
    "## Отбор фич с помощью Lasso"
   ]
  },
  {
   "cell_type": "code",
   "execution_count": 24,
   "id": "defined-disaster",
   "metadata": {},
   "outputs": [
    {
     "name": "stdout",
     "output_type": "stream",
     "text": [
      "Было признаков: 65\n",
      "Отобрано признаков: 50\n",
      "Удалено признаков: 15\n"
     ]
    }
   ],
   "source": [
    "sel_ = SelectFromModel(Lasso(alpha=0.005, random_state=seed))\n",
    "sel_.fit(X, y)\n",
    "\n",
    "selected_features = X.columns[(sel_.get_support())]\n",
    "\n",
    "print('Было признаков: {}'.format((X.shape[1])))\n",
    "print('Отобрано признаков: {}'.format(len(selected_features)))\n",
    "print('Удалено признаков: {}'.format(np.sum(sel_.estimator_.coef_ == 0)))\n",
    "\n",
    "X = X[selected_features]"
   ]
  },
  {
   "cell_type": "code",
   "execution_count": 26,
   "id": "sporting-position",
   "metadata": {},
   "outputs": [
    {
     "name": "stdout",
     "output_type": "stream",
     "text": [
      "Кросс-валидация: 4.76%\n"
     ]
    }
   ],
   "source": [
    "estimators = [('lr', LinearRegression()), \n",
    "              ('lgb', LGBMRegressor()),\n",
    "              ('rf', RandomForestRegressor())]\n",
    "\n",
    "stacking_reg = StackingRegressor(estimators=estimators)\n",
    "scores_stacking = cross_val_score(stacking_reg, X, y, \n",
    "                                  scoring='neg_mean_absolute_percentage_error')\n",
    "print(\"Кросс-валидация: {:.2f}%\".format(np.abs(scores_stacking.mean())*100))"
   ]
  },
  {
   "cell_type": "code",
   "execution_count": 27,
   "id": "welsh-blogger",
   "metadata": {},
   "outputs": [],
   "source": [
    "scores['CaO'] = np.abs(scores_stacking.mean())*100\n",
    "models['CaO'] = stacking_reg"
   ]
  },
  {
   "cell_type": "markdown",
   "id": "assured-compact",
   "metadata": {},
   "source": [
    "# FeO\n",
    "\n",
    "Здесь все сложно, улучшать не очень получается.  \n",
    "MAPE на бейзлайне = 35.29%  \n",
    "В итоговом пайплайне **MAPE = 35.09%**"
   ]
  },
  {
   "cell_type": "code",
   "execution_count": 28,
   "id": "generous-resort",
   "metadata": {},
   "outputs": [],
   "source": [
    "target = 'химшлак последний FeO'\n",
    "targets_to_drop = ['химшлак последний Al2O3', 'химшлак последний CaO',\n",
    "                   'химшлак последний MgO', 'химшлак последний MnO',\n",
    "                   'химшлак последний R', 'химшлак последний SiO2']\n",
    "cleaned_data = data.drop(targets_to_drop, axis=1)\n",
    "cleaned_data = cleaned_data.dropna()\n",
    "X = cleaned_data.drop(target, axis=1)\n",
    "y = cleaned_data[target]"
   ]
  },
  {
   "cell_type": "markdown",
   "id": "cross-calgary",
   "metadata": {},
   "source": [
    "## Нормализация"
   ]
  },
  {
   "cell_type": "code",
   "execution_count": 29,
   "id": "retired-gnome",
   "metadata": {},
   "outputs": [],
   "source": [
    "X_categorical = pd.DataFrame(np.array(X[categorical_features]), columns=categorical_features)\n",
    "X_scaled = pd.DataFrame(StandardScaler().fit_transform(X.drop(categorical_features, axis=1)), \n",
    "                        columns=numerical_features)\n",
    "\n",
    "X = X_categorical.join(X_scaled)"
   ]
  },
  {
   "cell_type": "markdown",
   "id": "third-viking",
   "metadata": {},
   "source": [
    "## Отбор фич"
   ]
  },
  {
   "cell_type": "code",
   "execution_count": 30,
   "id": "thick-drama",
   "metadata": {},
   "outputs": [
    {
     "name": "stdout",
     "output_type": "stream",
     "text": [
      "Было признаков: 65\n",
      "Отобрано признаков: 16\n",
      "Удалено признаков: 49\n"
     ]
    }
   ],
   "source": [
    "sel_ = SelectFromModel(Lasso(alpha=0.005, random_state=seed))\n",
    "sel_.fit(X, y)\n",
    "\n",
    "selected_features = X.columns[(sel_.get_support())]\n",
    "\n",
    "print('Было признаков: {}'.format((X.shape[1])))\n",
    "print('Отобрано признаков: {}'.format(len(selected_features)))\n",
    "print('Удалено признаков: {}'.format(np.sum(sel_.estimator_.coef_ == 0)))\n",
    "\n",
    "X = X[selected_features]"
   ]
  },
  {
   "cell_type": "code",
   "execution_count": 32,
   "id": "tropical-eating",
   "metadata": {},
   "outputs": [
    {
     "name": "stdout",
     "output_type": "stream",
     "text": [
      "Кросс-валидация: 35.10%\n"
     ]
    }
   ],
   "source": [
    "estimators = [('lr', LinearRegression()), \n",
    "              ('lgb', LGBMRegressor()),\n",
    "              ('rf', RandomForestRegressor())]\n",
    "\n",
    "stacking_reg = StackingRegressor(estimators=estimators)\n",
    "scores_stacking = cross_val_score(stacking_reg, X, y, \n",
    "                                  scoring='neg_mean_absolute_percentage_error')\n",
    "print(\"Кросс-валидация: {:.2f}%\".format(np.abs(scores_stacking.mean())*100))"
   ]
  },
  {
   "cell_type": "code",
   "execution_count": 33,
   "id": "partial-prefix",
   "metadata": {},
   "outputs": [],
   "source": [
    "scores['FeO'] = np.abs(scores_stacking.mean())*100\n",
    "models['FeO'] = stacking_reg"
   ]
  },
  {
   "cell_type": "markdown",
   "id": "understanding-somalia",
   "metadata": {},
   "source": [
    "# MgO\n",
    "\n",
    "MAPE на бейзлайне = 26.21%%  \n",
    "В итоговом пайплайне **MAPE = 25.73%**"
   ]
  },
  {
   "cell_type": "code",
   "execution_count": 34,
   "id": "provincial-anime",
   "metadata": {},
   "outputs": [],
   "source": [
    "target = 'химшлак последний MgO'\n",
    "targets_to_drop = ['химшлак последний Al2O3', 'химшлак последний CaO',\n",
    "                   'химшлак последний FeO', 'химшлак последний MnO',\n",
    "                   'химшлак последний R', 'химшлак последний SiO2']\n",
    "cleaned_data = data.drop(targets_to_drop, axis=1)\n",
    "cleaned_data = cleaned_data.dropna()\n",
    "X = cleaned_data.drop(target, axis=1)\n",
    "y = cleaned_data[target]"
   ]
  },
  {
   "cell_type": "markdown",
   "id": "incoming-horse",
   "metadata": {},
   "source": [
    "## Нормализация"
   ]
  },
  {
   "cell_type": "code",
   "execution_count": 35,
   "id": "computational-geneva",
   "metadata": {},
   "outputs": [],
   "source": [
    "X_categorical = pd.DataFrame(np.array(X[categorical_features]), columns=categorical_features)\n",
    "X_scaled = pd.DataFrame(StandardScaler().fit_transform(X.drop(categorical_features, axis=1)), \n",
    "                        columns=numerical_features)\n",
    "\n",
    "X = X_categorical.join(X_scaled)"
   ]
  },
  {
   "cell_type": "markdown",
   "id": "forbidden-fossil",
   "metadata": {},
   "source": [
    "## Отбор фич"
   ]
  },
  {
   "cell_type": "code",
   "execution_count": 36,
   "id": "motivated-company",
   "metadata": {},
   "outputs": [
    {
     "name": "stdout",
     "output_type": "stream",
     "text": [
      "Было признаков: 65\n",
      "Отобрано признаков: 48\n",
      "Удалено признаков: 17\n"
     ]
    }
   ],
   "source": [
    "sel_ = SelectFromModel(Lasso(alpha=0.005, random_state=seed))\n",
    "sel_.fit(X, y)\n",
    "\n",
    "selected_features = X.columns[(sel_.get_support())]\n",
    "\n",
    "print('Было признаков: {}'.format((X.shape[1])))\n",
    "print('Отобрано признаков: {}'.format(len(selected_features)))\n",
    "print('Удалено признаков: {}'.format(np.sum(sel_.estimator_.coef_ == 0)))\n",
    "\n",
    "X = X[selected_features]"
   ]
  },
  {
   "cell_type": "markdown",
   "id": "moving-twenty",
   "metadata": {},
   "source": [
    "## Стекинг"
   ]
  },
  {
   "cell_type": "code",
   "execution_count": 37,
   "id": "backed-dating",
   "metadata": {},
   "outputs": [
    {
     "name": "stdout",
     "output_type": "stream",
     "text": [
      "Кросс-валидация: 25.73%\n"
     ]
    }
   ],
   "source": [
    "estimators = [('lr', LinearRegression()), \n",
    "              ('lgb', LGBMRegressor()),\n",
    "              ('rf', RandomForestRegressor())]\n",
    "\n",
    "stacking_reg = StackingRegressor(estimators=estimators)\n",
    "scores_stacking = cross_val_score(stacking_reg, X, y, \n",
    "                                  scoring='neg_mean_absolute_percentage_error')\n",
    "print(\"Кросс-валидация: {:.2f}%\".format(np.abs(scores_stacking.mean())*100))"
   ]
  },
  {
   "cell_type": "code",
   "execution_count": 38,
   "id": "exact-detroit",
   "metadata": {},
   "outputs": [],
   "source": [
    "scores['MgO'] = np.abs(scores_stacking.mean())*100\n",
    "models['MgO'] = stacking_reg"
   ]
  },
  {
   "cell_type": "markdown",
   "id": "portable-freeze",
   "metadata": {},
   "source": [
    "# MnO\n",
    "\n",
    "**MAPE на бейзлайне = 30.95%**. Преодолеть не удалось."
   ]
  },
  {
   "cell_type": "code",
   "execution_count": 56,
   "id": "pursuant-whole",
   "metadata": {},
   "outputs": [],
   "source": [
    "target = 'химшлак последний MnO'\n",
    "targets_to_drop = ['химшлак последний Al2O3', 'химшлак последний CaO',\n",
    "                   'химшлак последний FeO', 'химшлак последний MgO',\n",
    "                   'химшлак последний R', 'химшлак последний SiO2']\n",
    "cleaned_data = data.drop(targets_to_drop, axis=1)\n",
    "cleaned_data = cleaned_data.dropna()\n",
    "X = cleaned_data.drop(target, axis=1)\n",
    "y = cleaned_data[target]"
   ]
  },
  {
   "cell_type": "markdown",
   "id": "decimal-stockholm",
   "metadata": {},
   "source": [
    "## Нормализация"
   ]
  },
  {
   "cell_type": "code",
   "execution_count": 57,
   "id": "suburban-albuquerque",
   "metadata": {},
   "outputs": [],
   "source": [
    "X_categorical = pd.DataFrame(np.array(X[categorical_features]), columns=categorical_features)\n",
    "X_scaled = pd.DataFrame(StandardScaler().fit_transform(X.drop(categorical_features, axis=1)), \n",
    "                        columns=numerical_features)\n",
    "\n",
    "X = X_categorical.join(X_scaled)"
   ]
  },
  {
   "cell_type": "markdown",
   "id": "boring-minute",
   "metadata": {},
   "source": [
    "## Линрег"
   ]
  },
  {
   "cell_type": "code",
   "execution_count": 58,
   "id": "raising-uruguay",
   "metadata": {},
   "outputs": [
    {
     "name": "stdout",
     "output_type": "stream",
     "text": [
      "Кросс-валидация: 30.95%\n"
     ]
    }
   ],
   "source": [
    "lin_reg_base = LinearRegression()\n",
    "scores_lin_reg_base = cross_val_score(lin_reg_base, X, y, \n",
    "                                      scoring='neg_mean_absolute_percentage_error')\n",
    "print(\"Кросс-валидация: {:.2f}%\".format(np.abs(scores_lin_reg_base.mean())*100))"
   ]
  },
  {
   "cell_type": "code",
   "execution_count": 59,
   "id": "absolute-advance",
   "metadata": {},
   "outputs": [],
   "source": [
    "scores['MnO'] = np.abs(scores_lin_reg_base.mean())*100\n",
    "models['MnO'] = lin_reg_base"
   ]
  },
  {
   "cell_type": "markdown",
   "id": "loving-april",
   "metadata": {},
   "source": [
    "# R\n",
    "\n",
    "MAPE на бейзлайне = 6.19%   \n",
    "В итоговом пайплайне **MAPE = 5.98%**"
   ]
  },
  {
   "cell_type": "code",
   "execution_count": 66,
   "id": "dangerous-toolbox",
   "metadata": {},
   "outputs": [],
   "source": [
    "target = 'химшлак последний R'\n",
    "targets_to_drop = ['химшлак последний Al2O3', 'химшлак последний CaO',\n",
    "                   'химшлак последний FeO', 'химшлак последний MgO',\n",
    "                   'химшлак последний MnO', 'химшлак последний SiO2']\n",
    "cleaned_data = data.drop(targets_to_drop, axis=1)\n",
    "cleaned_data = cleaned_data.dropna()\n",
    "X = cleaned_data.drop(target, axis=1)\n",
    "y = cleaned_data[target]"
   ]
  },
  {
   "cell_type": "markdown",
   "id": "through-midnight",
   "metadata": {},
   "source": [
    "## Нормализация"
   ]
  },
  {
   "cell_type": "code",
   "execution_count": 67,
   "id": "global-manchester",
   "metadata": {},
   "outputs": [],
   "source": [
    "X_categorical = pd.DataFrame(np.array(X[categorical_features]), columns=categorical_features)\n",
    "X_scaled = pd.DataFrame(StandardScaler().fit_transform(X.drop(categorical_features, axis=1)), \n",
    "                        columns=numerical_features)\n",
    "\n",
    "X = X_categorical.join(X_scaled)"
   ]
  },
  {
   "cell_type": "markdown",
   "id": "frozen-petite",
   "metadata": {},
   "source": [
    "## Отбор фич"
   ]
  },
  {
   "cell_type": "code",
   "execution_count": 68,
   "id": "treated-workshop",
   "metadata": {},
   "outputs": [
    {
     "name": "stdout",
     "output_type": "stream",
     "text": [
      "Было признаков: 65\n",
      "Отобрано признаков: 39\n",
      "Удалено признаков: 26\n"
     ]
    }
   ],
   "source": [
    "sel_ = SelectFromModel(Lasso(alpha=0.001, random_state=seed))\n",
    "sel_.fit(X, y)\n",
    "\n",
    "selected_features = X.columns[(sel_.get_support())]\n",
    "\n",
    "print('Было признаков: {}'.format((X.shape[1])))\n",
    "print('Отобрано признаков: {}'.format(len(selected_features)))\n",
    "print('Удалено признаков: {}'.format(np.sum(sel_.estimator_.coef_ == 0)))\n",
    "\n",
    "X = X[selected_features]"
   ]
  },
  {
   "cell_type": "markdown",
   "id": "aggressive-surfing",
   "metadata": {},
   "source": [
    "## Стекинг"
   ]
  },
  {
   "cell_type": "code",
   "execution_count": 69,
   "id": "sweet-importance",
   "metadata": {},
   "outputs": [
    {
     "name": "stdout",
     "output_type": "stream",
     "text": [
      "Кросс-валидация: 5.98%\n"
     ]
    }
   ],
   "source": [
    "estimators = [('lr', LinearRegression()), \n",
    "              ('lgb', LGBMRegressor()),\n",
    "              ('rf', RandomForestRegressor())]\n",
    "\n",
    "stacking_reg = StackingRegressor(estimators=estimators)\n",
    "scores_stacking = cross_val_score(stacking_reg, X, y, \n",
    "                                  scoring='neg_mean_absolute_percentage_error')\n",
    "print(\"Кросс-валидация: {:.2f}%\".format(np.abs(scores_stacking.mean())*100))"
   ]
  },
  {
   "cell_type": "code",
   "execution_count": 70,
   "id": "trying-saudi",
   "metadata": {},
   "outputs": [],
   "source": [
    "scores['R'] = np.abs(scores_stacking.mean())*100\n",
    "models['R'] = stacking_reg"
   ]
  },
  {
   "cell_type": "markdown",
   "id": "external-tumor",
   "metadata": {},
   "source": [
    "# SiO2\n",
    "\n",
    "**MAPE на бейзлайне = 6.98%**. Повысить не удалось."
   ]
  },
  {
   "cell_type": "code",
   "execution_count": 90,
   "id": "narrow-lease",
   "metadata": {},
   "outputs": [],
   "source": [
    "target = 'химшлак последний SiO2'\n",
    "targets_to_drop = ['химшлак последний Al2O3', 'химшлак последний CaO',\n",
    "                   'химшлак последний FeO', 'химшлак последний MgO',\n",
    "                   'химшлак последний MnO', 'химшлак последний R']\n",
    "cleaned_data = data.drop(targets_to_drop, axis=1)\n",
    "cleaned_data = cleaned_data.dropna()\n",
    "X = cleaned_data.drop(target, axis=1)\n",
    "y = cleaned_data[target]"
   ]
  },
  {
   "cell_type": "markdown",
   "id": "alleged-migration",
   "metadata": {},
   "source": [
    "## Нормализация"
   ]
  },
  {
   "cell_type": "code",
   "execution_count": 91,
   "id": "worthy-frost",
   "metadata": {},
   "outputs": [],
   "source": [
    "X_categorical = pd.DataFrame(np.array(X[categorical_features]), columns=categorical_features)\n",
    "X_scaled = pd.DataFrame(StandardScaler().fit_transform(X.drop(categorical_features, axis=1)), \n",
    "                        columns=numerical_features)\n",
    "\n",
    "X = X_categorical.join(X_scaled)"
   ]
  },
  {
   "cell_type": "markdown",
   "id": "active-authentication",
   "metadata": {},
   "source": [
    "## Линрег"
   ]
  },
  {
   "cell_type": "code",
   "execution_count": 92,
   "id": "attractive-garage",
   "metadata": {},
   "outputs": [
    {
     "name": "stdout",
     "output_type": "stream",
     "text": [
      "Кросс-валидация: 6.98%\n"
     ]
    }
   ],
   "source": [
    "lin_reg_base = LinearRegression()\n",
    "scores_lin_reg_base = cross_val_score(lin_reg_base, X, y, \n",
    "                                      scoring='neg_mean_absolute_percentage_error')\n",
    "print(\"Кросс-валидация: {:.2f}%\".format(np.abs(scores_lin_reg_base.mean())*100))"
   ]
  },
  {
   "cell_type": "code",
   "execution_count": 93,
   "id": "african-fleet",
   "metadata": {},
   "outputs": [],
   "source": [
    "scores['SiO2'] = np.abs(scores_lin_reg_base.mean())*100\n",
    "models['SiO2'] = lin_reg_base"
   ]
  },
  {
   "cell_type": "markdown",
   "id": "friendly-communication",
   "metadata": {},
   "source": [
    "# Выводы"
   ]
  },
  {
   "cell_type": "code",
   "execution_count": 98,
   "id": "finished-tonight",
   "metadata": {},
   "outputs": [
    {
     "data": {
      "text/html": [
       "<div>\n",
       "<style scoped>\n",
       "    .dataframe tbody tr th:only-of-type {\n",
       "        vertical-align: middle;\n",
       "    }\n",
       "\n",
       "    .dataframe tbody tr th {\n",
       "        vertical-align: top;\n",
       "    }\n",
       "\n",
       "    .dataframe thead th {\n",
       "        text-align: right;\n",
       "    }\n",
       "</style>\n",
       "<table border=\"1\" class=\"dataframe\">\n",
       "  <thead>\n",
       "    <tr style=\"text-align: right;\">\n",
       "      <th></th>\n",
       "      <th>MAPE score %</th>\n",
       "    </tr>\n",
       "  </thead>\n",
       "  <tbody>\n",
       "    <tr>\n",
       "      <th>Al2O3</th>\n",
       "      <td>11.144203</td>\n",
       "    </tr>\n",
       "    <tr>\n",
       "      <th>CaO</th>\n",
       "      <td>4.764596</td>\n",
       "    </tr>\n",
       "    <tr>\n",
       "      <th>FeO</th>\n",
       "      <td>35.100772</td>\n",
       "    </tr>\n",
       "    <tr>\n",
       "      <th>MgO</th>\n",
       "      <td>25.726852</td>\n",
       "    </tr>\n",
       "    <tr>\n",
       "      <th>MnO</th>\n",
       "      <td>30.952955</td>\n",
       "    </tr>\n",
       "    <tr>\n",
       "      <th>R</th>\n",
       "      <td>5.980660</td>\n",
       "    </tr>\n",
       "    <tr>\n",
       "      <th>SiO2</th>\n",
       "      <td>6.977944</td>\n",
       "    </tr>\n",
       "  </tbody>\n",
       "</table>\n",
       "</div>"
      ],
      "text/plain": [
       "       MAPE score %\n",
       "Al2O3     11.144203\n",
       "CaO        4.764596\n",
       "FeO       35.100772\n",
       "MgO       25.726852\n",
       "MnO       30.952955\n",
       "R          5.980660\n",
       "SiO2       6.977944"
      ]
     },
     "execution_count": 98,
     "metadata": {},
     "output_type": "execute_result"
    }
   ],
   "source": [
    "pd.DataFrame.from_dict(scores, orient='index', columns=['MAPE score %'])"
   ]
  },
  {
   "cell_type": "markdown",
   "id": "intense-prague",
   "metadata": {},
   "source": [
    "В результате можно сделать следующие выводы по данному этапу:\n",
    "\n",
    "- Целевые переменные **'химшлак последний CaO'**, **'химшлак последний R'** и **'химшлак последний SiO2'** предсказываются с достаточно высокой точностью.\n",
    "- Целевая переменная **'химшлак последний Al2O3'** имеет погрешность предсказания 11.14%, что вполне удовлетворительно, однако следует внимательнее проработать модель, возможно метрику удастся улучшить.\n",
    "- Целевые переменные **'химшлак последний FeO'**, **'химшлак последний MgO'** и **'химшлак последний MnO'** предсказываются с довольно высокой погрешностью, которую не получается снизить до приемлемого уровня. Возможно, по имеющимся данным в принципе невозможно обеспечить низкую ошибку."
   ]
  }
 ],
 "metadata": {
  "kernelspec": {
   "display_name": "Python 3",
   "language": "python",
   "name": "python3"
  },
  "language_info": {
   "codemirror_mode": {
    "name": "ipython",
    "version": 3
   },
   "file_extension": ".py",
   "mimetype": "text/x-python",
   "name": "python",
   "nbconvert_exporter": "python",
   "pygments_lexer": "ipython3",
   "version": "3.8.5"
  }
 },
 "nbformat": 4,
 "nbformat_minor": 5
}
