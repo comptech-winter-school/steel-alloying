{
 "cells": [
  {
   "cell_type": "code",
   "execution_count": 1,
   "metadata": {},
   "outputs": [],
   "source": [
    "import pandas as pd\n",
    "import matplotlib.pyplot as plt\n",
    "import seaborn as sns\n",
    "import numpy as np\n",
    "\n",
    "sns.set()"
   ]
  },
  {
   "cell_type": "markdown",
   "metadata": {},
   "source": [
    "# Импорт датасета и некоторые переменные с прошлого шага"
   ]
  },
  {
   "cell_type": "code",
   "execution_count": 2,
   "metadata": {},
   "outputs": [],
   "source": [
    "raw_dataset = pd.read_csv(\"dataset.csv\", sep=';', decimal=',', index_col=0)\n",
    "\n",
    "pd.set_option('display.max_columns', None)\n",
    "pd.set_option('display.max_rows', 100)"
   ]
  },
  {
   "cell_type": "code",
   "execution_count": 3,
   "metadata": {},
   "outputs": [],
   "source": [
    "# Категориальные признаки\n",
    "categorical_features = [\"МАРКА\", \"ПРОФИЛЬ\"]\n",
    "\n",
    "# Вещественные признаки\n",
    "numerical_features = ['t вып-обр', 't обработка',\n",
    "       't под током', 't продувка', 'ПСН гр.', 'чист расход C',\n",
    "       'чист расход Cr', 'чист расход Mn', 'чист расход Si', 'чист расход V',\n",
    "       'температура первая', 'температура последняя', 'Ar (интенс.)',\n",
    "       'N2 (интенс.)', 'эл. энергия (интенс.)', 'произв жидкая сталь',\n",
    "       'произв количество обработок', 'произв  количество плавок',\n",
    "       'произв количество плавок (цел)', 'расход газ Ar', 'расход газ  N2',\n",
    "       'расход C пров.', 'сыпуч известь РП', 'сыпуч кварцит',\n",
    "       'сыпуч кокс пыль УСТК', 'сыпуч  кокс. мелочь (сух.)',\n",
    "       'сыпуч  кокс. мелочь КМ1', 'сыпуч  шпат плав.', 'ферспл CaC2',\n",
    "       'ферспл FeMo', 'ферспл FeSi-75', 'ферспл FeV азот.', 'ферспл  FeV-80',\n",
    "       'ферспл  Mn5Si65Al0.5', 'ферспл  Ni H1 пласт.', 'ферспл SiMn18',\n",
    "       'ферспл  ферванит', 'ферспл  фх850А', 'эл. энергия',\n",
    "       'химсталь первый Al_1', 'химсталь первый C_1', 'химсталь первый Cr_1',\n",
    "       'химсталь первый Cu_1', 'химсталь первый Mn_1', 'химсталь первый Mo_1',\n",
    "       'химсталь первый N_1', 'химсталь первый Ni_1', 'химсталь первый P_1',\n",
    "       'химсталь первый S_1', 'химсталь первый Si_1', 'химсталь первый Ti_1',\n",
    "       'химсталь первый V_1', 'химсталь последний Al', 'химсталь последний C',\n",
    "       'химсталь последний Ca', 'химсталь последний Cr',\n",
    "       'химсталь последний Cu', 'химсталь последний Mn',\n",
    "       'химсталь последний Mo', 'химсталь последний N',\n",
    "       'химсталь последний Ni', 'химсталь последний P', 'химсталь последний S',\n",
    "       'химсталь последний Si', 'химсталь последний Ti',\n",
    "       'химсталь последний V', 'химшлак первый Al2O3_1',\n",
    "       'химшлак первый CaO_1', 'химшлак первый FeO_1', 'химшлак первый MgO_1',\n",
    "       'химшлак первый MnO_1', 'химшлак первый R_1', 'химшлак первый SiO2_1',\n",
    "       'химшлак последний Al2O3', 'химшлак последний CaO',\n",
    "       'химшлак последний FeO', 'химшлак последний MgO',\n",
    "       'химшлак последний MnO', 'химшлак последний R',\n",
    "       'химшлак последний SiO2']\n",
    "\n",
    "# Вещественные признаки с большим (>33%) количеством пропущенных значений\n",
    "features_with_lots_of_nan = ['N2 (интенс.)', 'расход газ  N2', 'расход C пров.',\n",
    "                             'сыпуч кварцит', 'сыпуч  кокс. мелочь (сух.)', \n",
    "                             'ферспл FeMo', 'ферспл FeSi-75', 'ферспл FeV азот.', \n",
    "                             'ферспл  Ni H1 пласт.', 'ферспл  ферванит']"
   ]
  },
  {
   "cell_type": "markdown",
   "metadata": {},
   "source": [
    "# Обработка категориальных признаков"
   ]
  },
  {
   "cell_type": "markdown",
   "metadata": {},
   "source": [
    "## Удаление ненужных признаков\n",
    "\n",
    "Признаки \"nplv\" и \"DT\", очевидно, не несут в себе полезной информации - их можно удалить."
   ]
  },
  {
   "cell_type": "code",
   "execution_count": 4,
   "metadata": {},
   "outputs": [],
   "source": [
    "dataset = raw_dataset.drop([\"nplv\", \"DT\"], axis=1)"
   ]
  },
  {
   "cell_type": "markdown",
   "metadata": {},
   "source": [
    "## Удаление редких признаков\n",
    "\n",
    "Признаки, которые встречаются редко (<20%), можно объединить в одну категорию \"rare\""
   ]
  },
  {
   "cell_type": "code",
   "execution_count": 5,
   "metadata": {},
   "outputs": [
    {
     "name": "stdout",
     "output_type": "stream",
     "text": [
      "МАРКА\n",
      "Index(['Э76ХФ'], dtype='object', name='МАРКА')\n",
      "ПРОФИЛЬ\n",
      "Index(['Р65'], dtype='object', name='ПРОФИЛЬ')\n"
     ]
    }
   ],
   "source": [
    "def find_frequent_labels(df, var, rare_perc):\n",
    "    \"\"\"Ищет часто встречающиеся значения\"\"\"\n",
    "    df = df.copy()\n",
    "    \n",
    "    tmp = df.groupby(var)[var].count() / len(df)\n",
    "    \n",
    "    return tmp[tmp > rare_perc].index\n",
    "\n",
    "\n",
    "for feature in categorical_features:\n",
    "    frequent_labels = find_frequent_labels(dataset, feature, 0.2)\n",
    "    print(feature)\n",
    "    print(frequent_labels)\n",
    "    \n",
    "    # заменяет редкие значения признаков на строку \"rare\"\n",
    "    dataset[feature] = np.where(dataset[feature].isin(frequent_labels), dataset[feature], 'rare')"
   ]
  },
  {
   "cell_type": "code",
   "execution_count": 6,
   "metadata": {},
   "outputs": [
    {
     "data": {
      "text/plain": [
       "Э76ХФ    4953\n",
       "rare     2088\n",
       "Name: МАРКА, dtype: int64"
      ]
     },
     "execution_count": 6,
     "metadata": {},
     "output_type": "execute_result"
    }
   ],
   "source": [
    "dataset[\"МАРКА\"].value_counts()"
   ]
  },
  {
   "cell_type": "code",
   "execution_count": 7,
   "metadata": {},
   "outputs": [
    {
     "data": {
      "text/plain": [
       "Р65     6427\n",
       "rare     614\n",
       "Name: ПРОФИЛЬ, dtype: int64"
      ]
     },
     "execution_count": 7,
     "metadata": {},
     "output_type": "execute_result"
    }
   ],
   "source": [
    "dataset[\"ПРОФИЛЬ\"].value_counts()"
   ]
  },
  {
   "cell_type": "markdown",
   "metadata": {},
   "source": [
    "# Обработка вещественных признаков"
   ]
  },
  {
   "cell_type": "markdown",
   "metadata": {},
   "source": [
    "## Удаление признаков, в которых более 33% NaN\n",
    "Список таких признаков выделен на предыдущем этапе"
   ]
  },
  {
   "cell_type": "code",
   "execution_count": 8,
   "metadata": {},
   "outputs": [],
   "source": [
    "dataset = dataset.drop(features_with_lots_of_nan, axis=1)"
   ]
  },
  {
   "cell_type": "markdown",
   "metadata": {},
   "source": [
    "## Удаление строк, в которых более 33% столбцов NaN"
   ]
  },
  {
   "cell_type": "code",
   "execution_count": 9,
   "metadata": {},
   "outputs": [],
   "source": [
    "def list_rows_with_lots_of_nan(df):\n",
    "    rows_list = []\n",
    "    numbers_of_nan = df.isna().sum(axis=1)\n",
    "    for index, count in enumerate(numbers_of_nan):\n",
    "        if count > df.shape[1] / 3:\n",
    "            rows_list.append(index)\n",
    "    return rows_list"
   ]
  },
  {
   "cell_type": "code",
   "execution_count": 10,
   "metadata": {},
   "outputs": [
    {
     "name": "stdout",
     "output_type": "stream",
     "text": [
      "Строк с более чем 33% пропусков: 597\n",
      "Число строк до удаления: 7041\n",
      "Число строк после удаления: 6444\n"
     ]
    }
   ],
   "source": [
    "rows_with_lots_of_nan = list_rows_with_lots_of_nan(dataset)\n",
    "print(\"Строк с более чем 33% пропусков: {}\".format(len(rows_with_lots_of_nan)))\n",
    "\n",
    "print(\"Число строк до удаления: {}\".format(dataset.shape[0]))\n",
    "dataset = dataset.drop(rows_with_lots_of_nan, axis=0)\n",
    "print(\"Число строк после удаления: {}\".format(dataset.shape[0]))"
   ]
  },
  {
   "cell_type": "markdown",
   "metadata": {},
   "source": [
    "## Признаки с единственным уникальным значением\n",
    "У некоторых признаков всего одно уникальное значение (помимо NaN). Это может означать одно из двух:\n",
    "- Либо это бинарный категориальный признак, где 1 - наличие значения, 0 - отсутствие\n",
    "- Либо этот признак не несет в себе никакой пользы.\n",
    "\n",
    "На предыдущем этапе мы выделили два (три, но один уже удален из-за большого числа пропусков) таких пропуска - _'произв  количество плавок'_ и _'произв количество плавок (цел)'_, у обоих 597 (мало) пропусков, что позволяет откинуть вариант о бинарном признаке и просто удалить его."
   ]
  },
  {
   "cell_type": "code",
   "execution_count": 11,
   "metadata": {},
   "outputs": [],
   "source": [
    "def list_features_with_single_value(df):\n",
    "    features_list = []\n",
    "    for feature in df.columns:\n",
    "        if df[feature].nunique() == 1:\n",
    "            features_list.append(feature)\n",
    "    return features_list"
   ]
  },
  {
   "cell_type": "code",
   "execution_count": 12,
   "metadata": {},
   "outputs": [
    {
     "name": "stdout",
     "output_type": "stream",
     "text": [
      "Признаки с единственным значением: ['произв  количество плавок', 'произв количество плавок (цел)']\n",
      "Было 72 признаков\n",
      "Стало 70 признаков\n"
     ]
    }
   ],
   "source": [
    "features_with_single_value = list_features_with_single_value(dataset)\n",
    "print(\"Признаки с единственным значением: {}\".format(features_with_single_value))\n",
    "\n",
    "print(\"Было {} признаков\".format(dataset.shape[1]))\n",
    "dataset = dataset.drop(features_with_single_value, axis=1)\n",
    "print(\"Стало {} признаков\".format(dataset.shape[1]))"
   ]
  },
  {
   "cell_type": "code",
   "execution_count": null,
   "metadata": {},
   "outputs": [],
   "source": []
  }
 ],
 "metadata": {
  "kernelspec": {
   "display_name": "Python 3",
   "language": "python",
   "name": "python3"
  },
  "language_info": {
   "codemirror_mode": {
    "name": "ipython",
    "version": 3
   },
   "file_extension": ".py",
   "mimetype": "text/x-python",
   "name": "python",
   "nbconvert_exporter": "python",
   "pygments_lexer": "ipython3",
   "version": "3.8.5"
  }
 },
 "nbformat": 4,
 "nbformat_minor": 4
}
