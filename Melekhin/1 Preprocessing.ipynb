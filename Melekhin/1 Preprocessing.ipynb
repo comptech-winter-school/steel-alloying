{
 "cells": [
  {
   "cell_type": "code",
   "execution_count": 11,
   "metadata": {},
   "outputs": [],
   "source": [
    "import pandas as pd\n",
    "import matplotlib.pyplot as plt\n",
    "import seaborn as sns\n",
    "import numpy as np\n",
    "\n",
    "sns.set()"
   ]
  },
  {
   "cell_type": "markdown",
   "metadata": {},
   "source": [
    "# Импорт датасета и некоторые переменные с прошлого шага"
   ]
  },
  {
   "cell_type": "code",
   "execution_count": 2,
   "metadata": {},
   "outputs": [],
   "source": [
    "raw_dataset = pd.read_csv(\"dataset.csv\", sep=';', decimal=',')\n",
    "raw_dataset.drop(\"Unnamed: 0\", axis=1, inplace=True)\n",
    "\n",
    "pd.set_option('display.max_columns', None)\n",
    "pd.set_option('display.max_rows', 100)"
   ]
  },
  {
   "cell_type": "code",
   "execution_count": 8,
   "metadata": {},
   "outputs": [],
   "source": [
    "# Категориальные признаки\n",
    "categorical_features = [\"МАРКА\", \"ПРОФИЛЬ\"]\n",
    "\n",
    "# Вещественные признаки\n",
    "numerical_features = ['t вып-обр', 't обработка',\n",
    "       't под током', 't продувка', 'ПСН гр.', 'чист расход C',\n",
    "       'чист расход Cr', 'чист расход Mn', 'чист расход Si', 'чист расход V',\n",
    "       'температура первая', 'температура последняя', 'Ar (интенс.)',\n",
    "       'N2 (интенс.)', 'эл. энергия (интенс.)', 'произв жидкая сталь',\n",
    "       'произв количество обработок', 'произв  количество плавок',\n",
    "       'произв количество плавок (цел)', 'расход газ Ar', 'расход газ  N2',\n",
    "       'расход C пров.', 'сыпуч известь РП', 'сыпуч кварцит',\n",
    "       'сыпуч кокс пыль УСТК', 'сыпуч  кокс. мелочь (сух.)',\n",
    "       'сыпуч  кокс. мелочь КМ1', 'сыпуч  шпат плав.', 'ферспл CaC2',\n",
    "       'ферспл FeMo', 'ферспл FeSi-75', 'ферспл FeV азот.', 'ферспл  FeV-80',\n",
    "       'ферспл  Mn5Si65Al0.5', 'ферспл  Ni H1 пласт.', 'ферспл SiMn18',\n",
    "       'ферспл  ферванит', 'ферспл  фх850А', 'эл. энергия',\n",
    "       'химсталь первый Al_1', 'химсталь первый C_1', 'химсталь первый Cr_1',\n",
    "       'химсталь первый Cu_1', 'химсталь первый Mn_1', 'химсталь первый Mo_1',\n",
    "       'химсталь первый N_1', 'химсталь первый Ni_1', 'химсталь первый P_1',\n",
    "       'химсталь первый S_1', 'химсталь первый Si_1', 'химсталь первый Ti_1',\n",
    "       'химсталь первый V_1', 'химсталь последний Al', 'химсталь последний C',\n",
    "       'химсталь последний Ca', 'химсталь последний Cr',\n",
    "       'химсталь последний Cu', 'химсталь последний Mn',\n",
    "       'химсталь последний Mo', 'химсталь последний N',\n",
    "       'химсталь последний Ni', 'химсталь последний P', 'химсталь последний S',\n",
    "       'химсталь последний Si', 'химсталь последний Ti',\n",
    "       'химсталь последний V', 'химшлак первый Al2O3_1',\n",
    "       'химшлак первый CaO_1', 'химшлак первый FeO_1', 'химшлак первый MgO_1',\n",
    "       'химшлак первый MnO_1', 'химшлак первый R_1', 'химшлак первый SiO2_1',\n",
    "       'химшлак последний Al2O3', 'химшлак последний CaO',\n",
    "       'химшлак последний FeO', 'химшлак последний MgO',\n",
    "       'химшлак последний MnO', 'химшлак последний R',\n",
    "       'химшлак последний SiO2']\n",
    "\n",
    "# Вещественные признаки с большим (>33%) количеством пропущенных значений\n",
    "features_with_lots_of_nan = ['N2 (интенс.)', 'расход газ  N2', 'расход C пров.',\n",
    "                             'сыпуч кварцит', 'сыпуч  кокс. мелочь (сух.)', \n",
    "                             'ферспл FeMo', 'ферспл FeSi-75', 'ферспл FeV азот.', \n",
    "                             'ферспл  Ni H1 пласт.', 'ферспл  ферванит']"
   ]
  },
  {
   "cell_type": "markdown",
   "metadata": {},
   "source": [
    "# Обработка категориальных признаков"
   ]
  },
  {
   "cell_type": "markdown",
   "metadata": {},
   "source": [
    "## Удаление ненужных признаков\n",
    "\n",
    "Признаки \"nplv\" и \"DT\", очевидно, не несут в себе полезной информации - их можно удалить."
   ]
  },
  {
   "cell_type": "code",
   "execution_count": 9,
   "metadata": {},
   "outputs": [],
   "source": [
    "dataset = raw_dataset.drop([\"nplv\", \"DT\"], axis=1)"
   ]
  },
  {
   "cell_type": "markdown",
   "metadata": {},
   "source": [
    "## Удаление редких признаков\n",
    "\n",
    "Признаки, которые встречаются редко (<10%), можно объединить в одну категорию \"rare\""
   ]
  },
  {
   "cell_type": "code",
   "execution_count": 13,
   "metadata": {},
   "outputs": [
    {
     "name": "stdout",
     "output_type": "stream",
     "text": [
      "МАРКА\n",
      "Index(['Э76ХФ', 'Э90ХАФ'], dtype='object', name='МАРКА')\n",
      "ПРОФИЛЬ\n",
      "Index(['Р65'], dtype='object', name='ПРОФИЛЬ')\n"
     ]
    }
   ],
   "source": [
    "def find_frequent_labels(df, var, rare_perc):\n",
    "    \"\"\"Ищет часто встречающиеся значения\"\"\"\n",
    "    df = df.copy()\n",
    "    \n",
    "    tmp = df.groupby(var)[var].count() / len(df)\n",
    "    \n",
    "    return tmp[tmp > rare_perc].index\n",
    "\n",
    "\n",
    "for feature in categorical_features:\n",
    "    frequent_labels = find_frequent_labels(dataset, feature, 0.1)\n",
    "    print(feature)\n",
    "    print(frequent_labels)\n",
    "    \n",
    "    # заменяет редкие значения признаков на строку \"rare\"\n",
    "    dataset[feature] = np.where(dataset[feature].isin(frequent_labels), dataset[feature], 'rare')"
   ]
  },
  {
   "cell_type": "code",
   "execution_count": 14,
   "metadata": {},
   "outputs": [
    {
     "data": {
      "text/plain": [
       "Э76ХФ     4953\n",
       "Э90ХАФ    1384\n",
       "rare       704\n",
       "Name: МАРКА, dtype: int64"
      ]
     },
     "execution_count": 14,
     "metadata": {},
     "output_type": "execute_result"
    }
   ],
   "source": [
    "dataset[\"МАРКА\"].value_counts()"
   ]
  },
  {
   "cell_type": "code",
   "execution_count": 15,
   "metadata": {},
   "outputs": [
    {
     "data": {
      "text/plain": [
       "Р65     6427\n",
       "rare     614\n",
       "Name: ПРОФИЛЬ, dtype: int64"
      ]
     },
     "execution_count": 15,
     "metadata": {},
     "output_type": "execute_result"
    }
   ],
   "source": [
    "dataset[\"ПРОФИЛЬ\"].value_counts()"
   ]
  }
 ],
 "metadata": {
  "kernelspec": {
   "display_name": "Python 3",
   "language": "python",
   "name": "python3"
  },
  "language_info": {
   "codemirror_mode": {
    "name": "ipython",
    "version": 3
   },
   "file_extension": ".py",
   "mimetype": "text/x-python",
   "name": "python",
   "nbconvert_exporter": "python",
   "pygments_lexer": "ipython3",
   "version": "3.8.5"
  }
 },
 "nbformat": 4,
 "nbformat_minor": 4
}
