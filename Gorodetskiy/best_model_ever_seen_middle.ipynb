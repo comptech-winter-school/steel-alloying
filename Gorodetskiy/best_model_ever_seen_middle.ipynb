{
 "cells": [
  {
   "cell_type": "code",
   "execution_count": 16,
   "metadata": {},
   "outputs": [],
   "source": [
    "#данные уже готовы\n",
    "import pandas as pd\n",
    "import seaborn as sns\n",
    "import numpy as np\n",
    "import matplotlib.pyplot as plt\n",
    "\n",
    "from sklearn.model_selection import cross_val_score\n",
    "from catboost import CatBoostRegressor\n",
    "from sklearn.metrics import mean_absolute_percentage_error\n",
    "from sklearn.metrics import make_scorer\n",
    "\n",
    "import warnings\n",
    " \n",
    "warnings.filterwarnings(\"ignore\")\n",
    "\n",
    "pd.set_option('display.max_columns', None)\n",
    "pd.set_option('display.max_rows', None)"
   ]
  },
  {
   "cell_type": "code",
   "execution_count": 35,
   "metadata": {},
   "outputs": [],
   "source": [
    "first_popularity_steel = pd.read_csv('first_popularity_steel.csv', sep=',')\n",
    "second_popularity_steel = pd.read_csv('second_popularity_steel.csv', sep=',')\n",
    "# инициализируйте ваш датасет и идите вниз"
   ]
  },
  {
   "cell_type": "code",
   "execution_count": 18,
   "metadata": {
    "scrolled": true
   },
   "outputs": [],
   "source": [
    "#first_popularity_steel.info()"
   ]
  },
  {
   "cell_type": "code",
   "execution_count": 19,
   "metadata": {
    "scrolled": true
   },
   "outputs": [],
   "source": [
    "#second_popularity_steel.info()"
   ]
  },
  {
   "cell_type": "code",
   "execution_count": 28,
   "metadata": {},
   "outputs": [],
   "source": [
    "def LEARN_TO_COOK_SLAG_EASY(data): # not \"easy\", by chaotic\n",
    "    to_drop = ['химшлак последний Al2O3', 'химшлак последний CaO',\n",
    "       'химшлак последний FeO', 'химшлак последний MgO',\n",
    "       'химшлак последний MnO', 'химшлак последний R',\n",
    "       'химшлак последний SiO2']\n",
    "\n",
    "    X = data.drop(to_drop, axis=1)\n",
    "\n",
    "    targets = ['химшлак последний CaO',\n",
    "           'химшлак последний FeO', 'химшлак последний MgO',\n",
    "           'химшлак последний MnO', 'химшлак последний R', 'химшлак последний Al2O3', 'химшлак последний SiO2']\n",
    "\n",
    "    for i in range(len(targets)):\n",
    "        best_score_target = \"\"\n",
    "        best_score = 1\n",
    "        best_target_prediction = []\n",
    "    \n",
    "        for t in targets:\n",
    "            y = data[t] \n",
    "            reg = CatBoostRegressor(iterations=1000,learning_rate=0.1,depth=5, verbose=False, random_seed=42)\n",
    "            score = cross_val_score(reg, X, y, scoring=make_scorer(mean_absolute_percentage_error, random_seed=42), cv=5).mean()      \n",
    "\n",
    "            if score < best_score:\n",
    "                best_score_target = t\n",
    "                best_score = score\n",
    "        best_target_prediction = CatBoostRegressor(iterations=1000,learning_rate=0.1,depth=5, verbose=False, random_seed=42).fit(X, y).predict(X)\n",
    "\n",
    "        print(best_score_target, \"\\n\", best_score * 100, \"%\")\n",
    "        targets.remove(best_score_target)\n",
    "        X[best_score_target] = best_target_prediction"
   ]
  },
  {
   "cell_type": "code",
   "execution_count": 29,
   "metadata": {},
   "outputs": [
    {
     "name": "stdout",
     "output_type": "stream",
     "text": [
      "химшлак последний CaO \n",
      " 5.095663181714399 %\n",
      "химшлак последний SiO2 \n",
      " 0.4821034998546318 %\n",
      "химшлак последний R \n",
      " 4.36716685668887 %\n",
      "химшлак последний Al2O3 \n",
      " 1.0293225167804474 %\n",
      "химшлак последний MgO \n",
      " 23.644975751324456 %\n",
      "химшлак последний MnO \n",
      " 2.856799802082384 %\n",
      "химшлак последний FeO \n",
      " 38.03925764054294 %\n"
     ]
    }
   ],
   "source": [
    "LEARN_TO_COOK_SLAG_EASY(second_popularity_steel)"
   ]
  },
  {
   "cell_type": "markdown",
   "metadata": {},
   "source": [
    "![image](depending.png)"
   ]
  },
  {
   "cell_type": "code",
   "execution_count": 60,
   "metadata": {},
   "outputs": [],
   "source": [
    "def PRE_PREDICT(X, y, first_to_predict, last_target):\n",
    "    print(\"PRE_PREDICT\")\n",
    "    \n",
    "    for target in first_to_predict:\n",
    "        y_target = y[target]\n",
    "        score = cross_val_score(CatBoostRegressor(iterations=1000,\n",
    "                                                  learning_rate=0.1,\n",
    "                                                  depth=5,\n",
    "                                                  verbose=False,\n",
    "                                                  random_seed=42), X, y_target, scoring=make_scorer(mean_absolute_percentage_error), cv=5).mean()\n",
    "        print(target, \"\\n\", score * 100, \"%\")\n",
    "        predict = CatBoostRegressor(iterations=1000,learning_rate=0.1,depth=5, verbose=False, random_seed=42).fit(X, y_target).predict(X)\n",
    "        X[target] = predict\n",
    "    #\n",
    "    print(\"TARGET: \", last_target)\n",
    "    y_target = y[last_target]\n",
    "    score = cross_val_score(CatBoostRegressor(iterations=1000,\n",
    "                                                  learning_rate=0.1,\n",
    "                                                  depth=5,\n",
    "                                                  verbose=False,\n",
    "                                                  random_seed=42), X, y_target, scoring=make_scorer(mean_absolute_percentage_error), cv=5).mean()\n",
    "    print(score * 100, \"%\")\n",
    "    predict = CatBoostRegressor(iterations=1000,learning_rate=0.1,depth=5, verbose=False, random_seed=42).fit(X, y_target).predict(X)    \n",
    "    print(\"END\")\n",
    "    \n",
    "    return predict"
   ]
  },
  {
   "cell_type": "code",
   "execution_count": 61,
   "metadata": {},
   "outputs": [],
   "source": [
    "# now we know what to do and now we know what to hack!\n",
    "\n",
    "def LEARN_TO_COOK_SLAG(data):\n",
    "    to_drop = ['химшлак последний Al2O3', 'химшлак последний CaO',\n",
    "       'химшлак последний FeO', 'химшлак последний MgO',\n",
    "       'химшлак последний MnO', 'химшлак последний R',\n",
    "       'химшлак последний SiO2']\n",
    "\n",
    "    X = data.drop(to_drop, axis=1)\n",
    "    data_for_dirt = data[['химшлак последний R', 'химшлак последний SiO2', 'химшлак последний CaO']]\n",
    "    df_for_dirt = pd.DataFrame()\n",
    "    \n",
    "    df_for_dirt['химшлак последний CaO'] = PRE_PREDICT(X.copy(), data_for_dirt, ['химшлак последний R', 'химшлак последний SiO2'], 'химшлак последний CaO')\n",
    "    df_for_dirt['химшлак последний SiO2'] = PRE_PREDICT(X.copy(), data_for_dirt, ['химшлак последний R', 'химшлак последний CaO'], 'химшлак последний SiO2')\n",
    "    df_for_dirt['химшлак последний R'] = PRE_PREDICT(X.copy(),data_for_dirt, ['химшлак последний CaO', 'химшлак последний SiO2'], 'химшлак последний R')\n",
    "    \n",
    "    X['химшлак последний CaO_1'] = df_for_dirt['химшлак последний CaO']\n",
    "    X['химшлак последний SiO2_1'] = df_for_dirt['химшлак последний SiO2']\n",
    "    X['химшлак последний R_1'] = df_for_dirt['химшлак последний R']\n",
    "    \n",
    "    print(\"PREPROCESS NEXT STEP\")\n",
    "\n",
    "    targets = ['химшлак последний FeO', 'химшлак последний MgO',\n",
    "           'химшлак последний MnO', 'химшлак последний Al2O3']\n",
    "\n",
    "    for i in range(len(targets)):\n",
    "        best_score_target = \"\"\n",
    "        best_score = 1\n",
    "        best_target_prediction = []\n",
    "    \n",
    "        for target in targets:\n",
    "            y = data[target] \n",
    "            reg = CatBoostRegressor(iterations=1000,learning_rate=0.1,depth=5, verbose=False, random_seed=42)\n",
    "            score = cross_val_score(reg, X, y, scoring=make_scorer(mean_absolute_percentage_error), cv=5).mean()      \n",
    "\n",
    "            if score < best_score:\n",
    "                best_score_target = target\n",
    "                best_score = score\n",
    "        best_target_prediction = CatBoostRegressor(iterations=1000,learning_rate=0.1,depth=5, verbose=False, random_seed=42).fit(X, data[best_score_target]).predict(X)\n",
    "\n",
    "        print(best_score_target, \"\\n\", best_score * 100, \"%\")\n",
    "        targets.remove(best_score_target)\n",
    "        X[best_score_target + \"_1\"] = best_target_prediction\n",
    "        \n",
    "    print(\"END PREPROCESS\")\n",
    "        \n",
    "    targets = ['химшлак последний CaO',\n",
    "       'химшлак последний FeO', 'химшлак последний MgO',\n",
    "       'химшлак последний MnO', 'химшлак последний R', 'химшлак последний Al2O3', 'химшлак последний SiO2']\n",
    "    \n",
    "    for i in range(len(targets)):\n",
    "        best_score_target = \"\"\n",
    "        best_score = 1\n",
    "        best_target_prediction = []\n",
    "    \n",
    "        for target in targets:\n",
    "            y = data[target] \n",
    "            reg = CatBoostRegressor(iterations=1000,learning_rate=0.1,depth=5, verbose=False, random_seed=42)\n",
    "            score = cross_val_score(reg, X, y, scoring=make_scorer(mean_absolute_percentage_error), cv=5).mean()      \n",
    "\n",
    "            if score < best_score:\n",
    "                best_score_target = target\n",
    "                best_score = score\n",
    "        best_target_prediction = CatBoostRegressor(iterations=1000,learning_rate=0.1,depth=5, verbose=False, random_seed=42).fit(X, data[best_score_target]).predict(X)\n",
    "\n",
    "        print(best_score_target, \"\\n\", best_score * 100, \"%\")\n",
    "        targets.remove(best_score_target)\n",
    "        X[best_score_target] = best_target_prediction\n",
    "    "
   ]
  },
  {
   "cell_type": "code",
   "execution_count": 62,
   "metadata": {
    "scrolled": false
   },
   "outputs": [
    {
     "name": "stdout",
     "output_type": "stream",
     "text": [
      "PRE_PREDICT\n",
      "химшлак последний R \n",
      " 6.6877374205524225 %\n",
      "химшлак последний SiO2 \n",
      " 5.091380215708773 %\n",
      "TARGET:  химшлак последний CaO\n",
      "1.9078303594461838 %\n",
      "END\n",
      "PRE_PREDICT\n",
      "химшлак последний R \n",
      " 6.6877374205524225 %\n",
      "химшлак последний CaO \n",
      " 4.820114264936122 %\n",
      "TARGET:  химшлак последний SiO2\n",
      "1.9361472252469134 %\n",
      "END\n",
      "PRE_PREDICT\n",
      "химшлак последний CaO \n",
      " 5.04412489857585 %\n",
      "химшлак последний SiO2 \n",
      " 6.177058754589297 %\n",
      "TARGET:  химшлак последний R\n",
      "1.8380418072969398 %\n",
      "END\n",
      "PREPROCESS NEXT STEP\n",
      "химшлак последний Al2O3 \n",
      " 11.157949154333298 %\n",
      "химшлак последний MgO \n",
      " 20.76005641392012 %\n",
      "химшлак последний MnO \n",
      " 29.992494306610517 %\n",
      "химшлак последний FeO \n",
      " 37.23510180637977 %\n",
      "END PREPROCESS\n",
      "химшлак последний CaO \n",
      " 0.3468366595815489 %\n",
      "химшлак последний SiO2 \n",
      " 0.49424640387056623 %\n",
      "химшлак последний R \n",
      " 0.6008524951597212 %\n",
      "химшлак последний Al2O3 \n",
      " 1.0612581855256238 %\n",
      "химшлак последний MgO \n",
      " 1.7913508743460027 %\n",
      "химшлак последний MnO \n",
      " 2.59026619147882 %\n",
      "химшлак последний FeO \n",
      " 2.624363097913639 %\n"
     ]
    }
   ],
   "source": [
    "LEARN_TO_COOK_SLAG(second_popularity_steel) # подставьте ваш датасет"
   ]
  },
  {
   "cell_type": "code",
   "execution_count": 63,
   "metadata": {},
   "outputs": [
    {
     "name": "stdout",
     "output_type": "stream",
     "text": [
      "PRE_PREDICT\n",
      "химшлак последний R \n",
      " 6.26941175221978 %\n",
      "химшлак последний SiO2 \n",
      " 4.927408872393381 %\n",
      "TARGET:  химшлак последний CaO\n",
      "2.411640865717002 %\n",
      "END\n",
      "PRE_PREDICT\n",
      "химшлак последний R \n",
      " 6.26941175221978 %\n",
      "химшлак последний CaO \n",
      " 4.779902596826551 %\n",
      "TARGET:  химшлак последний SiO2\n",
      "2.5051860949502505 %\n",
      "END\n",
      "PRE_PREDICT\n",
      "химшлак последний CaO \n",
      " 5.106100907089447 %\n",
      "химшлак последний SiO2 \n",
      " 5.963901265640378 %\n",
      "TARGET:  химшлак последний R\n",
      "2.2687543460338087 %\n",
      "END\n",
      "PREPROCESS NEXT STEP\n",
      "химшлак последний Al2O3 \n",
      " 10.275585447937233 %\n",
      "химшлак последний MgO \n",
      " 21.330071165469004 %\n",
      "химшлак последний MnO \n",
      " 27.825339686810235 %\n",
      "химшлак последний FeO \n",
      " 33.24619524994634 %\n",
      "END PREPROCESS\n",
      "химшлак последний R \n",
      " 0.5890921888793812 %\n",
      "химшлак последний CaO \n",
      " 0.8268045056540952 %\n",
      "химшлак последний SiO2 \n",
      " 0.900798399845224 %\n",
      "химшлак последний Al2O3 \n",
      " 2.9788409798513307 %\n",
      "химшлак последний MgO \n",
      " 5.662685940055458 %\n",
      "химшлак последний FeO \n",
      " 7.474001582612662 %\n",
      "химшлак последний MnO \n",
      " 8.528872156911053 %\n"
     ]
    }
   ],
   "source": [
    "LEARN_TO_COOK_SLAG(first_popularity_steel)"
   ]
  },
  {
   "cell_type": "code",
   "execution_count": null,
   "metadata": {},
   "outputs": [],
   "source": []
  }
 ],
 "metadata": {
  "kernelspec": {
   "display_name": "Python 3",
   "language": "python",
   "name": "python3"
  },
  "language_info": {
   "codemirror_mode": {
    "name": "ipython",
    "version": 3
   },
   "file_extension": ".py",
   "mimetype": "text/x-python",
   "name": "python",
   "nbconvert_exporter": "python",
   "pygments_lexer": "ipython3",
   "version": "3.7.0"
  }
 },
 "nbformat": 4,
 "nbformat_minor": 4
}
