{
 "cells": [
  {
   "cell_type": "markdown",
   "id": "supposed-hindu",
   "metadata": {},
   "source": [
    "# Предсказание расхода извести"
   ]
  },
  {
   "cell_type": "markdown",
   "id": "isolated-lincoln",
   "metadata": {},
   "source": [
    "Решение обратной задачи: оптимизация расхода извести с оценкой потенциальной возможной экономии на исторических данных."
   ]
  },
  {
   "cell_type": "code",
   "execution_count": 1,
   "id": "comfortable-provincial",
   "metadata": {},
   "outputs": [],
   "source": [
    "import pandas as pd\n",
    "import seaborn as sns\n",
    "import numpy as np\n",
    "import matplotlib.pyplot as plt\n",
    "import warnings\n",
    "\n",
    "warnings.filterwarnings(\"ignore\")\n",
    "\n",
    "\n",
    "from sklearn.linear_model import LinearRegression, Ridge, Lasso\n",
    "from sklearn.model_selection import train_test_split, cross_val_score, GridSearchCV\n",
    "from sklearn.preprocessing import StandardScaler, MinMaxScaler\n",
    "from sklearn.ensemble import RandomForestRegressor, RandomForestClassifier\n",
    "from sklearn.feature_selection import SelectKBest, f_regression\n",
    "from sklearn.linear_model import LogisticRegression, LogisticRegressionCV\n",
    "from sklearn.metrics import *\n",
    "\n",
    "from catboost import CatBoostRegressor, CatBoostClassifier"
   ]
  },
  {
   "cell_type": "markdown",
   "id": "interested-bryan",
   "metadata": {},
   "source": [
    "## Загрузка и подготовка данных"
   ]
  },
  {
   "cell_type": "code",
   "execution_count": 2,
   "id": "modified-spirit",
   "metadata": {},
   "outputs": [
    {
     "data": {
      "text/html": [
       "<div>\n",
       "<style scoped>\n",
       "    .dataframe tbody tr th:only-of-type {\n",
       "        vertical-align: middle;\n",
       "    }\n",
       "\n",
       "    .dataframe tbody tr th {\n",
       "        vertical-align: top;\n",
       "    }\n",
       "\n",
       "    .dataframe thead th {\n",
       "        text-align: right;\n",
       "    }\n",
       "</style>\n",
       "<table border=\"1\" class=\"dataframe\">\n",
       "  <thead>\n",
       "    <tr style=\"text-align: right;\">\n",
       "      <th></th>\n",
       "      <th>МАРКА</th>\n",
       "      <th>t вып-обр</th>\n",
       "      <th>t под током</th>\n",
       "      <th>t продувка</th>\n",
       "      <th>ПСН гр.</th>\n",
       "      <th>чист расход C</th>\n",
       "      <th>чист расход Cr</th>\n",
       "      <th>чист расход Mn</th>\n",
       "      <th>чист расход Si</th>\n",
       "      <th>чист расход V</th>\n",
       "      <th>...</th>\n",
       "      <th>химшлак первый MnO_1</th>\n",
       "      <th>химшлак первый R_1</th>\n",
       "      <th>химшлак первый SiO2_1</th>\n",
       "      <th>химшлак последний Al2O3</th>\n",
       "      <th>химшлак последний CaO</th>\n",
       "      <th>химшлак последний FeO</th>\n",
       "      <th>химшлак последний MgO</th>\n",
       "      <th>химшлак последний MnO</th>\n",
       "      <th>химшлак последний R</th>\n",
       "      <th>химшлак последний SiO2</th>\n",
       "    </tr>\n",
       "  </thead>\n",
       "  <tbody>\n",
       "    <tr>\n",
       "      <th>589</th>\n",
       "      <td>Э76ХФ</td>\n",
       "      <td>18.0</td>\n",
       "      <td>20.016667</td>\n",
       "      <td>41.850000</td>\n",
       "      <td>2.431057</td>\n",
       "      <td>0.339285</td>\n",
       "      <td>0.075060</td>\n",
       "      <td>0.066049</td>\n",
       "      <td>0.068946</td>\n",
       "      <td>0.038742</td>\n",
       "      <td>...</td>\n",
       "      <td>0.23</td>\n",
       "      <td>2.3</td>\n",
       "      <td>25.6</td>\n",
       "      <td>3.2</td>\n",
       "      <td>54.8</td>\n",
       "      <td>0.8</td>\n",
       "      <td>6.1</td>\n",
       "      <td>0.09</td>\n",
       "      <td>2.4</td>\n",
       "      <td>23.2</td>\n",
       "    </tr>\n",
       "    <tr>\n",
       "      <th>818</th>\n",
       "      <td>Э90ХАФ</td>\n",
       "      <td>7.0</td>\n",
       "      <td>17.383333</td>\n",
       "      <td>41.033333</td>\n",
       "      <td>3.004480</td>\n",
       "      <td>0.523411</td>\n",
       "      <td>0.108273</td>\n",
       "      <td>0.200457</td>\n",
       "      <td>0.148846</td>\n",
       "      <td>0.095573</td>\n",
       "      <td>...</td>\n",
       "      <td>0.11</td>\n",
       "      <td>2.4</td>\n",
       "      <td>24.5</td>\n",
       "      <td>4.6</td>\n",
       "      <td>61.8</td>\n",
       "      <td>0.5</td>\n",
       "      <td>6.1</td>\n",
       "      <td>0.08</td>\n",
       "      <td>2.4</td>\n",
       "      <td>26.1</td>\n",
       "    </tr>\n",
       "    <tr>\n",
       "      <th>1029</th>\n",
       "      <td>Другие</td>\n",
       "      <td>9.0</td>\n",
       "      <td>18.950000</td>\n",
       "      <td>43.850000</td>\n",
       "      <td>2.643735</td>\n",
       "      <td>0.433960</td>\n",
       "      <td>0.121086</td>\n",
       "      <td>0.175658</td>\n",
       "      <td>0.089606</td>\n",
       "      <td>0.041396</td>\n",
       "      <td>...</td>\n",
       "      <td>0.18</td>\n",
       "      <td>2.4</td>\n",
       "      <td>20.4</td>\n",
       "      <td>4.7</td>\n",
       "      <td>54.8</td>\n",
       "      <td>0.6</td>\n",
       "      <td>11.6</td>\n",
       "      <td>0.16</td>\n",
       "      <td>2.1</td>\n",
       "      <td>26.1</td>\n",
       "    </tr>\n",
       "    <tr>\n",
       "      <th>1036</th>\n",
       "      <td>Другие</td>\n",
       "      <td>7.0</td>\n",
       "      <td>19.216667</td>\n",
       "      <td>46.716667</td>\n",
       "      <td>3.000000</td>\n",
       "      <td>0.548870</td>\n",
       "      <td>0.121086</td>\n",
       "      <td>0.199137</td>\n",
       "      <td>0.087354</td>\n",
       "      <td>0.041748</td>\n",
       "      <td>...</td>\n",
       "      <td>0.25</td>\n",
       "      <td>2.3</td>\n",
       "      <td>23.8</td>\n",
       "      <td>5.4</td>\n",
       "      <td>51.9</td>\n",
       "      <td>0.5</td>\n",
       "      <td>10.3</td>\n",
       "      <td>0.15</td>\n",
       "      <td>2.1</td>\n",
       "      <td>24.2</td>\n",
       "    </tr>\n",
       "    <tr>\n",
       "      <th>1345</th>\n",
       "      <td>Э76ХФ</td>\n",
       "      <td>26.0</td>\n",
       "      <td>19.883333</td>\n",
       "      <td>42.050000</td>\n",
       "      <td>3.775293</td>\n",
       "      <td>0.402655</td>\n",
       "      <td>0.168487</td>\n",
       "      <td>0.176548</td>\n",
       "      <td>0.153988</td>\n",
       "      <td>0.041933</td>\n",
       "      <td>...</td>\n",
       "      <td>0.19</td>\n",
       "      <td>2.2</td>\n",
       "      <td>22.4</td>\n",
       "      <td>5.2</td>\n",
       "      <td>54.5</td>\n",
       "      <td>0.3</td>\n",
       "      <td>14.0</td>\n",
       "      <td>0.14</td>\n",
       "      <td>2.1</td>\n",
       "      <td>26.6</td>\n",
       "    </tr>\n",
       "  </tbody>\n",
       "</table>\n",
       "<p>5 rows × 67 columns</p>\n",
       "</div>"
      ],
      "text/plain": [
       "       МАРКА  t вып-обр  t под током  t продувка   ПСН гр.  чист расход C  \\\n",
       "589    Э76ХФ       18.0    20.016667   41.850000  2.431057       0.339285   \n",
       "818   Э90ХАФ        7.0    17.383333   41.033333  3.004480       0.523411   \n",
       "1029  Другие        9.0    18.950000   43.850000  2.643735       0.433960   \n",
       "1036  Другие        7.0    19.216667   46.716667  3.000000       0.548870   \n",
       "1345   Э76ХФ       26.0    19.883333   42.050000  3.775293       0.402655   \n",
       "\n",
       "      чист расход Cr  чист расход Mn  чист расход Si  чист расход V  ...  \\\n",
       "589         0.075060        0.066049        0.068946       0.038742  ...   \n",
       "818         0.108273        0.200457        0.148846       0.095573  ...   \n",
       "1029        0.121086        0.175658        0.089606       0.041396  ...   \n",
       "1036        0.121086        0.199137        0.087354       0.041748  ...   \n",
       "1345        0.168487        0.176548        0.153988       0.041933  ...   \n",
       "\n",
       "      химшлак первый MnO_1  химшлак первый R_1  химшлак первый SiO2_1  \\\n",
       "589                   0.23                 2.3                   25.6   \n",
       "818                   0.11                 2.4                   24.5   \n",
       "1029                  0.18                 2.4                   20.4   \n",
       "1036                  0.25                 2.3                   23.8   \n",
       "1345                  0.19                 2.2                   22.4   \n",
       "\n",
       "      химшлак последний Al2O3  химшлак последний CaO  химшлак последний FeO  \\\n",
       "589                       3.2                   54.8                    0.8   \n",
       "818                       4.6                   61.8                    0.5   \n",
       "1029                      4.7                   54.8                    0.6   \n",
       "1036                      5.4                   51.9                    0.5   \n",
       "1345                      5.2                   54.5                    0.3   \n",
       "\n",
       "      химшлак последний MgO  химшлак последний MnO  химшлак последний R  \\\n",
       "589                     6.1                   0.09                  2.4   \n",
       "818                     6.1                   0.08                  2.4   \n",
       "1029                   11.6                   0.16                  2.1   \n",
       "1036                   10.3                   0.15                  2.1   \n",
       "1345                   14.0                   0.14                  2.1   \n",
       "\n",
       "      химшлак последний SiO2  \n",
       "589                     23.2  \n",
       "818                     26.1  \n",
       "1029                    26.1  \n",
       "1036                    24.2  \n",
       "1345                    26.6  \n",
       "\n",
       "[5 rows x 67 columns]"
      ]
     },
     "execution_count": 2,
     "metadata": {},
     "output_type": "execute_result"
    }
   ],
   "source": [
    "df = pd.read_csv('clean_data.csv', index_col=0)\n",
    "df.head()"
   ]
  },
  {
   "cell_type": "code",
   "execution_count": 3,
   "id": "convertible-gauge",
   "metadata": {},
   "outputs": [
    {
     "data": {
      "text/plain": [
       "(4576, 67)"
      ]
     },
     "execution_count": 3,
     "metadata": {},
     "output_type": "execute_result"
    }
   ],
   "source": [
    "df.shape"
   ]
  },
  {
   "cell_type": "code",
   "execution_count": 4,
   "id": "descending-source",
   "metadata": {},
   "outputs": [],
   "source": [
    "target = 'сыпуч известь РП'"
   ]
  },
  {
   "cell_type": "code",
   "execution_count": 5,
   "id": "separate-fireplace",
   "metadata": {},
   "outputs": [
    {
     "data": {
      "text/plain": [
       "<AxesSubplot:>"
      ]
     },
     "execution_count": 5,
     "metadata": {},
     "output_type": "execute_result"
    },
    {
     "data": {
      "image/png": "[encoded data removed]",
      "text/plain": [
       "<Figure size 432x288 with 1 Axes>"
      ]
     },
     "metadata": {
      "needs_background": "light"
     },
     "output_type": "display_data"
    }
   ],
   "source": [
    "(df[target]).hist()"
   ]
  },
  {
   "cell_type": "code",
   "execution_count": 6,
   "id": "surrounded-jacket",
   "metadata": {},
   "outputs": [
    {
     "data": {
      "text/plain": [
       "Float64Index([               0.126, 0.052000000000000005,                0.063,\n",
       "               0.07400000000000001,                0.086,                0.064,\n",
       "                              0.08,                0.053,                0.079,\n",
       "               0.14800000000000002,\n",
       "              ...\n",
       "                             0.038,                0.255,                0.388,\n",
       "               0.35100000000000003,                  0.6,                 0.41,\n",
       "                             0.384,                0.364,                0.509,\n",
       "                             0.307],\n",
       "             dtype='float64', length=379)"
      ]
     },
     "execution_count": 6,
     "metadata": {},
     "output_type": "execute_result"
    }
   ],
   "source": [
    "df[target].value_counts().index.unique()"
   ]
  },
  {
   "cell_type": "code",
   "execution_count": 7,
   "id": "textile-colonial",
   "metadata": {},
   "outputs": [
    {
     "data": {
      "text/plain": [
       "(4576, 66)"
      ]
     },
     "execution_count": 7,
     "metadata": {},
     "output_type": "execute_result"
    }
   ],
   "source": [
    "X = df.drop(target, axis=1)\n",
    "X.shape"
   ]
  },
  {
   "cell_type": "code",
   "execution_count": 8,
   "id": "forced-madagascar",
   "metadata": {},
   "outputs": [],
   "source": [
    "X = pd.get_dummies(X) # one-hot encoding для марки стали"
   ]
  },
  {
   "cell_type": "code",
   "execution_count": 9,
   "id": "continued-fleet",
   "metadata": {},
   "outputs": [],
   "source": [
    "# Нормализация данных\n",
    "scaler_X = StandardScaler()\n",
    "X = scaler_X.fit_transform(X)"
   ]
  },
  {
   "cell_type": "code",
   "execution_count": 10,
   "id": "insured-smart",
   "metadata": {},
   "outputs": [],
   "source": [
    "def test_model(model, X, y):\n",
    "    error = -cross_val_score(model, X, y, scoring='neg_mean_absolute_percentage_error', cv=5).mean()\n",
    "    return error"
   ]
  },
  {
   "cell_type": "code",
   "execution_count": 11,
   "id": "conservative-bailey",
   "metadata": {},
   "outputs": [],
   "source": [
    "def test_many_models(models, df, X, target):\n",
    "    for model in models:\n",
    "        print(model)\n",
    "        y = df[target]\n",
    "        error = test_model(model, X, y)\n",
    "        print(f'Средняя ошибка модели: {error*100:.2f}%\\n')\n",
    "        return "
   ]
  },
  {
   "cell_type": "code",
   "execution_count": 12,
   "id": "deadly-commercial",
   "metadata": {},
   "outputs": [],
   "source": [
    "models = [LinearRegression(), Lasso(), Ridge(), RandomForestRegressor(), CatBoostRegressor(loss_function='MAPE', n_estimators=1000, silent=True)]"
   ]
  },
  {
   "cell_type": "code",
   "execution_count": 13,
   "id": "growing-satellite",
   "metadata": {},
   "outputs": [
    {
     "name": "stdout",
     "output_type": "stream",
     "text": [
      "LinearRegression()\n",
      "Средняя ошибка модели: 43.42%\n",
      "\n"
     ]
    }
   ],
   "source": [
    "test_many_models(models, df, X, target)"
   ]
  },
  {
   "cell_type": "markdown",
   "id": "universal-cliff",
   "metadata": {},
   "source": [
    "Решение данной задачи с помощью регрессии даёт очень низкую точность. Попробуем решить с помощью классификации."
   ]
  },
  {
   "cell_type": "markdown",
   "id": "accepting-census",
   "metadata": {},
   "source": [
    "## Классификация"
   ]
  },
  {
   "cell_type": "markdown",
   "id": "interesting-puppy",
   "metadata": {},
   "source": [
    "Для классификации необходимо вещественную целевую переменную превратить в категориальную. Для этого попробуем её на интервалы"
   ]
  },
  {
   "cell_type": "code",
   "execution_count": 14,
   "id": "taken-enough",
   "metadata": {},
   "outputs": [
    {
     "data": {
      "text/plain": [
       "0.126    999\n",
       "0.052     78\n",
       "0.063     68\n",
       "0.074     67\n",
       "0.086     65\n",
       "        ... \n",
       "0.410      1\n",
       "0.384      1\n",
       "0.364      1\n",
       "0.509      1\n",
       "0.307      1\n",
       "Name: сыпуч известь РП, Length: 379, dtype: int64"
      ]
     },
     "execution_count": 14,
     "metadata": {},
     "output_type": "execute_result"
    }
   ],
   "source": [
    "df[target].value_counts()"
   ]
  },
  {
   "cell_type": "code",
   "execution_count": 15,
   "id": "surprised-imagination",
   "metadata": {},
   "outputs": [],
   "source": [
    "def catcovert(df, target, q):\n",
    "    cat_target = pd.qcut(df[target], q)\n",
    "    print(cat_target.value_counts())\n",
    "    mask = {cat:i for i,cat in enumerate(cat_target.unique())}\n",
    "    cat_target = cat_target.replace(mask)\n",
    "    print(cat_target.value_counts())\n",
    "    return cat_target"
   ]
  },
  {
   "cell_type": "code",
   "execution_count": 16,
   "id": "traditional-nightmare",
   "metadata": {},
   "outputs": [
    {
     "name": "stdout",
     "output_type": "stream",
     "text": [
      "(0.002, 0.126]    2813\n",
      "(0.126, 0.6]      1763\n",
      "Name: сыпуч известь РП, dtype: int64\n",
      "0    2813\n",
      "1    1763\n",
      "Name: сыпуч известь РП, dtype: int64\n"
     ]
    }
   ],
   "source": [
    "catcovert(df, target, 2);"
   ]
  },
  {
   "cell_type": "code",
   "execution_count": 17,
   "id": "rocky-workplace",
   "metadata": {},
   "outputs": [
    {
     "name": "stdout",
     "output_type": "stream",
     "text": [
      "(0.002, 0.106]    1545\n",
      "(0.136, 0.6]      1520\n",
      "(0.106, 0.136]    1511\n",
      "Name: сыпуч известь РП, dtype: int64\n",
      "1    1545\n",
      "2    1520\n",
      "0    1511\n",
      "Name: сыпуч известь РП, dtype: int64\n"
     ]
    }
   ],
   "source": [
    "catcovert(df, target, 3);"
   ]
  },
  {
   "cell_type": "code",
   "execution_count": 18,
   "id": "satisfied-joshua",
   "metadata": {},
   "outputs": [
    {
     "name": "stdout",
     "output_type": "stream",
     "text": [
      "(0.086, 0.126]    1640\n",
      "(0.002, 0.086]    1173\n",
      "(0.151, 0.6]      1127\n",
      "(0.126, 0.151]     636\n",
      "Name: сыпуч известь РП, dtype: int64\n",
      "0    1640\n",
      "2    1173\n",
      "1    1127\n",
      "3     636\n",
      "Name: сыпуч известь РП, dtype: int64\n"
     ]
    }
   ],
   "source": [
    "catcovert(df, target, 4);"
   ]
  },
  {
   "cell_type": "markdown",
   "id": "whole-absence",
   "metadata": {},
   "source": [
    "Разбиение на 3 интервала даёт наиболее сбалансированное распределение классов"
   ]
  },
  {
   "cell_type": "code",
   "execution_count": 40,
   "id": "danish-rogers",
   "metadata": {},
   "outputs": [],
   "source": [
    "def test_model(model, X, y):\n",
    "    X_train, X_test, y_train, y_test = train_test_split(X, y, test_size=0.25, random_state=42)\n",
    "    y_pred = model.fit(X_train, y_train).predict(X_test)\n",
    "    print(classification_report(y_test, y_pred))\n",
    "    print(f'Balanced Accuracy: {balanced_accuracy_score(y_test, y_pred, adjusted=True):.2f}')"
   ]
  },
  {
   "cell_type": "markdown",
   "id": "working-damages",
   "metadata": {},
   "source": [
    "Протестируем 3 модели:\n",
    "* Логистическая регрессия (LogisticRegression)\n",
    "* Случайный лес (RandomForestClassifier)\n",
    "* Бустинг (CatBoostClassifier)"
   ]
  },
  {
   "cell_type": "code",
   "execution_count": 41,
   "id": "thorough-procedure",
   "metadata": {},
   "outputs": [
    {
     "name": "stdout",
     "output_type": "stream",
     "text": [
      "(0.002, 0.106]    1545\n",
      "(0.136, 0.6]      1520\n",
      "(0.106, 0.136]    1511\n",
      "Name: сыпуч известь РП, dtype: int64\n",
      "1    1545\n",
      "2    1520\n",
      "0    1511\n",
      "Name: сыпуч известь РП, dtype: int64\n",
      "              precision    recall  f1-score   support\n",
      "\n",
      "           0       0.54      0.52      0.53       402\n",
      "           1       0.44      0.42      0.43       378\n",
      "           2       0.68      0.74      0.70       364\n",
      "\n",
      "    accuracy                           0.56      1144\n",
      "   macro avg       0.55      0.56      0.56      1144\n",
      "weighted avg       0.55      0.56      0.55      1144\n",
      "\n",
      "Balanced Accuracy: 0.34\n"
     ]
    }
   ],
   "source": [
    "test_model(LogisticRegression(n_jobs=-1, random_state=42, multi_class='multinomial'), X, catcovert(df, target, 3))"
   ]
  },
  {
   "cell_type": "code",
   "execution_count": 42,
   "id": "charming-algeria",
   "metadata": {},
   "outputs": [
    {
     "name": "stdout",
     "output_type": "stream",
     "text": [
      "(0.002, 0.106]    1545\n",
      "(0.136, 0.6]      1520\n",
      "(0.106, 0.136]    1511\n",
      "Name: сыпуч известь РП, dtype: int64\n",
      "1    1545\n",
      "2    1520\n",
      "0    1511\n",
      "Name: сыпуч известь РП, dtype: int64\n",
      "              precision    recall  f1-score   support\n",
      "\n",
      "           0       0.56      0.52      0.54       402\n",
      "           1       0.45      0.46      0.46       378\n",
      "           2       0.65      0.70      0.67       364\n",
      "\n",
      "    accuracy                           0.56      1144\n",
      "   macro avg       0.56      0.56      0.56      1144\n",
      "weighted avg       0.56      0.56      0.56      1144\n",
      "\n",
      "Balanced Accuracy: 0.34\n"
     ]
    }
   ],
   "source": [
    "test_model(RandomForestClassifier(), X, catcovert(df, target, 3))"
   ]
  },
  {
   "cell_type": "code",
   "execution_count": 43,
   "id": "circular-andrews",
   "metadata": {},
   "outputs": [
    {
     "name": "stdout",
     "output_type": "stream",
     "text": [
      "(0.002, 0.106]    1545\n",
      "(0.136, 0.6]      1520\n",
      "(0.106, 0.136]    1511\n",
      "Name: сыпуч известь РП, dtype: int64\n",
      "1    1545\n",
      "2    1520\n",
      "0    1511\n",
      "Name: сыпуч известь РП, dtype: int64\n",
      "              precision    recall  f1-score   support\n",
      "\n",
      "           0       0.53      0.50      0.52       402\n",
      "           1       0.46      0.43      0.45       378\n",
      "           2       0.66      0.74      0.70       364\n",
      "\n",
      "    accuracy                           0.56      1144\n",
      "   macro avg       0.55      0.56      0.55      1144\n",
      "weighted avg       0.55      0.56      0.55      1144\n",
      "\n",
      "Balanced Accuracy: 0.34\n"
     ]
    }
   ],
   "source": [
    "test_model(CatBoostClassifier(silent=True), X, catcovert(df, target, 3))"
   ]
  },
  {
   "cell_type": "markdown",
   "id": "scheduled-columbia",
   "metadata": {},
   "source": [
    "## Выводы\n",
    "* Регрессия не работает. Классификация рулит.\n",
    "* Бустинг дал наилучшие метрики. \n",
    "* В среднем точность составляет 56%.\n",
    "* F1-score для различных интервалов составляет от 0.45 до 0.7\n",
    "* Сбалансированная точность 34 %. То есть мы на 34 процента угадываем лучше чем рандом."
   ]
  },
  {
   "cell_type": "code",
   "execution_count": null,
   "id": "russian-gossip",
   "metadata": {},
   "outputs": [],
   "source": []
  }
 ],
 "metadata": {
  "kernelspec": {
   "display_name": "Python 3",
   "language": "python",
   "name": "python3"
  },
  "language_info": {
   "codemirror_mode": {
    "name": "ipython",
    "version": 3
   },
   "file_extension": ".py",
   "mimetype": "text/x-python",
   "name": "python",
   "nbconvert_exporter": "python",
   "pygments_lexer": "ipython3",
   "version": "3.8.6"
  }
 },
 "nbformat": 4,
 "nbformat_minor": 5
}
