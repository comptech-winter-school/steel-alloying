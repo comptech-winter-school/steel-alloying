{
 "cells": [
  {
   "cell_type": "markdown",
   "id": "accurate-terminology",
   "metadata": {},
   "source": [
    "# Предсказание расхода извести"
   ]
  },
  {
   "cell_type": "markdown",
   "id": "breathing-discrimination",
   "metadata": {},
   "source": [
    "Решение обратной задачи: оптимизация расхода извести с оценкой потенциальной возможной экономии на исторических данных."
   ]
  },
  {
   "cell_type": "code",
   "execution_count": 1,
   "id": "continental-edwards",
   "metadata": {},
   "outputs": [],
   "source": [
    "import pandas as pd\n",
    "import seaborn as sns\n",
    "import numpy as np\n",
    "import matplotlib.pyplot as plt\n",
    "import warnings\n",
    "\n",
    "warnings.filterwarnings(\"ignore\")\n",
    "\n",
    "\n",
    "from sklearn.linear_model import LinearRegression, Ridge, Lasso\n",
    "from sklearn.model_selection import train_test_split, cross_val_score, GridSearchCV\n",
    "from sklearn.preprocessing import StandardScaler, MinMaxScaler\n",
    "from sklearn.ensemble import RandomForestRegressor\n",
    "from sklearn.feature_selection import SelectKBest, f_regression\n",
    "\n",
    "\n",
    "from catboost import CatBoostRegressor"
   ]
  },
  {
   "cell_type": "markdown",
   "id": "sorted-ratio",
   "metadata": {},
   "source": [
    "## Загрузка и подготовка данных"
   ]
  },
  {
   "cell_type": "code",
   "execution_count": 2,
   "id": "ultimate-publication",
   "metadata": {},
   "outputs": [
    {
     "data": {
      "text/html": [
       "<div>\n",
       "<style scoped>\n",
       "    .dataframe tbody tr th:only-of-type {\n",
       "        vertical-align: middle;\n",
       "    }\n",
       "\n",
       "    .dataframe tbody tr th {\n",
       "        vertical-align: top;\n",
       "    }\n",
       "\n",
       "    .dataframe thead th {\n",
       "        text-align: right;\n",
       "    }\n",
       "</style>\n",
       "<table border=\"1\" class=\"dataframe\">\n",
       "  <thead>\n",
       "    <tr style=\"text-align: right;\">\n",
       "      <th></th>\n",
       "      <th>МАРКА</th>\n",
       "      <th>t вып-обр</th>\n",
       "      <th>t под током</th>\n",
       "      <th>t продувка</th>\n",
       "      <th>ПСН гр.</th>\n",
       "      <th>чист расход C</th>\n",
       "      <th>чист расход Cr</th>\n",
       "      <th>чист расход Mn</th>\n",
       "      <th>чист расход Si</th>\n",
       "      <th>чист расход V</th>\n",
       "      <th>...</th>\n",
       "      <th>химшлак первый MnO_1</th>\n",
       "      <th>химшлак первый R_1</th>\n",
       "      <th>химшлак первый SiO2_1</th>\n",
       "      <th>химшлак последний Al2O3</th>\n",
       "      <th>химшлак последний CaO</th>\n",
       "      <th>химшлак последний FeO</th>\n",
       "      <th>химшлак последний MgO</th>\n",
       "      <th>химшлак последний MnO</th>\n",
       "      <th>химшлак последний R</th>\n",
       "      <th>химшлак последний SiO2</th>\n",
       "    </tr>\n",
       "  </thead>\n",
       "  <tbody>\n",
       "    <tr>\n",
       "      <th>589</th>\n",
       "      <td>Э76ХФ</td>\n",
       "      <td>18.0</td>\n",
       "      <td>20.016667</td>\n",
       "      <td>41.850000</td>\n",
       "      <td>2.431057</td>\n",
       "      <td>0.339285</td>\n",
       "      <td>0.075060</td>\n",
       "      <td>0.066049</td>\n",
       "      <td>0.068946</td>\n",
       "      <td>0.038742</td>\n",
       "      <td>...</td>\n",
       "      <td>0.23</td>\n",
       "      <td>2.3</td>\n",
       "      <td>25.6</td>\n",
       "      <td>3.2</td>\n",
       "      <td>54.8</td>\n",
       "      <td>0.8</td>\n",
       "      <td>6.1</td>\n",
       "      <td>0.09</td>\n",
       "      <td>2.4</td>\n",
       "      <td>23.2</td>\n",
       "    </tr>\n",
       "    <tr>\n",
       "      <th>818</th>\n",
       "      <td>Э90ХАФ</td>\n",
       "      <td>7.0</td>\n",
       "      <td>17.383333</td>\n",
       "      <td>41.033333</td>\n",
       "      <td>3.004480</td>\n",
       "      <td>0.523411</td>\n",
       "      <td>0.108273</td>\n",
       "      <td>0.200457</td>\n",
       "      <td>0.148846</td>\n",
       "      <td>0.095573</td>\n",
       "      <td>...</td>\n",
       "      <td>0.11</td>\n",
       "      <td>2.4</td>\n",
       "      <td>24.5</td>\n",
       "      <td>4.6</td>\n",
       "      <td>61.8</td>\n",
       "      <td>0.5</td>\n",
       "      <td>6.1</td>\n",
       "      <td>0.08</td>\n",
       "      <td>2.4</td>\n",
       "      <td>26.1</td>\n",
       "    </tr>\n",
       "    <tr>\n",
       "      <th>1029</th>\n",
       "      <td>Другие</td>\n",
       "      <td>9.0</td>\n",
       "      <td>18.950000</td>\n",
       "      <td>43.850000</td>\n",
       "      <td>2.643735</td>\n",
       "      <td>0.433960</td>\n",
       "      <td>0.121086</td>\n",
       "      <td>0.175658</td>\n",
       "      <td>0.089606</td>\n",
       "      <td>0.041396</td>\n",
       "      <td>...</td>\n",
       "      <td>0.18</td>\n",
       "      <td>2.4</td>\n",
       "      <td>20.4</td>\n",
       "      <td>4.7</td>\n",
       "      <td>54.8</td>\n",
       "      <td>0.6</td>\n",
       "      <td>11.6</td>\n",
       "      <td>0.16</td>\n",
       "      <td>2.1</td>\n",
       "      <td>26.1</td>\n",
       "    </tr>\n",
       "    <tr>\n",
       "      <th>1036</th>\n",
       "      <td>Другие</td>\n",
       "      <td>7.0</td>\n",
       "      <td>19.216667</td>\n",
       "      <td>46.716667</td>\n",
       "      <td>3.000000</td>\n",
       "      <td>0.548870</td>\n",
       "      <td>0.121086</td>\n",
       "      <td>0.199137</td>\n",
       "      <td>0.087354</td>\n",
       "      <td>0.041748</td>\n",
       "      <td>...</td>\n",
       "      <td>0.25</td>\n",
       "      <td>2.3</td>\n",
       "      <td>23.8</td>\n",
       "      <td>5.4</td>\n",
       "      <td>51.9</td>\n",
       "      <td>0.5</td>\n",
       "      <td>10.3</td>\n",
       "      <td>0.15</td>\n",
       "      <td>2.1</td>\n",
       "      <td>24.2</td>\n",
       "    </tr>\n",
       "    <tr>\n",
       "      <th>1345</th>\n",
       "      <td>Э76ХФ</td>\n",
       "      <td>26.0</td>\n",
       "      <td>19.883333</td>\n",
       "      <td>42.050000</td>\n",
       "      <td>3.775293</td>\n",
       "      <td>0.402655</td>\n",
       "      <td>0.168487</td>\n",
       "      <td>0.176548</td>\n",
       "      <td>0.153988</td>\n",
       "      <td>0.041933</td>\n",
       "      <td>...</td>\n",
       "      <td>0.19</td>\n",
       "      <td>2.2</td>\n",
       "      <td>22.4</td>\n",
       "      <td>5.2</td>\n",
       "      <td>54.5</td>\n",
       "      <td>0.3</td>\n",
       "      <td>14.0</td>\n",
       "      <td>0.14</td>\n",
       "      <td>2.1</td>\n",
       "      <td>26.6</td>\n",
       "    </tr>\n",
       "  </tbody>\n",
       "</table>\n",
       "<p>5 rows × 67 columns</p>\n",
       "</div>"
      ],
      "text/plain": [
       "       МАРКА  t вып-обр  t под током  t продувка   ПСН гр.  чист расход C  \\\n",
       "589    Э76ХФ       18.0    20.016667   41.850000  2.431057       0.339285   \n",
       "818   Э90ХАФ        7.0    17.383333   41.033333  3.004480       0.523411   \n",
       "1029  Другие        9.0    18.950000   43.850000  2.643735       0.433960   \n",
       "1036  Другие        7.0    19.216667   46.716667  3.000000       0.548870   \n",
       "1345   Э76ХФ       26.0    19.883333   42.050000  3.775293       0.402655   \n",
       "\n",
       "      чист расход Cr  чист расход Mn  чист расход Si  чист расход V  ...  \\\n",
       "589         0.075060        0.066049        0.068946       0.038742  ...   \n",
       "818         0.108273        0.200457        0.148846       0.095573  ...   \n",
       "1029        0.121086        0.175658        0.089606       0.041396  ...   \n",
       "1036        0.121086        0.199137        0.087354       0.041748  ...   \n",
       "1345        0.168487        0.176548        0.153988       0.041933  ...   \n",
       "\n",
       "      химшлак первый MnO_1  химшлак первый R_1  химшлак первый SiO2_1  \\\n",
       "589                   0.23                 2.3                   25.6   \n",
       "818                   0.11                 2.4                   24.5   \n",
       "1029                  0.18                 2.4                   20.4   \n",
       "1036                  0.25                 2.3                   23.8   \n",
       "1345                  0.19                 2.2                   22.4   \n",
       "\n",
       "      химшлак последний Al2O3  химшлак последний CaO  химшлак последний FeO  \\\n",
       "589                       3.2                   54.8                    0.8   \n",
       "818                       4.6                   61.8                    0.5   \n",
       "1029                      4.7                   54.8                    0.6   \n",
       "1036                      5.4                   51.9                    0.5   \n",
       "1345                      5.2                   54.5                    0.3   \n",
       "\n",
       "      химшлак последний MgO  химшлак последний MnO  химшлак последний R  \\\n",
       "589                     6.1                   0.09                  2.4   \n",
       "818                     6.1                   0.08                  2.4   \n",
       "1029                   11.6                   0.16                  2.1   \n",
       "1036                   10.3                   0.15                  2.1   \n",
       "1345                   14.0                   0.14                  2.1   \n",
       "\n",
       "      химшлак последний SiO2  \n",
       "589                     23.2  \n",
       "818                     26.1  \n",
       "1029                    26.1  \n",
       "1036                    24.2  \n",
       "1345                    26.6  \n",
       "\n",
       "[5 rows x 67 columns]"
      ]
     },
     "execution_count": 2,
     "metadata": {},
     "output_type": "execute_result"
    }
   ],
   "source": [
    "df = pd.read_csv('clean_data.csv', index_col=0)\n",
    "df.head()"
   ]
  },
  {
   "cell_type": "code",
   "execution_count": 3,
   "id": "pregnant-maintenance",
   "metadata": {},
   "outputs": [
    {
     "data": {
      "text/plain": [
       "(4576, 67)"
      ]
     },
     "execution_count": 3,
     "metadata": {},
     "output_type": "execute_result"
    }
   ],
   "source": [
    "df.shape"
   ]
  },
  {
   "cell_type": "code",
   "execution_count": 8,
   "id": "median-malpractice",
   "metadata": {},
   "outputs": [],
   "source": [
    "target = 'сыпуч известь РП'"
   ]
  },
  {
   "cell_type": "code",
   "execution_count": 37,
   "id": "parliamentary-begin",
   "metadata": {},
   "outputs": [
    {
     "data": {
      "text/plain": [
       "<AxesSubplot:>"
      ]
     },
     "execution_count": 37,
     "metadata": {},
     "output_type": "execute_result"
    },
    {
     "data": {
      "image/png": "[encoded data removed]",
      "text/plain": [
       "<Figure size 432x288 with 1 Axes>"
      ]
     },
     "metadata": {
      "needs_background": "light"
     },
     "output_type": "display_data"
    }
   ],
   "source": [
    "(df[target]*1000).hist()"
   ]
  },
  {
   "cell_type": "code",
   "execution_count": 27,
   "id": "printable-remark",
   "metadata": {},
   "outputs": [
    {
     "data": {
      "text/plain": [
       "Float64Index([               0.126, 0.052000000000000005,                0.063,\n",
       "               0.07400000000000001,                0.086,                0.064,\n",
       "                              0.08,                0.053,                0.079,\n",
       "               0.14800000000000002,\n",
       "              ...\n",
       "                             0.038,                0.255,                0.388,\n",
       "               0.35100000000000003,                  0.6,                 0.41,\n",
       "                             0.384,                0.364,                0.509,\n",
       "                             0.307],\n",
       "             dtype='float64', length=379)"
      ]
     },
     "execution_count": 27,
     "metadata": {},
     "output_type": "execute_result"
    }
   ],
   "source": [
    "df[target].value_counts().index.unique()"
   ]
  },
  {
   "cell_type": "code",
   "execution_count": 10,
   "id": "several-viewer",
   "metadata": {},
   "outputs": [
    {
     "data": {
      "text/plain": [
       "(4576, 66)"
      ]
     },
     "execution_count": 10,
     "metadata": {},
     "output_type": "execute_result"
    }
   ],
   "source": [
    "X = df.drop(target, axis=1)\n",
    "X.shape"
   ]
  },
  {
   "cell_type": "code",
   "execution_count": 11,
   "id": "extensive-killing",
   "metadata": {},
   "outputs": [],
   "source": [
    "X = pd.get_dummies(X) # one-hot encoding для марки стали"
   ]
  },
  {
   "cell_type": "code",
   "execution_count": 12,
   "id": "adverse-discussion",
   "metadata": {},
   "outputs": [],
   "source": [
    "# Нормализация данных\n",
    "scaler_X = StandardScaler()\n",
    "X = scaler_X.fit_transform(X)"
   ]
  },
  {
   "cell_type": "code",
   "execution_count": 13,
   "id": "turkish-bruce",
   "metadata": {},
   "outputs": [],
   "source": [
    "def test_model(model, X, y):\n",
    "    error = -cross_val_score(model, X, y, scoring='neg_mean_absolute_percentage_error', cv=5).mean()\n",
    "    return error"
   ]
  },
  {
   "cell_type": "code",
   "execution_count": 22,
   "id": "incorporated-behavior",
   "metadata": {},
   "outputs": [],
   "source": [
    "def test_many_models(models, df, X, target):\n",
    "    for model in models:\n",
    "        print(model)\n",
    "        y = df[target]\n",
    "        error = test_model(model, X, y)\n",
    "        print(f'Средняя ошибка модели: {error*100:.2f}%\\n')\n",
    "        return "
   ]
  },
  {
   "cell_type": "code",
   "execution_count": 23,
   "id": "graphic-governor",
   "metadata": {},
   "outputs": [],
   "source": [
    "models = [LinearRegression(), Lasso(), Ridge(), RandomForestRegressor(), CatBoostRegressor(loss_function='MAPE', n_estimators=1000, silent=True)]"
   ]
  },
  {
   "cell_type": "code",
   "execution_count": 24,
   "id": "ordered-barbados",
   "metadata": {},
   "outputs": [
    {
     "name": "stdout",
     "output_type": "stream",
     "text": [
      "LinearRegression()\n",
      "Средняя ошибка модели: 43.42%\n",
      "\n",
      "Lasso()\n",
      "Средняя ошибка модели: 47.32%\n",
      "\n",
      "Ridge()\n",
      "Средняя ошибка модели: 43.42%\n",
      "\n",
      "RandomForestRegressor()\n",
      "Средняя ошибка модели: 41.85%\n",
      "\n",
      "<catboost.core.CatBoostRegressor object at 0x7f84f473c700>\n",
      "Средняя ошибка модели: 41.95%\n",
      "\n"
     ]
    }
   ],
   "source": [
    "test_many_models(models, df, X, target)"
   ]
  },
  {
   "cell_type": "code",
   "execution_count": null,
   "id": "pharmaceutical-object",
   "metadata": {},
   "outputs": [],
   "source": []
  },
  {
   "cell_type": "code",
   "execution_count": null,
   "id": "material-marks",
   "metadata": {},
   "outputs": [],
   "source": []
  },
  {
   "cell_type": "code",
   "execution_count": null,
   "id": "inside-understanding",
   "metadata": {},
   "outputs": [],
   "source": []
  },
  {
   "cell_type": "code",
   "execution_count": null,
   "id": "supported-headline",
   "metadata": {},
   "outputs": [],
   "source": []
  },
  {
   "cell_type": "code",
   "execution_count": null,
   "id": "humanitarian-shelter",
   "metadata": {},
   "outputs": [],
   "source": []
  }
 ],
 "metadata": {
  "kernelspec": {
   "display_name": "Python 3",
   "language": "python",
   "name": "python3"
  },
  "language_info": {
   "codemirror_mode": {
    "name": "ipython",
    "version": 3
   },
   "file_extension": ".py",
   "mimetype": "text/x-python",
   "name": "python",
   "nbconvert_exporter": "python",
   "pygments_lexer": "ipython3",
   "version": "3.8.6"
  }
 },
 "nbformat": 4,
 "nbformat_minor": 5
}
