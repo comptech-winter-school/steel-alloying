{
 "cells": [
  {
   "cell_type": "code",
   "execution_count": 1,
   "metadata": {
    "collapsed": true,
    "pycharm": {
     "is_executing": false
    }
   },
   "outputs": [],
   "source": [
    "import pandas as pd\n",
    "from matplotlib import pyplot as plt \n",
    "import numpy as np\n",
    "from sklearn.decomposition import PCA\n",
    "from sklearn.model_selection import train_test_split\n",
    "from sklearn.linear_model import LinearRegression\n",
    "from sklearn.ensemble import GradientBoostingRegressor, RandomForestRegressor\n",
    "from sklearn.metrics import r2_score"
   ]
  },
  {
   "cell_type": "code",
   "execution_count": 2,
   "metadata": {},
   "outputs": [],
   "source": [
    "import sys, os\n",
    "sys.path.append(os.path.abspath(os.path.join('..')))\n",
    "\n",
    "import data_manager as dm"
   ]
  },
  {
   "cell_type": "code",
   "execution_count": 3,
   "metadata": {},
   "outputs": [],
   "source": [
    "\n",
    "df = dm.load_data('evraz_data_prprocessed_Anvar.csv')\n",
    "y_cols = ['химшлак последний Al2O3', 'химшлак последний CaO', \n",
    "          'химшлак последний FeO', 'химшлак последний MgO',\n",
    "          'химшлак последний MnO', 'химшлак последний R',\n",
    "          'химшлак последний SiO2']\n",
    "\n",
    "X = df.drop(columns=y_cols)\n",
    "y = df.filter(y_cols)"
   ]
  },
  {
   "cell_type": "code",
   "execution_count": 14,
   "metadata": {},
   "outputs": [
    {
     "output_type": "execute_result",
     "data": {
      "text/plain": [
       "((3003, 64), (3003, 7))"
      ]
     },
     "metadata": {},
     "execution_count": 14
    }
   ],
   "source": [
    "X.shape, y.shape"
   ]
  },
  {
   "cell_type": "code",
   "execution_count": 15,
   "metadata": {},
   "outputs": [],
   "source": [
    "X = pd.get_dummies(X)"
   ]
  },
  {
   "cell_type": "code",
   "execution_count": 16,
   "outputs": [],
   "source": [
    "X_train, X_test, y_train, y_test = train_test_split(X, y, test_size=0.33, random_state=42)"
   ],
   "metadata": {
    "collapsed": false,
    "pycharm": {
     "name": "#%%\n",
     "is_executing": false
    }
   }
  },
  {
   "cell_type": "code",
   "execution_count": 17,
   "outputs": [],
   "source": [
    "# Метрика для оценки точности модели\n",
    "def rmse(predicted, actual):\n",
    "    return ((predicted - actual)**2).mean()**.5"
   ],
   "metadata": {
    "collapsed": false,
    "pycharm": {
     "name": "#%%\n",
     "is_executing": false
    }
   }
  },
  {
   "cell_type": "code",
   "execution_count": 18,
   "outputs": [
    {
     "output_type": "stream",
     "name": "stdout",
     "text": [
      "химшлак последний Al2O3\t0.6662407071990473\t0.5174610700508153\nхимшлак последний CaO\t3.46807163501533\t0.1782764019316765\nхимшлак последний FeO\t0.20977828033015705\t0.05055602842403173\nхимшлак последний MgO\t2.6229111377769225\t0.32286690131296203\nхимшлак последний MnO\t0.058574780905450964\t0.15597227564607985\nхимшлак последний R\t0.17692744144686987\t0.3431134561473036\nхимшлак последний SiO2\t2.0239970198326365\t0.18047719581627453\n"
     ]
    }
   ],
   "source": [
    "for y_col in y_cols:\n",
    "    lr = LinearRegression()\n",
    "    lr.fit(X_train, y_train[y_col])\n",
    "    y_pred = lr.predict(X_test)\n",
    "    print(f'{y_col}\\t'\n",
    "          f'{rmse(y_pred, y_test[y_col])}\\t'\n",
    "          f'{r2_score(y_test[y_col], y_pred)}')"
   ],
   "metadata": {
    "collapsed": false,
    "pycharm": {
     "name": "#%%\n",
     "is_executing": false
    }
   }
  },
  {
   "cell_type": "code",
   "execution_count": 19,
   "outputs": [
    {
     "output_type": "stream",
     "name": "stdout",
     "text": [
      "химшлак последний Al2O3\t0.7000322354474402\t0.4672712857635688\n",
      "химшлак последний CaO\t3.5172676020960387\t0.15479810210290157\n",
      "химшлак последний FeO\t0.2097506387676803\t0.050806220062379226\n",
      "химшлак последний MgO\t2.5466168330686165\t0.3616863977437291\n",
      "химшлак последний MnO\t0.06020782847872017\t0.10825374472215576\n",
      "химшлак последний R\t0.17245487278829855\t0.3759047010289799\n",
      "химшлак последний SiO2\t2.031100489658308\t0.174714666508478\n"
     ]
    }
   ],
   "source": [
    "for y_col in y_cols:\n",
    "    gb = GradientBoostingRegressor()\n",
    "    gb.fit(X_train, y_train[y_col])\n",
    "    y_pred = gb.predict(X_test)\n",
    "    print(f'{y_col}\\t'\n",
    "          f'{rmse(y_pred, y_test[y_col])}\\t'\n",
    "          f'{r2_score(y_test[y_col], y_pred)}')"
   ],
   "metadata": {
    "collapsed": false,
    "pycharm": {
     "name": "#%%\n",
     "is_executing": false
    }
   }
  },
  {
   "cell_type": "code",
   "execution_count": 20,
   "outputs": [
    {
     "output_type": "stream",
     "name": "stdout",
     "text": [
      "химшлак последний Al2O3\t0.6997474176707134\t0.46770469363669165\n",
      "химшлак последний CaO\t3.5489198203142305\t0.13951755360023044\n",
      "химшлак последний FeO\t0.21059301690445553\t0.04316680893486469\n",
      "химшлак последний MgO\t2.5702052415818244\t0.34980668759531774\n",
      "химшлак последний MnO\t0.06150358722197053\t0.06945739828757924\n",
      "химшлак последний R\t0.1700033210336261\t0.39352237622691877\n",
      "химшлак последний SiO2\t1.9994573408230327\t0.20022911329159365\n"
     ]
    }
   ],
   "source": [
    "for y_col in y_cols:\n",
    "    rf = RandomForestRegressor()\n",
    "    rf.fit(X_train, y_train[y_col])\n",
    "    y_pred = rf.predict(X_test)\n",
    "    print(f'{y_col}\\t'\n",
    "          f'{rmse(y_pred, y_test[y_col])}\\t'\n",
    "          f'{r2_score(y_test[y_col], y_pred)}')"
   ],
   "metadata": {
    "collapsed": false,
    "pycharm": {
     "name": "#%%\n",
     "is_executing": false
    }
   }
  },
  {
   "cell_type": "code",
   "execution_count": 24,
   "outputs": [],
   "source": [
    "# pca = PCA(n_components=10)\n",
    "# pca_x = pca.fit_transform(X)\n",
    "# fig, axs = plt.subplots(2, 5, figsize=(20,10))\n",
    "# for i in range(10):\n",
    "#     axs[i%2, i//2].scatter(pca_x[:,i], y[y_cols[0]])\n",
    "#     axs[i%2, i//2].set_title(f'{i}')"
   ],
   "metadata": {
    "collapsed": false,
    "pycharm": {
     "name": "#%%\n",
     "is_executing": false
    }
   }
  }
 ],
 "metadata": {
  "kernelspec": {
   "display_name": "Python 3",
   "language": "python",
   "name": "python3"
  },
  "language_info": {
   "codemirror_mode": {
    "name": "ipython",
    "version": 2
   },
   "file_extension": ".py",
   "mimetype": "text/x-python",
   "name": "python",
   "nbconvert_exporter": "python",
   "pygments_lexer": "ipython2",
   "version": "3.8.3-final"
  },
  "pycharm": {
   "stem_cell": {
    "cell_type": "raw",
    "source": [],
    "metadata": {
     "collapsed": false
    }
   }
  }
 },
 "nbformat": 4,
 "nbformat_minor": 0
}