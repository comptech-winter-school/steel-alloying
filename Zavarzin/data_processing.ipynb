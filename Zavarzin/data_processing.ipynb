{
 "cells": [
  {
   "cell_type": "code",
   "execution_count": 289,
   "metadata": {
    "collapsed": true,
    "pycharm": {
     "is_executing": false
    }
   },
   "outputs": [],
   "source": [
    "import pandas as pd\n",
    "from matplotlib import pyplot as plt \n",
    "from sklearn.ensemble import IsolationForest"
   ]
  },
  {
   "cell_type": "code",
   "execution_count": 290,
   "outputs": [
    {
     "data": {
      "text/plain": "      Unnamed: 0         nplv                   DT   МАРКА ПРОФИЛЬ  t вып-обр  \\\n0              0  г6837?3<87?  2070-06-21 00:14:00   Э76ХФ     Р65       29.0   \n1              1  г683863<886  2070-06-21 01:07:00   Э76ХФ     Р65       26.0   \n2              2  г683863<887  2070-06-21 02:00:00   Э76ХФ     Р65       24.0   \n3              3  г683863<888  2070-06-21 02:58:00   Э76ХФ     Р65       17.0   \n4              4  г683863<889  2070-06-21 03:50:00   Э76ХФ     Р65       20.0   \n...          ...          ...                  ...     ...     ...        ...   \n7036        7036  г68386398<;  2071-04-21 19:50:00  Э90ХАФ     Р65       41.0   \n7037        7037  г68386398<<  2071-04-21 20:45:00  Э90ХАФ     Р65       36.0   \n7038        7038  г68386398<=  2071-04-21 21:34:00  Э90ХАФ     Р65       42.0   \n7039        7039  г68386398<>  2071-04-21 22:25:00  Э90ХАФ     Р65       45.0   \n7040        7040  г68386398<?  2071-04-21 23:20:00  Э90ХАФ     Р65       48.0   \n\n      t обработка  t под током  t продувка   ПСН гр.  ...  \\\n0       45.366667    24.400000   41.033333       NaN  ...   \n1       44.066667    13.866667   44.066667       NaN  ...   \n2       43.350000    17.950000   43.350000       NaN  ...   \n3       46.183333    19.816667   46.183333       NaN  ...   \n4       48.500000    17.033333   48.500000       NaN  ...   \n...           ...          ...         ...       ...  ...   \n7036    42.333333    23.200000   42.166667  3.380628  ...   \n7037    46.533333    16.183333   46.383333       NaN  ...   \n7038    47.566667    23.016667   47.100000  2.263004  ...   \n7039    46.033333    17.533333   45.683333  3.000000  ...   \n7040    52.033333    21.700000   50.233333  3.000000  ...   \n\n      химшлак первый MnO_1  химшлак первый R_1  химшлак первый SiO2_1  \\\n0                     0.12                 2.6                    NaN   \n1                     0.14                 2.2                    NaN   \n2                     0.12                 2.6                    NaN   \n3                     0.11                 2.4                    NaN   \n4                     0.12                 2.4                    NaN   \n...                    ...                 ...                    ...   \n7036                  0.10                 2.6                   22.2   \n7037                  0.10                 2.2                   24.5   \n7038                  0.13                 2.7                   20.0   \n7039                  0.18                 2.1                   24.5   \n7040                  0.07                 2.4                   24.2   \n\n      химшлак последний Al2O3  химшлак последний CaO  химшлак последний FeO  \\\n0                         NaN                   53.4                    1.0   \n1                         NaN                   59.3                    0.6   \n2                         NaN                   57.2                    0.5   \n3                         NaN                   60.3                    0.5   \n4                         NaN                   60.3                    0.6   \n...                       ...                    ...                    ...   \n7036                      7.0                   60.6                    0.4   \n7037                      4.9                   53.0                    0.5   \n7038                      5.2                   55.4                    0.7   \n7039                      4.9                   55.1                    0.4   \n7040                      5.4                   57.3                    0.7   \n\n      химшлак последний MgO  химшлак последний MnO  химшлак последний R  \\\n0                       5.8                   0.15                  2.6   \n1                       4.1                   0.11                  2.3   \n2                       8.1                   0.13                  2.3   \n3                       6.3                   0.12                  2.6   \n4                       4.5                   0.09                  2.5   \n...                     ...                    ...                  ...   \n7036                    6.2                   0.06                  2.7   \n7037                   11.1                   0.25                  2.4   \n7038                    6.7                   0.13                  2.2   \n7039                    8.9                   0.16                  2.1   \n7040                    6.6                   0.13                  2.3   \n\n      химшлак последний SiO2  \n0                        NaN  \n1                        NaN  \n2                        NaN  \n3                        NaN  \n4                        NaN  \n...                      ...  \n7036                    22.8  \n7037                    22.3  \n7038                    25.0  \n7039                    26.0  \n7040                    25.5  \n\n[7041 rows x 85 columns]",
      "text/html": "<div>\n<style scoped>\n    .dataframe tbody tr th:only-of-type {\n        vertical-align: middle;\n    }\n\n    .dataframe tbody tr th {\n        vertical-align: top;\n    }\n\n    .dataframe thead th {\n        text-align: right;\n    }\n</style>\n<table border=\"1\" class=\"dataframe\">\n  <thead>\n    <tr style=\"text-align: right;\">\n      <th></th>\n      <th>Unnamed: 0</th>\n      <th>nplv</th>\n      <th>DT</th>\n      <th>МАРКА</th>\n      <th>ПРОФИЛЬ</th>\n      <th>t вып-обр</th>\n      <th>t обработка</th>\n      <th>t под током</th>\n      <th>t продувка</th>\n      <th>ПСН гр.</th>\n      <th>...</th>\n      <th>химшлак первый MnO_1</th>\n      <th>химшлак первый R_1</th>\n      <th>химшлак первый SiO2_1</th>\n      <th>химшлак последний Al2O3</th>\n      <th>химшлак последний CaO</th>\n      <th>химшлак последний FeO</th>\n      <th>химшлак последний MgO</th>\n      <th>химшлак последний MnO</th>\n      <th>химшлак последний R</th>\n      <th>химшлак последний SiO2</th>\n    </tr>\n  </thead>\n  <tbody>\n    <tr>\n      <th>0</th>\n      <td>0</td>\n      <td>г6837?3&lt;87?</td>\n      <td>2070-06-21 00:14:00</td>\n      <td>Э76ХФ</td>\n      <td>Р65</td>\n      <td>29.0</td>\n      <td>45.366667</td>\n      <td>24.400000</td>\n      <td>41.033333</td>\n      <td>NaN</td>\n      <td>...</td>\n      <td>0.12</td>\n      <td>2.6</td>\n      <td>NaN</td>\n      <td>NaN</td>\n      <td>53.4</td>\n      <td>1.0</td>\n      <td>5.8</td>\n      <td>0.15</td>\n      <td>2.6</td>\n      <td>NaN</td>\n    </tr>\n    <tr>\n      <th>1</th>\n      <td>1</td>\n      <td>г683863&lt;886</td>\n      <td>2070-06-21 01:07:00</td>\n      <td>Э76ХФ</td>\n      <td>Р65</td>\n      <td>26.0</td>\n      <td>44.066667</td>\n      <td>13.866667</td>\n      <td>44.066667</td>\n      <td>NaN</td>\n      <td>...</td>\n      <td>0.14</td>\n      <td>2.2</td>\n      <td>NaN</td>\n      <td>NaN</td>\n      <td>59.3</td>\n      <td>0.6</td>\n      <td>4.1</td>\n      <td>0.11</td>\n      <td>2.3</td>\n      <td>NaN</td>\n    </tr>\n    <tr>\n      <th>2</th>\n      <td>2</td>\n      <td>г683863&lt;887</td>\n      <td>2070-06-21 02:00:00</td>\n      <td>Э76ХФ</td>\n      <td>Р65</td>\n      <td>24.0</td>\n      <td>43.350000</td>\n      <td>17.950000</td>\n      <td>43.350000</td>\n      <td>NaN</td>\n      <td>...</td>\n      <td>0.12</td>\n      <td>2.6</td>\n      <td>NaN</td>\n      <td>NaN</td>\n      <td>57.2</td>\n      <td>0.5</td>\n      <td>8.1</td>\n      <td>0.13</td>\n      <td>2.3</td>\n      <td>NaN</td>\n    </tr>\n    <tr>\n      <th>3</th>\n      <td>3</td>\n      <td>г683863&lt;888</td>\n      <td>2070-06-21 02:58:00</td>\n      <td>Э76ХФ</td>\n      <td>Р65</td>\n      <td>17.0</td>\n      <td>46.183333</td>\n      <td>19.816667</td>\n      <td>46.183333</td>\n      <td>NaN</td>\n      <td>...</td>\n      <td>0.11</td>\n      <td>2.4</td>\n      <td>NaN</td>\n      <td>NaN</td>\n      <td>60.3</td>\n      <td>0.5</td>\n      <td>6.3</td>\n      <td>0.12</td>\n      <td>2.6</td>\n      <td>NaN</td>\n    </tr>\n    <tr>\n      <th>4</th>\n      <td>4</td>\n      <td>г683863&lt;889</td>\n      <td>2070-06-21 03:50:00</td>\n      <td>Э76ХФ</td>\n      <td>Р65</td>\n      <td>20.0</td>\n      <td>48.500000</td>\n      <td>17.033333</td>\n      <td>48.500000</td>\n      <td>NaN</td>\n      <td>...</td>\n      <td>0.12</td>\n      <td>2.4</td>\n      <td>NaN</td>\n      <td>NaN</td>\n      <td>60.3</td>\n      <td>0.6</td>\n      <td>4.5</td>\n      <td>0.09</td>\n      <td>2.5</td>\n      <td>NaN</td>\n    </tr>\n    <tr>\n      <th>...</th>\n      <td>...</td>\n      <td>...</td>\n      <td>...</td>\n      <td>...</td>\n      <td>...</td>\n      <td>...</td>\n      <td>...</td>\n      <td>...</td>\n      <td>...</td>\n      <td>...</td>\n      <td>...</td>\n      <td>...</td>\n      <td>...</td>\n      <td>...</td>\n      <td>...</td>\n      <td>...</td>\n      <td>...</td>\n      <td>...</td>\n      <td>...</td>\n      <td>...</td>\n      <td>...</td>\n    </tr>\n    <tr>\n      <th>7036</th>\n      <td>7036</td>\n      <td>г68386398&lt;;</td>\n      <td>2071-04-21 19:50:00</td>\n      <td>Э90ХАФ</td>\n      <td>Р65</td>\n      <td>41.0</td>\n      <td>42.333333</td>\n      <td>23.200000</td>\n      <td>42.166667</td>\n      <td>3.380628</td>\n      <td>...</td>\n      <td>0.10</td>\n      <td>2.6</td>\n      <td>22.2</td>\n      <td>7.0</td>\n      <td>60.6</td>\n      <td>0.4</td>\n      <td>6.2</td>\n      <td>0.06</td>\n      <td>2.7</td>\n      <td>22.8</td>\n    </tr>\n    <tr>\n      <th>7037</th>\n      <td>7037</td>\n      <td>г68386398&lt;&lt;</td>\n      <td>2071-04-21 20:45:00</td>\n      <td>Э90ХАФ</td>\n      <td>Р65</td>\n      <td>36.0</td>\n      <td>46.533333</td>\n      <td>16.183333</td>\n      <td>46.383333</td>\n      <td>NaN</td>\n      <td>...</td>\n      <td>0.10</td>\n      <td>2.2</td>\n      <td>24.5</td>\n      <td>4.9</td>\n      <td>53.0</td>\n      <td>0.5</td>\n      <td>11.1</td>\n      <td>0.25</td>\n      <td>2.4</td>\n      <td>22.3</td>\n    </tr>\n    <tr>\n      <th>7038</th>\n      <td>7038</td>\n      <td>г68386398&lt;=</td>\n      <td>2071-04-21 21:34:00</td>\n      <td>Э90ХАФ</td>\n      <td>Р65</td>\n      <td>42.0</td>\n      <td>47.566667</td>\n      <td>23.016667</td>\n      <td>47.100000</td>\n      <td>2.263004</td>\n      <td>...</td>\n      <td>0.13</td>\n      <td>2.7</td>\n      <td>20.0</td>\n      <td>5.2</td>\n      <td>55.4</td>\n      <td>0.7</td>\n      <td>6.7</td>\n      <td>0.13</td>\n      <td>2.2</td>\n      <td>25.0</td>\n    </tr>\n    <tr>\n      <th>7039</th>\n      <td>7039</td>\n      <td>г68386398&lt;&gt;</td>\n      <td>2071-04-21 22:25:00</td>\n      <td>Э90ХАФ</td>\n      <td>Р65</td>\n      <td>45.0</td>\n      <td>46.033333</td>\n      <td>17.533333</td>\n      <td>45.683333</td>\n      <td>3.000000</td>\n      <td>...</td>\n      <td>0.18</td>\n      <td>2.1</td>\n      <td>24.5</td>\n      <td>4.9</td>\n      <td>55.1</td>\n      <td>0.4</td>\n      <td>8.9</td>\n      <td>0.16</td>\n      <td>2.1</td>\n      <td>26.0</td>\n    </tr>\n    <tr>\n      <th>7040</th>\n      <td>7040</td>\n      <td>г68386398&lt;?</td>\n      <td>2071-04-21 23:20:00</td>\n      <td>Э90ХАФ</td>\n      <td>Р65</td>\n      <td>48.0</td>\n      <td>52.033333</td>\n      <td>21.700000</td>\n      <td>50.233333</td>\n      <td>3.000000</td>\n      <td>...</td>\n      <td>0.07</td>\n      <td>2.4</td>\n      <td>24.2</td>\n      <td>5.4</td>\n      <td>57.3</td>\n      <td>0.7</td>\n      <td>6.6</td>\n      <td>0.13</td>\n      <td>2.3</td>\n      <td>25.5</td>\n    </tr>\n  </tbody>\n</table>\n<p>7041 rows × 85 columns</p>\n</div>"
     },
     "metadata": {},
     "output_type": "execute_result",
     "execution_count": 290
    }
   ],
   "source": [
    "df = pd.read_csv('evraz_data.csv', sep=';', decimal=\",\")\n",
    "df"
   ],
   "metadata": {
    "collapsed": false,
    "pycharm": {
     "name": "#%%\n",
     "is_executing": false
    }
   }
  },
  {
   "cell_type": "code",
   "execution_count": 291,
   "outputs": [
    {
     "name": "stdout",
     "text": [
      "Unnamed: 0 0\n",
      "nplv 0\n",
      "DT 0\n",
      "МАРКА 0\n",
      "ПРОФИЛЬ 0\n",
      "t вып-обр 597\n",
      "t обработка 601\n",
      "t под током 601\n",
      "t продувка 597\n",
      "ПСН гр. 1792\n",
      "чист расход C 606\n",
      "чист расход Cr 1158\n",
      "чист расход Mn 610\n",
      "чист расход Si 610\n",
      "чист расход V 863\n",
      "температура первая 605\n",
      "температура последняя 605\n",
      "Ar (интенс.) 615\n",
      "N2 (интенс.) 5652\n",
      "эл. энергия (интенс.) 601\n",
      "произв жидкая сталь 597\n",
      "произв количество обработок 597\n",
      "произв  количество плавок 597\n",
      "произв количество плавок (цел) 597\n",
      "расход газ Ar 615\n",
      "расход газ  N2 5652\n",
      "расход C пров. 6317\n",
      "сыпуч известь РП 2271\n",
      "сыпуч кварцит 7028\n",
      "сыпуч кокс пыль УСТК 619\n",
      "сыпуч  кокс. мелочь (сух.) 7034\n",
      "сыпуч  кокс. мелочь КМ1 734\n",
      "сыпуч  шпат плав. 1131\n",
      "ферспл CaC2 797\n",
      "ферспл FeMo 7008\n",
      "ферспл FeSi-75 7036\n",
      "ферспл FeV азот. 6658\n",
      "ферспл  FeV-80 862\n",
      "ферспл  Mn5Si65Al0.5 641\n",
      "ферспл  Ni H1 пласт. 6959\n",
      "ферспл SiMn18 643\n",
      "ферспл  ферванит 6024\n",
      "ферспл  фх850А 1158\n",
      "эл. энергия 601\n",
      "химсталь первый Al_1 597\n",
      "химсталь первый C_1 597\n",
      "химсталь первый Cr_1 597\n",
      "химсталь первый Cu_1 597\n",
      "химсталь первый Mn_1 597\n",
      "химсталь первый Mo_1 598\n",
      "химсталь первый N_1 598\n",
      "химсталь первый Ni_1 597\n",
      "химсталь первый P_1 597\n",
      "химсталь первый S_1 597\n",
      "химсталь первый Si_1 597\n",
      "химсталь первый Ti_1 597\n",
      "химсталь первый V_1 597\n",
      "химсталь последний Al 597\n",
      "химсталь последний C 597\n",
      "химсталь последний Ca 823\n",
      "химсталь последний Cr 597\n",
      "химсталь последний Cu 597\n",
      "химсталь последний Mn 597\n",
      "химсталь последний Mo 597\n",
      "химсталь последний N 599\n",
      "химсталь последний Ni 597\n",
      "химсталь последний P 597\n",
      "химсталь последний S 597\n",
      "химсталь последний Si 597\n",
      "химсталь последний Ti 597\n",
      "химсталь последний V 597\n",
      "химшлак первый Al2O3_1 2299\n",
      "химшлак первый CaO_1 597\n",
      "химшлак первый FeO_1 597\n",
      "химшлак первый MgO_1 598\n",
      "химшлак первый MnO_1 597\n",
      "химшлак первый R_1 597\n",
      "химшлак первый SiO2_1 2299\n",
      "химшлак последний Al2O3 2299\n",
      "химшлак последний CaO 597\n",
      "химшлак последний FeO 597\n",
      "химшлак последний MgO 598\n",
      "химшлак последний MnO 597\n",
      "химшлак последний R 597\n",
      "химшлак последний SiO2 2299\n",
      "(7041, 75)\n"
     ],
     "output_type": "stream"
    }
   ],
   "source": [
    "# Убираем столбцы с NaN > 50%\n",
    "\n",
    "exclude_columns = []\n",
    "for column in df.columns:\n",
    "    nas = df[column].isna().sum()\n",
    "    print(column, nas)\n",
    "    if nas > len(df)//2:\n",
    "        exclude_columns.append(column)\n",
    "    \n",
    "df = df.drop(columns=exclude_columns)\n",
    "print(df.shape)"
   ],
   "metadata": {
    "collapsed": false,
    "pycharm": {
     "name": "#%%\n",
     "is_executing": false
    }
   }
  },
  {
   "cell_type": "code",
   "execution_count": 292,
   "outputs": [
    {
     "name": "stdout",
     "text": [
      "Unnamed: 0 7041\n",
      "nplv 7041\n",
      "DT 7041\n",
      "МАРКА 18\n",
      "ПРОФИЛЬ 18\n",
      "t вып-обр 82\n",
      "t обработка 816\n",
      "t под током 1155\n",
      "t продувка 831\n",
      "ПСН гр. 4296\n",
      "чист расход C 6243\n",
      "чист расход Cr 3115\n",
      "чист расход Mn 6320\n",
      "чист расход Si 6265\n",
      "чист расход V 4645\n",
      "температура первая 154\n",
      "температура последняя 109\n",
      "Ar (интенс.) 6423\n",
      "эл. энергия (интенс.) 6362\n",
      "произв жидкая сталь 175\n",
      "произв количество обработок 3\n",
      "произв  количество плавок 1\n",
      "произв количество плавок (цел) 1\n",
      "расход газ Ar 5548\n",
      "сыпуч известь РП 441\n",
      "сыпуч кокс пыль УСТК 306\n",
      "сыпуч  кокс. мелочь КМ1 652\n",
      "сыпуч  шпат плав. 177\n",
      "ферспл CaC2 6\n",
      "ферспл  FeV-80 650\n",
      "ферспл  Mn5Si65Al0.5 368\n",
      "ферспл SiMn18 497\n",
      "ферспл  фх850А 370\n",
      "эл. энергия 3132\n",
      "химсталь первый Al_1 6\n",
      "химсталь первый C_1 417\n",
      "химсталь первый Cr_1 371\n",
      "химсталь первый Cu_1 101\n",
      "химсталь первый Mn_1 404\n",
      "химсталь первый Mo_1 24\n",
      "химсталь первый N_1 18\n",
      "химсталь первый Ni_1 115\n",
      "химсталь первый P_1 18\n",
      "химсталь первый S_1 34\n",
      "химсталь первый Si_1 384\n",
      "химсталь первый Ti_1 7\n",
      "химсталь первый V_1 28\n",
      "химсталь последний Al 20\n",
      "химсталь последний C 226\n",
      "химсталь последний Ca 32\n",
      "химсталь последний Cr 206\n",
      "химсталь последний Cu 100\n",
      "химсталь последний Mn 261\n",
      "химсталь последний Mo 24\n",
      "химсталь последний N 17\n",
      "химсталь последний Ni 112\n",
      "химсталь последний P 19\n",
      "химсталь последний S 27\n",
      "химсталь последний Si 256\n",
      "химсталь последний Ti 5\n",
      "химсталь последний V 54\n",
      "химшлак первый Al2O3_1 73\n",
      "химшлак первый CaO_1 298\n",
      "химшлак первый FeO_1 54\n",
      "химшлак первый MgO_1 236\n",
      "химшлак первый MnO_1 152\n",
      "химшлак первый R_1 32\n",
      "химшлак первый SiO2_1 149\n",
      "химшлак последний Al2O3 70\n",
      "химшлак последний CaO 229\n",
      "химшлак последний FeO 16\n",
      "химшлак последний MgO 192\n",
      "химшлак последний MnO 61\n",
      "химшлак последний R 16\n",
      "химшлак последний SiO2 116\n",
      "(7041, 70)\n"
     ],
     "output_type": "stream"
    }
   ],
   "source": [
    "# Убираем столбцы с одним значением и со 100% уникальностью\n",
    "exclude_columns = []\n",
    "for column in df.columns:\n",
    "    nunique = df[column].nunique()\n",
    "    print(column, nunique)\n",
    "    if nunique == 1 or nunique == len(df):\n",
    "        exclude_columns.append(column)\n",
    "\n",
    "df = df.drop(columns=exclude_columns)\n",
    "print(\"Убраны столбцы:\", exclude_columns)\n",
    "print(df.shape)"
   ],
   "metadata": {
    "collapsed": false,
    "pycharm": {
     "name": "#%%\n",
     "is_executing": false
    }
   }
  },
  {
   "cell_type": "code",
   "execution_count": 293,
   "outputs": [
    {
     "name": "stdout",
     "text": [
      "(6443, 70)\n"
     ],
     "output_type": "stream"
    }
   ],
   "source": [
    "# Удаление строк с NaN > 33%\n",
    "row_indexes_to_exclude = []\n",
    "\n",
    "number_of_columns_in_dataframe = len(df.columns)\n",
    "for index, row in df.iterrows():\n",
    "    NaN_count = row.isna().sum()\n",
    "    if NaN_count > number_of_columns_in_dataframe*(1/3):\n",
    "        row_indexes_to_exclude.append(index)\n",
    "\n",
    "df = df.drop(df.index[row_indexes_to_exclude])\n",
    "print(df.shape)"
   ],
   "metadata": {
    "collapsed": false,
    "pycharm": {
     "name": "#%%\n",
     "is_executing": false
    }
   }
  },
  {
   "cell_type": "code",
   "execution_count": 294,
   "outputs": [
    {
     "name": "stdout",
     "text": [
      "t вып-обр 26.48967872109266\n",
      "t обработка 46.198628150815345\n",
      "t под током 21.01052277470497\n",
      "t продувка 46.067556521356515\n",
      "ПСН гр. 3.0044144825681083\n",
      "чист расход C 0.403087871934732\n",
      "чист расход Cr 0.11769215213326534\n",
      "чист расход Mn 0.13906832475509254\n",
      "чист расход Si 0.13056103560877003\n",
      "чист расход V 0.05136576458400777\n",
      "температура первая 1567.7717526413921\n",
      "температура последняя 1587.9738968303293\n",
      "Ar (интенс.) 11.59433169218677\n",
      "эл. энергия (интенс.) 12989.038791407158\n",
      "произв жидкая сталь 114.40460965446219\n",
      "произв количество обработок 1.009002017693621\n",
      "расход газ Ar 15.452724046723738\n",
      "сыпуч известь РП 0.1321788260167715\n",
      "сыпуч кокс пыль УСТК 0.06670647810650888\n",
      "сыпуч  кокс. мелочь КМ1 0.42016204219121617\n",
      "сыпуч  шпат плав. 0.05472961086294416\n",
      "ферспл CaC2 0.020086483119795\n",
      "ферспл  FeV-80 0.06136827366887846\n",
      "ферспл  Mn5Si65Al0.5 0.14343640629687499\n",
      "ферспл SiMn18 0.2155398562988434\n",
      "ферспл  фх850А 0.2080389257861635\n",
      "эл. энергия 4557.236180124223\n",
      "химсталь первый Al_1 0.0017822442961353414\n",
      "химсталь первый C_1 0.4661747633090176\n",
      "химсталь первый Cr_1 0.2732793729629055\n",
      "химсталь первый Cu_1 0.10199922396399194\n",
      "химсталь первый Mn_1 0.6722730094676392\n",
      "химсталь первый Mo_1 0.007048742626513506\n",
      "химсталь первый N_1 0.009971282210493638\n",
      "химсталь первый Ni_1 0.0709989135495887\n",
      "химсталь первый P_1 0.009107403383516996\n",
      "химсталь первый S_1 0.020018469656992083\n",
      "химсталь первый Si_1 0.42589306223808787\n",
      "химсталь первый Ti_1 0.001661958714884371\n",
      "химсталь первый V_1 0.0027701381344094364\n",
      "химсталь последний Al 0.0031817476330901766\n",
      "химсталь последний C 0.7815713177091418\n",
      "химсталь последний Ca 0.0003191700176934213\n",
      "химсталь последний Cr 0.36348222877541514\n",
      "химсталь последний Cu 0.1016897408039733\n",
      "химсталь последний Mn 0.7944418749029954\n",
      "химсталь последний Mo 0.006254539810647214\n",
      "химсталь последний N 0.012445893494798944\n",
      "химсталь последний Ni 0.07151792643178644\n",
      "химсталь последний P 0.010057581871798851\n",
      "химсталь последний S 0.015013968648145278\n",
      "химсталь последний Si 0.5371679341921465\n",
      "химсталь последний Ti 0.002902374670184697\n",
      "химсталь последний V 0.045447307155052005\n",
      "химшлак первый Al2O3_1 4.113897089835512\n",
      "химшлак первый CaO_1 54.52758031972683\n",
      "химшлак первый FeO_1 0.7057892286202081\n",
      "химшлак первый MgO_1 11.654796647004037\n",
      "химшлак первый MnO_1 0.22939003569765637\n",
      "химшлак первый R_1 2.4149619742356045\n",
      "химшлак первый SiO2_1 22.70491353859131\n",
      "химшлак последний Al2O3 4.597912273302405\n",
      "химшлак последний CaO 56.38312897718454\n",
      "химшлак последний FeO 0.5857364581716591\n",
      "химшлак последний MgO 9.061440546414156\n",
      "химшлак последний MnO 0.12378860779140155\n",
      "химшлак последний R 2.3614496352630763\n",
      "химшлак последний SiO2 23.971699704765918\n",
      "(6443, 70)\n"
     ],
     "output_type": "stream"
    }
   ],
   "source": [
    "# Заполняем NaN'ы средними\n",
    "\n",
    "for column in df.columns:\n",
    "    if column in ['МАРКА', 'ПРОФИЛЬ']:\n",
    "        continue\n",
    "    print(column, df[column].mean())\n",
    "    df[column].fillna(df[column].mean(), inplace=True)\n",
    "print(df.shape)\n"
   ],
   "metadata": {
    "collapsed": false,
    "pycharm": {
     "name": "#%%    \n",
     "is_executing": false
    }
   }
  },
  {
   "cell_type": "code",
   "execution_count": 295,
   "outputs": [
    {
     "name": "stdout",
     "text": [
      "(6187, 70)\n"
     ],
     "output_type": "stream"
    }
   ],
   "source": [
    "# Удаленние выбросов\n",
    "isfor = IsolationForest()\n",
    "temp_df = df.drop(columns=['МАРКА', 'ПРОФИЛЬ'])\n",
    "isfor.fit(temp_df)\n",
    "isfor_pred = isfor.predict(temp_df)\n",
    "df = df[isfor_pred==1]\n",
    "print(df.shape)\n"
   ],
   "metadata": {
    "collapsed": false,
    "pycharm": {
     "name": "#%%\n",
     "is_executing": false
    }
   }
  },
  {
   "cell_type": "code",
   "execution_count": 296,
   "outputs": [
    {
     "data": {
      "text/plain": "   МАРКА ПРОФИЛЬ  t вып-обр  t обработка  t под током  t продувка   ПСН гр.  \\\n0  Э76ХФ     Р65       29.0    45.366667    24.400000   41.033333  3.004414   \n1  Э76ХФ     Р65       26.0    44.066667    13.866667   44.066667  3.004414   \n2  Э76ХФ     Р65       24.0    43.350000    17.950000   43.350000  3.004414   \n3  Э76ХФ     Р65       17.0    46.183333    19.816667   46.183333  3.004414   \n4  Э76ХФ     Р65       20.0    48.500000    17.033333   48.500000  3.004414   \n\n   чист расход C  чист расход Cr  чист расход Mn  ...  химшлак первый MnO_1  \\\n0       0.456460        0.059572        0.117446  ...                  0.12   \n1       0.359285        0.083738        0.160923  ...                  0.14   \n2       0.331665        0.081490        0.132332  ...                  0.12   \n3       0.377945        0.133194        0.221605  ...                  0.11   \n4       0.389875        0.105094        0.169459  ...                  0.12   \n\n   химшлак первый R_1  химшлак первый SiO2_1  химшлак последний Al2O3  \\\n0                 2.6              22.704914                 4.597912   \n1                 2.2              22.704914                 4.597912   \n2                 2.6              22.704914                 4.597912   \n3                 2.4              22.704914                 4.597912   \n4                 2.4              22.704914                 4.597912   \n\n   химшлак последний CaO  химшлак последний FeO  химшлак последний MgO  \\\n0                   53.4                    1.0                    5.8   \n1                   59.3                    0.6                    4.1   \n2                   57.2                    0.5                    8.1   \n3                   60.3                    0.5                    6.3   \n4                   60.3                    0.6                    4.5   \n\n   химшлак последний MnO  химшлак последний R  химшлак последний SiO2  \n0                   0.15                  2.6                 23.9717  \n1                   0.11                  2.3                 23.9717  \n2                   0.13                  2.3                 23.9717  \n3                   0.12                  2.6                 23.9717  \n4                   0.09                  2.5                 23.9717  \n\n[5 rows x 70 columns]",
      "text/html": "<div>\n<style scoped>\n    .dataframe tbody tr th:only-of-type {\n        vertical-align: middle;\n    }\n\n    .dataframe tbody tr th {\n        vertical-align: top;\n    }\n\n    .dataframe thead th {\n        text-align: right;\n    }\n</style>\n<table border=\"1\" class=\"dataframe\">\n  <thead>\n    <tr style=\"text-align: right;\">\n      <th></th>\n      <th>МАРКА</th>\n      <th>ПРОФИЛЬ</th>\n      <th>t вып-обр</th>\n      <th>t обработка</th>\n      <th>t под током</th>\n      <th>t продувка</th>\n      <th>ПСН гр.</th>\n      <th>чист расход C</th>\n      <th>чист расход Cr</th>\n      <th>чист расход Mn</th>\n      <th>...</th>\n      <th>химшлак первый MnO_1</th>\n      <th>химшлак первый R_1</th>\n      <th>химшлак первый SiO2_1</th>\n      <th>химшлак последний Al2O3</th>\n      <th>химшлак последний CaO</th>\n      <th>химшлак последний FeO</th>\n      <th>химшлак последний MgO</th>\n      <th>химшлак последний MnO</th>\n      <th>химшлак последний R</th>\n      <th>химшлак последний SiO2</th>\n    </tr>\n  </thead>\n  <tbody>\n    <tr>\n      <th>0</th>\n      <td>Э76ХФ</td>\n      <td>Р65</td>\n      <td>29.0</td>\n      <td>45.366667</td>\n      <td>24.400000</td>\n      <td>41.033333</td>\n      <td>3.004414</td>\n      <td>0.456460</td>\n      <td>0.059572</td>\n      <td>0.117446</td>\n      <td>...</td>\n      <td>0.12</td>\n      <td>2.6</td>\n      <td>22.704914</td>\n      <td>4.597912</td>\n      <td>53.4</td>\n      <td>1.0</td>\n      <td>5.8</td>\n      <td>0.15</td>\n      <td>2.6</td>\n      <td>23.9717</td>\n    </tr>\n    <tr>\n      <th>1</th>\n      <td>Э76ХФ</td>\n      <td>Р65</td>\n      <td>26.0</td>\n      <td>44.066667</td>\n      <td>13.866667</td>\n      <td>44.066667</td>\n      <td>3.004414</td>\n      <td>0.359285</td>\n      <td>0.083738</td>\n      <td>0.160923</td>\n      <td>...</td>\n      <td>0.14</td>\n      <td>2.2</td>\n      <td>22.704914</td>\n      <td>4.597912</td>\n      <td>59.3</td>\n      <td>0.6</td>\n      <td>4.1</td>\n      <td>0.11</td>\n      <td>2.3</td>\n      <td>23.9717</td>\n    </tr>\n    <tr>\n      <th>2</th>\n      <td>Э76ХФ</td>\n      <td>Р65</td>\n      <td>24.0</td>\n      <td>43.350000</td>\n      <td>17.950000</td>\n      <td>43.350000</td>\n      <td>3.004414</td>\n      <td>0.331665</td>\n      <td>0.081490</td>\n      <td>0.132332</td>\n      <td>...</td>\n      <td>0.12</td>\n      <td>2.6</td>\n      <td>22.704914</td>\n      <td>4.597912</td>\n      <td>57.2</td>\n      <td>0.5</td>\n      <td>8.1</td>\n      <td>0.13</td>\n      <td>2.3</td>\n      <td>23.9717</td>\n    </tr>\n    <tr>\n      <th>3</th>\n      <td>Э76ХФ</td>\n      <td>Р65</td>\n      <td>17.0</td>\n      <td>46.183333</td>\n      <td>19.816667</td>\n      <td>46.183333</td>\n      <td>3.004414</td>\n      <td>0.377945</td>\n      <td>0.133194</td>\n      <td>0.221605</td>\n      <td>...</td>\n      <td>0.11</td>\n      <td>2.4</td>\n      <td>22.704914</td>\n      <td>4.597912</td>\n      <td>60.3</td>\n      <td>0.5</td>\n      <td>6.3</td>\n      <td>0.12</td>\n      <td>2.6</td>\n      <td>23.9717</td>\n    </tr>\n    <tr>\n      <th>4</th>\n      <td>Э76ХФ</td>\n      <td>Р65</td>\n      <td>20.0</td>\n      <td>48.500000</td>\n      <td>17.033333</td>\n      <td>48.500000</td>\n      <td>3.004414</td>\n      <td>0.389875</td>\n      <td>0.105094</td>\n      <td>0.169459</td>\n      <td>...</td>\n      <td>0.12</td>\n      <td>2.4</td>\n      <td>22.704914</td>\n      <td>4.597912</td>\n      <td>60.3</td>\n      <td>0.6</td>\n      <td>4.5</td>\n      <td>0.09</td>\n      <td>2.5</td>\n      <td>23.9717</td>\n    </tr>\n  </tbody>\n</table>\n<p>5 rows × 70 columns</p>\n</div>"
     },
     "metadata": {},
     "output_type": "execute_result",
     "execution_count": 296
    }
   ],
   "source": [
    "df.head()"
   ],
   "metadata": {
    "collapsed": false,
    "pycharm": {
     "name": "#%%\n",
     "is_executing": false
    }
   }
  },
  {
   "cell_type": "code",
   "execution_count": 297,
   "outputs": [
    {
     "name": "stdout",
     "text": [
      "(6187, 61)\n",
      "(6187, 7)\n"
     ],
     "output_type": "stream"
    }
   ],
   "source": [
    "# Отделяем y\n",
    "\n",
    "y_cols = ['химшлак последний Al2O3', 'химшлак последний CaO', \n",
    "          'химшлак последний FeO', 'химшлак последний MgO',\n",
    "          'химшлак последний MnO', 'химшлак последний R',\n",
    "          'химшлак последний SiO2']\n",
    "\n",
    "X = df.drop(columns=y_cols)\n",
    "X = X.drop(columns=['МАРКА', 'ПРОФИЛЬ'])\n",
    "# X = pd.get_dummies(X) # Кодирование категориальных данных\n",
    "y = df.filter(y_cols)\n",
    "\n",
    "print(X.shape)\n",
    "print(y.shape)"
   ],
   "metadata": {
    "collapsed": false,
    "pycharm": {
     "name": "#%%\n",
     "is_executing": false
    }
   }
  },
  {
   "cell_type": "code",
   "execution_count": 298,
   "outputs": [],
   "source": [
    "# # Удаление выбросов по y \n",
    "# isfor = IsolationForest()\n",
    "# isfor.fit(y)\n",
    "# isfor_pred = isfor.predict(y)\n",
    "# print('Осталось объектов:', sum(isfor_pred[isfor_pred==1])/y.shape[0] * 100)\n",
    "# y = y[isfor_pred==1]\n",
    "# X = X[isfor_pred==1]\n",
    "# print(X.shape, y.shape)\n",
    "\n",
    "# pca = PCA(n_components=3)\n",
    "# pca_y = pca.fit_transform(y)\n",
    "# plt.scatter(pca_y[:,0], pca_y[:,1], pca_y[:,2])"
   ],
   "metadata": {
    "collapsed": false,
    "pycharm": {
     "name": "#%%\n",
     "is_executing": false
    }
   }
  },
  {
   "cell_type": "code",
   "execution_count": 299,
   "outputs": [
    {
     "data": {
      "text/plain": "       химшлак последний Al2O3  химшлак последний CaO  химшлак последний FeO  \\\ncount              6187.000000             6187.00000            6187.000000   \nmean                  4.594101               56.43092               0.583999   \nstd                   0.807886                3.76178               0.211248   \nmin                   2.400000               35.90000               0.100000   \n25%                   4.100000               54.30000               0.400000   \n50%                   4.597912               56.80000               0.600000   \n75%                   4.900000               58.80000               0.700000   \nmax                  14.200000               67.50000               2.300000   \n\n       химшлак последний MgO  химшлак последний MnO  химшлак последний R  \\\ncount            6187.000000            6187.000000          6187.000000   \nmean                8.998248               0.120829             2.364025   \nstd                 3.135499               0.058708             0.224069   \nmin                 0.300000               0.040000             1.700000   \n25%                 6.700000               0.080000             2.200000   \n50%                 8.900000               0.110000             2.300000   \n75%                11.200000               0.140000             2.500000   \nmax                32.400000               1.450000             3.100000   \n\n       химшлак последний SiO2  \ncount             6187.000000  \nmean                23.960980  \nstd                  1.880035  \nmin                 16.400000  \n25%                 22.700000  \n50%                 23.971700  \n75%                 25.500000  \nmax                 28.600000  ",
      "text/html": "<div>\n<style scoped>\n    .dataframe tbody tr th:only-of-type {\n        vertical-align: middle;\n    }\n\n    .dataframe tbody tr th {\n        vertical-align: top;\n    }\n\n    .dataframe thead th {\n        text-align: right;\n    }\n</style>\n<table border=\"1\" class=\"dataframe\">\n  <thead>\n    <tr style=\"text-align: right;\">\n      <th></th>\n      <th>химшлак последний Al2O3</th>\n      <th>химшлак последний CaO</th>\n      <th>химшлак последний FeO</th>\n      <th>химшлак последний MgO</th>\n      <th>химшлак последний MnO</th>\n      <th>химшлак последний R</th>\n      <th>химшлак последний SiO2</th>\n    </tr>\n  </thead>\n  <tbody>\n    <tr>\n      <th>count</th>\n      <td>6187.000000</td>\n      <td>6187.00000</td>\n      <td>6187.000000</td>\n      <td>6187.000000</td>\n      <td>6187.000000</td>\n      <td>6187.000000</td>\n      <td>6187.000000</td>\n    </tr>\n    <tr>\n      <th>mean</th>\n      <td>4.594101</td>\n      <td>56.43092</td>\n      <td>0.583999</td>\n      <td>8.998248</td>\n      <td>0.120829</td>\n      <td>2.364025</td>\n      <td>23.960980</td>\n    </tr>\n    <tr>\n      <th>std</th>\n      <td>0.807886</td>\n      <td>3.76178</td>\n      <td>0.211248</td>\n      <td>3.135499</td>\n      <td>0.058708</td>\n      <td>0.224069</td>\n      <td>1.880035</td>\n    </tr>\n    <tr>\n      <th>min</th>\n      <td>2.400000</td>\n      <td>35.90000</td>\n      <td>0.100000</td>\n      <td>0.300000</td>\n      <td>0.040000</td>\n      <td>1.700000</td>\n      <td>16.400000</td>\n    </tr>\n    <tr>\n      <th>25%</th>\n      <td>4.100000</td>\n      <td>54.30000</td>\n      <td>0.400000</td>\n      <td>6.700000</td>\n      <td>0.080000</td>\n      <td>2.200000</td>\n      <td>22.700000</td>\n    </tr>\n    <tr>\n      <th>50%</th>\n      <td>4.597912</td>\n      <td>56.80000</td>\n      <td>0.600000</td>\n      <td>8.900000</td>\n      <td>0.110000</td>\n      <td>2.300000</td>\n      <td>23.971700</td>\n    </tr>\n    <tr>\n      <th>75%</th>\n      <td>4.900000</td>\n      <td>58.80000</td>\n      <td>0.700000</td>\n      <td>11.200000</td>\n      <td>0.140000</td>\n      <td>2.500000</td>\n      <td>25.500000</td>\n    </tr>\n    <tr>\n      <th>max</th>\n      <td>14.200000</td>\n      <td>67.50000</td>\n      <td>2.300000</td>\n      <td>32.400000</td>\n      <td>1.450000</td>\n      <td>3.100000</td>\n      <td>28.600000</td>\n    </tr>\n  </tbody>\n</table>\n</div>"
     },
     "metadata": {},
     "output_type": "execute_result",
     "execution_count": 299
    }
   ],
   "source": [
    "y.describe()"
   ],
   "metadata": {
    "collapsed": false,
    "pycharm": {
     "name": "#%%\n",
     "is_executing": false
    }
   }
  },
  {
   "cell_type": "code",
   "execution_count": 300,
   "outputs": [
    {
     "data": {
      "text/plain": "(0.0, 1.0, 0.0, 1.0)"
     },
     "metadata": {},
     "output_type": "execute_result",
     "execution_count": 300
    },
    {
     "data": {
      "text/plain": "<Figure size 1440x720 with 8 Axes>",
      "image/png": "[encoded data removed]"
     },
     "metadata": {
      "needs_background": "light"
     },
     "output_type": "display_data"
    }
   ],
   "source": [
    "fig, axs = plt.subplots(2, 4, figsize=(20,10))\n",
    "for i in range(len(y_cols)):\n",
    "    axs[i%2, i//2].hist(y[y_cols[i]])\n",
    "    axs[i%2, i//2].set_title([y_cols[i]])\n",
    "axs[-1,-1].axis('off')"
   ],
   "metadata": {
    "collapsed": false,
    "pycharm": {
     "name": "#%%\n",
     "is_executing": false
    }
   }
  },
  {
   "cell_type": "code",
   "execution_count": 301,
   "outputs": [],
   "source": [
    "X.to_csv('X.csv')\n",
    "y.to_csv('y.csv')\n"
   ],
   "metadata": {
    "collapsed": false,
    "pycharm": {
     "name": "#%%\n",
     "is_executing": false
    }
   }
  }
 ],
 "metadata": {
  "kernelspec": {
   "display_name": "Python 3",
   "language": "python",
   "name": "python3"
  },
  "language_info": {
   "codemirror_mode": {
    "name": "ipython",
    "version": 2
   },
   "file_extension": ".py",
   "mimetype": "text/x-python",
   "name": "python",
   "nbconvert_exporter": "python",
   "pygments_lexer": "ipython2",
   "version": "2.7.6"
  },
  "pycharm": {
   "stem_cell": {
    "cell_type": "raw",
    "source": [],
    "metadata": {
     "collapsed": false
    }
   }
  }
 },
 "nbformat": 4,
 "nbformat_minor": 0
}