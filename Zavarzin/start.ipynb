{
 "cells": [
  {
   "cell_type": "code",
   "execution_count": 10,
   "metadata": {
    "collapsed": true,
    "pycharm": {
     "is_executing": false
    }
   },
   "outputs": [],
   "source": [
    "import pandas as pd\n",
    "from matplotlib import pyplot as plt "
   ]
  },
  {
   "cell_type": "code",
   "execution_count": 31,
   "outputs": [
    {
     "data": {
      "text/plain": "Index(['Unnamed: 0', 'nplv', 'DT', 'МАРКА', 'ПРОФИЛЬ', 't вып-обр',\n       't обработка', 't под током', 't продувка', 'ПСН гр.', 'чист расход C',\n       'чист расход Cr', 'чист расход Mn', 'чист расход Si', 'чист расход V',\n       'температура первая', 'температура последняя', 'Ar (интенс.)',\n       'N2 (интенс.)', 'эл. энергия (интенс.)', 'произв жидкая сталь',\n       'произв количество обработок', 'произв  количество плавок',\n       'произв количество плавок (цел)', 'расход газ Ar', 'расход газ  N2',\n       'расход C пров.', 'сыпуч известь РП', 'сыпуч кварцит',\n       'сыпуч кокс пыль УСТК', 'сыпуч  кокс. мелочь (сух.)',\n       'сыпуч  кокс. мелочь КМ1', 'сыпуч  шпат плав.', 'ферспл CaC2',\n       'ферспл FeMo', 'ферспл FeSi-75', 'ферспл FeV азот.', 'ферспл  FeV-80',\n       'ферспл  Mn5Si65Al0.5', 'ферспл  Ni H1 пласт.', 'ферспл SiMn18',\n       'ферспл  ферванит', 'ферспл  фх850А', 'эл. энергия',\n       'химсталь первый Al_1', 'химсталь первый C_1', 'химсталь первый Cr_1',\n       'химсталь первый Cu_1', 'химсталь первый Mn_1', 'химсталь первый Mo_1',\n       'химсталь первый N_1', 'химсталь первый Ni_1', 'химсталь первый P_1',\n       'химсталь первый S_1', 'химсталь первый Si_1', 'химсталь первый Ti_1',\n       'химсталь первый V_1', 'химсталь последний Al', 'химсталь последний C',\n       'химсталь последний Ca', 'химсталь последний Cr',\n       'химсталь последний Cu', 'химсталь последний Mn',\n       'химсталь последний Mo', 'химсталь последний N',\n       'химсталь последний Ni', 'химсталь последний P', 'химсталь последний S',\n       'химсталь последний Si', 'химсталь последний Ti',\n       'химсталь последний V', 'химшлак первый Al2O3_1',\n       'химшлак первый CaO_1', 'химшлак первый FeO_1', 'химшлак первый MgO_1',\n       'химшлак первый MnO_1', 'химшлак первый R_1', 'химшлак первый SiO2_1',\n       'химшлак последний Al2O3', 'химшлак последний CaO',\n       'химшлак последний FeO', 'химшлак последний MgO',\n       'химшлак последний MnO', 'химшлак последний R',\n       'химшлак последний SiO2'],\n      dtype='object')"
     },
     "metadata": {},
     "output_type": "execute_result",
     "execution_count": 31
    }
   ],
   "source": [
    "ds = pd.read_csv('evraz_data.csv', sep=';')\n",
    "ds.columns"
   ],
   "metadata": {
    "collapsed": false,
    "pycharm": {
     "name": "#%%\n",
     "is_executing": false
    }
   }
  },
  {
   "cell_type": "code",
   "execution_count": 32,
   "outputs": [
    {
     "name": "stdout",
     "text": [
      "N2 (интенс.) 5652\n",
      "расход газ  N2 5652\n",
      "расход C пров. 6317\n",
      "сыпуч кварцит 7028\n",
      "сыпуч  кокс. мелочь (сух.) 7034\n",
      "ферспл FeMo 7008\n",
      "ферспл FeSi-75 7036\n",
      "ферспл FeV азот. 6658\n",
      "ферспл  Ni H1 пласт. 6959\n",
      "ферспл  ферванит 6024\n"
     ],
     "output_type": "stream"
    }
   ],
   "source": [
    "# Убираем столбцы с NaN > 33%\n",
    "\n",
    "exclude_columns = []\n",
    "for column in ds.columns:\n",
    "    nas = ds[column].isna().sum()\n",
    "    if nas > len(ds)//3:\n",
    "        print(column, nas)\n",
    "        exclude_columns.append(column)\n",
    "    \n",
    "ds = ds.drop(columns=exclude_columns)"
   ],
   "metadata": {
    "collapsed": false,
    "pycharm": {
     "name": "#%%\n",
     "is_executing": false
    }
   }
  }
 ],
 "metadata": {
  "kernelspec": {
   "display_name": "Python 3",
   "language": "python",
   "name": "python3"
  },
  "language_info": {
   "codemirror_mode": {
    "name": "ipython",
    "version": 2
   },
   "file_extension": ".py",
   "mimetype": "text/x-python",
   "name": "python",
   "nbconvert_exporter": "python",
   "pygments_lexer": "ipython2",
   "version": "2.7.6"
  },
  "pycharm": {
   "stem_cell": {
    "cell_type": "raw",
    "source": [],
    "metadata": {
     "collapsed": false
    }
   }
  }
 },
 "nbformat": 4,
 "nbformat_minor": 0
}