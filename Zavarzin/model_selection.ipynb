{
 "cells": [
  {
   "cell_type": "code",
   "execution_count": 40,
   "metadata": {
    "collapsed": true
   },
   "outputs": [
    {
     "name": "stderr",
     "output_type": "stream",
     "text": [
      "  0%|          | 0/7 [4:30:13<?, ?it/s]\n",
      " 43%|████▎     | 3/7 [4:28:39<5:58:12, 5373.14s/it]\n",
      "  0%|          | 0/7 [4:19:00<?, ?it/s]\n"
     ]
    }
   ],
   "source": [
    "import numpy as np\n",
    "import pandas as pd\n",
    "from seaborn import heatmap\n",
    "from tqdm import tqdm\n",
    "from sklearn.linear_model import LinearRegression\n",
    "from sklearn.ensemble import GradientBoostingRegressor, RandomForestRegressor\n",
    "from sklearn.metrics import mean_absolute_percentage_error, make_scorer\n",
    "from sklearn.model_selection import cross_val_score"
   ]
  },
  {
   "cell_type": "code",
   "execution_count": 41,
   "outputs": [
    {
     "name": "stdout",
     "output_type": "stream",
     "text": [
      "X: (6285, 53)\n",
      "y (6285, 7)\n"
     ]
    }
   ],
   "source": [
    "df = pd.read_csv('dataset_ZavarzinE_(baseline).csv', index_col=False)\n",
    "y_cols = ['химшлак последний Al2O3', 'химшлак последний CaO', \n",
    "          'химшлак последний FeO', 'химшлак последний MgO',\n",
    "          'химшлак последний MnO', 'химшлак последний R',\n",
    "          'химшлак последний SiO2']\n",
    "X = df.drop(columns=y_cols)\n",
    "y = df.filter(y_cols)\n",
    "del df\n",
    "print('X:', X.shape)\n",
    "print('y', y.shape)"
   ],
   "metadata": {
    "collapsed": false,
    "pycharm": {
     "name": "#%%\n"
    }
   }
  },
  {
   "cell_type": "code",
   "execution_count": 43,
   "outputs": [
    {
     "data": {
      "text/plain": "<AxesSubplot:>"
     },
     "execution_count": 43,
     "metadata": {},
     "output_type": "execute_result"
    },
    {
     "data": {
      "text/plain": "<Figure size 432x288 with 2 Axes>",
      "image/png": "[encoded data removed]"
     },
     "metadata": {
      "needs_background": "light"
     },
     "output_type": "display_data"
    }
   ],
   "source": [
    "cov = np.corrcoef(y.transpose())\n",
    "heatmap(cov)"
   ],
   "metadata": {
    "collapsed": false,
    "pycharm": {
     "name": "#%%\n"
    }
   }
  },
  {
   "cell_type": "code",
   "execution_count": 35,
   "outputs": [],
   "source": [
    "mape_scorer = make_scorer(mean_absolute_percentage_error)\n",
    "report = []\n",
    "def check_model(estimator, name):\n",
    "    results = {y_col: cross_val_score(estimator, X, y[y_col], cv=10, n_jobs=-1,\n",
    "                           scoring=mape_scorer).mean() for y_col in tqdm(y_cols) }\n",
    "    report.append([name] + list(results.values()))\n",
    "    return results"
   ],
   "metadata": {
    "collapsed": false,
    "pycharm": {
     "name": "#%%\n"
    }
   }
  },
  {
   "cell_type": "code",
   "execution_count": 36,
   "outputs": [
    {
     "name": "stderr",
     "output_type": "stream",
     "text": [
      "\n",
      "\n",
      "\n",
      "  0%|          | 0/7 [00:00<?, ?it/s]\u001B[A\u001B[A\u001B[A\n",
      "\n",
      "\n",
      " 14%|█▍        | 1/7 [00:03<00:22,  3.74s/it]\u001B[A\u001B[A\u001B[A\n",
      "\n",
      "\n",
      " 29%|██▊       | 2/7 [00:04<00:08,  1.77s/it]\u001B[A\u001B[A\u001B[A\n",
      "\n",
      "\n",
      " 43%|████▎     | 3/7 [00:04<00:04,  1.16s/it]\u001B[A\u001B[A\u001B[A\n",
      "\n",
      "\n",
      " 57%|█████▋    | 4/7 [00:04<00:02,  1.15it/s]\u001B[A\u001B[A\u001B[A\n",
      "\n",
      "\n",
      " 71%|███████▏  | 5/7 [00:05<00:01,  1.44it/s]\u001B[A\u001B[A\u001B[A\n",
      "\n",
      "\n",
      " 86%|████████▌ | 6/7 [00:05<00:00,  1.65it/s]\u001B[A\u001B[A\u001B[A\n",
      "\n",
      "\n",
      "100%|██████████| 7/7 [00:06<00:00,  1.12it/s]\u001B[A\u001B[A\u001B[A\n"
     ]
    },
    {
     "data": {
      "text/plain": "{'химшлак последний Al2O3': 0.09115170463041793,\n 'химшлак последний CaO': 0.048195301686282596,\n 'химшлак последний FeO': 0.3515216599509753,\n 'химшлак последний MgO': 0.260390379775653,\n 'химшлак последний MnO': 0.303699709034601,\n 'химшлак последний R': 0.061509893566057336,\n 'химшлак последний SiO2': 0.05637428967169842}"
     },
     "execution_count": 36,
     "metadata": {},
     "output_type": "execute_result"
    }
   ],
   "source": [
    "check_model(LinearRegression(), 'LinearRegression')"
   ],
   "metadata": {
    "collapsed": false,
    "pycharm": {
     "name": "#%%\n"
    }
   }
  },
  {
   "cell_type": "code",
   "execution_count": 37,
   "outputs": [
    {
     "name": "stderr",
     "output_type": "stream",
     "text": [
      "\n",
      "\n",
      "\n",
      "  0%|          | 0/7 [00:00<?, ?it/s]\u001B[A\u001B[A\u001B[A\n",
      "\n",
      "\n",
      " 14%|█▍        | 1/7 [01:11<07:11, 71.90s/it]\u001B[A\u001B[A\u001B[A\n",
      "\n",
      "\n",
      " 29%|██▊       | 2/7 [02:47<07:08, 85.64s/it]\u001B[A\u001B[A\u001B[A\n",
      "\n",
      "\n",
      " 43%|████▎     | 3/7 [04:02<05:24, 81.06s/it]\u001B[A\u001B[A\u001B[A\n",
      "\n",
      "\n",
      " 57%|█████▋    | 4/7 [05:16<03:54, 78.02s/it]\u001B[A\u001B[A\u001B[A\n",
      "\n",
      "\n",
      " 71%|███████▏  | 5/7 [06:39<02:40, 80.09s/it]\u001B[A\u001B[A\u001B[A\n",
      "\n",
      "\n",
      " 86%|████████▌ | 6/7 [07:58<01:19, 79.68s/it]\u001B[A\u001B[A\u001B[A\n",
      "\n",
      "\n",
      "100%|██████████| 7/7 [09:22<00:00, 80.39s/it]\u001B[A\u001B[A\u001B[A\n"
     ]
    },
    {
     "data": {
      "text/plain": "{'химшлак последний Al2O3': 0.08605089803275737,\n 'химшлак последний CaO': 0.04852707614271097,\n 'химшлак последний FeO': 0.3576870903211999,\n 'химшлак последний MgO': 0.26545421145048154,\n 'химшлак последний MnO': 0.3330290697279782,\n 'химшлак последний R': 0.061186507742516626,\n 'химшлак последний SiO2': 0.05397385987445581}"
     },
     "execution_count": 37,
     "metadata": {},
     "output_type": "execute_result"
    }
   ],
   "source": [
    "check_model(RandomForestRegressor(), 'RandomForestRegressor')"
   ],
   "metadata": {
    "collapsed": false,
    "pycharm": {
     "name": "#%%\n"
    }
   }
  },
  {
   "cell_type": "code",
   "execution_count": 38,
   "outputs": [
    {
     "name": "stderr",
     "output_type": "stream",
     "text": [
      "\n",
      "\n",
      "\n",
      "  0%|          | 0/7 [00:00<?, ?it/s]\u001B[A\u001B[A\u001B[A\n",
      "\n",
      "\n",
      " 14%|█▍        | 1/7 [00:18<01:51, 18.62s/it]\u001B[A\u001B[A\u001B[A\n",
      "\n",
      "\n",
      " 29%|██▊       | 2/7 [00:36<01:31, 18.23s/it]\u001B[A\u001B[A\u001B[A\n",
      "\n",
      "\n",
      " 43%|████▎     | 3/7 [00:54<01:11, 17.99s/it]\u001B[A\u001B[A\u001B[A\n",
      "\n",
      "\n",
      " 57%|█████▋    | 4/7 [01:11<00:53, 17.80s/it]\u001B[A\u001B[A\u001B[A\n",
      "\n",
      "\n",
      " 71%|███████▏  | 5/7 [01:29<00:35, 17.72s/it]\u001B[A\u001B[A\u001B[A\n",
      "\n",
      "\n",
      " 86%|████████▌ | 6/7 [01:47<00:17, 17.77s/it]\u001B[A\u001B[A\u001B[A\n",
      "\n",
      "\n",
      "100%|██████████| 7/7 [02:05<00:00, 17.87s/it]\u001B[A\u001B[A\u001B[A\n"
     ]
    },
    {
     "data": {
      "text/plain": "{'химшлак последний Al2O3': 0.08845145157139603,\n 'химшлак последний CaO': 0.04836890359303396,\n 'химшлак последний FeO': 0.3533832934996256,\n 'химшлак последний MgO': 0.2646526982653715,\n 'химшлак последний MnO': 0.3166207401765177,\n 'химшлак последний R': 0.05994036216783997,\n 'химшлак последний SiO2': 0.055086861631712614}"
     },
     "execution_count": 38,
     "metadata": {},
     "output_type": "execute_result"
    }
   ],
   "source": [
    "check_model(GradientBoostingRegressor(), 'GradientBoostingRegressor')"
   ],
   "metadata": {
    "collapsed": false,
    "pycharm": {
     "name": "#%%\n"
    }
   }
  },
  {
   "cell_type": "code",
   "execution_count": 39,
   "outputs": [],
   "source": [
    "with open('report.csv', 'w') as report_file:\n",
    "    report_file.writelines(['\\t'.join(map(str, report_line)).replace('.', ',')+'\\n' for report_line in report])"
   ],
   "metadata": {
    "collapsed": false,
    "pycharm": {
     "name": "#%%\n"
    }
   }
  }
 ],
 "metadata": {
  "kernelspec": {
   "display_name": "Python 3",
   "language": "python",
   "name": "python3"
  },
  "language_info": {
   "codemirror_mode": {
    "name": "ipython",
    "version": 2
   },
   "file_extension": ".py",
   "mimetype": "text/x-python",
   "name": "python",
   "nbconvert_exporter": "python",
   "pygments_lexer": "ipython2",
   "version": "2.7.6"
  }
 },
 "nbformat": 4,
 "nbformat_minor": 0
}