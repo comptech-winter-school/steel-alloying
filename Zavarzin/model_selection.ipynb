{
 "cells": [
  {
   "cell_type": "code",
   "execution_count": 59,
   "metadata": {
    "collapsed": true,
    "pycharm": {
     "is_executing": false
    }
   },
   "outputs": [],
   "source": [
    "import pandas as pd\n",
    "from matplotlib import pyplot as plt \n",
    "import numpy as np\n",
    "from sklearn.decomposition import PCA\n",
    "from sklearn.model_selection import train_test_split\n",
    "from sklearn.linear_model import LinearRegression\n",
    "from sklearn.ensemble import GradientBoostingRegressor\n",
    "from sklearn.metrics import r2_score"
   ]
  },
  {
   "cell_type": "code",
   "execution_count": 53,
   "outputs": [],
   "source": [
    "X = pd.read_csv('X.csv')\n",
    "y = pd.read_csv('y.csv')\n",
    "y_cols = ['химшлак последний Al2O3', 'химшлак последний CaO', \n",
    "          'химшлак последний FeO', 'химшлак последний MgO',\n",
    "          'химшлак последний MnO', 'химшлак последний R',\n",
    "          'химшлак последний SiO2']"
   ],
   "metadata": {
    "collapsed": false,
    "pycharm": {
     "name": "#%%\n",
     "is_executing": false
    }
   }
  },
  {
   "cell_type": "code",
   "execution_count": 54,
   "outputs": [],
   "source": [
    "X_train, X_test, y_train, y_test = train_test_split(X, y, test_size=0.33, random_state=42)"
   ],
   "metadata": {
    "collapsed": false,
    "pycharm": {
     "name": "#%%\n",
     "is_executing": false
    }
   }
  },
  {
   "cell_type": "code",
   "execution_count": 55,
   "outputs": [],
   "source": [
    "# Baseline\n",
    "def rmse(predicted, actual):\n",
    "    return ((predicted - actual)**2).mean()**.5"
   ],
   "metadata": {
    "collapsed": false,
    "pycharm": {
     "name": "#%%\n",
     "is_executing": false
    }
   }
  },
  {
   "cell_type": "code",
   "execution_count": 56,
   "outputs": [
    {
     "name": "stdout",
     "text": [
      "химшлак последний Al2O3\t0.6352012902570969\t0.3617130775472134\n",
      "химшлак последний CaO\t3.3254253747884435\t0.20695317602637076\n",
      "химшлак последний FeO\t0.20717680723091225\t0.04242088254257814\n",
      "химшлак последний MgO\t2.4712655744560785\t0.3780046661027511\n",
      "химшлак последний MnO\t0.052379857853267466\t0.19089228280701842\n",
      "химшлак последний R\t0.17687200610513718\t0.3645132994458028\n",
      "химшлак последний SiO2\t1.6727032800733352\t0.1549607321515013\n"
     ],
     "output_type": "stream"
    }
   ],
   "source": [
    "for y_col in y_cols:\n",
    "    lr = LinearRegression()\n",
    "    lr.fit(X_train, y_train[y_col])\n",
    "    y_pred = lr.predict(X_test)\n",
    "    print(f'{y_col}\\t'\n",
    "          f'{rmse(y_pred, y_test[y_col])}\\t'\n",
    "          f'{r2_score(y_test[y_col], y_pred)}')"
   ],
   "metadata": {
    "collapsed": false,
    "pycharm": {
     "name": "#%%\n",
     "is_executing": false
    }
   }
  },
  {
   "cell_type": "code",
   "execution_count": 57,
   "outputs": [
    {
     "name": "stdout",
     "text": [
      "химшлак последний Al2O3\t0.6162134912199249\t0.39930279924719736\n",
      "химшлак последний CaO\t3.2874944061595857\t0.22494153746292267\n",
      "химшлак последний FeO\t0.2062303708306534\t0.05114982926618061\n",
      "химшлак последний MgO\t2.452030611007053\t0.38764951919763624\n",
      "химшлак последний MnO\t0.05538550449956679\t0.09537216968234208\n",
      "химшлак последний R\t0.170803859442823\t0.4073700141571165\n",
      "химшлак последний SiO2\t1.6589802568167384\t0.1687694264641285\n"
     ],
     "output_type": "stream"
    }
   ],
   "source": [
    "for y_col in y_cols:\n",
    "    gb = GradientBoostingRegressor()\n",
    "    gb.fit(X_train, y_train[y_col])\n",
    "    y_pred = gb.predict(X_test)\n",
    "    print(f'{y_col}\\t'\n",
    "          f'{rmse(y_pred, y_test[y_col])}\\t'\n",
    "          f'{r2_score(y_test[y_col], y_pred)}')"
   ],
   "metadata": {
    "collapsed": false,
    "pycharm": {
     "name": "#%%\n",
     "is_executing": false
    }
   }
  },
  {
   "cell_type": "code",
   "execution_count": 66,
   "outputs": [],
   "source": [
    "# pca = PCA(n_components=10)\n",
    "# pca_x = pca.fit_transform(X)\n",
    "# fig, axs = plt.subplots(2, 5, figsize=(20,10))\n",
    "# for i in range(10):\n",
    "#     axs[i%2, i//2].scatter(pca_x[:,i], y[y_cols[0]])\n",
    "#     axs[i%2, i//2].set_title(f'{i}')"
   ],
   "metadata": {
    "collapsed": false,
    "pycharm": {
     "name": "#%%\n",
     "is_executing": false
    }
   }
  }
 ],
 "metadata": {
  "kernelspec": {
   "display_name": "Python 3",
   "language": "python",
   "name": "python3"
  },
  "language_info": {
   "codemirror_mode": {
    "name": "ipython",
    "version": 2
   },
   "file_extension": ".py",
   "mimetype": "text/x-python",
   "name": "python",
   "nbconvert_exporter": "python",
   "pygments_lexer": "ipython2",
   "version": "2.7.6"
  },
  "pycharm": {
   "stem_cell": {
    "cell_type": "raw",
    "source": [],
    "metadata": {
     "collapsed": false
    }
   }
  }
 },
 "nbformat": 4,
 "nbformat_minor": 0
}