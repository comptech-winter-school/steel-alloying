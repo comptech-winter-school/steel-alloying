{
 "cells": [
  {
   "cell_type": "code",
   "execution_count": 168,
   "metadata": {
    "collapsed": true
   },
   "outputs": [],
   "source": [
    "import numpy as np\n",
    "import pandas as pd\n",
    "from seaborn import heatmap\n",
    "from tqdm import tqdm\n",
    "from sklearn.linear_model import LinearRegression\n",
    "from sklearn.ensemble import GradientBoostingRegressor, RandomForestRegressor\n",
    "from sklearn.metrics import mean_absolute_percentage_error, make_scorer, r2_score\n",
    "from sklearn.model_selection import cross_val_score, train_test_split\n",
    "from itertools import chain"
   ]
  },
  {
   "cell_type": "code",
   "execution_count": 148,
   "outputs": [
    {
     "name": "stdout",
     "output_type": "stream",
     "text": [
      "X: (6205, 53)\n",
      "y (6205, 7)\n"
     ]
    }
   ],
   "source": [
    "df = pd.read_csv('dataset_ZavarzinE_filna_by_regression.csv', index_col=False)\n",
    "y_cols = ['химшлак последний Al2O3', 'химшлак последний CaO', \n",
    "          'химшлак последний FeO', 'химшлак последний MgO',\n",
    "          'химшлак последний MnO', 'химшлак последний R',\n",
    "          'химшлак последний SiO2']\n",
    "X = df.drop(columns=y_cols)\n",
    "y = df.filter(y_cols)\n",
    "print('X:', X.shape)\n",
    "print('y', y.shape)\n",
    "X, X_val, y, y_val = train_test_split(X, y, test_size=0.1)\n",
    "del df\n"
   ],
   "metadata": {
    "collapsed": false,
    "pycharm": {
     "name": "#%%\n"
    }
   }
  },
  {
   "cell_type": "code",
   "execution_count": 149,
   "outputs": [
    {
     "data": {
      "text/plain": "<AxesSubplot:>"
     },
     "execution_count": 149,
     "metadata": {},
     "output_type": "execute_result"
    },
    {
     "data": {
      "text/plain": "<Figure size 432x288 with 2 Axes>",
      "image/png": "[encoded data removed]"
     },
     "metadata": {
      "needs_background": "light"
     },
     "output_type": "display_data"
    }
   ],
   "source": [
    "cov = np.corrcoef(y.transpose())\n",
    "heatmap(cov)"
   ],
   "metadata": {
    "collapsed": false,
    "pycharm": {
     "name": "#%%\n"
    }
   }
  },
  {
   "cell_type": "code",
   "execution_count": 150,
   "outputs": [],
   "source": [
    "mape_scorer = make_scorer(mean_absolute_percentage_error)\n",
    "report = []\n",
    "def check_model(estimator, name):\n",
    "    scores = []\n",
    "    for y_col in tqdm(y_cols):\n",
    "        col_scores = []\n",
    "        col_scores.append(\n",
    "            cross_val_score(estimator, X, y[y_col], cv=5, n_jobs=-1, scoring=mape_scorer).mean())\n",
    "        estimator.fit(X, y[y_col])\n",
    "        y_val_pred = estimator.predict(X_val)\n",
    "        col_scores.append(mean_absolute_percentage_error(y_val[y_col], y_val_pred))\n",
    "        col_scores.append(r2_score(y_val[y_col], y_val_pred))\n",
    "        scores.append(col_scores)\n",
    "    report.append([name] + scores)\n",
    "    return scores"
   ],
   "metadata": {
    "collapsed": false,
    "pycharm": {
     "name": "#%%\n"
    }
   }
  },
  {
   "cell_type": "code",
   "execution_count": 151,
   "outputs": [
    {
     "name": "stderr",
     "output_type": "stream",
     "text": [
      "100%|██████████| 7/7 [00:02<00:00,  3.15it/s]\n"
     ]
    },
    {
     "data": {
      "text/plain": "[[0.09508482072745951, 0.09030974394560382, 0.5173425763809476],\n [0.04743365646618504, 0.04583970977090325, 0.22036599047163008],\n [0.3489836975618835, 0.3476423614666538, 0.051482724920888456],\n [0.257631752523961, 0.2547054028946918, 0.40453124179216937],\n [0.29804843007672355, 0.292494128785636, 0.17989471992784256],\n [0.060239510449948644, 0.05831434157629556, 0.36638203681511905],\n [0.06676917410978453, 0.06868813486898871, 0.2044783109090791]]"
     },
     "execution_count": 151,
     "metadata": {},
     "output_type": "execute_result"
    }
   ],
   "source": [
    "check_model(LinearRegression(), 'LinearRegression')"
   ],
   "metadata": {
    "collapsed": false,
    "pycharm": {
     "name": "#%%\n"
    }
   }
  },
  {
   "cell_type": "code",
   "execution_count": 152,
   "outputs": [
    {
     "name": "stderr",
     "output_type": "stream",
     "text": [
      "100%|██████████| 7/7 [06:27<00:00, 55.33s/it]\n"
     ]
    },
    {
     "data": {
      "text/plain": "[[0.09629386075061047, 0.09160717701582739, 0.4817138549501495],\n [0.04734396016190841, 0.045248187773931095, 0.23344813151734678],\n [0.3522002705945384, 0.34987346957032933, 0.048983923516658145],\n [0.26064549787096386, 0.2596897490352466, 0.3921959377987825],\n [0.31979001063944906, 0.33310936941443003, -0.27846223647540325],\n [0.0594679146950024, 0.05796300992669043, 0.36767617688473464],\n [0.06708177103525931, 0.06953815816821567, 0.2044654708357202]]"
     },
     "execution_count": 152,
     "metadata": {},
     "output_type": "execute_result"
    }
   ],
   "source": [
    "check_model(RandomForestRegressor(), 'RandomForestRegressor')"
   ],
   "metadata": {
    "collapsed": false,
    "pycharm": {
     "name": "#%%\n"
    }
   }
  },
  {
   "cell_type": "code",
   "execution_count": 153,
   "outputs": [
    {
     "name": "stderr",
     "output_type": "stream",
     "text": [
      "100%|██████████| 7/7 [01:27<00:00, 12.49s/it]\n"
     ]
    },
    {
     "data": {
      "text/plain": "[[0.09599743503802605, 0.0903433072712041, 0.49973595084695344],\n [0.04737330425703744, 0.045760302587108684, 0.22508184456209535],\n [0.3491697944690907, 0.34957804256005903, 0.0460945615356394],\n [0.25973884287744375, 0.25848398119723326, 0.4027198740199226],\n [0.30631869135417267, 0.31525445975311517, -0.4549159119986166],\n [0.058624841549325554, 0.056923659187327835, 0.3863970182732054],\n [0.06622227443629207, 0.06911423881571324, 0.20293025433128387]]"
     },
     "execution_count": 153,
     "metadata": {},
     "output_type": "execute_result"
    }
   ],
   "source": [
    "check_model(GradientBoostingRegressor(), 'GradientBoostingRegressor')"
   ],
   "metadata": {
    "collapsed": false,
    "pycharm": {
     "name": "#%%\n"
    }
   }
  },
  {
   "cell_type": "code",
   "execution_count": 171,
   "outputs": [],
   "source": [
    "with open('report.csv', 'w') as report_file:\n",
    "    report_file.writelines(['\\t'.join(map(str, [report_line[0]] + list(chain.from_iterable(report_line[1:])))).replace('.', ',')+'\\n' for report_line in report])"
   ],
   "metadata": {
    "collapsed": false,
    "pycharm": {
     "name": "#%%\n"
    }
   }
  },
  {
   "cell_type": "code",
   "execution_count": 155,
   "outputs": [
    {
     "data": {
      "text/plain": "0.16542768904414656"
     },
     "execution_count": 155,
     "metadata": {},
     "output_type": "execute_result"
    }
   ],
   "source": [
    "mean_absolute_percentage_error(y_val, LinearRegression().fit(X, y).predict(X_val))"
   ],
   "metadata": {
    "collapsed": false,
    "pycharm": {
     "name": "#%%\n"
    }
   }
  }
 ],
 "metadata": {
  "kernelspec": {
   "display_name": "Python 3",
   "language": "python",
   "name": "python3"
  },
  "language_info": {
   "codemirror_mode": {
    "name": "ipython",
    "version": 2
   },
   "file_extension": ".py",
   "mimetype": "text/x-python",
   "name": "python",
   "nbconvert_exporter": "python",
   "pygments_lexer": "ipython2",
   "version": "2.7.6"
  }
 },
 "nbformat": 4,
 "nbformat_minor": 0
}