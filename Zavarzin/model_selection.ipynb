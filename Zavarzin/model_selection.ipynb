{
 "cells": [
  {
   "cell_type": "code",
   "execution_count": 1,
   "metadata": {
    "collapsed": true,
    "pycharm": {
     "is_executing": false
    }
   },
   "outputs": [],
   "source": [
    "import pandas as pd\n",
    "from matplotlib import pyplot as plt \n",
    "import numpy as np\n",
    "from sklearn.decomposition import PCA\n",
    "from sklearn.model_selection import train_test_split\n",
    "from sklearn.linear_model import LinearRegression\n",
    "from sklearn.ensemble import GradientBoostingRegressor, RandomForestRegressor\n",
    "from sklearn.metrics import r2_score"
   ]
  },
  {
   "cell_type": "code",
   "execution_count": 2,
   "outputs": [],
   "source": [
    "X = pd.read_csv('X.csv', index_col=False)\n",
    "y = pd.read_csv('y.csv', index_col=False)\n",
    "y_cols = ['химшлак последний Al2O3', 'химшлак последний CaO', \n",
    "          'химшлак последний FeO', 'химшлак последний MgO',\n",
    "          'химшлак последний MnO', 'химшлак последний R',\n",
    "          'химшлак последний SiO2']\n"
   ],
   "metadata": {
    "collapsed": false,
    "pycharm": {
     "name": "#%%\n",
     "is_executing": false
    }
   }
  },
  {
   "cell_type": "code",
   "execution_count": 3,
   "outputs": [],
   "source": [
    "X_train, X_test, y_train, y_test = train_test_split(X, y, test_size=0.33, random_state=42)"
   ],
   "metadata": {
    "collapsed": false,
    "pycharm": {
     "name": "#%%\n",
     "is_executing": false
    }
   }
  },
  {
   "cell_type": "code",
   "execution_count": 4,
   "outputs": [],
   "source": [
    "# Метрика для оценки точности модели\n",
    "def rmse(predicted, actual):\n",
    "    return ((predicted - actual)**2).mean()**.5"
   ],
   "metadata": {
    "collapsed": false,
    "pycharm": {
     "name": "#%%\n",
     "is_executing": false
    }
   }
  },
  {
   "cell_type": "code",
   "execution_count": 5,
   "outputs": [
    {
     "name": "stdout",
     "text": [
      "химшлак последний Al2O3\t0.6046175762933311\t0.45865438822814575\n",
      "химшлак последний CaO\t3.275293240907912\t0.23162021859538573\n",
      "химшлак последний FeO\t0.20628650149465194\t0.04674981723848093\n",
      "химшлак последний MgO\t2.507767009284515\t0.3923286871412077\n",
      "химшлак последний MnO\t0.05195938154303435\t0.18733988975576088\n",
      "химшлак последний R\t0.17437480162076116\t0.3816570392141335\n",
      "химшлак последний SiO2\t1.6416694744389242\t0.18341832648059186\n"
     ],
     "output_type": "stream"
    }
   ],
   "source": [
    "for y_col in y_cols:\n",
    "    lr = LinearRegression()\n",
    "    lr.fit(X_train, y_train[y_col])\n",
    "    y_pred = lr.predict(X_test)\n",
    "    print(f'{y_col}\\t'\n",
    "          f'{rmse(y_pred, y_test[y_col])}\\t'\n",
    "          f'{r2_score(y_test[y_col], y_pred)}')"
   ],
   "metadata": {
    "collapsed": false,
    "pycharm": {
     "name": "#%%\n",
     "is_executing": false
    }
   }
  },
  {
   "cell_type": "code",
   "execution_count": 6,
   "outputs": [
    {
     "name": "stdout",
     "text": [
      "химшлак последний Al2O3\t0.6298729346729558\t0.4124849727429333\n",
      "химшлак последний CaO\t3.2771971423298067\t0.23072665307784412\n",
      "химшлак последний FeO\t0.2061512981278835\t0.04799895760696493\n",
      "химшлак последний MgO\t2.5146779447673713\t0.3889748158717109\n",
      "химшлак последний MnO\t0.053510481589749775\t0.1380963583699104\n",
      "химшлак последний R\t0.1717920499442463\t0.39983855545882774\n",
      "химшлак последний SiO2\t1.6324809984577286\t0.1925336125369963\n"
     ],
     "output_type": "stream"
    }
   ],
   "source": [
    "for y_col in y_cols:\n",
    "    gb = GradientBoostingRegressor()\n",
    "    gb.fit(X_train, y_train[y_col])\n",
    "    y_pred = gb.predict(X_test)\n",
    "    print(f'{y_col}\\t'\n",
    "          f'{rmse(y_pred, y_test[y_col])}\\t'\n",
    "          f'{r2_score(y_test[y_col], y_pred)}')"
   ],
   "metadata": {
    "collapsed": false,
    "pycharm": {
     "name": "#%%\n",
     "is_executing": false
    }
   }
  },
  {
   "cell_type": "code",
   "execution_count": 7,
   "outputs": [
    {
     "name": "stdout",
     "text": [
      "химшлак последний Al2O3\t0.6207573254795108\t0.4293671211998018\n",
      "химшлак последний CaO\t3.3099799443989433\t0.21525912328319619\n",
      "химшлак последний FeO\t0.2056240481029618\t0.05286238264288001\n",
      "химшлак последний MgO\t2.5169375562446596\t0.38787622601872107\n",
      "химшлак последний MnO\t0.055109313424923256\t0.0858215123251379\n",
      "химшлак последний R\t0.17195025780501502\t0.39873263723508345\n",
      "химшлак последний SiO2\t1.6424929957229504\t0.18259886669639003\n"
     ],
     "output_type": "stream"
    }
   ],
   "source": [
    "for y_col in y_cols:\n",
    "    rf = RandomForestRegressor()\n",
    "    rf.fit(X_train, y_train[y_col])\n",
    "    y_pred = rf.predict(X_test)\n",
    "    print(f'{y_col}\\t'\n",
    "          f'{rmse(y_pred, y_test[y_col])}\\t'\n",
    "          f'{r2_score(y_test[y_col], y_pred)}')"
   ],
   "metadata": {
    "collapsed": false,
    "pycharm": {
     "name": "#%%\n",
     "is_executing": false
    }
   }
  },
  {
   "cell_type": "code",
   "execution_count": 8,
   "outputs": [],
   "source": [
    "# pca = PCA(n_components=10)\n",
    "# pca_x = pca.fit_transform(X)\n",
    "# fig, axs = plt.subplots(2, 5, figsize=(20,10))\n",
    "# for i in range(10):\n",
    "#     axs[i%2, i//2].scatter(pca_x[:,i], y[y_cols[0]])\n",
    "#     axs[i%2, i//2].set_title(f'{i}')"
   ],
   "metadata": {
    "collapsed": false,
    "pycharm": {
     "name": "#%%\n",
     "is_executing": false
    }
   }
  }
 ],
 "metadata": {
  "kernelspec": {
   "display_name": "Python 3",
   "language": "python",
   "name": "python3"
  },
  "language_info": {
   "codemirror_mode": {
    "name": "ipython",
    "version": 2
   },
   "file_extension": ".py",
   "mimetype": "text/x-python",
   "name": "python",
   "nbconvert_exporter": "python",
   "pygments_lexer": "ipython2",
   "version": "2.7.6"
  },
  "pycharm": {
   "stem_cell": {
    "cell_type": "raw",
    "source": [],
    "metadata": {
     "collapsed": false
    }
   }
  }
 },
 "nbformat": 4,
 "nbformat_minor": 0
}