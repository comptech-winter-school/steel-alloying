{
 "cells": [
  {
   "cell_type": "code",
   "execution_count": 17,
   "metadata": {
    "collapsed": true,
    "pycharm": {
     "is_executing": false
    }
   },
   "outputs": [],
   "source": [
    "import pandas as pd\n",
    "from matplotlib import pyplot as plt \n",
    "import numpy as np\n",
    "from sklearn.decomposition import PCA\n",
    "from sklearn.model_selection import train_test_split\n",
    "from sklearn.linear_model import LinearRegression\n",
    "from sklearn.ensemble import GradientBoostingRegressor, RandomForestRegressor\n",
    "from sklearn.metrics import r2_score"
   ]
  },
  {
   "cell_type": "code",
   "execution_count": 18,
   "outputs": [],
   "source": [
    "X = pd.read_csv('X.csv', index_col=False)\n",
    "y = pd.read_csv('y.csv', index_col=False)\n",
    "y_cols = ['химшлак последний Al2O3', 'химшлак последний CaO', \n",
    "          'химшлак последний FeO', 'химшлак последний MgO',\n",
    "          'химшлак последний MnO', 'химшлак последний R',\n",
    "          'химшлак последний SiO2']\n"
   ],
   "metadata": {
    "collapsed": false,
    "pycharm": {
     "name": "#%%\n",
     "is_executing": false
    }
   }
  },
  {
   "cell_type": "code",
   "execution_count": 19,
   "outputs": [],
   "source": [
    "X_train, X_test, y_train, y_test = train_test_split(X, y, test_size=0.33, random_state=42)"
   ],
   "metadata": {
    "collapsed": false,
    "pycharm": {
     "name": "#%%\n",
     "is_executing": false
    }
   }
  },
  {
   "cell_type": "code",
   "execution_count": 20,
   "outputs": [],
   "source": [
    "# Метрика для оценки точности модели\n",
    "def rmse(predicted, actual):\n",
    "    return ((predicted - actual)**2).mean()**.5"
   ],
   "metadata": {
    "collapsed": false,
    "pycharm": {
     "name": "#%%\n",
     "is_executing": false
    }
   }
  },
  {
   "cell_type": "code",
   "execution_count": 21,
   "outputs": [
    {
     "name": "stdout",
     "text": [
      "химшлак последний Al2O3\t0.5972312166666224\t0.4554030723571396\n",
      "химшлак последний CaO\t3.322310890959821\t0.20621468124144926\n",
      "химшлак последний FeO\t0.2093711469681665\t0.02575453797141669\n",
      "химшлак последний MgO\t2.4982547127862587\t0.3646149914465986\n",
      "химшлак последний MnO\t0.05647903755429556\t0.1772097360654873\n",
      "химшлак последний R\t0.17949042409077992\t0.36142386912083957\n",
      "химшлак последний SiO2\t1.6844834357476761\t0.1791074427775875\n"
     ],
     "output_type": "stream"
    }
   ],
   "source": [
    "for y_col in y_cols:\n",
    "    lr = LinearRegression()\n",
    "    lr.fit(X_train, y_train[y_col])\n",
    "    y_pred = lr.predict(X_test)\n",
    "    print(f'{y_col}\\t'\n",
    "          f'{rmse(y_pred, y_test[y_col])}\\t'\n",
    "          f'{r2_score(y_test[y_col], y_pred)}')"
   ],
   "metadata": {
    "collapsed": false,
    "pycharm": {
     "name": "#%%\n",
     "is_executing": false
    }
   }
  },
  {
   "cell_type": "code",
   "execution_count": 22,
   "outputs": [
    {
     "name": "stdout",
     "text": [
      "химшлак последний Al2O3\t0.6166869095224984\t0.419343025624229\n",
      "химшлак последний CaO\t3.3235627462703663\t0.2056163678297761\n",
      "химшлак последний FeO\t0.2063542827210658\t0.05362839616550941\n",
      "химшлак последний MgO\t2.5006106102589207\t0.3634160682700449\n",
      "химшлак последний MnO\t0.057882996367089205\t0.13579539009529307\n",
      "химшлак последний R\t0.17263890791585162\t0.40924490770703525\n",
      "химшлак последний SiO2\t1.6690962669920695\t0.19403608046151388\n"
     ],
     "output_type": "stream"
    }
   ],
   "source": [
    "for y_col in y_cols:\n",
    "    gb = GradientBoostingRegressor()\n",
    "    gb.fit(X_train, y_train[y_col])\n",
    "    y_pred = gb.predict(X_test)\n",
    "    print(f'{y_col}\\t'\n",
    "          f'{rmse(y_pred, y_test[y_col])}\\t'\n",
    "          f'{r2_score(y_test[y_col], y_pred)}')"
   ],
   "metadata": {
    "collapsed": false,
    "pycharm": {
     "name": "#%%\n",
     "is_executing": false
    }
   }
  },
  {
   "cell_type": "code",
   "execution_count": 23,
   "outputs": [
    {
     "name": "stdout",
     "text": [
      "химшлак последний Al2O3\t0.6084492221802389\t0.43475221668645436\n",
      "химшлак последний CaO\t3.328768686807917\t0.2031258158837279\n",
      "химшлак последний FeO\t0.2077785748335089\t0.04051927778091824\n",
      "химшлак последний MgO\t2.498288662200519\t0.3645977225145508\n",
      "химшлак последний MnO\t0.05822078256445162\t0.12567952977405206\n",
      "химшлак последний R\t0.17334692844795135\t0.4043894040415701\n",
      "химшлак последний SiO2\t1.675174498118987\t0.18815534733387418\n"
     ],
     "output_type": "stream"
    }
   ],
   "source": [
    "for y_col in y_cols:\n",
    "    rf = RandomForestRegressor()\n",
    "    rf.fit(X_train, y_train[y_col])\n",
    "    y_pred = rf.predict(X_test)\n",
    "    print(f'{y_col}\\t'\n",
    "          f'{rmse(y_pred, y_test[y_col])}\\t'\n",
    "          f'{r2_score(y_test[y_col], y_pred)}')"
   ],
   "metadata": {
    "collapsed": false,
    "pycharm": {
     "name": "#%%\n",
     "is_executing": false
    }
   }
  },
  {
   "cell_type": "code",
   "execution_count": 24,
   "outputs": [],
   "source": [
    "# pca = PCA(n_components=10)\n",
    "# pca_x = pca.fit_transform(X)\n",
    "# fig, axs = plt.subplots(2, 5, figsize=(20,10))\n",
    "# for i in range(10):\n",
    "#     axs[i%2, i//2].scatter(pca_x[:,i], y[y_cols[0]])\n",
    "#     axs[i%2, i//2].set_title(f'{i}')"
   ],
   "metadata": {
    "collapsed": false,
    "pycharm": {
     "name": "#%%\n",
     "is_executing": false
    }
   }
  }
 ],
 "metadata": {
  "kernelspec": {
   "display_name": "Python 3",
   "language": "python",
   "name": "python3"
  },
  "language_info": {
   "codemirror_mode": {
    "name": "ipython",
    "version": 2
   },
   "file_extension": ".py",
   "mimetype": "text/x-python",
   "name": "python",
   "nbconvert_exporter": "python",
   "pygments_lexer": "ipython2",
   "version": "2.7.6"
  },
  "pycharm": {
   "stem_cell": {
    "cell_type": "raw",
    "source": [],
    "metadata": {
     "collapsed": false
    }
   }
  }
 },
 "nbformat": 4,
 "nbformat_minor": 0
}