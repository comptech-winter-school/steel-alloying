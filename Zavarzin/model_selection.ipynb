{
 "cells": [
  {
   "cell_type": "code",
   "execution_count": 25,
   "metadata": {
    "collapsed": true
   },
   "outputs": [],
   "source": [
    "import pandas as pd\n",
    "from tqdm import tqdm\n",
    "from sklearn.linear_model import LinearRegression\n",
    "from sklearn.ensemble import GradientBoostingRegressor, RandomForestRegressor\n",
    "from sklearn.metrics import mean_absolute_percentage_error, make_scorer\n",
    "from sklearn.model_selection import cross_val_score"
   ]
  },
  {
   "cell_type": "code",
   "execution_count": 26,
   "outputs": [
    {
     "name": "stdout",
     "output_type": "stream",
     "text": [
      "X: (6238, 53)\n",
      "y (6238, 7)\n"
     ]
    }
   ],
   "source": [
    "df = pd.read_csv('dataset_ZavarzinE_(baseline).csv', index_col=False)\n",
    "y_cols = ['химшлак последний Al2O3', 'химшлак последний CaO', \n",
    "          'химшлак последний FeO', 'химшлак последний MgO',\n",
    "          'химшлак последний MnO', 'химшлак последний R',\n",
    "          'химшлак последний SiO2']\n",
    "X = df.drop(columns=y_cols)\n",
    "y = df.filter(y_cols)\n",
    "del df\n",
    "print('X:', X.shape)\n",
    "print('y', y.shape)"
   ],
   "metadata": {
    "collapsed": false,
    "pycharm": {
     "name": "#%%\n"
    }
   }
  },
  {
   "cell_type": "code",
   "execution_count": 27,
   "outputs": [],
   "source": [
    "mape_scorer = make_scorer(lambda y, y_pred: (1-mean_absolute_percentage_error(y, y_pred))*100)\n",
    "report = []\n",
    "def check_model(estimator, name):\n",
    "    results = {y_col: cross_val_score(estimator, X, y[y_col], cv=5, n_jobs=-1,\n",
    "                           scoring=mape_scorer).mean() for y_col in tqdm(y_cols) }\n",
    "    report.append([name] + list(results.values()))\n",
    "    return results"
   ],
   "metadata": {
    "collapsed": false,
    "pycharm": {
     "name": "#%%\n"
    }
   }
  },
  {
   "cell_type": "code",
   "execution_count": 28,
   "outputs": [
    {
     "name": "stderr",
     "output_type": "stream",
     "text": [
      "100%|██████████| 7/7 [00:01<00:00,  3.71it/s]\n"
     ]
    },
    {
     "data": {
      "text/plain": "{'химшлак последний Al2O3': 90.80618973362897,\n 'химшлак последний CaO': 95.12679883894958,\n 'химшлак последний FeO': 64.93017569467885,\n 'химшлак последний MgO': 73.98370934773823,\n 'химшлак последний MnO': 69.78851329833415,\n 'химшлак последний R': 93.7125674615406,\n 'химшлак последний SiO2': 94.32380165854781}"
     },
     "execution_count": 28,
     "metadata": {},
     "output_type": "execute_result"
    }
   ],
   "source": [
    "check_model(LinearRegression(), 'LinearRegression')"
   ],
   "metadata": {
    "collapsed": false,
    "pycharm": {
     "name": "#%%\n"
    }
   }
  },
  {
   "cell_type": "code",
   "execution_count": 29,
   "outputs": [
    {
     "name": "stderr",
     "output_type": "stream",
     "text": [
      "100%|██████████| 7/7 [04:39<00:00, 39.88s/it]\n"
     ]
    },
    {
     "data": {
      "text/plain": "{'химшлак последний Al2O3': 91.14770612801534,\n 'химшлак последний CaO': 95.14795186628295,\n 'химшлак последний FeO': 64.21901355749671,\n 'химшлак последний MgO': 73.29469166948668,\n 'химшлак последний MnO': 66.42433968739755,\n 'химшлак последний R': 93.8572538974257,\n 'химшлак последний SiO2': 94.55741292911414}"
     },
     "execution_count": 29,
     "metadata": {},
     "output_type": "execute_result"
    }
   ],
   "source": [
    "check_model(RandomForestRegressor(), 'RandomForestRegressor')"
   ],
   "metadata": {
    "collapsed": false,
    "pycharm": {
     "name": "#%%\n"
    }
   }
  },
  {
   "cell_type": "code",
   "execution_count": 30,
   "outputs": [
    {
     "name": "stderr",
     "output_type": "stream",
     "text": [
      "100%|██████████| 7/7 [01:03<00:00,  9.03s/it]\n"
     ]
    },
    {
     "data": {
      "text/plain": "{'химшлак последний Al2O3': 90.96351208451813,\n 'химшлак последний CaO': 95.14088890183746,\n 'химшлак последний FeO': 64.74660981674963,\n 'химшлак последний MgO': 73.4007892999197,\n 'химшлак последний MnO': 68.57297955943699,\n 'химшлак последний R': 93.94703334015468,\n 'химшлак последний SiO2': 94.41620250914985}"
     },
     "execution_count": 30,
     "metadata": {},
     "output_type": "execute_result"
    }
   ],
   "source": [
    "check_model(GradientBoostingRegressor(), 'GradientBoostingRegressor')"
   ],
   "metadata": {
    "collapsed": false,
    "pycharm": {
     "name": "#%%\n"
    }
   }
  },
  {
   "cell_type": "code",
   "execution_count": 32,
   "outputs": [],
   "source": [
    "with open('report.csv', 'w') as report_file:\n",
    "    report_file.writelines(['\\t'.join(map(str, report_line)).replace('.', ',')+'\\n' for report_line in report])"
   ],
   "metadata": {
    "collapsed": false,
    "pycharm": {
     "name": "#%%\n"
    }
   }
  }
 ],
 "metadata": {
  "kernelspec": {
   "display_name": "Python 3",
   "language": "python",
   "name": "python3"
  },
  "language_info": {
   "codemirror_mode": {
    "name": "ipython",
    "version": 2
   },
   "file_extension": ".py",
   "mimetype": "text/x-python",
   "name": "python",
   "nbconvert_exporter": "python",
   "pygments_lexer": "ipython2",
   "version": "2.7.6"
  }
 },
 "nbformat": 4,
 "nbformat_minor": 0
}