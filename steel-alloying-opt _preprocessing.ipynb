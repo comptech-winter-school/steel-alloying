{
 "cells": [
  {
   "cell_type": "code",
   "execution_count": 1,
   "metadata": {},
   "outputs": [],
   "source": [
    "import pandas as pd\n",
    "import seaborn as sns\n",
    "import numpy as np\n",
    "import matplotlib.pyplot as plt\n",
    "\n",
    "from scipy.stats import pearsonr\n",
    "from sklearn.linear_model import LinearRegression\n",
    "from sklearn.model_selection import train_test_split, cross_val_score\n",
    "from sklearn.metrics import mean_squared_error\n",
    "from sklearn.preprocessing import StandardScaler\n",
    "from sklearn.ensemble import IsolationForest, RandomForestRegressor\n",
    "from sklearn.feature_selection import SelectKBest, f_classif\n",
    "\n",
    "import warnings\n",
    "warnings.filterwarnings('ignore')"
   ]
  },
  {
   "cell_type": "code",
   "execution_count": 2,
   "metadata": {},
   "outputs": [
    {
     "data": {
      "text/html": [
       "<div>\n",
       "<style scoped>\n",
       "    .dataframe tbody tr th:only-of-type {\n",
       "        vertical-align: middle;\n",
       "    }\n",
       "\n",
       "    .dataframe tbody tr th {\n",
       "        vertical-align: top;\n",
       "    }\n",
       "\n",
       "    .dataframe thead th {\n",
       "        text-align: right;\n",
       "    }\n",
       "</style>\n",
       "<table border=\"1\" class=\"dataframe\">\n",
       "  <thead>\n",
       "    <tr style=\"text-align: right;\">\n",
       "      <th></th>\n",
       "      <th>nplv</th>\n",
       "      <th>DT</th>\n",
       "      <th>МАРКА</th>\n",
       "      <th>ПРОФИЛЬ</th>\n",
       "      <th>t вып-обр</th>\n",
       "      <th>t обработка</th>\n",
       "      <th>t под током</th>\n",
       "      <th>t продувка</th>\n",
       "      <th>ПСН гр.</th>\n",
       "      <th>чист расход C</th>\n",
       "      <th>...</th>\n",
       "      <th>химшлак первый MnO_1</th>\n",
       "      <th>химшлак первый R_1</th>\n",
       "      <th>химшлак первый SiO2_1</th>\n",
       "      <th>химшлак последний Al2O3</th>\n",
       "      <th>химшлак последний CaO</th>\n",
       "      <th>химшлак последний FeO</th>\n",
       "      <th>химшлак последний MgO</th>\n",
       "      <th>химшлак последний MnO</th>\n",
       "      <th>химшлак последний R</th>\n",
       "      <th>химшлак последний SiO2</th>\n",
       "    </tr>\n",
       "  </thead>\n",
       "  <tbody>\n",
       "    <tr>\n",
       "      <th>0</th>\n",
       "      <td>г6837?3&lt;87?</td>\n",
       "      <td>2070-06-21 00:14:00</td>\n",
       "      <td>Э76ХФ</td>\n",
       "      <td>Р65</td>\n",
       "      <td>29.0</td>\n",
       "      <td>45.366667</td>\n",
       "      <td>24.400000</td>\n",
       "      <td>41.033333</td>\n",
       "      <td>NaN</td>\n",
       "      <td>0.456460</td>\n",
       "      <td>...</td>\n",
       "      <td>0.12</td>\n",
       "      <td>2.6</td>\n",
       "      <td>NaN</td>\n",
       "      <td>NaN</td>\n",
       "      <td>53.4</td>\n",
       "      <td>1.0</td>\n",
       "      <td>5.8</td>\n",
       "      <td>0.15</td>\n",
       "      <td>2.6</td>\n",
       "      <td>NaN</td>\n",
       "    </tr>\n",
       "    <tr>\n",
       "      <th>1</th>\n",
       "      <td>г683863&lt;886</td>\n",
       "      <td>2070-06-21 01:07:00</td>\n",
       "      <td>Э76ХФ</td>\n",
       "      <td>Р65</td>\n",
       "      <td>26.0</td>\n",
       "      <td>44.066667</td>\n",
       "      <td>13.866667</td>\n",
       "      <td>44.066667</td>\n",
       "      <td>NaN</td>\n",
       "      <td>0.359285</td>\n",
       "      <td>...</td>\n",
       "      <td>0.14</td>\n",
       "      <td>2.2</td>\n",
       "      <td>NaN</td>\n",
       "      <td>NaN</td>\n",
       "      <td>59.3</td>\n",
       "      <td>0.6</td>\n",
       "      <td>4.1</td>\n",
       "      <td>0.11</td>\n",
       "      <td>2.3</td>\n",
       "      <td>NaN</td>\n",
       "    </tr>\n",
       "    <tr>\n",
       "      <th>2</th>\n",
       "      <td>г683863&lt;887</td>\n",
       "      <td>2070-06-21 02:00:00</td>\n",
       "      <td>Э76ХФ</td>\n",
       "      <td>Р65</td>\n",
       "      <td>24.0</td>\n",
       "      <td>43.350000</td>\n",
       "      <td>17.950000</td>\n",
       "      <td>43.350000</td>\n",
       "      <td>NaN</td>\n",
       "      <td>0.331665</td>\n",
       "      <td>...</td>\n",
       "      <td>0.12</td>\n",
       "      <td>2.6</td>\n",
       "      <td>NaN</td>\n",
       "      <td>NaN</td>\n",
       "      <td>57.2</td>\n",
       "      <td>0.5</td>\n",
       "      <td>8.1</td>\n",
       "      <td>0.13</td>\n",
       "      <td>2.3</td>\n",
       "      <td>NaN</td>\n",
       "    </tr>\n",
       "    <tr>\n",
       "      <th>3</th>\n",
       "      <td>г683863&lt;888</td>\n",
       "      <td>2070-06-21 02:58:00</td>\n",
       "      <td>Э76ХФ</td>\n",
       "      <td>Р65</td>\n",
       "      <td>17.0</td>\n",
       "      <td>46.183333</td>\n",
       "      <td>19.816667</td>\n",
       "      <td>46.183333</td>\n",
       "      <td>NaN</td>\n",
       "      <td>0.377945</td>\n",
       "      <td>...</td>\n",
       "      <td>0.11</td>\n",
       "      <td>2.4</td>\n",
       "      <td>NaN</td>\n",
       "      <td>NaN</td>\n",
       "      <td>60.3</td>\n",
       "      <td>0.5</td>\n",
       "      <td>6.3</td>\n",
       "      <td>0.12</td>\n",
       "      <td>2.6</td>\n",
       "      <td>NaN</td>\n",
       "    </tr>\n",
       "    <tr>\n",
       "      <th>4</th>\n",
       "      <td>г683863&lt;889</td>\n",
       "      <td>2070-06-21 03:50:00</td>\n",
       "      <td>Э76ХФ</td>\n",
       "      <td>Р65</td>\n",
       "      <td>20.0</td>\n",
       "      <td>48.500000</td>\n",
       "      <td>17.033333</td>\n",
       "      <td>48.500000</td>\n",
       "      <td>NaN</td>\n",
       "      <td>0.389875</td>\n",
       "      <td>...</td>\n",
       "      <td>0.12</td>\n",
       "      <td>2.4</td>\n",
       "      <td>NaN</td>\n",
       "      <td>NaN</td>\n",
       "      <td>60.3</td>\n",
       "      <td>0.6</td>\n",
       "      <td>4.5</td>\n",
       "      <td>0.09</td>\n",
       "      <td>2.5</td>\n",
       "      <td>NaN</td>\n",
       "    </tr>\n",
       "  </tbody>\n",
       "</table>\n",
       "<p>5 rows × 84 columns</p>\n",
       "</div>"
      ],
      "text/plain": [
       "          nplv                   DT  МАРКА ПРОФИЛЬ  t вып-обр  t обработка  \\\n",
       "0  г6837?3<87?  2070-06-21 00:14:00  Э76ХФ     Р65       29.0    45.366667   \n",
       "1  г683863<886  2070-06-21 01:07:00  Э76ХФ     Р65       26.0    44.066667   \n",
       "2  г683863<887  2070-06-21 02:00:00  Э76ХФ     Р65       24.0    43.350000   \n",
       "3  г683863<888  2070-06-21 02:58:00  Э76ХФ     Р65       17.0    46.183333   \n",
       "4  г683863<889  2070-06-21 03:50:00  Э76ХФ     Р65       20.0    48.500000   \n",
       "\n",
       "   t под током  t продувка  ПСН гр.  чист расход C  ...  химшлак первый MnO_1  \\\n",
       "0    24.400000   41.033333      NaN       0.456460  ...                  0.12   \n",
       "1    13.866667   44.066667      NaN       0.359285  ...                  0.14   \n",
       "2    17.950000   43.350000      NaN       0.331665  ...                  0.12   \n",
       "3    19.816667   46.183333      NaN       0.377945  ...                  0.11   \n",
       "4    17.033333   48.500000      NaN       0.389875  ...                  0.12   \n",
       "\n",
       "   химшлак первый R_1  химшлак первый SiO2_1  химшлак последний Al2O3  \\\n",
       "0                 2.6                    NaN                      NaN   \n",
       "1                 2.2                    NaN                      NaN   \n",
       "2                 2.6                    NaN                      NaN   \n",
       "3                 2.4                    NaN                      NaN   \n",
       "4                 2.4                    NaN                      NaN   \n",
       "\n",
       "   химшлак последний CaO  химшлак последний FeO  химшлак последний MgO  \\\n",
       "0                   53.4                    1.0                    5.8   \n",
       "1                   59.3                    0.6                    4.1   \n",
       "2                   57.2                    0.5                    8.1   \n",
       "3                   60.3                    0.5                    6.3   \n",
       "4                   60.3                    0.6                    4.5   \n",
       "\n",
       "   химшлак последний MnO  химшлак последний R  химшлак последний SiO2  \n",
       "0                   0.15                  2.6                     NaN  \n",
       "1                   0.11                  2.3                     NaN  \n",
       "2                   0.13                  2.3                     NaN  \n",
       "3                   0.12                  2.6                     NaN  \n",
       "4                   0.09                  2.5                     NaN  \n",
       "\n",
       "[5 rows x 84 columns]"
      ]
     },
     "execution_count": 2,
     "metadata": {},
     "output_type": "execute_result"
    }
   ],
   "source": [
    "data = pd.read_table('steel_alloying.csv', sep=';', index_col=0, decimal=',')\n",
    "data.head()"
   ]
  },
  {
   "cell_type": "code",
   "execution_count": 3,
   "metadata": {},
   "outputs": [
    {
     "data": {
      "text/plain": [
       "(7041, 84)"
      ]
     },
     "execution_count": 3,
     "metadata": {},
     "output_type": "execute_result"
    }
   ],
   "source": [
    "# размер датасета\n",
    "data.shape"
   ]
  },
  {
   "cell_type": "code",
   "execution_count": 4,
   "metadata": {},
   "outputs": [],
   "source": [
    "# data.info()"
   ]
  },
  {
   "cell_type": "code",
   "execution_count": 5,
   "metadata": {},
   "outputs": [],
   "source": [
    "# data['ПРОФИЛЬ'].value_counts() \n",
    "# Значения данного столбца скорее относятся к форме сплава, чем его сотставу. "
   ]
  },
  {
   "cell_type": "code",
   "execution_count": 6,
   "metadata": {},
   "outputs": [],
   "source": [
    "# Удаляемя не информативные признаки \n",
    "data.drop(['nplv', 'DT', 'ПРОФИЛЬ'], axis=1, inplace=True)"
   ]
  },
  {
   "cell_type": "code",
   "execution_count": 7,
   "metadata": {},
   "outputs": [
    {
     "data": {
      "text/plain": [
       "Э76ХФ     4953\n",
       "Э90ХАФ    1384\n",
       "Э73Ф       227\n",
       "Э76Ф        86\n",
       "Ш2.2        59\n",
       "Э76         56\n",
       "R350HT      54\n",
       "900А        54\n",
       "Э76ХАФ      50\n",
       "R260        35\n",
       "G2HH        34\n",
       "Ш2Л         31\n",
       "НХ           7\n",
       "09Г2С        4\n",
       "С345         3\n",
       "С255         2\n",
       "С355         1\n",
       "Ст3сп        1\n",
       "Name: МАРКА, dtype: int64"
      ]
     },
     "execution_count": 7,
     "metadata": {},
     "output_type": "execute_result"
    }
   ],
   "source": [
    "data['МАРКА'].value_counts()"
   ]
  },
  {
   "cell_type": "markdown",
   "metadata": {},
   "source": [
    "Выборка по маркам сталей не сбалонсированная, сформируем три класса сталей Э76ХФ, Э90ХАФ и другие - объединение остальных классов."
   ]
  },
  {
   "cell_type": "code",
   "execution_count": 8,
   "metadata": {},
   "outputs": [],
   "source": [
    "# marka_dict = {'Э76ХФ': 'Э76ХФ', 'Э90ХАФ': 'Э90ХАФ', 'Э73Ф': 'Э73Ф', 'Э76Ф': 'Э76Ф', 'Ш2.2': 'Ш2.2', 'Э76': 'Э76',\n",
    "#               '900А': '900А', 'R350HT': 'R350HT', 'Э76ХАФ': 'Э76ХАФ', 'R260': 'R260', 'G2HH': 'G2HH', 'Ш2Л': 'Ш2Л',\n",
    "#               'НХ': 'Другие' , '09Г2С': 'Другие', 'С345': 'Другие', 'С255': 'Другие', 'С355': 'Другие', 'Ст3сп' : 'Другие'}\n",
    "# data['МАРКА'] = data['МАРКА'].map(marka_dict)   "
   ]
  },
  {
   "cell_type": "code",
   "execution_count": 9,
   "metadata": {},
   "outputs": [],
   "source": [
    "marka_dict = {'Э76ХФ': 'Э76ХФ', 'Э90ХАФ': 'Э90ХАФ', 'Э73Ф': 'Другие', 'Э76Ф': 'Другие', 'Ш2.2': 'Другие', 'Э76': 'Другие',\n",
    "              '900А': 'Другие', 'R350HT': 'Другие', 'Э76ХАФ': 'Другие', 'R260': 'Другие', 'G2HH': 'Другие', 'Ш2Л': 'Другие',\n",
    "              'НХ': 'Другие' , '09Г2С': 'Другие', 'С345': 'Другие', 'С255': 'Другие', 'С355': 'Другие', 'Ст3сп' : 'Другие'}\n",
    "data['МАРКА']  = data['МАРКА'].map(marka_dict)"
   ]
  },
  {
   "cell_type": "code",
   "execution_count": 10,
   "metadata": {},
   "outputs": [
    {
     "data": {
      "text/plain": [
       "Э76ХФ     4953\n",
       "Э90ХАФ    1384\n",
       "Другие     704\n",
       "Name: МАРКА, dtype: int64"
      ]
     },
     "execution_count": 10,
     "metadata": {},
     "output_type": "execute_result"
    }
   ],
   "source": [
    "data['МАРКА'].value_counts()"
   ]
  },
  {
   "cell_type": "markdown",
   "metadata": {},
   "source": [
    "## Переменные времени"
   ]
  },
  {
   "cell_type": "code",
   "execution_count": 11,
   "metadata": {},
   "outputs": [
    {
     "data": {
      "text/html": [
       "<div>\n",
       "<style scoped>\n",
       "    .dataframe tbody tr th:only-of-type {\n",
       "        vertical-align: middle;\n",
       "    }\n",
       "\n",
       "    .dataframe tbody tr th {\n",
       "        vertical-align: top;\n",
       "    }\n",
       "\n",
       "    .dataframe thead th {\n",
       "        text-align: right;\n",
       "    }\n",
       "</style>\n",
       "<table border=\"1\" class=\"dataframe\">\n",
       "  <thead>\n",
       "    <tr style=\"text-align: right;\">\n",
       "      <th></th>\n",
       "      <th>t вып-обр</th>\n",
       "      <th>t обработка</th>\n",
       "      <th>t под током</th>\n",
       "      <th>t продувка</th>\n",
       "    </tr>\n",
       "  </thead>\n",
       "  <tbody>\n",
       "    <tr>\n",
       "      <th>count</th>\n",
       "      <td>6444.000000</td>\n",
       "      <td>6440.000000</td>\n",
       "      <td>6440.000000</td>\n",
       "      <td>6444.000000</td>\n",
       "    </tr>\n",
       "    <tr>\n",
       "      <th>mean</th>\n",
       "      <td>26.492241</td>\n",
       "      <td>46.194099</td>\n",
       "      <td>21.010523</td>\n",
       "      <td>46.063051</td>\n",
       "    </tr>\n",
       "    <tr>\n",
       "      <th>std</th>\n",
       "      <td>14.842045</td>\n",
       "      <td>9.878727</td>\n",
       "      <td>4.758272</td>\n",
       "      <td>9.625492</td>\n",
       "    </tr>\n",
       "    <tr>\n",
       "      <th>min</th>\n",
       "      <td>-1.000000</td>\n",
       "      <td>4.350000</td>\n",
       "      <td>2.816667</td>\n",
       "      <td>4.350000</td>\n",
       "    </tr>\n",
       "    <tr>\n",
       "      <th>25%</th>\n",
       "      <td>14.000000</td>\n",
       "      <td>42.350000</td>\n",
       "      <td>18.033333</td>\n",
       "      <td>42.216667</td>\n",
       "    </tr>\n",
       "    <tr>\n",
       "      <th>50%</th>\n",
       "      <td>25.000000</td>\n",
       "      <td>44.683333</td>\n",
       "      <td>20.500000</td>\n",
       "      <td>44.550000</td>\n",
       "    </tr>\n",
       "    <tr>\n",
       "      <th>75%</th>\n",
       "      <td>37.000000</td>\n",
       "      <td>47.550000</td>\n",
       "      <td>23.300000</td>\n",
       "      <td>47.516667</td>\n",
       "    </tr>\n",
       "    <tr>\n",
       "      <th>max</th>\n",
       "      <td>98.000000</td>\n",
       "      <td>294.083333</td>\n",
       "      <td>67.583333</td>\n",
       "      <td>251.000000</td>\n",
       "    </tr>\n",
       "  </tbody>\n",
       "</table>\n",
       "</div>"
      ],
      "text/plain": [
       "         t вып-обр  t обработка  t под током   t продувка\n",
       "count  6444.000000  6440.000000  6440.000000  6444.000000\n",
       "mean     26.492241    46.194099    21.010523    46.063051\n",
       "std      14.842045     9.878727     4.758272     9.625492\n",
       "min      -1.000000     4.350000     2.816667     4.350000\n",
       "25%      14.000000    42.350000    18.033333    42.216667\n",
       "50%      25.000000    44.683333    20.500000    44.550000\n",
       "75%      37.000000    47.550000    23.300000    47.516667\n",
       "max      98.000000   294.083333    67.583333   251.000000"
      ]
     },
     "execution_count": 11,
     "metadata": {},
     "output_type": "execute_result"
    }
   ],
   "source": [
    "data.iloc[:, 1:5].describe()"
   ]
  },
  {
   "cell_type": "code",
   "execution_count": 12,
   "metadata": {},
   "outputs": [
    {
     "data": {
      "text/plain": [
       "<seaborn.axisgrid.PairGrid at 0x1b57c6491c0>"
      ]
     },
     "execution_count": 12,
     "metadata": {},
     "output_type": "execute_result"
    },
    {
     "data": {
      "image/png": "[encoded data removed]",
      "text/plain": [
       "<Figure size 720x720 with 20 Axes>"
      ]
     },
     "metadata": {
      "needs_background": "light"
     },
     "output_type": "display_data"
    }
   ],
   "source": [
    "sns.pairplot(data.iloc[:, 1:5])"
   ]
  },
  {
   "cell_type": "markdown",
   "metadata": {},
   "source": [
    "##  Удаление полупустых строчек и столбцев"
   ]
  },
  {
   "cell_type": "markdown",
   "metadata": {},
   "source": [
    "### Строки"
   ]
  },
  {
   "cell_type": "code",
   "execution_count": 13,
   "metadata": {},
   "outputs": [
    {
     "data": {
      "text/plain": [
       "кол-во пропуск  per  \n",
       "597             8.48     37\n",
       "598             8.49      4\n",
       "601             8.54      4\n",
       "2299            32.65     4\n",
       "5652            80.27     2\n",
       "dtype: int64"
      ]
     },
     "execution_count": 13,
     "metadata": {},
     "output_type": "execute_result"
    }
   ],
   "source": [
    "null_values = pd.DataFrame({'кол-во пропуск' :data.iloc[:, :].isna().sum()})\n",
    "null_values['per'] = (null_values.iloc[:, 0] * 100 / len(data)).apply(lambda x: round(x, 2))\n",
    "null_values.value_counts().head(5) # количесвто колонок, в которых одинаковое кол-во пропусков"
   ]
  },
  {
   "cell_type": "code",
   "execution_count": 14,
   "metadata": {},
   "outputs": [
    {
     "data": {
      "text/plain": [
       "597"
      ]
     },
     "execution_count": 14,
     "metadata": {},
     "output_type": "execute_result"
    }
   ],
   "source": [
    "# Проверяем, что в 37 колонках, в которых отстутвует 597 значений, пропуски относятся к одним и тем же строкам.\n",
    "empty_columns = data[null_values[null_values.per == 8.48].index].T.isna().sum() \n",
    "(empty_columns == 37).sum()"
   ]
  },
  {
   "cell_type": "code",
   "execution_count": 15,
   "metadata": {},
   "outputs": [
    {
     "data": {
      "text/plain": [
       "Index(['t вып-обр', 't продувка', 'произв жидкая сталь',\n",
       "       'произв количество обработок', 'произв  количество плавок',\n",
       "       'произв количество плавок (цел)', 'химсталь первый Al_1',\n",
       "       'химсталь первый C_1', 'химсталь первый Cr_1', 'химсталь первый Cu_1',\n",
       "       'химсталь первый Mn_1', 'химсталь первый Ni_1', 'химсталь первый P_1',\n",
       "       'химсталь первый S_1', 'химсталь первый Si_1', 'химсталь первый Ti_1',\n",
       "       'химсталь первый V_1', 'химсталь последний Al', 'химсталь последний C',\n",
       "       'химсталь последний Cr', 'химсталь последний Cu',\n",
       "       'химсталь последний Mn', 'химсталь последний Mo',\n",
       "       'химсталь последний Ni', 'химсталь последний P', 'химсталь последний S',\n",
       "       'химсталь последний Si', 'химсталь последний Ti',\n",
       "       'химсталь последний V', 'химшлак первый CaO_1', 'химшлак первый FeO_1',\n",
       "       'химшлак первый MnO_1', 'химшлак первый R_1', 'химшлак последний CaO',\n",
       "       'химшлак последний FeO', 'химшлак последний MnO',\n",
       "       'химшлак последний R'],\n",
       "      dtype='object')"
      ]
     },
     "execution_count": 15,
     "metadata": {},
     "output_type": "execute_result"
    }
   ],
   "source": [
    "data[null_values[null_values.per == 8.48].index].columns\n",
    "# в этих строках отутсвуют основные переменные, по которым мы анализуем наши данные (химшлак последний CaO, FeO, MnO, R)\n",
    "# значит можем эти строки удалять"
   ]
  },
  {
   "cell_type": "code",
   "execution_count": 16,
   "metadata": {},
   "outputs": [
    {
     "data": {
      "text/plain": [
       "(6444, 81)"
      ]
     },
     "execution_count": 16,
     "metadata": {},
     "output_type": "execute_result"
    }
   ],
   "source": [
    "data.drop(empty_columns[empty_columns == 37].index, axis=0, inplace=True)\n",
    "data.shape"
   ]
  },
  {
   "cell_type": "markdown",
   "metadata": {},
   "source": [
    "### Столбцы"
   ]
  },
  {
   "cell_type": "code",
   "execution_count": 17,
   "metadata": {},
   "outputs": [],
   "source": [
    "def df_null_values(df):\n",
    "    null_values = pd.DataFrame({'кол-во пропуск' :df.isna().sum()})\n",
    "    null_values['per'] = (null_values.iloc[:, 0] * 100 / len(df)).apply(lambda x: round(x, 3))\n",
    "    return null_values"
   ]
  },
  {
   "cell_type": "code",
   "execution_count": 18,
   "metadata": {},
   "outputs": [
    {
     "data": {
      "text/html": [
       "<div>\n",
       "<style scoped>\n",
       "    .dataframe tbody tr th:only-of-type {\n",
       "        vertical-align: middle;\n",
       "    }\n",
       "\n",
       "    .dataframe tbody tr th {\n",
       "        vertical-align: top;\n",
       "    }\n",
       "\n",
       "    .dataframe thead th {\n",
       "        text-align: right;\n",
       "    }\n",
       "</style>\n",
       "<table border=\"1\" class=\"dataframe\">\n",
       "  <thead>\n",
       "    <tr style=\"text-align: right;\">\n",
       "      <th></th>\n",
       "      <th>кол-во пропуск</th>\n",
       "      <th>per</th>\n",
       "    </tr>\n",
       "  </thead>\n",
       "  <tbody>\n",
       "    <tr>\n",
       "      <th>ферспл FeSi-75</th>\n",
       "      <td>6439</td>\n",
       "      <td>99.922</td>\n",
       "    </tr>\n",
       "    <tr>\n",
       "      <th>сыпуч  кокс. мелочь (сух.)</th>\n",
       "      <td>6437</td>\n",
       "      <td>99.891</td>\n",
       "    </tr>\n",
       "    <tr>\n",
       "      <th>сыпуч кварцит</th>\n",
       "      <td>6431</td>\n",
       "      <td>99.798</td>\n",
       "    </tr>\n",
       "    <tr>\n",
       "      <th>ферспл FeMo</th>\n",
       "      <td>6411</td>\n",
       "      <td>99.488</td>\n",
       "    </tr>\n",
       "    <tr>\n",
       "      <th>ферспл  Ni H1 пласт.</th>\n",
       "      <td>6362</td>\n",
       "      <td>98.727</td>\n",
       "    </tr>\n",
       "    <tr>\n",
       "      <th>ферспл FeV азот.</th>\n",
       "      <td>6061</td>\n",
       "      <td>94.056</td>\n",
       "    </tr>\n",
       "    <tr>\n",
       "      <th>расход C пров.</th>\n",
       "      <td>5720</td>\n",
       "      <td>88.765</td>\n",
       "    </tr>\n",
       "    <tr>\n",
       "      <th>ферспл  ферванит</th>\n",
       "      <td>5427</td>\n",
       "      <td>84.218</td>\n",
       "    </tr>\n",
       "    <tr>\n",
       "      <th>N2 (интенс.)</th>\n",
       "      <td>5055</td>\n",
       "      <td>78.445</td>\n",
       "    </tr>\n",
       "    <tr>\n",
       "      <th>расход газ  N2</th>\n",
       "      <td>5055</td>\n",
       "      <td>78.445</td>\n",
       "    </tr>\n",
       "    <tr>\n",
       "      <th>химшлак последний Al2O3</th>\n",
       "      <td>1702</td>\n",
       "      <td>26.412</td>\n",
       "    </tr>\n",
       "    <tr>\n",
       "      <th>химшлак первый SiO2_1</th>\n",
       "      <td>1702</td>\n",
       "      <td>26.412</td>\n",
       "    </tr>\n",
       "    <tr>\n",
       "      <th>химшлак первый Al2O3_1</th>\n",
       "      <td>1702</td>\n",
       "      <td>26.412</td>\n",
       "    </tr>\n",
       "    <tr>\n",
       "      <th>химшлак последний SiO2</th>\n",
       "      <td>1702</td>\n",
       "      <td>26.412</td>\n",
       "    </tr>\n",
       "    <tr>\n",
       "      <th>сыпуч известь РП</th>\n",
       "      <td>1674</td>\n",
       "      <td>25.978</td>\n",
       "    </tr>\n",
       "    <tr>\n",
       "      <th>ПСН гр.</th>\n",
       "      <td>1195</td>\n",
       "      <td>18.544</td>\n",
       "    </tr>\n",
       "    <tr>\n",
       "      <th>ферспл  фх850А</th>\n",
       "      <td>561</td>\n",
       "      <td>8.706</td>\n",
       "    </tr>\n",
       "  </tbody>\n",
       "</table>\n",
       "</div>"
      ],
      "text/plain": [
       "                            кол-во пропуск     per\n",
       "ферспл FeSi-75                        6439  99.922\n",
       "сыпуч  кокс. мелочь (сух.)            6437  99.891\n",
       "сыпуч кварцит                         6431  99.798\n",
       "ферспл FeMo                           6411  99.488\n",
       "ферспл  Ni H1 пласт.                  6362  98.727\n",
       "ферспл FeV азот.                      6061  94.056\n",
       "расход C пров.                        5720  88.765\n",
       "ферспл  ферванит                      5427  84.218\n",
       "N2 (интенс.)                          5055  78.445\n",
       "расход газ  N2                        5055  78.445\n",
       "химшлак последний Al2O3               1702  26.412\n",
       "химшлак первый SiO2_1                 1702  26.412\n",
       "химшлак первый Al2O3_1                1702  26.412\n",
       "химшлак последний SiO2                1702  26.412\n",
       "сыпуч известь РП                      1674  25.978\n",
       "ПСН гр.                               1195  18.544\n",
       "ферспл  фх850А                         561   8.706"
      ]
     },
     "execution_count": 18,
     "metadata": {},
     "output_type": "execute_result"
    }
   ],
   "source": [
    "null_values = df_null_values(data)\n",
    "columns_sortby_nan = null_values.sort_values(by='per', ascending=False).index\n",
    "null_values.sort_values(by='per', ascending=False).head(17)"
   ]
  },
  {
   "cell_type": "code",
   "execution_count": 19,
   "metadata": {},
   "outputs": [
    {
     "data": {
      "text/plain": [
       "(6444, 71)"
      ]
     },
     "execution_count": 19,
     "metadata": {},
     "output_type": "execute_result"
    }
   ],
   "source": [
    "#удалим колонки, в которых больше 70 % пропусков \n",
    "data.drop(null_values[null_values.per > 70].index, axis=1, inplace=True)\n",
    "data.shape"
   ]
  },
  {
   "cell_type": "markdown",
   "metadata": {},
   "source": [
    "# Восстановление пропущенных значений"
   ]
  },
  {
   "cell_type": "code",
   "execution_count": 20,
   "metadata": {},
   "outputs": [
    {
     "data": {
      "text/html": [
       "<div>\n",
       "<style scoped>\n",
       "    .dataframe tbody tr th:only-of-type {\n",
       "        vertical-align: middle;\n",
       "    }\n",
       "\n",
       "    .dataframe tbody tr th {\n",
       "        vertical-align: top;\n",
       "    }\n",
       "\n",
       "    .dataframe thead th {\n",
       "        text-align: right;\n",
       "    }\n",
       "</style>\n",
       "<table border=\"1\" class=\"dataframe\">\n",
       "  <thead>\n",
       "    <tr style=\"text-align: right;\">\n",
       "      <th></th>\n",
       "      <th>кол-во пропуск</th>\n",
       "      <th>per</th>\n",
       "    </tr>\n",
       "  </thead>\n",
       "  <tbody>\n",
       "    <tr>\n",
       "      <th>химшлак последний SiO2</th>\n",
       "      <td>1702</td>\n",
       "      <td>26.412</td>\n",
       "    </tr>\n",
       "    <tr>\n",
       "      <th>химшлак последний Al2O3</th>\n",
       "      <td>1702</td>\n",
       "      <td>26.412</td>\n",
       "    </tr>\n",
       "    <tr>\n",
       "      <th>химшлак первый Al2O3_1</th>\n",
       "      <td>1702</td>\n",
       "      <td>26.412</td>\n",
       "    </tr>\n",
       "    <tr>\n",
       "      <th>химшлак первый SiO2_1</th>\n",
       "      <td>1702</td>\n",
       "      <td>26.412</td>\n",
       "    </tr>\n",
       "    <tr>\n",
       "      <th>сыпуч известь РП</th>\n",
       "      <td>1674</td>\n",
       "      <td>25.978</td>\n",
       "    </tr>\n",
       "    <tr>\n",
       "      <th>ПСН гр.</th>\n",
       "      <td>1195</td>\n",
       "      <td>18.544</td>\n",
       "    </tr>\n",
       "    <tr>\n",
       "      <th>чист расход Cr</th>\n",
       "      <td>561</td>\n",
       "      <td>8.706</td>\n",
       "    </tr>\n",
       "  </tbody>\n",
       "</table>\n",
       "</div>"
      ],
      "text/plain": [
       "                         кол-во пропуск     per\n",
       "химшлак последний SiO2             1702  26.412\n",
       "химшлак последний Al2O3            1702  26.412\n",
       "химшлак первый Al2O3_1             1702  26.412\n",
       "химшлак первый SiO2_1              1702  26.412\n",
       "сыпуч известь РП                   1674  25.978\n",
       "ПСН гр.                            1195  18.544\n",
       "чист расход Cr                      561   8.706"
      ]
     },
     "execution_count": 20,
     "metadata": {},
     "output_type": "execute_result"
    }
   ],
   "source": [
    "null_values = df_null_values(data)\n",
    "columns_sortby_nan = null_values.sort_values(by='per', ascending=False).index\n",
    "null_values.sort_values(by='per', ascending=False).head(7)"
   ]
  },
  {
   "cell_type": "markdown",
   "metadata": {},
   "source": [
    "Для химшлаков SiO2 и Al2O3 неизветно 26.4 % процентов данны, а они целевые переменные. Помотрим с какими переменными они коррелеруют."
   ]
  },
  {
   "cell_type": "code",
   "execution_count": 21,
   "metadata": {},
   "outputs": [
    {
     "data": {
      "text/plain": [
       "6444"
      ]
     },
     "execution_count": 21,
     "metadata": {},
     "output_type": "execute_result"
    }
   ],
   "source": [
    "# проверка, что нет  данных по одним и тем же строчкам\n",
    "(data['химшлак последний SiO2'].isna() == data['химшлак первый Al2O3_1'].isna()).sum()"
   ]
  },
  {
   "cell_type": "markdown",
   "metadata": {},
   "source": [
    "## Корреляция между переменными химшлаков"
   ]
  },
  {
   "cell_type": "code",
   "execution_count": 22,
   "metadata": {},
   "outputs": [
    {
     "data": {
      "text/plain": [
       "<AxesSubplot:>"
      ]
     },
     "execution_count": 22,
     "metadata": {},
     "output_type": "execute_result"
    },
    {
     "data": {
      "image/png": "[encoded data removed]",
      "text/plain": [
       "<Figure size 432x288 with 2 Axes>"
      ]
     },
     "metadata": {
      "needs_background": "light"
     },
     "output_type": "display_data"
    }
   ],
   "source": [
    "corr_for_target = data[['химшлак первый Al2O3_1',\n",
    "       'химшлак первый CaO_1', 'химшлак первый FeO_1', 'химшлак первый MgO_1',\n",
    "       'химшлак первый MnO_1', 'химшлак первый R_1', 'химшлак первый SiO2_1',\n",
    "       'химшлак последний Al2O3', 'химшлак последний CaO',\n",
    "       'химшлак последний FeO', 'химшлак последний MgO',\n",
    "       'химшлак последний MnO', 'химшлак последний R',\n",
    "       'химшлак последний SiO2']].corr()\n",
    "sns.heatmap(corr_for_target)"
   ]
  },
  {
   "cell_type": "code",
   "execution_count": 23,
   "metadata": {},
   "outputs": [],
   "source": [
    "# Проверим, что коэффиценты корреляции по модулю больше 1.5 статистически значимы\n",
    "columns = ['химшлак первый Al2O3_1',\n",
    "       'химшлак первый CaO_1', 'химшлак первый FeO_1', 'химшлак первый MgO_1',\n",
    "       'химшлак первый MnO_1', 'химшлак первый R_1', 'химшлак первый SiO2_1',\n",
    "       'химшлак последний Al2O3', 'химшлак последний CaO',\n",
    "       'химшлак последний FeO', 'химшлак последний MgO',\n",
    "       'химшлак последний MnO', 'химшлак последний R',\n",
    "       'химшлак последний SiO2']\n",
    "real_corr = []\n",
    "for k, i in enumerate(columns):\n",
    "    for j in columns[k + 1:]:\n",
    "        df = data[[i, j]].dropna()\n",
    "        corr = pearsonr(df[i].to_numpy(), df[j])\n",
    "        if  (corr[1] > 0.05) and (corr[0] > 0.15) :  \n",
    "            print(i , j, corr)"
   ]
  },
  {
   "cell_type": "markdown",
   "metadata": {},
   "source": [
    "### Наибольшие коэффиценты корреляции между переменными химшлаков"
   ]
  },
  {
   "cell_type": "code",
   "execution_count": 24,
   "metadata": {},
   "outputs": [
    {
     "data": {
      "text/html": [
       "<div>\n",
       "<style scoped>\n",
       "    .dataframe tbody tr th:only-of-type {\n",
       "        vertical-align: middle;\n",
       "    }\n",
       "\n",
       "    .dataframe tbody tr th {\n",
       "        vertical-align: top;\n",
       "    }\n",
       "\n",
       "    .dataframe thead th {\n",
       "        text-align: right;\n",
       "    }\n",
       "</style>\n",
       "<table border=\"1\" class=\"dataframe\">\n",
       "  <thead>\n",
       "    <tr style=\"text-align: right;\">\n",
       "      <th></th>\n",
       "      <th>target</th>\n",
       "      <th>corr_target</th>\n",
       "      <th>corr</th>\n",
       "    </tr>\n",
       "  </thead>\n",
       "  <tbody>\n",
       "    <tr>\n",
       "      <th>0</th>\n",
       "      <td>химшлак первый Al2O3_1</td>\n",
       "      <td>химшлак последний Al2O3</td>\n",
       "      <td>0.540</td>\n",
       "    </tr>\n",
       "    <tr>\n",
       "      <th>1</th>\n",
       "      <td>химшлак первый CaO_1</td>\n",
       "      <td>химшлак первый R_1</td>\n",
       "      <td>0.591</td>\n",
       "    </tr>\n",
       "    <tr>\n",
       "      <th>2</th>\n",
       "      <td>химшлак первый FeO_1</td>\n",
       "      <td>химшлак первый MnO_1</td>\n",
       "      <td>0.438</td>\n",
       "    </tr>\n",
       "    <tr>\n",
       "      <th>3</th>\n",
       "      <td>химшлак первый MgO_1</td>\n",
       "      <td>химшлак последний MgO</td>\n",
       "      <td>0.572</td>\n",
       "    </tr>\n",
       "    <tr>\n",
       "      <th>4</th>\n",
       "      <td>химшлак первый MnO_1</td>\n",
       "      <td>химшлак первый FeO_1</td>\n",
       "      <td>0.438</td>\n",
       "    </tr>\n",
       "    <tr>\n",
       "      <th>5</th>\n",
       "      <td>химшлак первый R_1</td>\n",
       "      <td>химшлак первый SiO2_1</td>\n",
       "      <td>-0.702</td>\n",
       "    </tr>\n",
       "    <tr>\n",
       "      <th>6</th>\n",
       "      <td>химшлак первый SiO2_1</td>\n",
       "      <td>химшлак первый R_1</td>\n",
       "      <td>-0.702</td>\n",
       "    </tr>\n",
       "    <tr>\n",
       "      <th>7</th>\n",
       "      <td>химшлак последний Al2O3</td>\n",
       "      <td>химшлак первый Al2O3_1</td>\n",
       "      <td>0.540</td>\n",
       "    </tr>\n",
       "    <tr>\n",
       "      <th>8</th>\n",
       "      <td>химшлак последний CaO</td>\n",
       "      <td>химшлак последний MgO</td>\n",
       "      <td>-0.440</td>\n",
       "    </tr>\n",
       "    <tr>\n",
       "      <th>9</th>\n",
       "      <td>химшлак последний FeO</td>\n",
       "      <td>химшлак последний MnO</td>\n",
       "      <td>0.240</td>\n",
       "    </tr>\n",
       "    <tr>\n",
       "      <th>10</th>\n",
       "      <td>химшлак последний MgO</td>\n",
       "      <td>химшлак первый MgO_1</td>\n",
       "      <td>0.572</td>\n",
       "    </tr>\n",
       "    <tr>\n",
       "      <th>11</th>\n",
       "      <td>химшлак последний MnO</td>\n",
       "      <td>химшлак последний R</td>\n",
       "      <td>-0.391</td>\n",
       "    </tr>\n",
       "    <tr>\n",
       "      <th>12</th>\n",
       "      <td>химшлак последний R</td>\n",
       "      <td>химшлак последний SiO2</td>\n",
       "      <td>-0.746</td>\n",
       "    </tr>\n",
       "    <tr>\n",
       "      <th>13</th>\n",
       "      <td>химшлак последний SiO2</td>\n",
       "      <td>химшлак последний R</td>\n",
       "      <td>-0.746</td>\n",
       "    </tr>\n",
       "  </tbody>\n",
       "</table>\n",
       "</div>"
      ],
      "text/plain": [
       "                     target              corr_target   corr\n",
       "0    химшлак первый Al2O3_1  химшлак последний Al2O3  0.540\n",
       "1      химшлак первый CaO_1       химшлак первый R_1  0.591\n",
       "2      химшлак первый FeO_1     химшлак первый MnO_1  0.438\n",
       "3      химшлак первый MgO_1    химшлак последний MgO  0.572\n",
       "4      химшлак первый MnO_1     химшлак первый FeO_1  0.438\n",
       "5        химшлак первый R_1    химшлак первый SiO2_1 -0.702\n",
       "6     химшлак первый SiO2_1       химшлак первый R_1 -0.702\n",
       "7   химшлак последний Al2O3   химшлак первый Al2O3_1  0.540\n",
       "8     химшлак последний CaO    химшлак последний MgO -0.440\n",
       "9     химшлак последний FeO    химшлак последний MnO  0.240\n",
       "10    химшлак последний MgO     химшлак первый MgO_1  0.572\n",
       "11    химшлак последний MnO      химшлак последний R -0.391\n",
       "12      химшлак последний R   химшлак последний SiO2 -0.746\n",
       "13   химшлак последний SiO2      химшлак последний R -0.746"
      ]
     },
     "execution_count": 24,
     "metadata": {},
     "output_type": "execute_result"
    }
   ],
   "source": [
    "target_name = []\n",
    "target_corr = []\n",
    "corr = []\n",
    "for name in columns:\n",
    "    df = np.abs(corr_for_target[name]).sort_values(ascending=False)\n",
    "    target_name.append(name)\n",
    "    target_corr.append(df.index[1])\n",
    "    corr.append(round(corr_for_target.loc[name, df.index[1]], 3))\n",
    "target_corr_df = pd.DataFrame({'target' : target_name, 'corr_target': target_corr, 'corr' : corr})\n",
    "target_corr_df"
   ]
  },
  {
   "cell_type": "markdown",
   "metadata": {},
   "source": [
    "Из таблицы выше видно, что химшлаки SiO2 можно восстановить по химшлакам R, однако наибольние коэффиценты корреляции у химшлаков Al2O3 между собой, значит для восстановления будем использовать следующий химшлак с сильной линейной зависимостью."
   ]
  },
  {
   "cell_type": "code",
   "execution_count": 27,
   "metadata": {},
   "outputs": [],
   "source": [
    "def brief_summary(series):\n",
    "    print(series.name, '\\nМедиана: {2}, Среднее значение: {0}, Ср.откл:{1}'.format(round(series.mean(), 3),\\\n",
    "                                                                         round(series.std(), 3),\\\n",
    "                                                                         series.median()))"
   ]
  },
  {
   "cell_type": "code",
   "execution_count": 28,
   "metadata": {},
   "outputs": [
    {
     "name": "stdout",
     "output_type": "stream",
     "text": [
      "До:\n",
      "химшлак последний SiO2 \n",
      "Медиана: 24.4, Среднее значение: 23.972, Ср.откл:2.188\n",
      "После:\n",
      "химшлак последний SiO2 \n",
      "Медиана: 24.490132729267934, Среднее значение: 24.043, Ср.откл:2.056\n",
      "До:\n",
      "химшлак первый SiO2_1 \n",
      "Медиана: 22.7, Среднее значение: 22.705, Ср.откл:2.394\n",
      "После:\n",
      "химшлак первый SiO2_1 \n",
      "Медиана: 22.777099396938347, Среднее значение: 22.702, Ср.откл:2.236\n",
      "До:\n",
      "химшлак первый Al2O3_1 \n",
      "Медиана: 4.0, Среднее значение: 4.114, Ср.откл:0.928\n",
      "После:\n",
      "химшлак первый Al2O3_1 \n",
      "Медиана: 4.067639924715721, Среднее значение: 4.114, Ср.откл:0.799\n",
      "До:\n",
      "химшлак последний Al2O3 \n",
      "Медиана: 4.5, Среднее значение: 4.598, Ср.откл:0.96\n",
      "После:\n",
      "химшлак последний Al2O3 \n",
      "Медиана: 4.474126828157326, Среднее значение: 4.581, Ср.откл:0.848\n"
     ]
    }
   ],
   "source": [
    "for target in ['химшлак последний SiO2', 'химшлак первый SiO2_1']:\n",
    "    print('До:')\n",
    "    brief_summary(data[target])\n",
    "    target_line = target_corr_df[target_corr_df.target == target]\n",
    "    X = data[target_line.iloc[0, 1]]\n",
    "    Y = data[target]\n",
    "    x_train = X[~Y.isna()].to_numpy().reshape(-1, 1)\n",
    "    y_train = Y[~Y.isna()]\n",
    "    x_test = X[Y.isna()].to_numpy().reshape(-1, 1)\n",
    "    lr = LinearRegression()\n",
    "    lr.fit(x_train, y_train)\n",
    "    data[target][Y.isna()] = lr.predict(x_test)\n",
    "    print('После:')\n",
    "    brief_summary(data[target])\n",
    "    \n",
    "for target, corr_target in zip(['химшлак первый Al2O3_1',  'химшлак последний Al2O3'] ,[ 'химшлак первый R_1', 'химшлак последний R']):\n",
    "    print('До:')\n",
    "    brief_summary(data[target])\n",
    "    X = data[corr_target]\n",
    "    Y = data[target]\n",
    "    x_train = X[~Y.isna()].to_numpy().reshape(-1, 1)\n",
    "    y_train = Y[~Y.isna()]\n",
    "    x_test = X[Y.isna()].to_numpy().reshape(-1, 1)\n",
    "    lr = LinearRegression()\n",
    "    lr.fit(x_train, y_train)\n",
    "    data[target][Y.isna()] = lr.predict(x_test)\n",
    "    print('После:')\n",
    "    brief_summary(data[target])"
   ]
  },
  {
   "cell_type": "markdown",
   "metadata": {},
   "source": [
    "Видим, что заполнение пустых значений не сильно изменило параметры распредлений данных химшлаков "
   ]
  },
  {
   "cell_type": "code",
   "execution_count": 29,
   "metadata": {},
   "outputs": [
    {
     "data": {
      "text/plain": [
       "МАРКА                      0\n",
       "химшлак последний R        0\n",
       "химсталь первый Ni_1       0\n",
       "химсталь первый P_1        0\n",
       "химсталь первый S_1        0\n",
       "                        ... \n",
       "сыпуч  шпат плав.        534\n",
       "ферспл  фх850А           561\n",
       "чист расход Cr           561\n",
       "ПСН гр.                 1195\n",
       "сыпуч известь РП        1674\n",
       "Length: 71, dtype: int64"
      ]
     },
     "execution_count": 29,
     "metadata": {},
     "output_type": "execute_result"
    }
   ],
   "source": [
    "data.isna().sum().sort_values()"
   ]
  },
  {
   "cell_type": "markdown",
   "metadata": {},
   "source": [
    "## Восстановление пропущенных значений"
   ]
  },
  {
   "cell_type": "code",
   "execution_count": 30,
   "metadata": {},
   "outputs": [],
   "source": [
    "def description(df, columns):\n",
    "    for name in columns:\n",
    "        print(name, '\\nПропущенных значений:', df[name].isna().sum(),\\\n",
    "              '(', round(df[name].isna().sum() * 100 / len(df[name]), 2)  ,'%)',\n",
    "             '\\nМедиана: {2}, Среднее значение: {0}, Ср.откл:{1}'.format(round(df[name].mean(), 3),\\\n",
    "                                                                         round(df[name].std(), 3),\\\n",
    "                                                                         df[name].median()),\\\n",
    "              '\\nУникальных значений: {}'.format(df[name].value_counts(dropna=False).count()), '\\n')\n",
    "        fig = plt.figure(figsize=(10, 8))\n",
    "        plt.subplot(221)\n",
    "        plt.hist(df[name])\n",
    "        plt.grid()\n",
    "        plt.subplot(222)\n",
    "        sns.boxplot(y=df[name])\n",
    "        plt.show()"
   ]
  },
  {
   "cell_type": "code",
   "execution_count": 31,
   "metadata": {},
   "outputs": [
    {
     "data": {
      "text/plain": [
       "(6444, 71)"
      ]
     },
     "execution_count": 31,
     "metadata": {},
     "output_type": "execute_result"
    }
   ],
   "source": [
    "data.shape"
   ]
  },
  {
   "cell_type": "code",
   "execution_count": 32,
   "metadata": {},
   "outputs": [
    {
     "data": {
      "text/html": [
       "<div>\n",
       "<style scoped>\n",
       "    .dataframe tbody tr th:only-of-type {\n",
       "        vertical-align: middle;\n",
       "    }\n",
       "\n",
       "    .dataframe tbody tr th {\n",
       "        vertical-align: top;\n",
       "    }\n",
       "\n",
       "    .dataframe thead th {\n",
       "        text-align: right;\n",
       "    }\n",
       "</style>\n",
       "<table border=\"1\" class=\"dataframe\">\n",
       "  <thead>\n",
       "    <tr style=\"text-align: right;\">\n",
       "      <th></th>\n",
       "      <th>кол-во пропуск</th>\n",
       "      <th>per</th>\n",
       "    </tr>\n",
       "  </thead>\n",
       "  <tbody>\n",
       "    <tr>\n",
       "      <th>сыпуч известь РП</th>\n",
       "      <td>1674</td>\n",
       "      <td>25.978</td>\n",
       "    </tr>\n",
       "    <tr>\n",
       "      <th>ПСН гр.</th>\n",
       "      <td>1195</td>\n",
       "      <td>18.544</td>\n",
       "    </tr>\n",
       "    <tr>\n",
       "      <th>чист расход Cr</th>\n",
       "      <td>561</td>\n",
       "      <td>8.706</td>\n",
       "    </tr>\n",
       "    <tr>\n",
       "      <th>ферспл  фх850А</th>\n",
       "      <td>561</td>\n",
       "      <td>8.706</td>\n",
       "    </tr>\n",
       "    <tr>\n",
       "      <th>сыпуч  шпат плав.</th>\n",
       "      <td>534</td>\n",
       "      <td>8.287</td>\n",
       "    </tr>\n",
       "    <tr>\n",
       "      <th>чист расход V</th>\n",
       "      <td>266</td>\n",
       "      <td>4.128</td>\n",
       "    </tr>\n",
       "    <tr>\n",
       "      <th>ферспл  FeV-80</th>\n",
       "      <td>265</td>\n",
       "      <td>4.112</td>\n",
       "    </tr>\n",
       "    <tr>\n",
       "      <th>химсталь последний Ca</th>\n",
       "      <td>226</td>\n",
       "      <td>3.507</td>\n",
       "    </tr>\n",
       "    <tr>\n",
       "      <th>ферспл CaC2</th>\n",
       "      <td>200</td>\n",
       "      <td>3.104</td>\n",
       "    </tr>\n",
       "    <tr>\n",
       "      <th>сыпуч  кокс. мелочь КМ1</th>\n",
       "      <td>137</td>\n",
       "      <td>2.126</td>\n",
       "    </tr>\n",
       "    <tr>\n",
       "      <th>ферспл SiMn18</th>\n",
       "      <td>46</td>\n",
       "      <td>0.714</td>\n",
       "    </tr>\n",
       "    <tr>\n",
       "      <th>ферспл  Mn5Si65Al0.5</th>\n",
       "      <td>44</td>\n",
       "      <td>0.683</td>\n",
       "    </tr>\n",
       "    <tr>\n",
       "      <th>сыпуч кокс пыль УСТК</th>\n",
       "      <td>22</td>\n",
       "      <td>0.341</td>\n",
       "    </tr>\n",
       "    <tr>\n",
       "      <th>расход газ Ar</th>\n",
       "      <td>18</td>\n",
       "      <td>0.279</td>\n",
       "    </tr>\n",
       "    <tr>\n",
       "      <th>Ar (интенс.)</th>\n",
       "      <td>18</td>\n",
       "      <td>0.279</td>\n",
       "    </tr>\n",
       "    <tr>\n",
       "      <th>чист расход Si</th>\n",
       "      <td>13</td>\n",
       "      <td>0.202</td>\n",
       "    </tr>\n",
       "    <tr>\n",
       "      <th>чист расход Mn</th>\n",
       "      <td>13</td>\n",
       "      <td>0.202</td>\n",
       "    </tr>\n",
       "    <tr>\n",
       "      <th>чист расход C</th>\n",
       "      <td>9</td>\n",
       "      <td>0.140</td>\n",
       "    </tr>\n",
       "    <tr>\n",
       "      <th>температура последняя</th>\n",
       "      <td>8</td>\n",
       "      <td>0.124</td>\n",
       "    </tr>\n",
       "    <tr>\n",
       "      <th>температура первая</th>\n",
       "      <td>8</td>\n",
       "      <td>0.124</td>\n",
       "    </tr>\n",
       "    <tr>\n",
       "      <th>эл. энергия</th>\n",
       "      <td>4</td>\n",
       "      <td>0.062</td>\n",
       "    </tr>\n",
       "    <tr>\n",
       "      <th>t обработка</th>\n",
       "      <td>4</td>\n",
       "      <td>0.062</td>\n",
       "    </tr>\n",
       "    <tr>\n",
       "      <th>t под током</th>\n",
       "      <td>4</td>\n",
       "      <td>0.062</td>\n",
       "    </tr>\n",
       "    <tr>\n",
       "      <th>эл. энергия (интенс.)</th>\n",
       "      <td>4</td>\n",
       "      <td>0.062</td>\n",
       "    </tr>\n",
       "    <tr>\n",
       "      <th>химсталь последний N</th>\n",
       "      <td>2</td>\n",
       "      <td>0.031</td>\n",
       "    </tr>\n",
       "    <tr>\n",
       "      <th>химсталь первый Mo_1</th>\n",
       "      <td>1</td>\n",
       "      <td>0.016</td>\n",
       "    </tr>\n",
       "    <tr>\n",
       "      <th>химсталь первый N_1</th>\n",
       "      <td>1</td>\n",
       "      <td>0.016</td>\n",
       "    </tr>\n",
       "    <tr>\n",
       "      <th>химшлак первый MgO_1</th>\n",
       "      <td>1</td>\n",
       "      <td>0.016</td>\n",
       "    </tr>\n",
       "    <tr>\n",
       "      <th>химшлак последний MgO</th>\n",
       "      <td>1</td>\n",
       "      <td>0.016</td>\n",
       "    </tr>\n",
       "  </tbody>\n",
       "</table>\n",
       "</div>"
      ],
      "text/plain": [
       "                         кол-во пропуск     per\n",
       "сыпуч известь РП                   1674  25.978\n",
       "ПСН гр.                            1195  18.544\n",
       "чист расход Cr                      561   8.706\n",
       "ферспл  фх850А                      561   8.706\n",
       "сыпуч  шпат плав.                   534   8.287\n",
       "чист расход V                       266   4.128\n",
       "ферспл  FeV-80                      265   4.112\n",
       "химсталь последний Ca               226   3.507\n",
       "ферспл CaC2                         200   3.104\n",
       "сыпуч  кокс. мелочь КМ1             137   2.126\n",
       "ферспл SiMn18                        46   0.714\n",
       "ферспл  Mn5Si65Al0.5                 44   0.683\n",
       "сыпуч кокс пыль УСТК                 22   0.341\n",
       "расход газ Ar                        18   0.279\n",
       "Ar (интенс.)                         18   0.279\n",
       "чист расход Si                       13   0.202\n",
       "чист расход Mn                       13   0.202\n",
       "чист расход C                         9   0.140\n",
       "температура последняя                 8   0.124\n",
       "температура первая                    8   0.124\n",
       "эл. энергия                           4   0.062\n",
       "t обработка                           4   0.062\n",
       "t под током                           4   0.062\n",
       "эл. энергия (интенс.)                 4   0.062\n",
       "химсталь последний N                  2   0.031\n",
       "химсталь первый Mo_1                  1   0.016\n",
       "химсталь первый N_1                   1   0.016\n",
       "химшлак первый MgO_1                  1   0.016\n",
       "химшлак последний MgO                 1   0.016"
      ]
     },
     "execution_count": 32,
     "metadata": {},
     "output_type": "execute_result"
    }
   ],
   "source": [
    "null_values = df_null_values(data)\n",
    "data_with_nan = null_values[null_values.per != 0].sort_values('per', ascending = False)\n",
    "data_with_nan"
   ]
  },
  {
   "cell_type": "code",
   "execution_count": 33,
   "metadata": {},
   "outputs": [],
   "source": [
    "df_first = data.copy()"
   ]
  },
  {
   "cell_type": "markdown",
   "metadata": {},
   "source": [
    "## сыпуч известь РП"
   ]
  },
  {
   "cell_type": "markdown",
   "metadata": {},
   "source": [
    "У данной переменной 26 % пропущенных значений. Попробуем восстановить их через внутриклассовые медианы значений"
   ]
  },
  {
   "cell_type": "code",
   "execution_count": 34,
   "metadata": {},
   "outputs": [
    {
     "data": {
      "image/png": "[encoded data removed]",
      "text/plain": [
       "<Figure size 432x288 with 1 Axes>"
      ]
     },
     "metadata": {
      "needs_background": "light"
     },
     "output_type": "display_data"
    }
   ],
   "source": [
    "ax = sns.boxplot(data=df_first, y='сыпуч известь РП' , x='МАРКА')\n",
    "ax.set_xticklabels(ax.get_xticklabels(),rotation=30);\n"
   ]
  },
  {
   "cell_type": "markdown",
   "metadata": {},
   "source": [
    "Распределние не симметричное, с длинным правым хвостом, попробуем прологарифмировать эти значения, чтобы получить более симметричное распределение."
   ]
  },
  {
   "cell_type": "code",
   "execution_count": 35,
   "metadata": {},
   "outputs": [],
   "source": [
    "df_first['ln сыпуч известь РП'] = np.log(df_first['сыпуч известь РП'])"
   ]
  },
  {
   "cell_type": "code",
   "execution_count": 36,
   "metadata": {},
   "outputs": [
    {
     "data": {
      "image/png": "[encoded data removed]",
      "text/plain": [
       "<Figure size 432x288 with 1 Axes>"
      ]
     },
     "metadata": {
      "needs_background": "light"
     },
     "output_type": "display_data"
    }
   ],
   "source": [
    "ax = sns.boxplot(data=df_first, y='ln сыпуч известь РП', x='МАРКА')\n",
    "ax.set_xticklabels(ax.get_xticklabels(),rotation=30);"
   ]
  },
  {
   "cell_type": "code",
   "execution_count": 37,
   "metadata": {},
   "outputs": [],
   "source": [
    "name = 'ln сыпуч известь РП' \n",
    "grouped = df_first[['МАРКА', name]].groupby('МАРКА')\n",
    "CaO_ln = grouped[name].transform(lambda x: x.fillna(x.median()))"
   ]
  },
  {
   "cell_type": "markdown",
   "metadata": {},
   "source": [
    "Посмотрим как изменится распределение \"сыпуч известь РП\" после подстановки пропущенных значений"
   ]
  },
  {
   "cell_type": "code",
   "execution_count": 38,
   "metadata": {},
   "outputs": [
    {
     "name": "stdout",
     "output_type": "stream",
     "text": [
      "ln сыпуч известь РП \n",
      "Медиана: 0.116, Среднее значение: 0.128, Ср.откл:0.069\n"
     ]
    }
   ],
   "source": [
    "brief_summary(np.exp(CaO_ln))"
   ]
  },
  {
   "cell_type": "code",
   "execution_count": 39,
   "metadata": {},
   "outputs": [
    {
     "name": "stdout",
     "output_type": "stream",
     "text": [
      "сыпуч известь РП \n",
      "Медиана: 0.11599999999999999, Среднее значение: 0.132, Ср.откл:0.08\n"
     ]
    }
   ],
   "source": [
    "brief_summary(data['сыпуч известь РП'])"
   ]
  },
  {
   "cell_type": "code",
   "execution_count": 40,
   "metadata": {},
   "outputs": [],
   "source": [
    "# Пармаметры распредления почти не изменились. Все ок\n",
    "data['сыпуч известь РП'] = np.exp(CaO_ln)"
   ]
  },
  {
   "cell_type": "code",
   "execution_count": 41,
   "metadata": {},
   "outputs": [
    {
     "data": {
      "text/plain": [
       "ПСН гр.                 1195\n",
       "ферспл  фх850А           561\n",
       "чист расход Cr           561\n",
       "сыпуч  шпат плав.        534\n",
       "чист расход V            266\n",
       "                        ... \n",
       "химсталь первый S_1        0\n",
       "химсталь первый P_1        0\n",
       "химсталь первый Ni_1       0\n",
       "химшлак последний R        0\n",
       "МАРКА                      0\n",
       "Length: 71, dtype: int64"
      ]
     },
     "execution_count": 41,
     "metadata": {},
     "output_type": "execute_result"
    }
   ],
   "source": [
    "data.isna().sum().sort_values(ascending=False)"
   ]
  },
  {
   "cell_type": "markdown",
   "metadata": {},
   "source": [
    "## ПСН гр. "
   ]
  },
  {
   "cell_type": "code",
   "execution_count": 42,
   "metadata": {},
   "outputs": [
    {
     "data": {
      "text/html": [
       "<div>\n",
       "<style scoped>\n",
       "    .dataframe tbody tr th:only-of-type {\n",
       "        vertical-align: middle;\n",
       "    }\n",
       "\n",
       "    .dataframe tbody tr th {\n",
       "        vertical-align: top;\n",
       "    }\n",
       "\n",
       "    .dataframe thead th {\n",
       "        text-align: right;\n",
       "    }\n",
       "</style>\n",
       "<table border=\"1\" class=\"dataframe\">\n",
       "  <thead>\n",
       "    <tr style=\"text-align: right;\">\n",
       "      <th></th>\n",
       "      <th>ПСН гр.</th>\n",
       "      <th>эл. энергия (интенс.)</th>\n",
       "    </tr>\n",
       "  </thead>\n",
       "  <tbody>\n",
       "    <tr>\n",
       "      <th>ПСН гр.</th>\n",
       "      <td>1.000000</td>\n",
       "      <td>0.459081</td>\n",
       "    </tr>\n",
       "    <tr>\n",
       "      <th>эл. энергия (интенс.)</th>\n",
       "      <td>0.459081</td>\n",
       "      <td>1.000000</td>\n",
       "    </tr>\n",
       "  </tbody>\n",
       "</table>\n",
       "</div>"
      ],
      "text/plain": [
       "                        ПСН гр.  эл. энергия (интенс.)\n",
       "ПСН гр.                1.000000               0.459081\n",
       "эл. энергия (интенс.)  0.459081               1.000000"
      ]
     },
     "execution_count": 42,
     "metadata": {},
     "output_type": "execute_result"
    }
   ],
   "source": [
    "data[['ПСН гр.', 'эл. энергия (интенс.)']].corr()"
   ]
  },
  {
   "cell_type": "code",
   "execution_count": 43,
   "metadata": {},
   "outputs": [
    {
     "data": {
      "text/plain": [
       "<seaborn.axisgrid.PairGrid at 0x1b50241eb50>"
      ]
     },
     "execution_count": 43,
     "metadata": {},
     "output_type": "execute_result"
    },
    {
     "data": {
      "image/png": "[encoded data removed]",
      "text/plain": [
       "<Figure size 360x360 with 6 Axes>"
      ]
     },
     "metadata": {
      "needs_background": "light"
     },
     "output_type": "display_data"
    }
   ],
   "source": [
    "sns.pairplot(data[['ПСН гр.', 'эл. энергия (интенс.)']])"
   ]
  },
  {
   "cell_type": "markdown",
   "metadata": {},
   "source": [
    "ПСН гр. хорошо коррелирует с \"эл. энергия (интенс.)\"\n",
    "\n",
    "Удалим \"ПСН гр.\" из датасета, так как он не очень информативен"
   ]
  },
  {
   "cell_type": "code",
   "execution_count": 44,
   "metadata": {},
   "outputs": [],
   "source": [
    "data.drop('ПСН гр.', axis=1, inplace=True)"
   ]
  },
  {
   "cell_type": "code",
   "execution_count": 45,
   "metadata": {},
   "outputs": [
    {
     "data": {
      "text/html": [
       "<div>\n",
       "<style scoped>\n",
       "    .dataframe tbody tr th:only-of-type {\n",
       "        vertical-align: middle;\n",
       "    }\n",
       "\n",
       "    .dataframe tbody tr th {\n",
       "        vertical-align: top;\n",
       "    }\n",
       "\n",
       "    .dataframe thead th {\n",
       "        text-align: right;\n",
       "    }\n",
       "</style>\n",
       "<table border=\"1\" class=\"dataframe\">\n",
       "  <thead>\n",
       "    <tr style=\"text-align: right;\">\n",
       "      <th></th>\n",
       "      <th>кол-во пропуск</th>\n",
       "      <th>per</th>\n",
       "    </tr>\n",
       "  </thead>\n",
       "  <tbody>\n",
       "    <tr>\n",
       "      <th>ферспл  фх850А</th>\n",
       "      <td>561</td>\n",
       "      <td>8.706</td>\n",
       "    </tr>\n",
       "    <tr>\n",
       "      <th>чист расход Cr</th>\n",
       "      <td>561</td>\n",
       "      <td>8.706</td>\n",
       "    </tr>\n",
       "    <tr>\n",
       "      <th>сыпуч  шпат плав.</th>\n",
       "      <td>534</td>\n",
       "      <td>8.287</td>\n",
       "    </tr>\n",
       "    <tr>\n",
       "      <th>чист расход V</th>\n",
       "      <td>266</td>\n",
       "      <td>4.128</td>\n",
       "    </tr>\n",
       "    <tr>\n",
       "      <th>ферспл  FeV-80</th>\n",
       "      <td>265</td>\n",
       "      <td>4.112</td>\n",
       "    </tr>\n",
       "  </tbody>\n",
       "</table>\n",
       "</div>"
      ],
      "text/plain": [
       "                   кол-во пропуск    per\n",
       "ферспл  фх850А                561  8.706\n",
       "чист расход Cr                561  8.706\n",
       "сыпуч  шпат плав.             534  8.287\n",
       "чист расход V                 266  4.128\n",
       "ферспл  FeV-80                265  4.112"
      ]
     },
     "execution_count": 45,
     "metadata": {},
     "output_type": "execute_result"
    }
   ],
   "source": [
    "null_values = df_null_values(data)\n",
    "data_with_nan = null_values[null_values.per != 0].sort_values('per', ascending = False)\n",
    "data_with_nan.head(5)"
   ]
  },
  {
   "cell_type": "markdown",
   "metadata": {},
   "source": [
    "### Переменные: чист расход Cr, сыпуч  шпат плав., ферспл  фх850А"
   ]
  },
  {
   "cell_type": "code",
   "execution_count": 46,
   "metadata": {},
   "outputs": [],
   "source": [
    "num_line_by_marka = data['МАРКА'].value_counts().sort_index()"
   ]
  },
  {
   "cell_type": "code",
   "execution_count": 47,
   "metadata": {},
   "outputs": [
    {
     "data": {
      "text/html": [
       "<div>\n",
       "<style scoped>\n",
       "    .dataframe tbody tr th:only-of-type {\n",
       "        vertical-align: middle;\n",
       "    }\n",
       "\n",
       "    .dataframe tbody tr th {\n",
       "        vertical-align: top;\n",
       "    }\n",
       "\n",
       "    .dataframe thead th {\n",
       "        text-align: right;\n",
       "    }\n",
       "</style>\n",
       "<table border=\"1\" class=\"dataframe\">\n",
       "  <thead>\n",
       "    <tr style=\"text-align: right;\">\n",
       "      <th></th>\n",
       "      <th>Cr_nan</th>\n",
       "      <th>fx850_nan</th>\n",
       "      <th>num_line_in_makr</th>\n",
       "      <th>сыпуч  шпат плав.</th>\n",
       "    </tr>\n",
       "    <tr>\n",
       "      <th>marka</th>\n",
       "      <th></th>\n",
       "      <th></th>\n",
       "      <th></th>\n",
       "      <th></th>\n",
       "    </tr>\n",
       "  </thead>\n",
       "  <tbody>\n",
       "    <tr>\n",
       "      <th>Другие</th>\n",
       "      <td>543</td>\n",
       "      <td>543</td>\n",
       "      <td>666</td>\n",
       "      <td>103</td>\n",
       "    </tr>\n",
       "    <tr>\n",
       "      <th>Э76ХФ</th>\n",
       "      <td>15</td>\n",
       "      <td>15</td>\n",
       "      <td>4432</td>\n",
       "      <td>316</td>\n",
       "    </tr>\n",
       "    <tr>\n",
       "      <th>Э90ХАФ</th>\n",
       "      <td>3</td>\n",
       "      <td>3</td>\n",
       "      <td>1346</td>\n",
       "      <td>115</td>\n",
       "    </tr>\n",
       "  </tbody>\n",
       "</table>\n",
       "</div>"
      ],
      "text/plain": [
       "        Cr_nan  fx850_nan  num_line_in_makr  сыпуч  шпат плав.\n",
       "marka                                                         \n",
       "Другие     543        543               666                103\n",
       "Э76ХФ       15         15              4432                316\n",
       "Э90ХАФ       3          3              1346                115"
      ]
     },
     "execution_count": 47,
     "metadata": {},
     "output_type": "execute_result"
    }
   ],
   "source": [
    "Cr_nan = pd.DataFrame({'marka': data['МАРКА'], 'Cr': data['чист расход Cr'].isna(),'fx850': data['ферспл  фх850А'].isna(),\n",
    "                      'сыпуч  шпат плав.': data[ 'сыпуч  шпат плав.'].isna() }).groupby('marka')[['Cr','fx850', 'сыпуч  шпат плав.']].sum().sort_index()\n",
    "Cr_nan\n",
    "check_with_Cr = pd.DataFrame({'Cr_nan': Cr_nan.Cr, 'fx850_nan' : Cr_nan.fx850, 'num_line_in_makr' : num_line_by_marka, 'сыпуч  шпат плав.': Cr_nan['сыпуч  шпат плав.'] })\n",
    "check_with_Cr"
   ]
  },
  {
   "cell_type": "code",
   "execution_count": 48,
   "metadata": {},
   "outputs": [
    {
     "name": "stdout",
     "output_type": "stream",
     "text": [
      "сыпуч  шпат плав. \n",
      "Медиана: 0.048, Среднее значение: 0.055, Ср.откл:0.024\n"
     ]
    }
   ],
   "source": [
    "brief_summary(data['сыпуч  шпат плав.'])"
   ]
  },
  {
   "cell_type": "code",
   "execution_count": 49,
   "metadata": {},
   "outputs": [],
   "source": [
    "data['сыпуч  шпат плав.'].fillna(0, inplace=True)"
   ]
  },
  {
   "cell_type": "code",
   "execution_count": 50,
   "metadata": {},
   "outputs": [
    {
     "name": "stdout",
     "output_type": "stream",
     "text": [
      "сыпуч  шпат плав. \n",
      "Медиана: 0.047, Среднее значение: 0.05, Ср.откл:0.027\n"
     ]
    }
   ],
   "source": [
    "brief_summary(data['сыпуч  шпат плав.'])"
   ]
  },
  {
   "cell_type": "code",
   "execution_count": 51,
   "metadata": {},
   "outputs": [
    {
     "data": {
      "text/html": [
       "<div>\n",
       "<style scoped>\n",
       "    .dataframe tbody tr th:only-of-type {\n",
       "        vertical-align: middle;\n",
       "    }\n",
       "\n",
       "    .dataframe tbody tr th {\n",
       "        vertical-align: top;\n",
       "    }\n",
       "\n",
       "    .dataframe thead tr th {\n",
       "        text-align: left;\n",
       "    }\n",
       "\n",
       "    .dataframe thead tr:last-of-type th {\n",
       "        text-align: right;\n",
       "    }\n",
       "</style>\n",
       "<table border=\"1\" class=\"dataframe\">\n",
       "  <thead>\n",
       "    <tr>\n",
       "      <th></th>\n",
       "      <th colspan=\"3\" halign=\"left\">чист расход Cr</th>\n",
       "    </tr>\n",
       "    <tr>\n",
       "      <th></th>\n",
       "      <th>mean</th>\n",
       "      <th>median</th>\n",
       "      <th>std</th>\n",
       "    </tr>\n",
       "    <tr>\n",
       "      <th>МАРКА</th>\n",
       "      <th></th>\n",
       "      <th></th>\n",
       "      <th></th>\n",
       "    </tr>\n",
       "  </thead>\n",
       "  <tbody>\n",
       "    <tr>\n",
       "      <th>Другие</th>\n",
       "      <td>0.127993</td>\n",
       "      <td>0.117738</td>\n",
       "      <td>0.071761</td>\n",
       "    </tr>\n",
       "    <tr>\n",
       "      <th>Э76ХФ</th>\n",
       "      <td>0.125202</td>\n",
       "      <td>0.125840</td>\n",
       "      <td>0.027272</td>\n",
       "    </tr>\n",
       "    <tr>\n",
       "      <th>Э90ХАФ</th>\n",
       "      <td>0.092049</td>\n",
       "      <td>0.092518</td>\n",
       "      <td>0.024586</td>\n",
       "    </tr>\n",
       "  </tbody>\n",
       "</table>\n",
       "</div>"
      ],
      "text/plain": [
       "       чист расход Cr                    \n",
       "                 mean    median       std\n",
       "МАРКА                                    \n",
       "Другие       0.127993  0.117738  0.071761\n",
       "Э76ХФ        0.125202  0.125840  0.027272\n",
       "Э90ХАФ       0.092049  0.092518  0.024586"
      ]
     },
     "execution_count": 51,
     "metadata": {},
     "output_type": "execute_result"
    }
   ],
   "source": [
    " data[['МАРКА', 'чист расход Cr']].groupby('МАРКА').agg(['mean', 'median', 'std'])"
   ]
  },
  {
   "cell_type": "code",
   "execution_count": 52,
   "metadata": {},
   "outputs": [
    {
     "name": "stdout",
     "output_type": "stream",
     "text": [
      "чист расход Cr \n",
      "Медиана: 0.11877, Среднее значение: 0.118, Ср.откл:0.032\n",
      "чист расход Cr \n",
      "Медиана: 0.11773800000000001, Среднее значение: 0.118, Ср.откл:0.03\n"
     ]
    }
   ],
   "source": [
    "brief_summary(data['чист расход Cr'])\n",
    "grouped = data[['МАРКА', 'чист расход Cr']].groupby('МАРКА')\n",
    "data['чист расход Cr'] = grouped['чист расход Cr'].transform(lambda x: x.fillna(x.median()))\n",
    "brief_summary(data['чист расход Cr'])"
   ]
  },
  {
   "cell_type": "code",
   "execution_count": 53,
   "metadata": {},
   "outputs": [
    {
     "data": {
      "text/html": [
       "<div>\n",
       "<style scoped>\n",
       "    .dataframe tbody tr th:only-of-type {\n",
       "        vertical-align: middle;\n",
       "    }\n",
       "\n",
       "    .dataframe tbody tr th {\n",
       "        vertical-align: top;\n",
       "    }\n",
       "\n",
       "    .dataframe thead tr th {\n",
       "        text-align: left;\n",
       "    }\n",
       "\n",
       "    .dataframe thead tr:last-of-type th {\n",
       "        text-align: right;\n",
       "    }\n",
       "</style>\n",
       "<table border=\"1\" class=\"dataframe\">\n",
       "  <thead>\n",
       "    <tr>\n",
       "      <th></th>\n",
       "      <th colspan=\"3\" halign=\"left\">ферспл  фх850А</th>\n",
       "    </tr>\n",
       "    <tr>\n",
       "      <th></th>\n",
       "      <th>mean</th>\n",
       "      <th>median</th>\n",
       "      <th>std</th>\n",
       "    </tr>\n",
       "    <tr>\n",
       "      <th>МАРКА</th>\n",
       "      <th></th>\n",
       "      <th></th>\n",
       "      <th></th>\n",
       "    </tr>\n",
       "  </thead>\n",
       "  <tbody>\n",
       "    <tr>\n",
       "      <th>Другие</th>\n",
       "      <td>0.225358</td>\n",
       "      <td>0.206</td>\n",
       "      <td>0.126888</td>\n",
       "    </tr>\n",
       "    <tr>\n",
       "      <th>Э76ХФ</th>\n",
       "      <td>0.221376</td>\n",
       "      <td>0.223</td>\n",
       "      <td>0.048403</td>\n",
       "    </tr>\n",
       "    <tr>\n",
       "      <th>Э90ХАФ</th>\n",
       "      <td>0.162588</td>\n",
       "      <td>0.163</td>\n",
       "      <td>0.043999</td>\n",
       "    </tr>\n",
       "  </tbody>\n",
       "</table>\n",
       "</div>"
      ],
      "text/plain": [
       "       ферспл  фх850А                 \n",
       "                 mean median       std\n",
       "МАРКА                                 \n",
       "Другие       0.225358  0.206  0.126888\n",
       "Э76ХФ        0.221376  0.223  0.048403\n",
       "Э90ХАФ       0.162588  0.163  0.043999"
      ]
     },
     "execution_count": 53,
     "metadata": {},
     "output_type": "execute_result"
    }
   ],
   "source": [
    " data[['МАРКА', 'ферспл  фх850А']].groupby('МАРКА').agg(['mean', 'median', 'std'])"
   ]
  },
  {
   "cell_type": "code",
   "execution_count": 54,
   "metadata": {},
   "outputs": [
    {
     "name": "stdout",
     "output_type": "stream",
     "text": [
      "ферспл  фх850А \n",
      "Медиана: 0.21, Среднее значение: 0.208, Ср.откл:0.056\n",
      "ферспл  фх850А \n",
      "Медиана: 0.20600000000000002, Среднее значение: 0.208, Ср.откл:0.054\n"
     ]
    }
   ],
   "source": [
    "brief_summary(data['ферспл  фх850А'])\n",
    "grouped = data[['МАРКА', 'ферспл  фх850А']].groupby('МАРКА')\n",
    "data['ферспл  фх850А'] = grouped['ферспл  фх850А'].transform(lambda x: x.fillna(x.median()))\n",
    "brief_summary(data['ферспл  фх850А'])"
   ]
  },
  {
   "cell_type": "markdown",
   "metadata": {},
   "source": [
    "## Остальные пропущенные значения заполним медианами"
   ]
  },
  {
   "cell_type": "code",
   "execution_count": 55,
   "metadata": {},
   "outputs": [],
   "source": [
    "df = data.isna().sum().sort_values(ascending=False)\n",
    "df = df[df != 0]\n",
    "df\n",
    "data.dropna(axis=0, subset=['химшлак первый MgO_1', 'химшлак последний MgO'], inplace=True)"
   ]
  },
  {
   "cell_type": "code",
   "execution_count": 56,
   "metadata": {},
   "outputs": [
    {
     "data": {
      "image/png": "[encoded data removed]",
      "text/plain": [
       "<Figure size 1440x1440 with 25 Axes>"
      ]
     },
     "metadata": {
      "needs_background": "light"
     },
     "output_type": "display_data"
    }
   ],
   "source": [
    "df = data.isna().sum().sort_values(ascending=False)\n",
    "df = df[df != 0]\n",
    "data[df.index].hist(figsize=(20,20));"
   ]
  },
  {
   "cell_type": "code",
   "execution_count": 57,
   "metadata": {},
   "outputs": [],
   "source": [
    "data[df.index] = data[df.index].apply(lambda x : x.fillna(x.median()))"
   ]
  },
  {
   "cell_type": "markdown",
   "metadata": {},
   "source": [
    "### Удаление неинформативных признаков"
   ]
  },
  {
   "cell_type": "code",
   "execution_count": 58,
   "metadata": {},
   "outputs": [
    {
     "data": {
      "text/plain": [
       "произв количество плавок (цел)    0.000000\n",
       "произв  количество плавок         0.000000\n",
       "сыпуч кокс пыль УСТК              1.000078\n",
       "химсталь первый Ti_1              1.000078\n",
       "химсталь первый V_1               1.000078\n",
       "                                    ...   \n",
       "химшлак последний FeO             1.000078\n",
       "химсталь последний Mo             1.000078\n",
       "химсталь последний Ti             1.000078\n",
       "произв количество обработок       1.000078\n",
       "ферспл CaC2                       1.000078\n",
       "Length: 69, dtype: float64"
      ]
     },
     "execution_count": 58,
     "metadata": {},
     "output_type": "execute_result"
    }
   ],
   "source": [
    "# Нормирование и вариативность признаков\n",
    "scaler = StandardScaler()\n",
    "scaler.fit(data.iloc[:,1:])\n",
    "feature_selection = scaler.transform(data.iloc[:,1:])\n",
    "# data.iloc[:, 1: ] = feature_selection\n",
    "std_df = pd.DataFrame(feature_selection, columns=data.iloc[:, 1:].columns).std()\n",
    "std_df.sort_values(ascending=True)"
   ]
  },
  {
   "cell_type": "code",
   "execution_count": 59,
   "metadata": {},
   "outputs": [],
   "source": [
    "data.drop(['произв количество плавок (цел)', 'произв  количество плавок'], inplace=True, axis=1)"
   ]
  },
  {
   "cell_type": "code",
   "execution_count": 60,
   "metadata": {},
   "outputs": [
    {
     "data": {
      "text/plain": [
       "(6443, 68)"
      ]
     },
     "execution_count": 60,
     "metadata": {},
     "output_type": "execute_result"
    }
   ],
   "source": [
    "data.shape"
   ]
  },
  {
   "cell_type": "markdown",
   "metadata": {},
   "source": [
    "### Из (7041, 84) значений у нас осталось (6443, 68)\n",
    "\n",
    "1. Из 18 марок сталей сформировали 3 класса: Э76ХФ, Э90ХАФ и другие - объединение остальных классов, чтобы сделать более сбалансированную выборку\n",
    "\n",
    "2. Удалили неинформативные признаки и признаки с более 70 % пропусками\n",
    "\n",
    "3. Мы удалили 598 элементов, 597 из них - это строки, в которых остуствовали значений 37 признаков, включая целевые переменны. Еще один элемент не имел значения по химпшлаку MnO.\n",
    "\n",
    "4. В итоге у химшлаков AL2O3 и SiO отсутсвовало 26 %. Восстановили их с помощью химшлака R, так как наблюдаетя линейная зависимость. \n",
    "\n",
    "5. 'Cыпуч известь РП' и 'ПСН гр.' не было 25 % данных. 'ферспл фх850А, чист расход Cr, 'сыпуч шпат плав.' не было 8 % данных.\t Восстановили их с помощью внутриклассовой медианы по маркам. Остальные восстановили медианой признака."
   ]
  },
  {
   "cell_type": "markdown",
   "metadata": {},
   "source": [
    "## Выбросы"
   ]
  },
  {
   "cell_type": "code",
   "execution_count": 61,
   "metadata": {},
   "outputs": [
    {
     "data": {
      "text/plain": [
       "(6195, 68)"
      ]
     },
     "execution_count": 61,
     "metadata": {},
     "output_type": "execute_result"
    }
   ],
   "source": [
    "# удаление выбросов\n",
    "out_forest = IsolationForest()\n",
    "out_forest.fit(data.iloc[:, 1:])\n",
    "outlier_predicted = out_forest.predict(data.iloc[:, 1:])\n",
    "ready_df = data[outlier_predicted == 1].copy()\n",
    "ready_df.shape"
   ]
  },
  {
   "cell_type": "code",
   "execution_count": 62,
   "metadata": {},
   "outputs": [
    {
     "data": {
      "text/plain": [
       "6195"
      ]
     },
     "execution_count": 62,
     "metadata": {},
     "output_type": "execute_result"
    }
   ],
   "source": [
    "(outlier_predicted == 1).sum()"
   ]
  },
  {
   "cell_type": "markdown",
   "metadata": {},
   "source": [
    "## Отбор признаков"
   ]
  },
  {
   "cell_type": "code",
   "execution_count": 63,
   "metadata": {},
   "outputs": [
    {
     "data": {
      "text/plain": [
       "(6443, 68)"
      ]
     },
     "execution_count": 63,
     "metadata": {},
     "output_type": "execute_result"
    }
   ],
   "source": [
    "ready_df = data.copy()\n",
    "ready_df.shape"
   ]
  },
  {
   "cell_type": "code",
   "execution_count": 64,
   "metadata": {},
   "outputs": [],
   "source": [
    "target = ready_df[['химшлак последний Al2O3', 'химшлак последний CaO',\n",
    "       'химшлак последний FeO', 'химшлак последний MgO',\n",
    "       'химшлак последний MnO', 'химшлак последний R',\n",
    "       'химшлак последний SiO2']]\n",
    "X = ready_df.drop(['химшлак последний Al2O3', 'химшлак последний CaO',\n",
    "       'химшлак последний FeO', 'химшлак последний MgO',\n",
    "       'химшлак последний MnO', 'химшлак последний R',\n",
    "       'химшлак последний SiO2'], axis=1)\n",
    "\n",
    "scaler = StandardScaler()\n",
    "scaler.fit(X.iloc[:, 1:])\n",
    "feature_selection = scaler.transform(X.iloc[:,1:])\n",
    "X.iloc[:, 1:] = feature_selection"
   ]
  },
  {
   "cell_type": "code",
   "execution_count": 67,
   "metadata": {},
   "outputs": [],
   "source": [
    "target.to_csv('target_data')"
   ]
  },
  {
   "cell_type": "code",
   "execution_count": 68,
   "metadata": {},
   "outputs": [
    {
     "data": {
      "text/plain": [
       "<AxesSubplot:>"
      ]
     },
     "execution_count": 68,
     "metadata": {},
     "output_type": "execute_result"
    },
    {
     "data": {
      "image/png": "[encoded data removed]",
      "text/plain": [
       "<Figure size 432x288 with 2 Axes>"
      ]
     },
     "metadata": {
      "needs_background": "light"
     },
     "output_type": "display_data"
    }
   ],
   "source": [
    "sns.heatmap(target.corr(), annot=True)"
   ]
  },
  {
   "cell_type": "markdown",
   "metadata": {},
   "source": [
    "химшлак последний Al2O3, химшлак последний SiO2 мы дополняли, поэтому использовать их для обучения не самый лучший вариант\n",
    "\n",
    "Al2O3 <- R (corr = 0.46)\n",
    "\n",
    "SiO2 <- R (corr = -0.79)\n",
    "\n",
    "CaO <- MgO <- R // CaO <- MgO (corr = -0.44), MgO <- R (corr = -0.47)\n",
    "\n",
    "FeO <- MnO <- R //  FeO <- MnO (corr = 0.24), MgO <- R (corr = -0.39)"
   ]
  },
  {
   "cell_type": "markdown",
   "metadata": {},
   "source": [
    "#### Поэтому изначально наша целевая переменная химшлак R"
   ]
  },
  {
   "cell_type": "code",
   "execution_count": 69,
   "metadata": {},
   "outputs": [],
   "source": [
    "y = ready_df['химшлак последний R'] "
   ]
  },
  {
   "cell_type": "code",
   "execution_count": 70,
   "metadata": {},
   "outputs": [
    {
     "data": {
      "text/plain": [
       "(6443, 61)"
      ]
     },
     "execution_count": 70,
     "metadata": {},
     "output_type": "execute_result"
    }
   ],
   "source": [
    "X.shape"
   ]
  },
  {
   "cell_type": "code",
   "execution_count": 71,
   "metadata": {},
   "outputs": [
    {
     "data": {
      "text/html": [
       "<div>\n",
       "<style scoped>\n",
       "    .dataframe tbody tr th:only-of-type {\n",
       "        vertical-align: middle;\n",
       "    }\n",
       "\n",
       "    .dataframe tbody tr th {\n",
       "        vertical-align: top;\n",
       "    }\n",
       "\n",
       "    .dataframe thead th {\n",
       "        text-align: right;\n",
       "    }\n",
       "</style>\n",
       "<table border=\"1\" class=\"dataframe\">\n",
       "  <thead>\n",
       "    <tr style=\"text-align: right;\">\n",
       "      <th></th>\n",
       "      <th>t вып-обр</th>\n",
       "      <th>t обработка</th>\n",
       "      <th>t под током</th>\n",
       "      <th>t продувка</th>\n",
       "      <th>чист расход C</th>\n",
       "      <th>чист расход Cr</th>\n",
       "      <th>чист расход Mn</th>\n",
       "      <th>чист расход Si</th>\n",
       "      <th>чист расход V</th>\n",
       "      <th>температура первая</th>\n",
       "      <th>...</th>\n",
       "      <th>химшлак первый Al2O3_1</th>\n",
       "      <th>химшлак первый CaO_1</th>\n",
       "      <th>химшлак первый FeO_1</th>\n",
       "      <th>химшлак первый MgO_1</th>\n",
       "      <th>химшлак первый MnO_1</th>\n",
       "      <th>химшлак первый R_1</th>\n",
       "      <th>химшлак первый SiO2_1</th>\n",
       "      <th>МАРКА_Другие</th>\n",
       "      <th>МАРКА_Э76ХФ</th>\n",
       "      <th>МАРКА_Э90ХАФ</th>\n",
       "    </tr>\n",
       "  </thead>\n",
       "  <tbody>\n",
       "    <tr>\n",
       "      <th>0</th>\n",
       "      <td>0.169080</td>\n",
       "      <td>-0.083671</td>\n",
       "      <td>0.712904</td>\n",
       "      <td>-0.522521</td>\n",
       "      <td>0.585533</td>\n",
       "      <td>-1.925527</td>\n",
       "      <td>-0.410057</td>\n",
       "      <td>-0.625557</td>\n",
       "      <td>-0.457474</td>\n",
       "      <td>-0.466264</td>\n",
       "      <td>...</td>\n",
       "      <td>0.093636</td>\n",
       "      <td>1.819940</td>\n",
       "      <td>0.553765</td>\n",
       "      <td>-2.228470</td>\n",
       "      <td>-0.353759</td>\n",
       "      <td>0.553238</td>\n",
       "      <td>-0.418327</td>\n",
       "      <td>0</td>\n",
       "      <td>1</td>\n",
       "      <td>0</td>\n",
       "    </tr>\n",
       "    <tr>\n",
       "      <th>1</th>\n",
       "      <td>-0.033057</td>\n",
       "      <td>-0.215307</td>\n",
       "      <td>-1.501740</td>\n",
       "      <td>-0.207385</td>\n",
       "      <td>-0.480940</td>\n",
       "      <td>-1.125049</td>\n",
       "      <td>0.414180</td>\n",
       "      <td>-0.490570</td>\n",
       "      <td>-0.496740</td>\n",
       "      <td>1.437911</td>\n",
       "      <td>...</td>\n",
       "      <td>-0.108915</td>\n",
       "      <td>0.788105</td>\n",
       "      <td>0.132309</td>\n",
       "      <td>-1.892308</td>\n",
       "      <td>-0.289082</td>\n",
       "      <td>-0.642907</td>\n",
       "      <td>0.486205</td>\n",
       "      <td>0</td>\n",
       "      <td>1</td>\n",
       "      <td>0</td>\n",
       "    </tr>\n",
       "    <tr>\n",
       "      <th>2</th>\n",
       "      <td>-0.167814</td>\n",
       "      <td>-0.287876</td>\n",
       "      <td>-0.643215</td>\n",
       "      <td>-0.281840</td>\n",
       "      <td>-0.784063</td>\n",
       "      <td>-1.199512</td>\n",
       "      <td>-0.127848</td>\n",
       "      <td>0.225792</td>\n",
       "      <td>-0.426059</td>\n",
       "      <td>1.091698</td>\n",
       "      <td>...</td>\n",
       "      <td>0.093636</td>\n",
       "      <td>0.688890</td>\n",
       "      <td>0.132309</td>\n",
       "      <td>-0.855807</td>\n",
       "      <td>-0.353759</td>\n",
       "      <td>0.553238</td>\n",
       "      <td>-0.418327</td>\n",
       "      <td>0</td>\n",
       "      <td>1</td>\n",
       "      <td>0</td>\n",
       "    </tr>\n",
       "    <tr>\n",
       "      <th>3</th>\n",
       "      <td>-0.639466</td>\n",
       "      <td>-0.000977</td>\n",
       "      <td>-0.250746</td>\n",
       "      <td>0.012517</td>\n",
       "      <td>-0.276151</td>\n",
       "      <td>0.513139</td>\n",
       "      <td>1.564590</td>\n",
       "      <td>0.840108</td>\n",
       "      <td>-0.406444</td>\n",
       "      <td>0.918591</td>\n",
       "      <td>...</td>\n",
       "      <td>-0.007640</td>\n",
       "      <td>1.046063</td>\n",
       "      <td>-0.429633</td>\n",
       "      <td>-1.472104</td>\n",
       "      <td>-0.386098</td>\n",
       "      <td>-0.044835</td>\n",
       "      <td>0.033939</td>\n",
       "      <td>0</td>\n",
       "      <td>1</td>\n",
       "      <td>0</td>\n",
       "    </tr>\n",
       "    <tr>\n",
       "      <th>4</th>\n",
       "      <td>-0.437329</td>\n",
       "      <td>0.233605</td>\n",
       "      <td>-0.835945</td>\n",
       "      <td>0.253198</td>\n",
       "      <td>-0.145222</td>\n",
       "      <td>-0.417650</td>\n",
       "      <td>0.576006</td>\n",
       "      <td>0.302539</td>\n",
       "      <td>-0.456170</td>\n",
       "      <td>1.264805</td>\n",
       "      <td>...</td>\n",
       "      <td>-0.007640</td>\n",
       "      <td>1.006378</td>\n",
       "      <td>-0.008177</td>\n",
       "      <td>-1.948335</td>\n",
       "      <td>-0.353759</td>\n",
       "      <td>-0.044835</td>\n",
       "      <td>0.033939</td>\n",
       "      <td>0</td>\n",
       "      <td>1</td>\n",
       "      <td>0</td>\n",
       "    </tr>\n",
       "  </tbody>\n",
       "</table>\n",
       "<p>5 rows × 63 columns</p>\n",
       "</div>"
      ],
      "text/plain": [
       "   t вып-обр  t обработка  t под током  t продувка  чист расход C  \\\n",
       "0   0.169080    -0.083671     0.712904   -0.522521       0.585533   \n",
       "1  -0.033057    -0.215307    -1.501740   -0.207385      -0.480940   \n",
       "2  -0.167814    -0.287876    -0.643215   -0.281840      -0.784063   \n",
       "3  -0.639466    -0.000977    -0.250746    0.012517      -0.276151   \n",
       "4  -0.437329     0.233605    -0.835945    0.253198      -0.145222   \n",
       "\n",
       "   чист расход Cr  чист расход Mn  чист расход Si  чист расход V  \\\n",
       "0       -1.925527       -0.410057       -0.625557      -0.457474   \n",
       "1       -1.125049        0.414180       -0.490570      -0.496740   \n",
       "2       -1.199512       -0.127848        0.225792      -0.426059   \n",
       "3        0.513139        1.564590        0.840108      -0.406444   \n",
       "4       -0.417650        0.576006        0.302539      -0.456170   \n",
       "\n",
       "   температура первая  ...  химшлак первый Al2O3_1  химшлак первый CaO_1  \\\n",
       "0           -0.466264  ...                0.093636              1.819940   \n",
       "1            1.437911  ...               -0.108915              0.788105   \n",
       "2            1.091698  ...                0.093636              0.688890   \n",
       "3            0.918591  ...               -0.007640              1.046063   \n",
       "4            1.264805  ...               -0.007640              1.006378   \n",
       "\n",
       "   химшлак первый FeO_1  химшлак первый MgO_1  химшлак первый MnO_1  \\\n",
       "0              0.553765             -2.228470             -0.353759   \n",
       "1              0.132309             -1.892308             -0.289082   \n",
       "2              0.132309             -0.855807             -0.353759   \n",
       "3             -0.429633             -1.472104             -0.386098   \n",
       "4             -0.008177             -1.948335             -0.353759   \n",
       "\n",
       "   химшлак первый R_1  химшлак первый SiO2_1  МАРКА_Другие  МАРКА_Э76ХФ  \\\n",
       "0            0.553238              -0.418327             0            1   \n",
       "1           -0.642907               0.486205             0            1   \n",
       "2            0.553238              -0.418327             0            1   \n",
       "3           -0.044835               0.033939             0            1   \n",
       "4           -0.044835               0.033939             0            1   \n",
       "\n",
       "   МАРКА_Э90ХАФ  \n",
       "0             0  \n",
       "1             0  \n",
       "2             0  \n",
       "3             0  \n",
       "4             0  \n",
       "\n",
       "[5 rows x 63 columns]"
      ]
     },
     "execution_count": 71,
     "metadata": {},
     "output_type": "execute_result"
    }
   ],
   "source": [
    "X = pd.get_dummies(X)\n",
    "X.head()"
   ]
  },
  {
   "cell_type": "code",
   "execution_count": 72,
   "metadata": {},
   "outputs": [
    {
     "data": {
      "text/plain": [
       "0.27698373591349557"
      ]
     },
     "execution_count": 72,
     "metadata": {},
     "output_type": "execute_result"
    }
   ],
   "source": [
    "lg_R = LinearRegression()\n",
    "cross_val_score(lg_R, X, y, cv=5).mean()"
   ]
  },
  {
   "cell_type": "code",
   "execution_count": 73,
   "metadata": {},
   "outputs": [
    {
     "data": {
      "text/plain": [
       "-0.03439997552853633"
      ]
     },
     "execution_count": 73,
     "metadata": {},
     "output_type": "execute_result"
    }
   ],
   "source": [
    "lg_R = LinearRegression()\n",
    "cross_val_score(lg_R, X, y, scoring='neg_mean_squared_error',cv=5).mean()"
   ]
  },
  {
   "cell_type": "code",
   "execution_count": 74,
   "metadata": {},
   "outputs": [],
   "source": [
    "#По результат линейной регрессии определяем, \n",
    "# какой порог коэффицента корреляция выбрать для удаления линейно зависимых признаков\n",
    "\n",
    "# for C in np.linspace(0.5, 1, 11):\n",
    "#     temp_df = abs(X.iloc[:, :-3].corr()) > C\n",
    "#     maybe_remove_col = []\n",
    "#     for k, i in enumerate(temp_df.columns.to_list()):\n",
    "#         for j in temp_df.columns.to_list()[k + 1 :]:\n",
    "#             if temp_df.loc[j, i] :\n",
    "#     #             print(i, j)\n",
    "#                 maybe_remove_col.append(i)\n",
    "#     maybe_remove_col = set(maybe_remove_col)\n",
    "#     print('\\nудалим', len(maybe_remove_col), 'признаков')\n",
    "\n",
    "#     lg_R = LinearRegression()\n",
    "#     print('корреляция ', C , 'r2:', round(cross_val_score(lg_R, X.drop(maybe_remove_col, axis=1),\\\n",
    "#                                                                y, scoring='r2', cv=5).mean(), 4))"
   ]
  },
  {
   "cell_type": "code",
   "execution_count": 75,
   "metadata": {},
   "outputs": [
    {
     "name": "stdout",
     "output_type": "stream",
     "text": [
      "Выбрали пороговое значеие корреляции: 0.9 \n",
      "удалим 9 признаков\n",
      "{'химсталь первый P_1', 'химсталь первый Cr_1', 't обработка', 'чист расход Mn', 'химсталь первый Ni_1', 'чист расход Cr', 't под током', 'химсталь первый Cu_1', 'чист расход V'}\n",
      "r2: 0.2763\n"
     ]
    }
   ],
   "source": [
    "features_corr = X.iloc[:, :-3].corr()\n",
    "temp_df = abs(features_corr) > 0.95\n",
    "maybe_remove_col = []\n",
    "for k, i in enumerate(temp_df.columns.to_list()):\n",
    "    for j in temp_df.columns.to_list()[k + 1 :]:\n",
    "        if temp_df.loc[j, i] :\n",
    "#             print(i, j, round(features_corr.loc[j, i], 2))\n",
    "            maybe_remove_col.append(i)\n",
    "maybe_remove_col = set(maybe_remove_col)\n",
    "print('Выбрали пороговое значеие корреляции:', 0.9, '\\nудалим', len(maybe_remove_col), 'признаков')\n",
    "print(maybe_remove_col)\n",
    "lg_R = LinearRegression()\n",
    "print('r2:', round(cross_val_score(lg_R, X.drop(maybe_remove_col, axis=1), y, scoring='r2', cv=5).mean(),4))"
   ]
  },
  {
   "cell_type": "code",
   "execution_count": 76,
   "metadata": {},
   "outputs": [
    {
     "data": {
      "text/plain": [
       "(6443, 54)"
      ]
     },
     "execution_count": 76,
     "metadata": {},
     "output_type": "execute_result"
    }
   ],
   "source": [
    "X_without_ld = X.drop(maybe_remove_col, axis=1)\n",
    "X_without_ld.shape"
   ]
  },
  {
   "cell_type": "code",
   "execution_count": 77,
   "metadata": {},
   "outputs": [],
   "source": [
    "X.to_csv('features_data')\n",
    "X_without_ld.to_csv('features_data_without_ld')"
   ]
  },
  {
   "cell_type": "code",
   "execution_count": 78,
   "metadata": {},
   "outputs": [
    {
     "name": "stdout",
     "output_type": "stream",
     "text": [
      "mse: 0.0341\n",
      "\n",
      "химшлак R предсказанный\n",
      "Медиана: 2.366, Среднее значение: 2.37, Ср.откл:0.15\n",
      "\n",
      "химшлак R initial\n",
      "Медиана: 2.3, Среднее значение: 2.363, Ср.откл:0.224\n"
     ]
    }
   ],
   "source": [
    "def brief_summary(series):\n",
    "    print('Медиана: {2}, Среднее значение: {0}, Ср.откл:{1}'.format(round(series.mean(), 3),\\\n",
    "                                                                         round(series.std(), 3),\\\n",
    "                                                                         round(np.median(series),3)))\n",
    "\n",
    "lg_R = LinearRegression()\n",
    "x_train, x_test, y_train, y_test = train_test_split(X, y, train_size=0.75)\n",
    "lg_R.fit(x_train, y_train)\n",
    "y_pr = lg_R.predict(x_test)\n",
    "print('mse:', round(mean_squared_error(y_pr,y_test), 4))\n",
    "print('\\nхимшлак R предсказанный')\n",
    "brief_summary(y_pr)\n",
    "print('\\nхимшлак R initial')\n",
    "brief_summary(y_test)\n"
   ]
  },
  {
   "cell_type": "code",
   "execution_count": 79,
   "metadata": {},
   "outputs": [
    {
     "name": "stdout",
     "output_type": "stream",
     "text": [
      "mse: 0.0346\n",
      "\n",
      "химшлак R предсказанный\n",
      "Медиана: 2.351, Среднее значение: 2.362, Ср.откл:0.146\n",
      "\n",
      "химшлак R initial\n",
      "Медиана: 2.3, Среднее значение: 2.363, Ср.откл:0.223\n"
     ]
    }
   ],
   "source": [
    "lg_R = LinearRegression()\n",
    "x_train, x_test, y_train, y_test = train_test_split(X_without_ld, y, train_size=0.75)\n",
    "lg_R.fit(x_train, y_train)\n",
    "y_pr = lg_R.predict(x_test)\n",
    "print('mse:', round(mean_squared_error(y_pr,y_test), 4))\n",
    "print('\\nхимшлак R предсказанный')\n",
    "brief_summary(y_pr)\n",
    "print('\\nхимшлак R initial')\n",
    "brief_summary(y_test)"
   ]
  }
 ],
 "metadata": {
  "kernelspec": {
   "display_name": "Python 3",
   "language": "python",
   "name": "python3"
  },
  "language_info": {
   "codemirror_mode": {
    "name": "ipython",
    "version": 3
   },
   "file_extension": ".py",
   "mimetype": "text/x-python",
   "name": "python",
   "nbconvert_exporter": "python",
   "pygments_lexer": "ipython3",
   "version": "3.8.5"
  }
 },
 "nbformat": 4,
 "nbformat_minor": 4
}
