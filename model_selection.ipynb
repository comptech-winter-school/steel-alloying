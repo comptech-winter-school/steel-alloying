{
 "cells": [
  {
   "cell_type": "code",
   "execution_count": 129,
   "metadata": {},
   "outputs": [],
   "source": [
    "import pandas as pd\n",
    "import numpy as np \n",
    "import matplotlib.pyplot as plt\n",
    "\n",
    "from sklearn.model_selection import train_test_split, GridSearchCV, cross_val_score, RandomizedSearchCV\n",
    "from sklearn.metrics import mean_squared_error, mean_absolute_percentage_error\n",
    "from sklearn.linear_model import LinearRegression, SGDRegressor, SGDClassifier, Lasso, Ridge\n",
    "\n",
    "import sklearn\n",
    "from sklearn.ensemble import RandomForestRegressor, RandomForestClassifier\n",
    "\n",
    "from sklearn.feature_selection import SelectKBest\n",
    "\n",
    "from lightgbm import LGBMRegressor\n",
    "\n",
    "from catboost import CatBoostRegressor\n",
    "\n",
    "import warnings\n",
    "warnings.filterwarnings('ignore')"
   ]
  },
  {
   "cell_type": "code",
   "execution_count": 113,
   "metadata": {},
   "outputs": [
    {
     "data": {
      "text/plain": [
       "(5798, 49)"
      ]
     },
     "execution_count": 113,
     "metadata": {},
     "output_type": "execute_result"
    }
   ],
   "source": [
    "X = pd.read_csv('data/features_data_without_ld.csv', index_col=0)\n",
    "y = pd.read_csv('data/target_data', index_col=0)\n",
    "X.shape"
   ]
  },
  {
   "cell_type": "code",
   "execution_count": 114,
   "metadata": {},
   "outputs": [],
   "source": [
    "X_clean = X[~X.isna_Al2O3].drop(['isna_Al2O3', 'isna_SiO2'], axis=1)\n",
    "y_clean = y[~y.isna_Al2O3].drop(['isna_Al2O3', 'isna_SiO2'], axis=1)"
   ]
  },
  {
   "cell_type": "code",
   "execution_count": 115,
   "metadata": {},
   "outputs": [
    {
     "data": {
      "text/plain": [
       "(4369, 47)"
      ]
     },
     "execution_count": 115,
     "metadata": {},
     "output_type": "execute_result"
    }
   ],
   "source": [
    "X_clean.shape"
   ]
  },
  {
   "cell_type": "code",
   "execution_count": 116,
   "metadata": {},
   "outputs": [],
   "source": [
    "results_mape = pd.DataFrame(index = ['химшлак последний Al2O3', 'химшлак последний CaO',\n",
    "       'химшлак последний FeO', 'химшлак последний MgO',\n",
    "       'химшлак последний MnO', 'химшлак последний R',\n",
    "       'химшлак последний SiO2'])"
   ]
  },
  {
   "cell_type": "code",
   "execution_count": 148,
   "metadata": {},
   "outputs": [],
   "source": [
    "def model_results(X, y, model, name_model):\n",
    "    global results_mape\n",
    "    results_mape[name_model] = None\n",
    "    for name in y.columns:\n",
    "        mape = cross_val_score(model, X, y[name], cv=5, scoring='neg_mean_absolute_percentage_error')\n",
    "        print(name, 'mape:', round(-mape.mean() * 100, 2))\n",
    "        results_mape[name_model][name] = round(-mape.mean() * 100, 2)    \n",
    "        \n",
    "def model_results_with_grid_cv(X, y, model, name_model, parameters_grid,):\n",
    "    global results_mape\n",
    "    results_mape[name_model] = None\n",
    "    for name in y.columns:\n",
    "        grid_cv = GridSearchCV(model, param_grid=parameters_grid, cv=5)\n",
    "        grid_cv.fit(X_clean, y_clean[name])\n",
    "#         print(\"Best score: \" + str(grid_cv.best_score_))\n",
    "        print(\"Patameters: \", grid_cv.best_params_)\n",
    "        model = grid_cv.best_estimator_\n",
    "        mape = cross_val_score(model, X, y[name], cv=5, scoring='neg_mean_absolute_percentage_error')\n",
    "        print(name, 'mape:', round(-mape.mean() * 100, 2))\n",
    "        results_mape[name_model][name] = round(-mape.mean() * 100, 2)\n",
    "    \n",
    "def model_results_with_random_search_cv(X, y, model, name_model, param_grid,):\n",
    "    global results_mape\n",
    "    results_mape[name_model] = None\n",
    "    for name in y.columns:\n",
    "        random_cv = RandomizedSearchCV(model, param_distributions=param_grid, cv=5, n_jobs=-1)\n",
    "        random_cv.fit(X_clean, y_clean[name])\n",
    "#         print(\"Best score: \" + str(grid_cv.best_score_))\n",
    "        print(\"Patameters: \", grid_cv.best_params_)\n",
    "        model = random_cv.best_estimator_\n",
    "        mape = cross_val_score(model, X, y[name], cv=5, scoring='neg_mean_absolute_percentage_error')\n",
    "        print(name, 'mape:', round(-mape.mean() * 100, 2))\n",
    "        results_mape[name_model][name] = round(-mape.mean() * 100, 2)"
   ]
  },
  {
   "cell_type": "code",
   "execution_count": 118,
   "metadata": {},
   "outputs": [],
   "source": [
    "# def model_results_2_step(X, y, model, name_model ):\n",
    "#     global results_mape\n",
    "#     results_mape[name_model] = None\n",
    "    \n",
    "#     for name in ['химшлак последний SiO2', 'химшлак последний CaO', 'химшлак последний R']:\n",
    "#         mape = cross_val_score(model, X, y[name], cv=5, scoring='neg_mean_absolute_percentage_error')\n",
    "#         print(name, 'mape:', round(-mape.mean() * 100, 2))\n",
    "#         results_mape[name_model][name] = round(-mape.mean() * 100, 2)\n",
    "        \n",
    "#     X_with_3_target = X.copy().merge(y[['химшлак последний SiO2', 'химшлак последний CaO', 'химшлак последний R']],\\\n",
    "#                                     how='right', left_index=True, right_index=True)\n",
    "    \n",
    "#     for name in ['химшлак последний Al2O3', 'химшлак последний FeO', 'химшлак последний MgO',\n",
    "#        'химшлак последний MnO']:\n",
    "#         mape = cross_val_score(model, X_with_3_target, y[name], cv=5, scoring='neg_mean_absolute_percentage_error')\n",
    "#         print(name, 'mape:', round(-mape.mean() * 100, 2))\n",
    "#         results_mape[name_model][name] = round(-mape.mean() * 100, 2)"
   ]
  },
  {
   "cell_type": "code",
   "execution_count": 160,
   "metadata": {},
   "outputs": [],
   "source": [
    "def model_results_features_with_target_data(X, y, model, name_model ):\n",
    "    global results_mape\n",
    "    results_mape[name_model] = None\n",
    "    \n",
    "    for name in y.columns:\n",
    "        X_with_targets = X.merge(y.drop(name, axis=1), how='right', left_index=True, right_index=True)\n",
    "        mape = cross_val_score(model, X_with_targets, y[name], cv=5, scoring='neg_mean_absolute_percentage_error')\n",
    "        print(name, 'mape:', round(-mape.mean() * 100, 2))\n",
    "        results_mape[name_model][name] = round(-mape.mean() * 100, 2)\n",
    "        \n",
    "def model_results_with_target_data_random_cv(X, y, model, name_model, param_grid):\n",
    "    global results_mape\n",
    "    results_mape[name_model] = None\n",
    "    for name in y.columns:\n",
    "        X_with_targets = X.merge(y.drop(name, axis=1), how='right', left_index=True, right_index=True)\n",
    "        random_cv = RandomizedSearchCV(model, param_distributions=param_grid, cv=5)\n",
    "        random_cv.fit(X_with_targets, y[name])\n",
    "#         print(\"Best score: \" + str(grid_cv.best_score_))\n",
    "        print(\"Patameters: \", random_cv.best_params_)\n",
    "        model = random_cv.best_estimator_\n",
    "        mape = cross_val_score(model, X_with_targets, y[name], cv=5, scoring='neg_mean_absolute_percentage_error')\n",
    "        print(name, 'mape:', round(-mape.mean() * 100, 2))\n",
    "        results_mape[name_model][name] = round(-mape.mean() * 100, 2)        "
   ]
  },
  {
   "cell_type": "markdown",
   "metadata": {},
   "source": [
    "### Модели на данных без пропущенных значений SiO2 и Al2O3"
   ]
  },
  {
   "cell_type": "code",
   "execution_count": 120,
   "metadata": {},
   "outputs": [
    {
     "name": "stdout",
     "output_type": "stream",
     "text": [
      "Линейная регрессия\n",
      "химшлак последний Al2O3 mape: 11.09\n",
      "химшлак последний CaO mape: 4.84\n",
      "химшлак последний FeO mape: 35.75\n",
      "химшлак последний MgO mape: 25.92\n",
      "химшлак последний MnO mape: 29.84\n",
      "химшлак последний R mape: 6.17\n",
      "химшлак последний SiO2 mape: 6.98\n"
     ]
    }
   ],
   "source": [
    "print('Линейная регрессия')\n",
    "model_results(X_clean, y_clean, LinearRegression(), 'LinearReg')"
   ]
  },
  {
   "cell_type": "code",
   "execution_count": 121,
   "metadata": {},
   "outputs": [],
   "source": [
    "# model_results_2_step(X_clean, y_clean, LinearRegression(),'LinearReg_2step')"
   ]
  },
  {
   "cell_type": "code",
   "execution_count": 122,
   "metadata": {},
   "outputs": [
    {
     "name": "stdout",
     "output_type": "stream",
     "text": [
      "химшлак последний Al2O3 mape: 10.11\n",
      "химшлак последний CaO mape: 1.5\n",
      "химшлак последний FeO mape: 33.37\n",
      "химшлак последний MgO mape: 23.34\n",
      "химшлак последний MnO mape: 24.1\n",
      "химшлак последний R mape: 1.54\n",
      "химшлак последний SiO2 mape: 1.5\n"
     ]
    }
   ],
   "source": [
    "model_results_features_with_target_data(X_clean, y_clean, LinearRegression(),'LinearReg_features_with_target')"
   ]
  },
  {
   "cell_type": "code",
   "execution_count": 123,
   "metadata": {},
   "outputs": [
    {
     "data": {
      "text/html": [
       "<div>\n",
       "<style scoped>\n",
       "    .dataframe tbody tr th:only-of-type {\n",
       "        vertical-align: middle;\n",
       "    }\n",
       "\n",
       "    .dataframe tbody tr th {\n",
       "        vertical-align: top;\n",
       "    }\n",
       "\n",
       "    .dataframe thead th {\n",
       "        text-align: right;\n",
       "    }\n",
       "</style>\n",
       "<table border=\"1\" class=\"dataframe\">\n",
       "  <thead>\n",
       "    <tr style=\"text-align: right;\">\n",
       "      <th></th>\n",
       "      <th>LinearReg</th>\n",
       "      <th>LinearReg_features_with_target</th>\n",
       "    </tr>\n",
       "  </thead>\n",
       "  <tbody>\n",
       "    <tr>\n",
       "      <th>химшлак последний Al2O3</th>\n",
       "      <td>11.09</td>\n",
       "      <td>10.11</td>\n",
       "    </tr>\n",
       "    <tr>\n",
       "      <th>химшлак последний CaO</th>\n",
       "      <td>4.84</td>\n",
       "      <td>1.5</td>\n",
       "    </tr>\n",
       "    <tr>\n",
       "      <th>химшлак последний FeO</th>\n",
       "      <td>35.75</td>\n",
       "      <td>33.37</td>\n",
       "    </tr>\n",
       "    <tr>\n",
       "      <th>химшлак последний MgO</th>\n",
       "      <td>25.92</td>\n",
       "      <td>23.34</td>\n",
       "    </tr>\n",
       "    <tr>\n",
       "      <th>химшлак последний MnO</th>\n",
       "      <td>29.84</td>\n",
       "      <td>24.1</td>\n",
       "    </tr>\n",
       "    <tr>\n",
       "      <th>химшлак последний R</th>\n",
       "      <td>6.17</td>\n",
       "      <td>1.54</td>\n",
       "    </tr>\n",
       "    <tr>\n",
       "      <th>химшлак последний SiO2</th>\n",
       "      <td>6.98</td>\n",
       "      <td>1.5</td>\n",
       "    </tr>\n",
       "  </tbody>\n",
       "</table>\n",
       "</div>"
      ],
      "text/plain": [
       "                         LinearReg LinearReg_features_with_target\n",
       "химшлак последний Al2O3      11.09                          10.11\n",
       "химшлак последний CaO         4.84                            1.5\n",
       "химшлак последний FeO        35.75                          33.37\n",
       "химшлак последний MgO        25.92                          23.34\n",
       "химшлак последний MnO        29.84                           24.1\n",
       "химшлак последний R           6.17                           1.54\n",
       "химшлак последний SiO2        6.98                            1.5"
      ]
     },
     "execution_count": 123,
     "metadata": {},
     "output_type": "execute_result"
    }
   ],
   "source": [
    "results_mape"
   ]
  },
  {
   "cell_type": "code",
   "execution_count": 150,
   "metadata": {},
   "outputs": [
    {
     "name": "stdout",
     "output_type": "stream",
     "text": [
      "Lasso\n",
      "химшлак последний Al2O3 mape: 16.44\n",
      "химшлак последний CaO mape: 5.25\n",
      "химшлак последний FeO mape: 36.31\n",
      "химшлак последний MgO mape: 31.1\n",
      "химшлак последний MnO mape: 35.25\n",
      "химшлак последний R mape: 8.21\n",
      "химшлак последний SiO2 mape: 8.27\n",
      "\n",
      "Ridge features with targets\n",
      "химшлак последний Al2O3 mape: 16.44\n",
      "химшлак последний CaO mape: 4.56\n",
      "химшлак последний FeO mape: 36.31\n",
      "химшлак последний MgO mape: 27.87\n",
      "химшлак последний MnO mape: 35.25\n",
      "химшлак последний R mape: 8.21\n",
      "химшлак последний SiO2 mape: 7.74\n"
     ]
    }
   ],
   "source": [
    "print('Lasso')\n",
    "model_results(X_clean, y_clean, Lasso(), 'Lasso')\n",
    "print('\\nRidge features with targets')\n",
    "model_results_features_with_target_data(X_clean, y_clean, Lasso(),'Lasso_features_with_target')"
   ]
  },
  {
   "cell_type": "code",
   "execution_count": 132,
   "metadata": {},
   "outputs": [
    {
     "name": "stdout",
     "output_type": "stream",
     "text": [
      "Ridge\n",
      "химшлак последний Al2O3 mape: 11.09\n",
      "химшлак последний CaO mape: 4.84\n",
      "химшлак последний FeO mape: 35.74\n",
      "химшлак последний MgO mape: 25.93\n",
      "химшлак последний MnO mape: 29.86\n",
      "химшлак последний R mape: 6.17\n",
      "химшлак последний SiO2 mape: 6.98\n",
      "\n",
      "Ridge features with targets\n",
      "химшлак последний Al2O3 mape: 16156395377.31\n",
      "химшлак последний CaO mape: 35523944.22\n",
      "химшлак последний FeO mape: 107323201335.0\n",
      "химшлак последний MgO mape: 5614305092.71\n",
      "химшлак последний MnO mape: 418473378281.03\n",
      "химшлак последний R mape: 22944131727.36\n",
      "химшлак последний SiO2 mape: 1515363493.73\n"
     ]
    }
   ],
   "source": [
    "print('Ridge')\n",
    "model_results(X_clean, y_clean, Ridge(), 'Ridge')\n",
    "print('\\nRidge features with targets')\n",
    "model_results_features_with_target_data(X_clean, y_clean, SGDRegressor(),'SGDRegressor_features_with_target')"
   ]
  },
  {
   "cell_type": "code",
   "execution_count": 131,
   "metadata": {},
   "outputs": [
    {
     "name": "stdout",
     "output_type": "stream",
     "text": [
      "SGDRegressor\n",
      "химшлак последний Al2O3 mape: 11.15\n",
      "химшлак последний CaO mape: 4.91\n",
      "химшлак последний FeO mape: 35.98\n",
      "химшлак последний MgO mape: 26.15\n",
      "химшлак последний MnO mape: 31.02\n",
      "химшлак последний R mape: 6.3\n",
      "химшлак последний SiO2 mape: 7.09\n",
      "\n",
      "SGDRegressor features with targets\n",
      "химшлак последний Al2O3 mape: 10.11\n",
      "химшлак последний CaO mape: 1.51\n",
      "химшлак последний FeO mape: 33.55\n",
      "химшлак последний MgO mape: 23.36\n",
      "химшлак последний MnO mape: 24.09\n",
      "химшлак последний R mape: 1.54\n",
      "химшлак последний SiO2 mape: 1.5\n"
     ]
    }
   ],
   "source": [
    "print('SGDRegressor')\n",
    "model_results(X_clean, y_clean, SGDRegressor(), 'SGDRegressor')\n",
    "print('\\nSGDRegressor features with targets')\n",
    "model_results_features_with_target_data(X_clean, y_clean, Ridge(),'Ridge_features_with_target')"
   ]
  },
  {
   "cell_type": "code",
   "execution_count": 133,
   "metadata": {},
   "outputs": [
    {
     "name": "stdout",
     "output_type": "stream",
     "text": [
      "RandomForest\n",
      "химшлак последний Al2O3 mape: 11.48\n",
      "химшлак последний CaO mape: 4.89\n",
      "химшлак последний FeO mape: 36.7\n",
      "химшлак последний MgO mape: 26.79\n",
      "химшлак последний MnO mape: 33.16\n",
      "химшлак последний R mape: 6.2\n",
      "химшлак последний SiO2 mape: 7.12\n"
     ]
    }
   ],
   "source": [
    "print('RandomForest')\n",
    "model_results(X_clean, y_clean, RandomForestRegressor(), 'RandomForestReg' )"
   ]
  },
  {
   "cell_type": "code",
   "execution_count": null,
   "metadata": {},
   "outputs": [],
   "source": [
    "# очень большая ошибка\n",
    "\n",
    "\n",
    "# print('SGDRegressor')\n",
    "# param_grid = {\n",
    "#     'alpha': 10.0 ** -np.arange(1, 7),\n",
    "#     'loss': ['squared_loss', 'huber', 'epsilon_insensitive'],\n",
    "#     'penalty': ['l2', 'l1']\n",
    "# }\n",
    "# model_results_with_grid_cv(X_clean, y_clean, SGDRegressor(), 'SGDReg_with_tun', parameters_grid=param_grid)        "
   ]
  },
  {
   "cell_type": "code",
   "execution_count": 141,
   "metadata": {},
   "outputs": [
    {
     "name": "stdout",
     "output_type": "stream",
     "text": [
      "LGBMRegressor\n",
      "химшлак последний Al2O3 mape: 11.56\n",
      "химшлак последний CaO mape: 5.0\n",
      "химшлак последний FeO mape: 36.63\n",
      "химшлак последний MgO mape: 26.73\n",
      "химшлак последний MnO mape: 32.29\n",
      "химшлак последний R mape: 6.17\n",
      "химшлак последний SiO2 mape: 7.1\n"
     ]
    }
   ],
   "source": [
    "print('LGBMRegressor')\n",
    "model_results(X_clean, y_clean, LGBMRegressor(), 'LGBMRegressor')"
   ]
  },
  {
   "cell_type": "code",
   "execution_count": 151,
   "metadata": {},
   "outputs": [
    {
     "name": "stdout",
     "output_type": "stream",
     "text": [
      "химшлак последний Al2O3 mape: 11.26\n",
      "химшлак последний CaO mape: 4.9\n",
      "химшлак последний FeO mape: 36.19\n",
      "химшлак последний MgO mape: 26.6\n",
      "химшлак последний MnO mape: 31.62\n",
      "химшлак последний R mape: 6.16\n",
      "химшлак последний SiO2 mape: 7.03\n"
     ]
    }
   ],
   "source": [
    "param_grid = {\n",
    "    'num_leaves': [ 28, 31, 50],\n",
    "    'max_depth': [-1, 3, 5],\n",
    "    'n_estimators': [100, 200, 500],\n",
    "}\n",
    "# model_results_with_grid_cv(X_clean, y_clean, LGBMRegressor(), 'LGBMRegressor_witn_tun', parameters_grid=param_grid,) \n",
    "\n",
    "model_results(X_clean, y_clean, LGBMRegressor(max_depth=3, num_leaves=28, n_estimators=100), 'LGBMRegressor_witn_tun')\n"
   ]
  },
  {
   "cell_type": "code",
   "execution_count": null,
   "metadata": {},
   "outputs": [],
   "source": [
    "# results_mape.to_csv('model_results')"
   ]
  },
  {
   "cell_type": "code",
   "execution_count": 144,
   "metadata": {},
   "outputs": [
    {
     "name": "stdout",
     "output_type": "stream",
     "text": [
      "CatBoostRegressor\n",
      "химшлак последний Al2O3 mape: 11.34\n",
      "химшлак последний CaO mape: 4.97\n",
      "химшлак последний FeO mape: 36.51\n",
      "химшлак последний MgO mape: 26.55\n",
      "химшлак последний MnO mape: 31.94\n",
      "химшлак последний R mape: 6.14\n",
      "химшлак последний SiO2 mape: 7.02\n",
      "\n",
      "CatBoostRegressor features with targets\n",
      "химшлак последний Al2O3 mape: 9.36\n",
      "химшлак последний CaO mape: 1.37\n",
      "химшлак последний FeO mape: 31.82\n",
      "химшлак последний MgO mape: 19.58\n",
      "химшлак последний MnO mape: 24.05\n",
      "химшлак последний R mape: 1.42\n",
      "химшлак последний SiO2 mape: 1.44\n"
     ]
    }
   ],
   "source": [
    "print('CatBoostRegressor')\n",
    "model_results(X_clean, y_clean, CatBoostRegressor(verbose=False), 'CatBoostRegressor')\n",
    "print('\\nCatBoostRegressor features with targets')\n",
    "model_results_features_with_target_data(X_clean, y_clean, CatBoostRegressor(verbose=False),'CatBoostRegresso_features_with_target')"
   ]
  },
  {
   "cell_type": "code",
   "execution_count": 153,
   "metadata": {},
   "outputs": [],
   "source": [
    "param_grid = {'depth': [6,8,10],\n",
    "            'learning_rate' : [0.01, 0.05, 0.1],\n",
    "            'iterations'    : [30, 50, 100]\n",
    "                 }\n",
    "\n",
    "model_results_with_grid_cv(X_clean, y_clean, CatBoostRegressor(verbose=False), 'CatBoostRegressor_with_tun', parameters_grid=param_grid) "
   ]
  },
  {
   "cell_type": "code",
   "execution_count": 195,
   "metadata": {},
   "outputs": [],
   "source": [
    "param_grid = {'depth': [6,8,10],\n",
    "            'learning_rate' : [0.01, 0.05, 0.1],\n",
    "            'iterations'    : [30, 50, 100]\n",
    "                 }\n",
    "\n",
    "# model_results_with_random_search_cv(X_clean, y_clean, CatBoostRegressor(verbose=False), 'CatBoostRegressor_with_tun', param_grid) "
   ]
  },
  {
   "cell_type": "code",
   "execution_count": null,
   "metadata": {},
   "outputs": [],
   "source": [
    "param_grid = {'depth': [6,8,10],\n",
    "            'learning_rate' : [0.01, 0.05, 0.1],\n",
    "            'iterations'    : [30, 50, 100]\n",
    "                 }\n",
    "\n",
    "model_results_with_target_data_random_cv(X_clean, y_clean, CatBoostRegressor(verbose=False), 'CatBoostRegressor_features_with_target_tun', param_grid) "
   ]
  },
  {
   "cell_type": "code",
   "execution_count": null,
   "metadata": {},
   "outputs": [],
   "source": [
    "# param_grid = {\n",
    "#     'alpha': 10.0 ** -np.arange(1, 7),\n",
    "#     'loss': ['squared_loss', 'huber', 'epsilon_insensitive'],\n",
    "#     'penalty': ['l2', 'l1']\n",
    "# }\n",
    "# model_results_with_ra_cv(X_clean, y_clean, SGDRegressor(), 'SGDReg_with_tun', parameters_grid=param_grid)        "
   ]
  },
  {
   "cell_type": "code",
   "execution_count": 168,
   "metadata": {},
   "outputs": [
    {
     "name": "stdout",
     "output_type": "stream",
     "text": [
      "Patameters:  {'n_estimators': 500, 'max_features': 'auto', 'max_depth': 5}\n",
      "химшлак последний Al2O3 mape: 10.14\n",
      "Patameters:  {'n_estimators': 500, 'max_features': 'auto', 'max_depth': 5}\n",
      "химшлак последний CaO mape: 2.13\n",
      "Patameters:  {'n_estimators': 100, 'max_features': 'auto', 'max_depth': 3}\n",
      "химшлак последний FeO mape: 33.05\n",
      "Patameters:  {'n_estimators': 100, 'max_features': 'auto', 'max_depth': 5}\n",
      "химшлак последний MgO mape: 21.06\n",
      "Patameters:  {'n_estimators': 500, 'max_features': 'auto', 'max_depth': 5}\n",
      "химшлак последний MnO mape: 25.67\n",
      "Patameters:  {'n_estimators': 100, 'max_features': 'auto', 'max_depth': 5}\n",
      "химшлак последний R mape: 1.73\n",
      "Patameters:  {'n_estimators': 300, 'max_features': 'auto', 'max_depth': 5}\n",
      "химшлак последний SiO2 mape: 1.92\n"
     ]
    }
   ],
   "source": [
    "param_grid = {'n_estimators': [100, 300, 500],\n",
    "                  'max_depth': [1, 3,  5],\n",
    "                 'max_features': ['auto', 'sqrt', 'log2']}\n",
    "\n",
    "model_results_with_target_data_random_cv(X_clean, y_clean, RandomForestRegressor(), 'RandomForestReg_witn_tun', param_grid) \n",
    "# results_mape['RandomForestReg_witn_tun'] = [11.48, 5.0, 35.0, 28.8, 31.67, 6, 7.02]"
   ]
  },
  {
   "cell_type": "code",
   "execution_count": 177,
   "metadata": {},
   "outputs": [],
   "source": [
    "results_mape.to_excel('model_selection_mape.xlsx')"
   ]
  },
  {
   "cell_type": "code",
   "execution_count": 185,
   "metadata": {},
   "outputs": [
    {
     "data": {
      "text/plain": [
       "химшлак последний Al2O3     9.36\n",
       "химшлак последний CaO       1.37\n",
       "химшлак последний FeO      31.82\n",
       "химшлак последний MgO      19.58\n",
       "химшлак последний MnO      24.05\n",
       "химшлак последний R         1.42\n",
       "химшлак последний SiO2      1.44\n",
       "dtype: float64"
      ]
     },
     "execution_count": 185,
     "metadata": {},
     "output_type": "execute_result"
    }
   ],
   "source": [
    "results_mape.T.min()"
   ]
  },
  {
   "cell_type": "code",
   "execution_count": 196,
   "metadata": {},
   "outputs": [
    {
     "data": {
      "text/plain": [
       "Index(['химшлак последний Al2O3', 'химшлак последний CaO',\n",
       "       'химшлак последний FeO', 'химшлак последний MgO',\n",
       "       'химшлак последний MnO', 'химшлак последний R',\n",
       "       'химшлак последний SiO2'],\n",
       "      dtype='object')"
      ]
     },
     "execution_count": 196,
     "metadata": {},
     "output_type": "execute_result"
    }
   ],
   "source": [
    "results_mape.T.columns"
   ]
  },
  {
   "cell_type": "markdown",
   "metadata": {},
   "source": [
    "# Предсказание на всех признаках"
   ]
  },
  {
   "cell_type": "code",
   "execution_count": 197,
   "metadata": {},
   "outputs": [
    {
     "data": {
      "text/plain": [
       "(5798, 64)"
      ]
     },
     "execution_count": 197,
     "metadata": {},
     "output_type": "execute_result"
    }
   ],
   "source": [
    "X = pd.read_csv('data/features_data.csv', index_col=0)\n",
    "y = pd.read_csv('data/target_data', index_col=0)\n",
    "X.shape"
   ]
  },
  {
   "cell_type": "code",
   "execution_count": 198,
   "metadata": {},
   "outputs": [],
   "source": [
    "X_clean = X[~X.isna_Al2O3].drop(['isna_Al2O3', 'isna_SiO2'], axis=1)\n",
    "y_clean = y[~y.isna_Al2O3].drop(['isna_Al2O3', 'isna_SiO2'], axis=1)"
   ]
  },
  {
   "cell_type": "code",
   "execution_count": 199,
   "metadata": {},
   "outputs": [
    {
     "data": {
      "text/plain": [
       "(4369, 62)"
      ]
     },
     "execution_count": 199,
     "metadata": {},
     "output_type": "execute_result"
    }
   ],
   "source": [
    "X_clean.shape"
   ]
  },
  {
   "cell_type": "code",
   "execution_count": 200,
   "metadata": {},
   "outputs": [],
   "source": [
    "results_mape = pd.DataFrame(index = ['химшлак последний Al2O3', 'химшлак последний CaO',\n",
    "       'химшлак последний FeO', 'химшлак последний MgO',\n",
    "       'химшлак последний MnO', 'химшлак последний R',\n",
    "       'химшлак последний SiO2'])"
   ]
  },
  {
   "cell_type": "code",
   "execution_count": 201,
   "metadata": {},
   "outputs": [],
   "source": [
    "def model_results(X, y, model, name_model):\n",
    "    global results_mape\n",
    "    results_mape[name_model] = None\n",
    "    for name in y.columns:\n",
    "        mape = cross_val_score(model, X, y[name], cv=5, scoring='neg_mean_absolute_percentage_error')\n",
    "        print(name, 'mape:', round(-mape.mean() * 100, 2))\n",
    "        results_mape[name_model][name] = round(-mape.mean() * 100, 2)    \n",
    "        \n",
    "def model_results_with_grid_cv(X, y, model, name_model, parameters_grid,):\n",
    "    global results_mape\n",
    "    results_mape[name_model] = None\n",
    "    for name in y.columns:\n",
    "        grid_cv = GridSearchCV(model, param_grid=parameters_grid, cv=5)\n",
    "        grid_cv.fit(X_clean, y_clean[name])\n",
    "#         print(\"Best score: \" + str(grid_cv.best_score_))\n",
    "        print(\"Patameters: \", grid_cv.best_params_)\n",
    "        model = grid_cv.best_estimator_\n",
    "        mape = cross_val_score(model, X, y[name], cv=5, scoring='neg_mean_absolute_percentage_error')\n",
    "        print(name, 'mape:', round(-mape.mean() * 100, 2))\n",
    "        results_mape[name_model][name] = round(-mape.mean() * 100, 2)\n",
    "    \n",
    "def model_results_with_random_search_cv(X, y, model, name_model, param_grid,):\n",
    "    global results_mape\n",
    "    results_mape[name_model] = None\n",
    "    for name in y.columns:\n",
    "        random_cv = RandomizedSearchCV(model, param_distributions=param_grid, cv=5, n_jobs=-1)\n",
    "        random_cv.fit(X_clean, y_clean[name])\n",
    "#         print(\"Best score: \" + str(grid_cv.best_score_))\n",
    "        print(\"Patameters: \", grid_cv.best_params_)\n",
    "        model = random_cv.best_estimator_\n",
    "        mape = cross_val_score(model, X, y[name], cv=5, scoring='neg_mean_absolute_percentage_error')\n",
    "        print(name, 'mape:', round(-mape.mean() * 100, 2))\n",
    "        results_mape[name_model][name] = round(-mape.mean() * 100, 2)"
   ]
  },
  {
   "cell_type": "code",
   "execution_count": 202,
   "metadata": {},
   "outputs": [],
   "source": [
    "# def model_results_2_step(X, y, model, name_model ):\n",
    "#     global results_mape\n",
    "#     results_mape[name_model] = None\n",
    "    \n",
    "#     for name in ['химшлак последний SiO2', 'химшлак последний CaO', 'химшлак последний R']:\n",
    "#         mape = cross_val_score(model, X, y[name], cv=5, scoring='neg_mean_absolute_percentage_error')\n",
    "#         print(name, 'mape:', round(-mape.mean() * 100, 2))\n",
    "#         results_mape[name_model][name] = round(-mape.mean() * 100, 2)\n",
    "        \n",
    "#     X_with_3_target = X.copy().merge(y[['химшлак последний SiO2', 'химшлак последний CaO', 'химшлак последний R']],\\\n",
    "#                                     how='right', left_index=True, right_index=True)\n",
    "    \n",
    "#     for name in ['химшлак последний Al2O3', 'химшлак последний FeO', 'химшлак последний MgO',\n",
    "#        'химшлак последний MnO']:\n",
    "#         mape = cross_val_score(model, X_with_3_target, y[name], cv=5, scoring='neg_mean_absolute_percentage_error')\n",
    "#         print(name, 'mape:', round(-mape.mean() * 100, 2))\n",
    "#         results_mape[name_model][name] = round(-mape.mean() * 100, 2)"
   ]
  },
  {
   "cell_type": "code",
   "execution_count": 203,
   "metadata": {},
   "outputs": [],
   "source": [
    "def model_results_features_with_target_data(X, y, model, name_model ):\n",
    "    global results_mape\n",
    "    results_mape[name_model] = None\n",
    "    \n",
    "    for name in y.columns:\n",
    "        X_with_targets = X.merge(y.drop(name, axis=1), how='right', left_index=True, right_index=True)\n",
    "        mape = cross_val_score(model, X_with_targets, y[name], cv=5, scoring='neg_mean_absolute_percentage_error')\n",
    "        print(name, 'mape:', round(-mape.mean() * 100, 2))\n",
    "        results_mape[name_model][name] = round(-mape.mean() * 100, 2)\n",
    "        \n",
    "def model_results_with_target_data_random_cv(X, y, model, name_model, param_grid):\n",
    "    global results_mape\n",
    "    results_mape[name_model] = None\n",
    "    for name in y.columns:\n",
    "        X_with_targets = X.merge(y.drop(name, axis=1), how='right', left_index=True, right_index=True)\n",
    "        random_cv = RandomizedSearchCV(model, param_distributions=param_grid, cv=5)\n",
    "        random_cv.fit(X_with_targets, y[name])\n",
    "#         print(\"Best score: \" + str(grid_cv.best_score_))\n",
    "        print(\"Patameters: \", random_cv.best_params_)\n",
    "        model = random_cv.best_estimator_\n",
    "        mape = cross_val_score(model, X_with_targets, y[name], cv=5, scoring='neg_mean_absolute_percentage_error')\n",
    "        print(name, 'mape:', round(-mape.mean() * 100, 2))\n",
    "        results_mape[name_model][name] = round(-mape.mean() * 100, 2)        "
   ]
  },
  {
   "cell_type": "markdown",
   "metadata": {},
   "source": [
    "### Модели на данных без пропущенных значений SiO2 и Al2O3"
   ]
  },
  {
   "cell_type": "code",
   "execution_count": 204,
   "metadata": {},
   "outputs": [
    {
     "name": "stdout",
     "output_type": "stream",
     "text": [
      "Линейная регрессия\n",
      "химшлак последний Al2O3 mape: 11.12\n",
      "химшлак последний CaO mape: 4.84\n",
      "химшлак последний FeO mape: 35.75\n",
      "химшлак последний MgO mape: 25.93\n",
      "химшлак последний MnO mape: 29.58\n",
      "химшлак последний R mape: 6.17\n",
      "химшлак последний SiO2 mape: 7.0\n"
     ]
    }
   ],
   "source": [
    "print('Линейная регрессия')\n",
    "model_results(X_clean, y_clean, LinearRegression(), 'LinearReg')"
   ]
  },
  {
   "cell_type": "code",
   "execution_count": 205,
   "metadata": {},
   "outputs": [],
   "source": [
    "# model_results_2_step(X_clean, y_clean, LinearRegression(),'LinearReg_2step')"
   ]
  },
  {
   "cell_type": "code",
   "execution_count": 206,
   "metadata": {},
   "outputs": [
    {
     "name": "stdout",
     "output_type": "stream",
     "text": [
      "химшлак последний Al2O3 mape: 10.17\n",
      "химшлак последний CaO mape: 1.51\n",
      "химшлак последний FeO mape: 33.39\n",
      "химшлак последний MgO mape: 23.41\n",
      "химшлак последний MnO mape: 24.09\n",
      "химшлак последний R mape: 1.54\n",
      "химшлак последний SiO2 mape: 1.5\n"
     ]
    }
   ],
   "source": [
    "model_results_features_with_target_data(X_clean, y_clean, LinearRegression(),'LinearReg_features_with_target')"
   ]
  },
  {
   "cell_type": "code",
   "execution_count": 207,
   "metadata": {},
   "outputs": [
    {
     "data": {
      "text/html": [
       "<div>\n",
       "<style scoped>\n",
       "    .dataframe tbody tr th:only-of-type {\n",
       "        vertical-align: middle;\n",
       "    }\n",
       "\n",
       "    .dataframe tbody tr th {\n",
       "        vertical-align: top;\n",
       "    }\n",
       "\n",
       "    .dataframe thead th {\n",
       "        text-align: right;\n",
       "    }\n",
       "</style>\n",
       "<table border=\"1\" class=\"dataframe\">\n",
       "  <thead>\n",
       "    <tr style=\"text-align: right;\">\n",
       "      <th></th>\n",
       "      <th>LinearReg</th>\n",
       "      <th>LinearReg_features_with_target</th>\n",
       "    </tr>\n",
       "  </thead>\n",
       "  <tbody>\n",
       "    <tr>\n",
       "      <th>химшлак последний Al2O3</th>\n",
       "      <td>11.12</td>\n",
       "      <td>10.17</td>\n",
       "    </tr>\n",
       "    <tr>\n",
       "      <th>химшлак последний CaO</th>\n",
       "      <td>4.84</td>\n",
       "      <td>1.51</td>\n",
       "    </tr>\n",
       "    <tr>\n",
       "      <th>химшлак последний FeO</th>\n",
       "      <td>35.75</td>\n",
       "      <td>33.39</td>\n",
       "    </tr>\n",
       "    <tr>\n",
       "      <th>химшлак последний MgO</th>\n",
       "      <td>25.93</td>\n",
       "      <td>23.41</td>\n",
       "    </tr>\n",
       "    <tr>\n",
       "      <th>химшлак последний MnO</th>\n",
       "      <td>29.58</td>\n",
       "      <td>24.09</td>\n",
       "    </tr>\n",
       "    <tr>\n",
       "      <th>химшлак последний R</th>\n",
       "      <td>6.17</td>\n",
       "      <td>1.54</td>\n",
       "    </tr>\n",
       "    <tr>\n",
       "      <th>химшлак последний SiO2</th>\n",
       "      <td>7</td>\n",
       "      <td>1.5</td>\n",
       "    </tr>\n",
       "  </tbody>\n",
       "</table>\n",
       "</div>"
      ],
      "text/plain": [
       "                        LinearReg LinearReg_features_with_target\n",
       "химшлак последний Al2O3     11.12                          10.17\n",
       "химшлак последний CaO        4.84                           1.51\n",
       "химшлак последний FeO       35.75                          33.39\n",
       "химшлак последний MgO       25.93                          23.41\n",
       "химшлак последний MnO       29.58                          24.09\n",
       "химшлак последний R          6.17                           1.54\n",
       "химшлак последний SiO2          7                            1.5"
      ]
     },
     "execution_count": 207,
     "metadata": {},
     "output_type": "execute_result"
    }
   ],
   "source": [
    "results_mape"
   ]
  },
  {
   "cell_type": "code",
   "execution_count": 208,
   "metadata": {},
   "outputs": [
    {
     "name": "stdout",
     "output_type": "stream",
     "text": [
      "Lasso\n",
      "химшлак последний Al2O3 mape: 16.44\n",
      "химшлак последний CaO mape: 5.25\n",
      "химшлак последний FeO mape: 36.31\n",
      "химшлак последний MgO mape: 31.1\n",
      "химшлак последний MnO mape: 35.25\n",
      "химшлак последний R mape: 8.21\n",
      "химшлак последний SiO2 mape: 8.27\n",
      "\n",
      "Ridge features with targets\n",
      "химшлак последний Al2O3 mape: 16.44\n",
      "химшлак последний CaO mape: 4.56\n",
      "химшлак последний FeO mape: 36.31\n",
      "химшлак последний MgO mape: 27.87\n",
      "химшлак последний MnO mape: 35.25\n",
      "химшлак последний R mape: 8.21\n",
      "химшлак последний SiO2 mape: 7.74\n"
     ]
    }
   ],
   "source": [
    "print('Lasso')\n",
    "model_results(X_clean, y_clean, Lasso(), 'Lasso')\n",
    "print('\\nRidge features with targets')\n",
    "model_results_features_with_target_data(X_clean, y_clean, Lasso(),'Lasso_features_with_target')"
   ]
  },
  {
   "cell_type": "code",
   "execution_count": 209,
   "metadata": {},
   "outputs": [
    {
     "name": "stdout",
     "output_type": "stream",
     "text": [
      "Ridge\n",
      "химшлак последний Al2O3 mape: 11.09\n",
      "химшлак последний CaO mape: 4.83\n",
      "химшлак последний FeO mape: 35.72\n",
      "химшлак последний MgO mape: 25.93\n",
      "химшлак последний MnO mape: 29.59\n",
      "химшлак последний R mape: 6.17\n",
      "химшлак последний SiO2 mape: 6.99\n",
      "\n",
      "Ridge features with targets\n",
      "химшлак последний Al2O3 mape: 16546190169.34\n",
      "химшлак последний CaO mape: 61885260.43\n",
      "химшлак последний FeO mape: 147452820034.46\n",
      "химшлак последний MgO mape: 10989986693.84\n",
      "химшлак последний MnO mape: 595894197068.36\n",
      "химшлак последний R mape: 56394157153.14\n",
      "химшлак последний SiO2 mape: 2076775034.61\n"
     ]
    }
   ],
   "source": [
    "print('Ridge')\n",
    "model_results(X_clean, y_clean, Ridge(), 'Ridge')\n",
    "print('\\nRidge features with targets')\n",
    "model_results_features_with_target_data(X_clean, y_clean, SGDRegressor(),'SGDRegressor_features_with_target')"
   ]
  },
  {
   "cell_type": "code",
   "execution_count": 210,
   "metadata": {},
   "outputs": [
    {
     "name": "stdout",
     "output_type": "stream",
     "text": [
      "SGDRegressor\n",
      "химшлак последний Al2O3 mape: 11.32\n",
      "химшлак последний CaO mape: 4.89\n",
      "химшлак последний FeO mape: 36.1\n",
      "химшлак последний MgO mape: 26.04\n",
      "химшлак последний MnO mape: 30.04\n",
      "химшлак последний R mape: 6.33\n",
      "химшлак последний SiO2 mape: 7.01\n",
      "\n",
      "SGDRegressor features with targets\n",
      "химшлак последний Al2O3 mape: 10.15\n",
      "химшлак последний CaO mape: 1.52\n",
      "химшлак последний FeO mape: 33.54\n",
      "химшлак последний MgO mape: 23.41\n",
      "химшлак последний MnO mape: 24.06\n",
      "химшлак последний R mape: 1.54\n",
      "химшлак последний SiO2 mape: 1.5\n"
     ]
    }
   ],
   "source": [
    "print('SGDRegressor')\n",
    "model_results(X_clean, y_clean, SGDRegressor(), 'SGDRegressor')\n",
    "print('\\nSGDRegressor features with targets')\n",
    "model_results_features_with_target_data(X_clean, y_clean, Ridge(),'Ridge_features_with_target')"
   ]
  },
  {
   "cell_type": "code",
   "execution_count": 211,
   "metadata": {},
   "outputs": [
    {
     "name": "stdout",
     "output_type": "stream",
     "text": [
      "RandomForest\n",
      "химшлак последний Al2O3 mape: 11.37\n",
      "химшлак последний CaO mape: 4.91\n",
      "химшлак последний FeO mape: 36.43\n",
      "химшлак последний MgO mape: 26.84\n",
      "химшлак последний MnO mape: 33.51\n",
      "химшлак последний R mape: 6.21\n",
      "химшлак последний SiO2 mape: 7.12\n"
     ]
    }
   ],
   "source": [
    "print('RandomForest')\n",
    "model_results(X_clean, y_clean, RandomForestRegressor(), 'RandomForestReg' )"
   ]
  },
  {
   "cell_type": "code",
   "execution_count": 212,
   "metadata": {},
   "outputs": [],
   "source": [
    "# очень большая ошибка\n",
    "\n",
    "\n",
    "# print('SGDRegressor')\n",
    "# param_grid = {\n",
    "#     'alpha': 10.0 ** -np.arange(1, 7),\n",
    "#     'loss': ['squared_loss', 'huber', 'epsilon_insensitive'],\n",
    "#     'penalty': ['l2', 'l1']\n",
    "# }\n",
    "# model_results_with_grid_cv(X_clean, y_clean, SGDRegressor(), 'SGDReg_with_tun', parameters_grid=param_grid)        "
   ]
  },
  {
   "cell_type": "code",
   "execution_count": 213,
   "metadata": {},
   "outputs": [
    {
     "name": "stdout",
     "output_type": "stream",
     "text": [
      "LGBMRegressor\n",
      "химшлак последний Al2O3 mape: 11.42\n",
      "химшлак последний CaO mape: 5.0\n",
      "химшлак последний FeO mape: 36.66\n",
      "химшлак последний MgO mape: 26.63\n",
      "химшлак последний MnO mape: 32.07\n",
      "химшлак последний R mape: 6.16\n",
      "химшлак последний SiO2 mape: 7.14\n"
     ]
    }
   ],
   "source": [
    "print('LGBMRegressor')\n",
    "model_results(X_clean, y_clean, LGBMRegressor(), 'LGBMRegressor')"
   ]
  },
  {
   "cell_type": "code",
   "execution_count": 214,
   "metadata": {},
   "outputs": [
    {
     "name": "stdout",
     "output_type": "stream",
     "text": [
      "химшлак последний Al2O3 mape: 11.25\n",
      "химшлак последний CaO mape: 4.92\n",
      "химшлак последний FeO mape: 36.13\n",
      "химшлак последний MgO mape: 26.5\n",
      "химшлак последний MnO mape: 31.3\n",
      "химшлак последний R mape: 6.15\n",
      "химшлак последний SiO2 mape: 7.03\n"
     ]
    }
   ],
   "source": [
    "param_grid = {\n",
    "    'num_leaves': [ 28, 31, 50],\n",
    "    'max_depth': [-1, 3, 5],\n",
    "    'n_estimators': [100, 200, 500],\n",
    "}\n",
    "# model_results_with_grid_cv(X_clean, y_clean, LGBMRegressor(), 'LGBMRegressor_witn_tun', parameters_grid=param_grid,) \n",
    "\n",
    "model_results(X_clean, y_clean, LGBMRegressor(max_depth=3, num_leaves=28, n_estimators=100), 'LGBMRegressor_witn_tun')\n"
   ]
  },
  {
   "cell_type": "code",
   "execution_count": 215,
   "metadata": {},
   "outputs": [],
   "source": [
    "# results_mape.to_csv('model_results')"
   ]
  },
  {
   "cell_type": "code",
   "execution_count": 216,
   "metadata": {},
   "outputs": [
    {
     "name": "stdout",
     "output_type": "stream",
     "text": [
      "CatBoostRegressor\n",
      "химшлак последний Al2O3 mape: 11.33\n",
      "химшлак последний CaO mape: 5.0\n",
      "химшлак последний FeO mape: 36.36\n",
      "химшлак последний MgO mape: 26.51\n",
      "химшлак последний MnO mape: 31.77\n",
      "химшлак последний R mape: 6.09\n",
      "химшлак последний SiO2 mape: 7.09\n",
      "\n",
      "CatBoostRegressor features with targets\n",
      "химшлак последний Al2O3 mape: 9.42\n",
      "химшлак последний CaO mape: 1.37\n",
      "химшлак последний FeO mape: 31.79\n",
      "химшлак последний MgO mape: 19.59\n",
      "химшлак последний MnO mape: 24.14\n",
      "химшлак последний R mape: 1.42\n",
      "химшлак последний SiO2 mape: 1.43\n"
     ]
    }
   ],
   "source": [
    "print('CatBoostRegressor')\n",
    "model_results(X_clean, y_clean, CatBoostRegressor(verbose=False), 'CatBoostRegressor')\n",
    "print('\\nCatBoostRegressor features with targets')\n",
    "model_results_features_with_target_data(X_clean, y_clean, CatBoostRegressor(verbose=False),'CatBoostRegresso_features_with_target')"
   ]
  },
  {
   "cell_type": "code",
   "execution_count": 217,
   "metadata": {},
   "outputs": [
    {
     "ename": "KeyboardInterrupt",
     "evalue": "",
     "output_type": "error",
     "traceback": [
      "\u001b[1;31m---------------------------------------------------------------------------\u001b[0m",
      "\u001b[1;31mKeyboardInterrupt\u001b[0m                         Traceback (most recent call last)",
      "\u001b[1;32m<ipython-input-217-44c14b923bf7>\u001b[0m in \u001b[0;36m<module>\u001b[1;34m\u001b[0m\n\u001b[0;32m      4\u001b[0m                  }\n\u001b[0;32m      5\u001b[0m \u001b[1;33m\u001b[0m\u001b[0m\n\u001b[1;32m----> 6\u001b[1;33m \u001b[0mmodel_results_with_grid_cv\u001b[0m\u001b[1;33m(\u001b[0m\u001b[0mX_clean\u001b[0m\u001b[1;33m,\u001b[0m \u001b[0my_clean\u001b[0m\u001b[1;33m,\u001b[0m \u001b[0mCatBoostRegressor\u001b[0m\u001b[1;33m(\u001b[0m\u001b[0mverbose\u001b[0m\u001b[1;33m=\u001b[0m\u001b[1;32mFalse\u001b[0m\u001b[1;33m)\u001b[0m\u001b[1;33m,\u001b[0m \u001b[1;34m'CatBoostRegressor_with_tun'\u001b[0m\u001b[1;33m,\u001b[0m \u001b[0mparameters_grid\u001b[0m\u001b[1;33m=\u001b[0m\u001b[0mparam_grid\u001b[0m\u001b[1;33m)\u001b[0m\u001b[1;33m\u001b[0m\u001b[1;33m\u001b[0m\u001b[0m\n\u001b[0m",
      "\u001b[1;32m<ipython-input-201-f24196fa7f66>\u001b[0m in \u001b[0;36mmodel_results_with_grid_cv\u001b[1;34m(X, y, model, name_model, parameters_grid)\u001b[0m\n\u001b[0;32m     12\u001b[0m     \u001b[1;32mfor\u001b[0m \u001b[0mname\u001b[0m \u001b[1;32min\u001b[0m \u001b[0my\u001b[0m\u001b[1;33m.\u001b[0m\u001b[0mcolumns\u001b[0m\u001b[1;33m:\u001b[0m\u001b[1;33m\u001b[0m\u001b[1;33m\u001b[0m\u001b[0m\n\u001b[0;32m     13\u001b[0m         \u001b[0mgrid_cv\u001b[0m \u001b[1;33m=\u001b[0m \u001b[0mGridSearchCV\u001b[0m\u001b[1;33m(\u001b[0m\u001b[0mmodel\u001b[0m\u001b[1;33m,\u001b[0m \u001b[0mparam_grid\u001b[0m\u001b[1;33m=\u001b[0m\u001b[0mparameters_grid\u001b[0m\u001b[1;33m,\u001b[0m \u001b[0mcv\u001b[0m\u001b[1;33m=\u001b[0m\u001b[1;36m5\u001b[0m\u001b[1;33m)\u001b[0m\u001b[1;33m\u001b[0m\u001b[1;33m\u001b[0m\u001b[0m\n\u001b[1;32m---> 14\u001b[1;33m         \u001b[0mgrid_cv\u001b[0m\u001b[1;33m.\u001b[0m\u001b[0mfit\u001b[0m\u001b[1;33m(\u001b[0m\u001b[0mX_clean\u001b[0m\u001b[1;33m,\u001b[0m \u001b[0my_clean\u001b[0m\u001b[1;33m[\u001b[0m\u001b[0mname\u001b[0m\u001b[1;33m]\u001b[0m\u001b[1;33m)\u001b[0m\u001b[1;33m\u001b[0m\u001b[1;33m\u001b[0m\u001b[0m\n\u001b[0m\u001b[0;32m     15\u001b[0m \u001b[1;31m#         print(\"Best score: \" + str(grid_cv.best_score_))\u001b[0m\u001b[1;33m\u001b[0m\u001b[1;33m\u001b[0m\u001b[1;33m\u001b[0m\u001b[0m\n\u001b[0;32m     16\u001b[0m         \u001b[0mprint\u001b[0m\u001b[1;33m(\u001b[0m\u001b[1;34m\"Patameters: \"\u001b[0m\u001b[1;33m,\u001b[0m \u001b[0mgrid_cv\u001b[0m\u001b[1;33m.\u001b[0m\u001b[0mbest_params_\u001b[0m\u001b[1;33m)\u001b[0m\u001b[1;33m\u001b[0m\u001b[1;33m\u001b[0m\u001b[0m\n",
      "\u001b[1;32m~\\anaconda3\\lib\\site-packages\\sklearn\\utils\\validation.py\u001b[0m in \u001b[0;36minner_f\u001b[1;34m(*args, **kwargs)\u001b[0m\n\u001b[0;32m     61\u001b[0m             \u001b[0mextra_args\u001b[0m \u001b[1;33m=\u001b[0m \u001b[0mlen\u001b[0m\u001b[1;33m(\u001b[0m\u001b[0margs\u001b[0m\u001b[1;33m)\u001b[0m \u001b[1;33m-\u001b[0m \u001b[0mlen\u001b[0m\u001b[1;33m(\u001b[0m\u001b[0mall_args\u001b[0m\u001b[1;33m)\u001b[0m\u001b[1;33m\u001b[0m\u001b[1;33m\u001b[0m\u001b[0m\n\u001b[0;32m     62\u001b[0m             \u001b[1;32mif\u001b[0m \u001b[0mextra_args\u001b[0m \u001b[1;33m<=\u001b[0m \u001b[1;36m0\u001b[0m\u001b[1;33m:\u001b[0m\u001b[1;33m\u001b[0m\u001b[1;33m\u001b[0m\u001b[0m\n\u001b[1;32m---> 63\u001b[1;33m                 \u001b[1;32mreturn\u001b[0m \u001b[0mf\u001b[0m\u001b[1;33m(\u001b[0m\u001b[1;33m*\u001b[0m\u001b[0margs\u001b[0m\u001b[1;33m,\u001b[0m \u001b[1;33m**\u001b[0m\u001b[0mkwargs\u001b[0m\u001b[1;33m)\u001b[0m\u001b[1;33m\u001b[0m\u001b[1;33m\u001b[0m\u001b[0m\n\u001b[0m\u001b[0;32m     64\u001b[0m \u001b[1;33m\u001b[0m\u001b[0m\n\u001b[0;32m     65\u001b[0m             \u001b[1;31m# extra_args > 0\u001b[0m\u001b[1;33m\u001b[0m\u001b[1;33m\u001b[0m\u001b[1;33m\u001b[0m\u001b[0m\n",
      "\u001b[1;32m~\\anaconda3\\lib\\site-packages\\sklearn\\model_selection\\_search.py\u001b[0m in \u001b[0;36mfit\u001b[1;34m(self, X, y, groups, **fit_params)\u001b[0m\n\u001b[0;32m    839\u001b[0m                 \u001b[1;32mreturn\u001b[0m \u001b[0mresults\u001b[0m\u001b[1;33m\u001b[0m\u001b[1;33m\u001b[0m\u001b[0m\n\u001b[0;32m    840\u001b[0m \u001b[1;33m\u001b[0m\u001b[0m\n\u001b[1;32m--> 841\u001b[1;33m             \u001b[0mself\u001b[0m\u001b[1;33m.\u001b[0m\u001b[0m_run_search\u001b[0m\u001b[1;33m(\u001b[0m\u001b[0mevaluate_candidates\u001b[0m\u001b[1;33m)\u001b[0m\u001b[1;33m\u001b[0m\u001b[1;33m\u001b[0m\u001b[0m\n\u001b[0m\u001b[0;32m    842\u001b[0m \u001b[1;33m\u001b[0m\u001b[0m\n\u001b[0;32m    843\u001b[0m             \u001b[1;31m# multimetric is determined here because in the case of a callable\u001b[0m\u001b[1;33m\u001b[0m\u001b[1;33m\u001b[0m\u001b[1;33m\u001b[0m\u001b[0m\n",
      "\u001b[1;32m~\\anaconda3\\lib\\site-packages\\sklearn\\model_selection\\_search.py\u001b[0m in \u001b[0;36m_run_search\u001b[1;34m(self, evaluate_candidates)\u001b[0m\n\u001b[0;32m   1286\u001b[0m     \u001b[1;32mdef\u001b[0m \u001b[0m_run_search\u001b[0m\u001b[1;33m(\u001b[0m\u001b[0mself\u001b[0m\u001b[1;33m,\u001b[0m \u001b[0mevaluate_candidates\u001b[0m\u001b[1;33m)\u001b[0m\u001b[1;33m:\u001b[0m\u001b[1;33m\u001b[0m\u001b[1;33m\u001b[0m\u001b[0m\n\u001b[0;32m   1287\u001b[0m         \u001b[1;34m\"\"\"Search all candidates in param_grid\"\"\"\u001b[0m\u001b[1;33m\u001b[0m\u001b[1;33m\u001b[0m\u001b[0m\n\u001b[1;32m-> 1288\u001b[1;33m         \u001b[0mevaluate_candidates\u001b[0m\u001b[1;33m(\u001b[0m\u001b[0mParameterGrid\u001b[0m\u001b[1;33m(\u001b[0m\u001b[0mself\u001b[0m\u001b[1;33m.\u001b[0m\u001b[0mparam_grid\u001b[0m\u001b[1;33m)\u001b[0m\u001b[1;33m)\u001b[0m\u001b[1;33m\u001b[0m\u001b[1;33m\u001b[0m\u001b[0m\n\u001b[0m\u001b[0;32m   1289\u001b[0m \u001b[1;33m\u001b[0m\u001b[0m\n\u001b[0;32m   1290\u001b[0m \u001b[1;33m\u001b[0m\u001b[0m\n",
      "\u001b[1;32m~\\anaconda3\\lib\\site-packages\\sklearn\\model_selection\\_search.py\u001b[0m in \u001b[0;36mevaluate_candidates\u001b[1;34m(candidate_params, cv, more_results)\u001b[0m\n\u001b[0;32m    793\u001b[0m                               n_splits, n_candidates, n_candidates * n_splits))\n\u001b[0;32m    794\u001b[0m \u001b[1;33m\u001b[0m\u001b[0m\n\u001b[1;32m--> 795\u001b[1;33m                 out = parallel(delayed(_fit_and_score)(clone(base_estimator),\n\u001b[0m\u001b[0;32m    796\u001b[0m                                                        \u001b[0mX\u001b[0m\u001b[1;33m,\u001b[0m \u001b[0my\u001b[0m\u001b[1;33m,\u001b[0m\u001b[1;33m\u001b[0m\u001b[1;33m\u001b[0m\u001b[0m\n\u001b[0;32m    797\u001b[0m                                                        \u001b[0mtrain\u001b[0m\u001b[1;33m=\u001b[0m\u001b[0mtrain\u001b[0m\u001b[1;33m,\u001b[0m \u001b[0mtest\u001b[0m\u001b[1;33m=\u001b[0m\u001b[0mtest\u001b[0m\u001b[1;33m,\u001b[0m\u001b[1;33m\u001b[0m\u001b[1;33m\u001b[0m\u001b[0m\n",
      "\u001b[1;32m~\\anaconda3\\lib\\site-packages\\joblib\\parallel.py\u001b[0m in \u001b[0;36m__call__\u001b[1;34m(self, iterable)\u001b[0m\n\u001b[0;32m   1049\u001b[0m                 \u001b[0mself\u001b[0m\u001b[1;33m.\u001b[0m\u001b[0m_iterating\u001b[0m \u001b[1;33m=\u001b[0m \u001b[0mself\u001b[0m\u001b[1;33m.\u001b[0m\u001b[0m_original_iterator\u001b[0m \u001b[1;32mis\u001b[0m \u001b[1;32mnot\u001b[0m \u001b[1;32mNone\u001b[0m\u001b[1;33m\u001b[0m\u001b[1;33m\u001b[0m\u001b[0m\n\u001b[0;32m   1050\u001b[0m \u001b[1;33m\u001b[0m\u001b[0m\n\u001b[1;32m-> 1051\u001b[1;33m             \u001b[1;32mwhile\u001b[0m \u001b[0mself\u001b[0m\u001b[1;33m.\u001b[0m\u001b[0mdispatch_one_batch\u001b[0m\u001b[1;33m(\u001b[0m\u001b[0miterator\u001b[0m\u001b[1;33m)\u001b[0m\u001b[1;33m:\u001b[0m\u001b[1;33m\u001b[0m\u001b[1;33m\u001b[0m\u001b[0m\n\u001b[0m\u001b[0;32m   1052\u001b[0m                 \u001b[1;32mpass\u001b[0m\u001b[1;33m\u001b[0m\u001b[1;33m\u001b[0m\u001b[0m\n\u001b[0;32m   1053\u001b[0m \u001b[1;33m\u001b[0m\u001b[0m\n",
      "\u001b[1;32m~\\anaconda3\\lib\\site-packages\\joblib\\parallel.py\u001b[0m in \u001b[0;36mdispatch_one_batch\u001b[1;34m(self, iterator)\u001b[0m\n\u001b[0;32m    864\u001b[0m                 \u001b[1;32mreturn\u001b[0m \u001b[1;32mFalse\u001b[0m\u001b[1;33m\u001b[0m\u001b[1;33m\u001b[0m\u001b[0m\n\u001b[0;32m    865\u001b[0m             \u001b[1;32melse\u001b[0m\u001b[1;33m:\u001b[0m\u001b[1;33m\u001b[0m\u001b[1;33m\u001b[0m\u001b[0m\n\u001b[1;32m--> 866\u001b[1;33m                 \u001b[0mself\u001b[0m\u001b[1;33m.\u001b[0m\u001b[0m_dispatch\u001b[0m\u001b[1;33m(\u001b[0m\u001b[0mtasks\u001b[0m\u001b[1;33m)\u001b[0m\u001b[1;33m\u001b[0m\u001b[1;33m\u001b[0m\u001b[0m\n\u001b[0m\u001b[0;32m    867\u001b[0m                 \u001b[1;32mreturn\u001b[0m \u001b[1;32mTrue\u001b[0m\u001b[1;33m\u001b[0m\u001b[1;33m\u001b[0m\u001b[0m\n\u001b[0;32m    868\u001b[0m \u001b[1;33m\u001b[0m\u001b[0m\n",
      "\u001b[1;32m~\\anaconda3\\lib\\site-packages\\joblib\\parallel.py\u001b[0m in \u001b[0;36m_dispatch\u001b[1;34m(self, batch)\u001b[0m\n\u001b[0;32m    782\u001b[0m         \u001b[1;32mwith\u001b[0m \u001b[0mself\u001b[0m\u001b[1;33m.\u001b[0m\u001b[0m_lock\u001b[0m\u001b[1;33m:\u001b[0m\u001b[1;33m\u001b[0m\u001b[1;33m\u001b[0m\u001b[0m\n\u001b[0;32m    783\u001b[0m             \u001b[0mjob_idx\u001b[0m \u001b[1;33m=\u001b[0m \u001b[0mlen\u001b[0m\u001b[1;33m(\u001b[0m\u001b[0mself\u001b[0m\u001b[1;33m.\u001b[0m\u001b[0m_jobs\u001b[0m\u001b[1;33m)\u001b[0m\u001b[1;33m\u001b[0m\u001b[1;33m\u001b[0m\u001b[0m\n\u001b[1;32m--> 784\u001b[1;33m             \u001b[0mjob\u001b[0m \u001b[1;33m=\u001b[0m \u001b[0mself\u001b[0m\u001b[1;33m.\u001b[0m\u001b[0m_backend\u001b[0m\u001b[1;33m.\u001b[0m\u001b[0mapply_async\u001b[0m\u001b[1;33m(\u001b[0m\u001b[0mbatch\u001b[0m\u001b[1;33m,\u001b[0m \u001b[0mcallback\u001b[0m\u001b[1;33m=\u001b[0m\u001b[0mcb\u001b[0m\u001b[1;33m)\u001b[0m\u001b[1;33m\u001b[0m\u001b[1;33m\u001b[0m\u001b[0m\n\u001b[0m\u001b[0;32m    785\u001b[0m             \u001b[1;31m# A job can complete so quickly than its callback is\u001b[0m\u001b[1;33m\u001b[0m\u001b[1;33m\u001b[0m\u001b[1;33m\u001b[0m\u001b[0m\n\u001b[0;32m    786\u001b[0m             \u001b[1;31m# called before we get here, causing self._jobs to\u001b[0m\u001b[1;33m\u001b[0m\u001b[1;33m\u001b[0m\u001b[1;33m\u001b[0m\u001b[0m\n",
      "\u001b[1;32m~\\anaconda3\\lib\\site-packages\\joblib\\_parallel_backends.py\u001b[0m in \u001b[0;36mapply_async\u001b[1;34m(self, func, callback)\u001b[0m\n\u001b[0;32m    206\u001b[0m     \u001b[1;32mdef\u001b[0m \u001b[0mapply_async\u001b[0m\u001b[1;33m(\u001b[0m\u001b[0mself\u001b[0m\u001b[1;33m,\u001b[0m \u001b[0mfunc\u001b[0m\u001b[1;33m,\u001b[0m \u001b[0mcallback\u001b[0m\u001b[1;33m=\u001b[0m\u001b[1;32mNone\u001b[0m\u001b[1;33m)\u001b[0m\u001b[1;33m:\u001b[0m\u001b[1;33m\u001b[0m\u001b[1;33m\u001b[0m\u001b[0m\n\u001b[0;32m    207\u001b[0m         \u001b[1;34m\"\"\"Schedule a func to be run\"\"\"\u001b[0m\u001b[1;33m\u001b[0m\u001b[1;33m\u001b[0m\u001b[0m\n\u001b[1;32m--> 208\u001b[1;33m         \u001b[0mresult\u001b[0m \u001b[1;33m=\u001b[0m \u001b[0mImmediateResult\u001b[0m\u001b[1;33m(\u001b[0m\u001b[0mfunc\u001b[0m\u001b[1;33m)\u001b[0m\u001b[1;33m\u001b[0m\u001b[1;33m\u001b[0m\u001b[0m\n\u001b[0m\u001b[0;32m    209\u001b[0m         \u001b[1;32mif\u001b[0m \u001b[0mcallback\u001b[0m\u001b[1;33m:\u001b[0m\u001b[1;33m\u001b[0m\u001b[1;33m\u001b[0m\u001b[0m\n\u001b[0;32m    210\u001b[0m             \u001b[0mcallback\u001b[0m\u001b[1;33m(\u001b[0m\u001b[0mresult\u001b[0m\u001b[1;33m)\u001b[0m\u001b[1;33m\u001b[0m\u001b[1;33m\u001b[0m\u001b[0m\n",
      "\u001b[1;32m~\\anaconda3\\lib\\site-packages\\joblib\\_parallel_backends.py\u001b[0m in \u001b[0;36m__init__\u001b[1;34m(self, batch)\u001b[0m\n\u001b[0;32m    570\u001b[0m         \u001b[1;31m# Don't delay the application, to avoid keeping the input\u001b[0m\u001b[1;33m\u001b[0m\u001b[1;33m\u001b[0m\u001b[1;33m\u001b[0m\u001b[0m\n\u001b[0;32m    571\u001b[0m         \u001b[1;31m# arguments in memory\u001b[0m\u001b[1;33m\u001b[0m\u001b[1;33m\u001b[0m\u001b[1;33m\u001b[0m\u001b[0m\n\u001b[1;32m--> 572\u001b[1;33m         \u001b[0mself\u001b[0m\u001b[1;33m.\u001b[0m\u001b[0mresults\u001b[0m \u001b[1;33m=\u001b[0m \u001b[0mbatch\u001b[0m\u001b[1;33m(\u001b[0m\u001b[1;33m)\u001b[0m\u001b[1;33m\u001b[0m\u001b[1;33m\u001b[0m\u001b[0m\n\u001b[0m\u001b[0;32m    573\u001b[0m \u001b[1;33m\u001b[0m\u001b[0m\n\u001b[0;32m    574\u001b[0m     \u001b[1;32mdef\u001b[0m \u001b[0mget\u001b[0m\u001b[1;33m(\u001b[0m\u001b[0mself\u001b[0m\u001b[1;33m)\u001b[0m\u001b[1;33m:\u001b[0m\u001b[1;33m\u001b[0m\u001b[1;33m\u001b[0m\u001b[0m\n",
      "\u001b[1;32m~\\anaconda3\\lib\\site-packages\\joblib\\parallel.py\u001b[0m in \u001b[0;36m__call__\u001b[1;34m(self)\u001b[0m\n\u001b[0;32m    260\u001b[0m         \u001b[1;31m# change the default number of processes to -1\u001b[0m\u001b[1;33m\u001b[0m\u001b[1;33m\u001b[0m\u001b[1;33m\u001b[0m\u001b[0m\n\u001b[0;32m    261\u001b[0m         \u001b[1;32mwith\u001b[0m \u001b[0mparallel_backend\u001b[0m\u001b[1;33m(\u001b[0m\u001b[0mself\u001b[0m\u001b[1;33m.\u001b[0m\u001b[0m_backend\u001b[0m\u001b[1;33m,\u001b[0m \u001b[0mn_jobs\u001b[0m\u001b[1;33m=\u001b[0m\u001b[0mself\u001b[0m\u001b[1;33m.\u001b[0m\u001b[0m_n_jobs\u001b[0m\u001b[1;33m)\u001b[0m\u001b[1;33m:\u001b[0m\u001b[1;33m\u001b[0m\u001b[1;33m\u001b[0m\u001b[0m\n\u001b[1;32m--> 262\u001b[1;33m             return [func(*args, **kwargs)\n\u001b[0m\u001b[0;32m    263\u001b[0m                     for func, args, kwargs in self.items]\n\u001b[0;32m    264\u001b[0m \u001b[1;33m\u001b[0m\u001b[0m\n",
      "\u001b[1;32m~\\anaconda3\\lib\\site-packages\\joblib\\parallel.py\u001b[0m in \u001b[0;36m<listcomp>\u001b[1;34m(.0)\u001b[0m\n\u001b[0;32m    260\u001b[0m         \u001b[1;31m# change the default number of processes to -1\u001b[0m\u001b[1;33m\u001b[0m\u001b[1;33m\u001b[0m\u001b[1;33m\u001b[0m\u001b[0m\n\u001b[0;32m    261\u001b[0m         \u001b[1;32mwith\u001b[0m \u001b[0mparallel_backend\u001b[0m\u001b[1;33m(\u001b[0m\u001b[0mself\u001b[0m\u001b[1;33m.\u001b[0m\u001b[0m_backend\u001b[0m\u001b[1;33m,\u001b[0m \u001b[0mn_jobs\u001b[0m\u001b[1;33m=\u001b[0m\u001b[0mself\u001b[0m\u001b[1;33m.\u001b[0m\u001b[0m_n_jobs\u001b[0m\u001b[1;33m)\u001b[0m\u001b[1;33m:\u001b[0m\u001b[1;33m\u001b[0m\u001b[1;33m\u001b[0m\u001b[0m\n\u001b[1;32m--> 262\u001b[1;33m             return [func(*args, **kwargs)\n\u001b[0m\u001b[0;32m    263\u001b[0m                     for func, args, kwargs in self.items]\n\u001b[0;32m    264\u001b[0m \u001b[1;33m\u001b[0m\u001b[0m\n",
      "\u001b[1;32m~\\anaconda3\\lib\\site-packages\\sklearn\\utils\\fixes.py\u001b[0m in \u001b[0;36m__call__\u001b[1;34m(self, *args, **kwargs)\u001b[0m\n\u001b[0;32m    220\u001b[0m     \u001b[1;32mdef\u001b[0m \u001b[0m__call__\u001b[0m\u001b[1;33m(\u001b[0m\u001b[0mself\u001b[0m\u001b[1;33m,\u001b[0m \u001b[1;33m*\u001b[0m\u001b[0margs\u001b[0m\u001b[1;33m,\u001b[0m \u001b[1;33m**\u001b[0m\u001b[0mkwargs\u001b[0m\u001b[1;33m)\u001b[0m\u001b[1;33m:\u001b[0m\u001b[1;33m\u001b[0m\u001b[1;33m\u001b[0m\u001b[0m\n\u001b[0;32m    221\u001b[0m         \u001b[1;32mwith\u001b[0m \u001b[0mconfig_context\u001b[0m\u001b[1;33m(\u001b[0m\u001b[1;33m**\u001b[0m\u001b[0mself\u001b[0m\u001b[1;33m.\u001b[0m\u001b[0mconfig\u001b[0m\u001b[1;33m)\u001b[0m\u001b[1;33m:\u001b[0m\u001b[1;33m\u001b[0m\u001b[1;33m\u001b[0m\u001b[0m\n\u001b[1;32m--> 222\u001b[1;33m             \u001b[1;32mreturn\u001b[0m \u001b[0mself\u001b[0m\u001b[1;33m.\u001b[0m\u001b[0mfunction\u001b[0m\u001b[1;33m(\u001b[0m\u001b[1;33m*\u001b[0m\u001b[0margs\u001b[0m\u001b[1;33m,\u001b[0m \u001b[1;33m**\u001b[0m\u001b[0mkwargs\u001b[0m\u001b[1;33m)\u001b[0m\u001b[1;33m\u001b[0m\u001b[1;33m\u001b[0m\u001b[0m\n\u001b[0m",
      "\u001b[1;32m~\\anaconda3\\lib\\site-packages\\sklearn\\model_selection\\_validation.py\u001b[0m in \u001b[0;36m_fit_and_score\u001b[1;34m(estimator, X, y, scorer, train, test, verbose, parameters, fit_params, return_train_score, return_parameters, return_n_test_samples, return_times, return_estimator, split_progress, candidate_progress, error_score)\u001b[0m\n\u001b[0;32m    591\u001b[0m             \u001b[0mestimator\u001b[0m\u001b[1;33m.\u001b[0m\u001b[0mfit\u001b[0m\u001b[1;33m(\u001b[0m\u001b[0mX_train\u001b[0m\u001b[1;33m,\u001b[0m \u001b[1;33m**\u001b[0m\u001b[0mfit_params\u001b[0m\u001b[1;33m)\u001b[0m\u001b[1;33m\u001b[0m\u001b[1;33m\u001b[0m\u001b[0m\n\u001b[0;32m    592\u001b[0m         \u001b[1;32melse\u001b[0m\u001b[1;33m:\u001b[0m\u001b[1;33m\u001b[0m\u001b[1;33m\u001b[0m\u001b[0m\n\u001b[1;32m--> 593\u001b[1;33m             \u001b[0mestimator\u001b[0m\u001b[1;33m.\u001b[0m\u001b[0mfit\u001b[0m\u001b[1;33m(\u001b[0m\u001b[0mX_train\u001b[0m\u001b[1;33m,\u001b[0m \u001b[0my_train\u001b[0m\u001b[1;33m,\u001b[0m \u001b[1;33m**\u001b[0m\u001b[0mfit_params\u001b[0m\u001b[1;33m)\u001b[0m\u001b[1;33m\u001b[0m\u001b[1;33m\u001b[0m\u001b[0m\n\u001b[0m\u001b[0;32m    594\u001b[0m \u001b[1;33m\u001b[0m\u001b[0m\n\u001b[0;32m    595\u001b[0m     \u001b[1;32mexcept\u001b[0m \u001b[0mException\u001b[0m \u001b[1;32mas\u001b[0m \u001b[0me\u001b[0m\u001b[1;33m:\u001b[0m\u001b[1;33m\u001b[0m\u001b[1;33m\u001b[0m\u001b[0m\n",
      "\u001b[1;32m~\\anaconda3\\lib\\site-packages\\catboost\\core.py\u001b[0m in \u001b[0;36mfit\u001b[1;34m(self, X, y, cat_features, sample_weight, baseline, use_best_model, eval_set, verbose, logging_level, plot, column_description, verbose_eval, metric_period, silent, early_stopping_rounds, save_snapshot, snapshot_file, snapshot_interval, init_model)\u001b[0m\n\u001b[0;32m   4847\u001b[0m             \u001b[0mself\u001b[0m\u001b[1;33m.\u001b[0m\u001b[0m_check_is_regressor_loss\u001b[0m\u001b[1;33m(\u001b[0m\u001b[0mparams\u001b[0m\u001b[1;33m[\u001b[0m\u001b[1;34m'loss_function'\u001b[0m\u001b[1;33m]\u001b[0m\u001b[1;33m)\u001b[0m\u001b[1;33m\u001b[0m\u001b[1;33m\u001b[0m\u001b[0m\n\u001b[0;32m   4848\u001b[0m \u001b[1;33m\u001b[0m\u001b[0m\n\u001b[1;32m-> 4849\u001b[1;33m         return self._fit(X, y, cat_features, None, None, None, sample_weight, None, None, None, None, baseline,\n\u001b[0m\u001b[0;32m   4850\u001b[0m                          \u001b[0muse_best_model\u001b[0m\u001b[1;33m,\u001b[0m \u001b[0meval_set\u001b[0m\u001b[1;33m,\u001b[0m \u001b[0mverbose\u001b[0m\u001b[1;33m,\u001b[0m \u001b[0mlogging_level\u001b[0m\u001b[1;33m,\u001b[0m \u001b[0mplot\u001b[0m\u001b[1;33m,\u001b[0m \u001b[0mcolumn_description\u001b[0m\u001b[1;33m,\u001b[0m\u001b[1;33m\u001b[0m\u001b[1;33m\u001b[0m\u001b[0m\n\u001b[0;32m   4851\u001b[0m                          \u001b[0mverbose_eval\u001b[0m\u001b[1;33m,\u001b[0m \u001b[0mmetric_period\u001b[0m\u001b[1;33m,\u001b[0m \u001b[0msilent\u001b[0m\u001b[1;33m,\u001b[0m \u001b[0mearly_stopping_rounds\u001b[0m\u001b[1;33m,\u001b[0m\u001b[1;33m\u001b[0m\u001b[1;33m\u001b[0m\u001b[0m\n",
      "\u001b[1;32m~\\anaconda3\\lib\\site-packages\\catboost\\core.py\u001b[0m in \u001b[0;36m_fit\u001b[1;34m(self, X, y, cat_features, text_features, embedding_features, pairs, sample_weight, group_id, group_weight, subgroup_id, pairs_weight, baseline, use_best_model, eval_set, verbose, logging_level, plot, column_description, verbose_eval, metric_period, silent, early_stopping_rounds, save_snapshot, snapshot_file, snapshot_interval, init_model)\u001b[0m\n\u001b[0;32m   1804\u001b[0m \u001b[1;33m\u001b[0m\u001b[0m\n\u001b[0;32m   1805\u001b[0m         \u001b[1;32mwith\u001b[0m \u001b[0mlog_fixup\u001b[0m\u001b[1;33m(\u001b[0m\u001b[1;33m)\u001b[0m\u001b[1;33m,\u001b[0m \u001b[0mplot_wrapper\u001b[0m\u001b[1;33m(\u001b[0m\u001b[0mplot\u001b[0m\u001b[1;33m,\u001b[0m \u001b[1;33m[\u001b[0m\u001b[0m_get_train_dir\u001b[0m\u001b[1;33m(\u001b[0m\u001b[0mself\u001b[0m\u001b[1;33m.\u001b[0m\u001b[0mget_params\u001b[0m\u001b[1;33m(\u001b[0m\u001b[1;33m)\u001b[0m\u001b[1;33m)\u001b[0m\u001b[1;33m]\u001b[0m\u001b[1;33m)\u001b[0m\u001b[1;33m:\u001b[0m\u001b[1;33m\u001b[0m\u001b[1;33m\u001b[0m\u001b[0m\n\u001b[1;32m-> 1806\u001b[1;33m             self._train(\n\u001b[0m\u001b[0;32m   1807\u001b[0m                 \u001b[0mtrain_pool\u001b[0m\u001b[1;33m,\u001b[0m\u001b[1;33m\u001b[0m\u001b[1;33m\u001b[0m\u001b[0m\n\u001b[0;32m   1808\u001b[0m                 \u001b[0mtrain_params\u001b[0m\u001b[1;33m[\u001b[0m\u001b[1;34m\"eval_sets\"\u001b[0m\u001b[1;33m]\u001b[0m\u001b[1;33m,\u001b[0m\u001b[1;33m\u001b[0m\u001b[1;33m\u001b[0m\u001b[0m\n",
      "\u001b[1;32m~\\anaconda3\\lib\\site-packages\\catboost\\core.py\u001b[0m in \u001b[0;36m_train\u001b[1;34m(self, train_pool, test_pool, params, allow_clear_pool, init_model)\u001b[0m\n\u001b[0;32m   1256\u001b[0m \u001b[1;33m\u001b[0m\u001b[0m\n\u001b[0;32m   1257\u001b[0m     \u001b[1;32mdef\u001b[0m \u001b[0m_train\u001b[0m\u001b[1;33m(\u001b[0m\u001b[0mself\u001b[0m\u001b[1;33m,\u001b[0m \u001b[0mtrain_pool\u001b[0m\u001b[1;33m,\u001b[0m \u001b[0mtest_pool\u001b[0m\u001b[1;33m,\u001b[0m \u001b[0mparams\u001b[0m\u001b[1;33m,\u001b[0m \u001b[0mallow_clear_pool\u001b[0m\u001b[1;33m,\u001b[0m \u001b[0minit_model\u001b[0m\u001b[1;33m)\u001b[0m\u001b[1;33m:\u001b[0m\u001b[1;33m\u001b[0m\u001b[1;33m\u001b[0m\u001b[0m\n\u001b[1;32m-> 1258\u001b[1;33m         \u001b[0mself\u001b[0m\u001b[1;33m.\u001b[0m\u001b[0m_object\u001b[0m\u001b[1;33m.\u001b[0m\u001b[0m_train\u001b[0m\u001b[1;33m(\u001b[0m\u001b[0mtrain_pool\u001b[0m\u001b[1;33m,\u001b[0m \u001b[0mtest_pool\u001b[0m\u001b[1;33m,\u001b[0m \u001b[0mparams\u001b[0m\u001b[1;33m,\u001b[0m \u001b[0mallow_clear_pool\u001b[0m\u001b[1;33m,\u001b[0m \u001b[0minit_model\u001b[0m\u001b[1;33m.\u001b[0m\u001b[0m_object\u001b[0m \u001b[1;32mif\u001b[0m \u001b[0minit_model\u001b[0m \u001b[1;32melse\u001b[0m \u001b[1;32mNone\u001b[0m\u001b[1;33m)\u001b[0m\u001b[1;33m\u001b[0m\u001b[1;33m\u001b[0m\u001b[0m\n\u001b[0m\u001b[0;32m   1259\u001b[0m         \u001b[0mself\u001b[0m\u001b[1;33m.\u001b[0m\u001b[0m_set_trained_model_attributes\u001b[0m\u001b[1;33m(\u001b[0m\u001b[1;33m)\u001b[0m\u001b[1;33m\u001b[0m\u001b[1;33m\u001b[0m\u001b[0m\n\u001b[0;32m   1260\u001b[0m \u001b[1;33m\u001b[0m\u001b[0m\n",
      "\u001b[1;32m_catboost.pyx\u001b[0m in \u001b[0;36m_catboost._CatBoost._train\u001b[1;34m()\u001b[0m\n",
      "\u001b[1;32m_catboost.pyx\u001b[0m in \u001b[0;36m_catboost._CatBoost._train\u001b[1;34m()\u001b[0m\n",
      "\u001b[1;31mKeyboardInterrupt\u001b[0m: "
     ]
    }
   ],
   "source": [
    "param_grid = {'depth': [6,8,10],\n",
    "            'learning_rate' : [0.01, 0.05, 0.1],\n",
    "            'iterations'    : [30, 50, 100]\n",
    "                 }\n",
    "\n",
    "model_results_with_grid_cv(X_clean, y_clean, CatBoostRegressor(verbose=False), 'CatBoostRegressor_with_tun', parameters_grid=param_grid) "
   ]
  },
  {
   "cell_type": "code",
   "execution_count": null,
   "metadata": {},
   "outputs": [],
   "source": [
    "param_grid = {'depth': [6,8,10],\n",
    "            'learning_rate' : [0.01, 0.05, 0.1],\n",
    "            'iterations'    : [30, 50, 100]\n",
    "                 }\n",
    "\n",
    "# model_results_with_random_search_cv(X_clean, y_clean, CatBoostRegressor(verbose=False), 'CatBoostRegressor_with_tun', param_grid) "
   ]
  },
  {
   "cell_type": "code",
   "execution_count": null,
   "metadata": {},
   "outputs": [],
   "source": [
    "param_grid = {'depth': [6,8,10],\n",
    "            'learning_rate' : [0.01, 0.05, 0.1],\n",
    "            'iterations'    : [30, 50, 100]\n",
    "                 }\n",
    "\n",
    "model_results_with_target_data_random_cv(X_clean, y_clean, CatBoostRegressor(verbose=False), 'CatBoostRegressor_features_with_target_tun', param_grid) "
   ]
  },
  {
   "cell_type": "code",
   "execution_count": null,
   "metadata": {},
   "outputs": [],
   "source": [
    "# param_grid = {\n",
    "#     'alpha': 10.0 ** -np.arange(1, 7),\n",
    "#     'loss': ['squared_loss', 'huber', 'epsilon_insensitive'],\n",
    "#     'penalty': ['l2', 'l1']\n",
    "# }\n",
    "# model_results_with_ra_cv(X_clean, y_clean, SGDRegressor(), 'SGDReg_with_tun', parameters_grid=param_grid)        "
   ]
  },
  {
   "cell_type": "code",
   "execution_count": null,
   "metadata": {},
   "outputs": [],
   "source": [
    "param_grid = {'n_estimators': [100, 300, 500],\n",
    "                  'max_depth': [1, 3,  5],\n",
    "                 'max_features': ['auto', 'sqrt', 'log2']}\n",
    "\n",
    "model_results_with_target_data_random_cv(X_clean, y_clean, RandomForestRegressor(), 'RandomForestReg_witn_tun', param_grid) \n",
    "# results_mape['RandomForestReg_witn_tun'] = [11.48, 5.0, 35.0, 28.8, 31.67, 6, 7.02]"
   ]
  },
  {
   "cell_type": "code",
   "execution_count": 218,
   "metadata": {},
   "outputs": [],
   "source": [
    "results_mape.to_excel('model_selection_mape_all_line.xlsx')"
   ]
  },
  {
   "cell_type": "code",
   "execution_count": 219,
   "metadata": {},
   "outputs": [
    {
     "data": {
      "text/html": [
       "<div>\n",
       "<style scoped>\n",
       "    .dataframe tbody tr th:only-of-type {\n",
       "        vertical-align: middle;\n",
       "    }\n",
       "\n",
       "    .dataframe tbody tr th {\n",
       "        vertical-align: top;\n",
       "    }\n",
       "\n",
       "    .dataframe thead th {\n",
       "        text-align: right;\n",
       "    }\n",
       "</style>\n",
       "<table border=\"1\" class=\"dataframe\">\n",
       "  <thead>\n",
       "    <tr style=\"text-align: right;\">\n",
       "      <th></th>\n",
       "      <th>химшлак последний Al2O3</th>\n",
       "      <th>химшлак последний CaO</th>\n",
       "      <th>химшлак последний FeO</th>\n",
       "      <th>химшлак последний MgO</th>\n",
       "      <th>химшлак последний MnO</th>\n",
       "      <th>химшлак последний R</th>\n",
       "      <th>химшлак последний SiO2</th>\n",
       "    </tr>\n",
       "  </thead>\n",
       "  <tbody>\n",
       "    <tr>\n",
       "      <th>LinearReg</th>\n",
       "      <td>11.12</td>\n",
       "      <td>4.84</td>\n",
       "      <td>35.75</td>\n",
       "      <td>25.93</td>\n",
       "      <td>29.58</td>\n",
       "      <td>6.17</td>\n",
       "      <td>7</td>\n",
       "    </tr>\n",
       "    <tr>\n",
       "      <th>LinearReg_features_with_target</th>\n",
       "      <td>10.17</td>\n",
       "      <td>1.51</td>\n",
       "      <td>33.39</td>\n",
       "      <td>23.41</td>\n",
       "      <td>24.09</td>\n",
       "      <td>1.54</td>\n",
       "      <td>1.5</td>\n",
       "    </tr>\n",
       "    <tr>\n",
       "      <th>Lasso</th>\n",
       "      <td>16.44</td>\n",
       "      <td>5.25</td>\n",
       "      <td>36.31</td>\n",
       "      <td>31.1</td>\n",
       "      <td>35.25</td>\n",
       "      <td>8.21</td>\n",
       "      <td>8.27</td>\n",
       "    </tr>\n",
       "    <tr>\n",
       "      <th>Lasso_features_with_target</th>\n",
       "      <td>16.44</td>\n",
       "      <td>4.56</td>\n",
       "      <td>36.31</td>\n",
       "      <td>27.87</td>\n",
       "      <td>35.25</td>\n",
       "      <td>8.21</td>\n",
       "      <td>7.74</td>\n",
       "    </tr>\n",
       "    <tr>\n",
       "      <th>Ridge</th>\n",
       "      <td>11.09</td>\n",
       "      <td>4.83</td>\n",
       "      <td>35.72</td>\n",
       "      <td>25.93</td>\n",
       "      <td>29.59</td>\n",
       "      <td>6.17</td>\n",
       "      <td>6.99</td>\n",
       "    </tr>\n",
       "    <tr>\n",
       "      <th>SGDRegressor_features_with_target</th>\n",
       "      <td>1.65462e+10</td>\n",
       "      <td>6.18853e+07</td>\n",
       "      <td>1.47453e+11</td>\n",
       "      <td>1.099e+10</td>\n",
       "      <td>5.95894e+11</td>\n",
       "      <td>5.63942e+10</td>\n",
       "      <td>2.07678e+09</td>\n",
       "    </tr>\n",
       "    <tr>\n",
       "      <th>SGDRegressor</th>\n",
       "      <td>11.32</td>\n",
       "      <td>4.89</td>\n",
       "      <td>36.1</td>\n",
       "      <td>26.04</td>\n",
       "      <td>30.04</td>\n",
       "      <td>6.33</td>\n",
       "      <td>7.01</td>\n",
       "    </tr>\n",
       "    <tr>\n",
       "      <th>Ridge_features_with_target</th>\n",
       "      <td>10.15</td>\n",
       "      <td>1.52</td>\n",
       "      <td>33.54</td>\n",
       "      <td>23.41</td>\n",
       "      <td>24.06</td>\n",
       "      <td>1.54</td>\n",
       "      <td>1.5</td>\n",
       "    </tr>\n",
       "    <tr>\n",
       "      <th>RandomForestReg</th>\n",
       "      <td>11.37</td>\n",
       "      <td>4.91</td>\n",
       "      <td>36.43</td>\n",
       "      <td>26.84</td>\n",
       "      <td>33.51</td>\n",
       "      <td>6.21</td>\n",
       "      <td>7.12</td>\n",
       "    </tr>\n",
       "    <tr>\n",
       "      <th>LGBMRegressor</th>\n",
       "      <td>11.42</td>\n",
       "      <td>5</td>\n",
       "      <td>36.66</td>\n",
       "      <td>26.63</td>\n",
       "      <td>32.07</td>\n",
       "      <td>6.16</td>\n",
       "      <td>7.14</td>\n",
       "    </tr>\n",
       "    <tr>\n",
       "      <th>LGBMRegressor_witn_tun</th>\n",
       "      <td>11.25</td>\n",
       "      <td>4.92</td>\n",
       "      <td>36.13</td>\n",
       "      <td>26.5</td>\n",
       "      <td>31.3</td>\n",
       "      <td>6.15</td>\n",
       "      <td>7.03</td>\n",
       "    </tr>\n",
       "    <tr>\n",
       "      <th>CatBoostRegressor</th>\n",
       "      <td>11.33</td>\n",
       "      <td>5</td>\n",
       "      <td>36.36</td>\n",
       "      <td>26.51</td>\n",
       "      <td>31.77</td>\n",
       "      <td>6.09</td>\n",
       "      <td>7.09</td>\n",
       "    </tr>\n",
       "    <tr>\n",
       "      <th>CatBoostRegresso_features_with_target</th>\n",
       "      <td>9.42</td>\n",
       "      <td>1.37</td>\n",
       "      <td>31.79</td>\n",
       "      <td>19.59</td>\n",
       "      <td>24.14</td>\n",
       "      <td>1.42</td>\n",
       "      <td>1.43</td>\n",
       "    </tr>\n",
       "    <tr>\n",
       "      <th>CatBoostRegressor_with_tun</th>\n",
       "      <td>None</td>\n",
       "      <td>None</td>\n",
       "      <td>None</td>\n",
       "      <td>None</td>\n",
       "      <td>None</td>\n",
       "      <td>None</td>\n",
       "      <td>None</td>\n",
       "    </tr>\n",
       "  </tbody>\n",
       "</table>\n",
       "</div>"
      ],
      "text/plain": [
       "                                      химшлак последний Al2O3  \\\n",
       "LinearReg                                               11.12   \n",
       "LinearReg_features_with_target                          10.17   \n",
       "Lasso                                                   16.44   \n",
       "Lasso_features_with_target                              16.44   \n",
       "Ridge                                                   11.09   \n",
       "SGDRegressor_features_with_target                 1.65462e+10   \n",
       "SGDRegressor                                            11.32   \n",
       "Ridge_features_with_target                              10.15   \n",
       "RandomForestReg                                         11.37   \n",
       "LGBMRegressor                                           11.42   \n",
       "LGBMRegressor_witn_tun                                  11.25   \n",
       "CatBoostRegressor                                       11.33   \n",
       "CatBoostRegresso_features_with_target                    9.42   \n",
       "CatBoostRegressor_with_tun                               None   \n",
       "\n",
       "                                      химшлак последний CaO  \\\n",
       "LinearReg                                              4.84   \n",
       "LinearReg_features_with_target                         1.51   \n",
       "Lasso                                                  5.25   \n",
       "Lasso_features_with_target                             4.56   \n",
       "Ridge                                                  4.83   \n",
       "SGDRegressor_features_with_target               6.18853e+07   \n",
       "SGDRegressor                                           4.89   \n",
       "Ridge_features_with_target                             1.52   \n",
       "RandomForestReg                                        4.91   \n",
       "LGBMRegressor                                             5   \n",
       "LGBMRegressor_witn_tun                                 4.92   \n",
       "CatBoostRegressor                                         5   \n",
       "CatBoostRegresso_features_with_target                  1.37   \n",
       "CatBoostRegressor_with_tun                             None   \n",
       "\n",
       "                                      химшлак последний FeO  \\\n",
       "LinearReg                                             35.75   \n",
       "LinearReg_features_with_target                        33.39   \n",
       "Lasso                                                 36.31   \n",
       "Lasso_features_with_target                            36.31   \n",
       "Ridge                                                 35.72   \n",
       "SGDRegressor_features_with_target               1.47453e+11   \n",
       "SGDRegressor                                           36.1   \n",
       "Ridge_features_with_target                            33.54   \n",
       "RandomForestReg                                       36.43   \n",
       "LGBMRegressor                                         36.66   \n",
       "LGBMRegressor_witn_tun                                36.13   \n",
       "CatBoostRegressor                                     36.36   \n",
       "CatBoostRegresso_features_with_target                 31.79   \n",
       "CatBoostRegressor_with_tun                             None   \n",
       "\n",
       "                                      химшлак последний MgO  \\\n",
       "LinearReg                                             25.93   \n",
       "LinearReg_features_with_target                        23.41   \n",
       "Lasso                                                  31.1   \n",
       "Lasso_features_with_target                            27.87   \n",
       "Ridge                                                 25.93   \n",
       "SGDRegressor_features_with_target                 1.099e+10   \n",
       "SGDRegressor                                          26.04   \n",
       "Ridge_features_with_target                            23.41   \n",
       "RandomForestReg                                       26.84   \n",
       "LGBMRegressor                                         26.63   \n",
       "LGBMRegressor_witn_tun                                 26.5   \n",
       "CatBoostRegressor                                     26.51   \n",
       "CatBoostRegresso_features_with_target                 19.59   \n",
       "CatBoostRegressor_with_tun                             None   \n",
       "\n",
       "                                      химшлак последний MnO  \\\n",
       "LinearReg                                             29.58   \n",
       "LinearReg_features_with_target                        24.09   \n",
       "Lasso                                                 35.25   \n",
       "Lasso_features_with_target                            35.25   \n",
       "Ridge                                                 29.59   \n",
       "SGDRegressor_features_with_target               5.95894e+11   \n",
       "SGDRegressor                                          30.04   \n",
       "Ridge_features_with_target                            24.06   \n",
       "RandomForestReg                                       33.51   \n",
       "LGBMRegressor                                         32.07   \n",
       "LGBMRegressor_witn_tun                                 31.3   \n",
       "CatBoostRegressor                                     31.77   \n",
       "CatBoostRegresso_features_with_target                 24.14   \n",
       "CatBoostRegressor_with_tun                             None   \n",
       "\n",
       "                                      химшлак последний R  \\\n",
       "LinearReg                                            6.17   \n",
       "LinearReg_features_with_target                       1.54   \n",
       "Lasso                                                8.21   \n",
       "Lasso_features_with_target                           8.21   \n",
       "Ridge                                                6.17   \n",
       "SGDRegressor_features_with_target             5.63942e+10   \n",
       "SGDRegressor                                         6.33   \n",
       "Ridge_features_with_target                           1.54   \n",
       "RandomForestReg                                      6.21   \n",
       "LGBMRegressor                                        6.16   \n",
       "LGBMRegressor_witn_tun                               6.15   \n",
       "CatBoostRegressor                                    6.09   \n",
       "CatBoostRegresso_features_with_target                1.42   \n",
       "CatBoostRegressor_with_tun                           None   \n",
       "\n",
       "                                      химшлак последний SiO2  \n",
       "LinearReg                                                  7  \n",
       "LinearReg_features_with_target                           1.5  \n",
       "Lasso                                                   8.27  \n",
       "Lasso_features_with_target                              7.74  \n",
       "Ridge                                                   6.99  \n",
       "SGDRegressor_features_with_target                2.07678e+09  \n",
       "SGDRegressor                                            7.01  \n",
       "Ridge_features_with_target                               1.5  \n",
       "RandomForestReg                                         7.12  \n",
       "LGBMRegressor                                           7.14  \n",
       "LGBMRegressor_witn_tun                                  7.03  \n",
       "CatBoostRegressor                                       7.09  \n",
       "CatBoostRegresso_features_with_target                   1.43  \n",
       "CatBoostRegressor_with_tun                              None  "
      ]
     },
     "execution_count": 219,
     "metadata": {},
     "output_type": "execute_result"
    }
   ],
   "source": [
    "results_mape.T"
   ]
  }
 ],
 "metadata": {
  "kernelspec": {
   "display_name": "Python 3",
   "language": "python",
   "name": "python3"
  },
  "language_info": {
   "codemirror_mode": {
    "name": "ipython",
    "version": 3
   },
   "file_extension": ".py",
   "mimetype": "text/x-python",
   "name": "python",
   "nbconvert_exporter": "python",
   "pygments_lexer": "ipython3",
   "version": "3.8.5"
  }
 },
 "nbformat": 4,
 "nbformat_minor": 4
}
