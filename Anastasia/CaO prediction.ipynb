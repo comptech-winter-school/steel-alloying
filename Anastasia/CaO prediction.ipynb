{
 "cells": [
  {
   "cell_type": "code",
   "execution_count": 200,
   "metadata": {},
   "outputs": [],
   "source": [
    "import pandas as pd\n",
    "import numpy as np \n",
    "import matplotlib.pyplot as plt\n",
    "import seaborn as sns\n",
    "\n",
    "from sklearn.model_selection import train_test_split, GridSearchCV, cross_val_score\n",
    "from sklearn.metrics import mean_squared_error, mean_absolute_percentage_error, accuracy_score, confusion_matrix\n",
    "from sklearn.neighbors import KNeighborsClassifier\n",
    "from sklearn.linear_model import LinearRegression, SGDRegressor, SGDClassifier, Lasso, Ridge\n",
    "import sklearn.metrics\n",
    "from sklearn.ensemble import RandomForestRegressor, RandomForestClassifier\n",
    "\n",
    "from lightgbm import LGBMRegressor, LGBMRegressor\n",
    "\n",
    "from catboost import CatBoostRegressor, CatBoostClassifier\n",
    "\n",
    "import warnings\n",
    "warnings.filterwarnings('ignore')"
   ]
  },
  {
   "cell_type": "code",
   "execution_count": 66,
   "metadata": {},
   "outputs": [],
   "source": [
    "X = pd.read_csv('not_scaler_data.csv', index_col=0)\n",
    "y = pd.read_csv('data/target_data', index_col=0)\n",
    "X = X[~X.isna_Al2O3].drop(['isna_SiO2', 'isna_Al2O3'], axis=1)\n",
    "y = y[~y.isna_Al2O3].drop(['isna_SiO2', 'isna_Al2O3'], axis=1)"
   ]
  },
  {
   "cell_type": "code",
   "execution_count": 67,
   "metadata": {},
   "outputs": [],
   "source": [
    "df = X.merge(y, how='inner', left_index=True, right_index=True)"
   ]
  },
  {
   "cell_type": "code",
   "execution_count": null,
   "metadata": {},
   "outputs": [],
   "source": []
  },
  {
   "cell_type": "code",
   "execution_count": 123,
   "metadata": {},
   "outputs": [],
   "source": [
    "y = df['сыпуч известь РП'].copy()\n",
    "X = pd.get_dummies(df.drop('сыпуч известь РП', axis=1))"
   ]
  },
  {
   "cell_type": "code",
   "execution_count": 124,
   "metadata": {},
   "outputs": [],
   "source": [
    "def description(df, columns):\n",
    "    for name in columns:\n",
    "        print(name, '\\nПропущенных значений:', df[name].isna().sum(),\\\n",
    "              '(', round(df[name].isna().sum() * 100 / len(df[name]), 2)  ,'%)',\n",
    "             '\\nМедиана: {2}, Среднее значение: {0}, Ср.откл:{1}'.format(round(df[name].mean(), 3),\\\n",
    "                                                                         round(df[name].std(), 3),\\\n",
    "                                                                         df[name].median()),\\\n",
    "              '\\nУникальных значений: {}'.format(df[name].value_counts(dropna=False).count()), '\\n')\n",
    "        fig = plt.figure(figsize=(10, 8))\n",
    "        plt.subplot(221)\n",
    "        plt.hist(df[name])\n",
    "        plt.grid()\n",
    "        plt.subplot(222)\n",
    "        sns.boxplot(y=df[name])\n",
    "        plt.show()"
   ]
  },
  {
   "cell_type": "code",
   "execution_count": 125,
   "metadata": {},
   "outputs": [
    {
     "data": {
      "image/png": "[encoded data removed]",
      "text/plain": [
       "<Figure size 720x576 with 2 Axes>"
      ]
     },
     "metadata": {
      "needs_background": "light"
     },
     "output_type": "display_data"
    }
   ],
   "source": [
    "fig = plt.figure(figsize=(10, 8))\n",
    "plt.subplot(221)\n",
    "plt.hist(y, bins=8)\n",
    "plt.grid()\n",
    "plt.subplot(222)\n",
    "sns.boxplot(y=y)\n",
    "plt.show()\n",
    "plt.show('CaO')"
   ]
  },
  {
   "cell_type": "code",
   "execution_count": 126,
   "metadata": {},
   "outputs": [
    {
     "data": {
      "text/plain": [
       "0"
      ]
     },
     "execution_count": 126,
     "metadata": {},
     "output_type": "execute_result"
    }
   ],
   "source": [
    "(y == 0).sum()"
   ]
  },
  {
   "cell_type": "code",
   "execution_count": 127,
   "metadata": {},
   "outputs": [
    {
     "data": {
      "image/png": "[encoded data removed]",
      "text/plain": [
       "<Figure size 432x288 with 1 Axes>"
      ]
     },
     "metadata": {
      "needs_background": "light"
     },
     "output_type": "display_data"
    }
   ],
   "source": [
    "plt.hist(np.log(y), bins=12)\n",
    "plt.title('CaO')\n",
    "plt.grid()"
   ]
  },
  {
   "cell_type": "code",
   "execution_count": 131,
   "metadata": {},
   "outputs": [
    {
     "data": {
      "text/plain": [
       "0"
      ]
     },
     "execution_count": 131,
     "metadata": {},
     "output_type": "execute_result"
    }
   ],
   "source": [
    "(y == 0).sum()"
   ]
  },
  {
   "cell_type": "code",
   "execution_count": 132,
   "metadata": {},
   "outputs": [],
   "source": [
    "ln_y = np.log(y)\n",
    "max = ln_y.max()\n",
    "min = ln_y.min()\n",
    "width_class = (ln_y.max() - ln_y.min()) / 12"
   ]
  },
  {
   "cell_type": "code",
   "execution_count": 133,
   "metadata": {},
   "outputs": [
    {
     "name": "stdout",
     "output_type": "stream",
     "text": [
      "-5.809142990314028\n",
      "-5.381323346323827\n",
      "-4.9535037023336255\n",
      "-4.525684058343424\n",
      "-4.097864414353223\n",
      "-3.670044770363022\n",
      "-3.242225126372821\n",
      "-2.81440548238262\n",
      "-2.386585838392419\n",
      "-1.9587661944022177\n",
      "-1.5309465504120165\n",
      "-1.1031269064218154\n",
      "-0.6753072624316143\n"
     ]
    }
   ],
   "source": [
    "# границы классов\n",
    "for i in range(13):\n",
    "    print(min + i * width_class)"
   ]
  },
  {
   "cell_type": "code",
   "execution_count": 175,
   "metadata": {},
   "outputs": [
    {
     "data": {
      "text/html": [
       "<div>\n",
       "<style scoped>\n",
       "    .dataframe tbody tr th:only-of-type {\n",
       "        vertical-align: middle;\n",
       "    }\n",
       "\n",
       "    .dataframe tbody tr th {\n",
       "        vertical-align: top;\n",
       "    }\n",
       "\n",
       "    .dataframe thead th {\n",
       "        text-align: right;\n",
       "    }\n",
       "</style>\n",
       "<table border=\"1\" class=\"dataframe\">\n",
       "  <thead>\n",
       "    <tr style=\"text-align: right;\">\n",
       "      <th></th>\n",
       "      <th>left</th>\n",
       "      <th>right</th>\n",
       "    </tr>\n",
       "  </thead>\n",
       "  <tbody>\n",
       "    <tr>\n",
       "      <th>0</th>\n",
       "      <td>0.003000</td>\n",
       "      <td>0.059940</td>\n",
       "    </tr>\n",
       "    <tr>\n",
       "      <th>1</th>\n",
       "      <td>0.059940</td>\n",
       "      <td>0.091943</td>\n",
       "    </tr>\n",
       "    <tr>\n",
       "      <th>2</th>\n",
       "      <td>0.091943</td>\n",
       "      <td>0.141032</td>\n",
       "    </tr>\n",
       "    <tr>\n",
       "      <th>3</th>\n",
       "      <td>0.141032</td>\n",
       "      <td>0.509000</td>\n",
       "    </tr>\n",
       "  </tbody>\n",
       "</table>\n",
       "</div>"
      ],
      "text/plain": [
       "       left     right\n",
       "0  0.003000  0.059940\n",
       "1  0.059940  0.091943\n",
       "2  0.091943  0.141032\n",
       "3  0.141032  0.509000"
      ]
     },
     "execution_count": 175,
     "metadata": {},
     "output_type": "execute_result"
    }
   ],
   "source": [
    "class_border = [[-5.809142990314029, -2.81440548238262],\n",
    "                   [-2.81440548238262, -2.386585838392419],\n",
    "                   [-2.386585838392419, -1.9587661944022177],\n",
    "                    [-1.9587661944022177, -0.6753072624316143]]\n",
    "pd.DataFrame(class_border, columns=['left', 'right']).apply(lambda x: np.exp(x))"
   ]
  },
  {
   "cell_type": "code",
   "execution_count": 134,
   "metadata": {},
   "outputs": [],
   "source": [
    "def get_class(x):\n",
    "    class_border = [[-5.809142990314029, -2.81440548238262],\n",
    "                   [-2.81440548238262, -2.386585838392419],\n",
    "                   [-2.386585838392419, -1.9587661944022177],\n",
    "                    [-1.9587661944022177, -0.6753072624316143]]\n",
    "    for i in range(len(class_border)):\n",
    "        left = class_border[i][0]\n",
    "        right = class_border[i][1]\n",
    "        if x > left and x <= right:\n",
    "            return i"
   ]
  },
  {
   "cell_type": "code",
   "execution_count": 135,
   "metadata": {},
   "outputs": [],
   "source": [
    "ln_y_to_class = ln_y.apply(lambda x: get_class(x))"
   ]
  },
  {
   "cell_type": "code",
   "execution_count": 136,
   "metadata": {},
   "outputs": [
    {
     "data": {
      "text/plain": [
       "2    1777\n",
       "3    1310\n",
       "1     852\n",
       "0     356\n",
       "Name: сыпуч известь РП, dtype: int64"
      ]
     },
     "execution_count": 136,
     "metadata": {},
     "output_type": "execute_result"
    }
   ],
   "source": [
    "ln_y_to_class.value_counts(dropna=False)"
   ]
  },
  {
   "cell_type": "code",
   "execution_count": 137,
   "metadata": {},
   "outputs": [],
   "source": [
    "from sklearn.linear_model import LogisticRegression \n",
    "from sklearn.discriminant_analysis import LinearDiscriminantAnalysis  \n",
    "from sklearn.neighbors import KNeighborsClassifier  \n",
    "from sklearn.naive_bayes import GaussianNB  \n",
    "from sklearn.tree import DecisionTreeClassifier  \n",
    "from sklearn.svm import SVC "
   ]
  },
  {
   "cell_type": "code",
   "execution_count": 138,
   "metadata": {},
   "outputs": [],
   "source": [
    "x_train, x_test, y_train, y_test = train_test_split(X, ln_y_to_class, test_size=0.25)"
   ]
  },
  {
   "cell_type": "code",
   "execution_count": 162,
   "metadata": {},
   "outputs": [
    {
     "name": "stdout",
     "output_type": "stream",
     "text": [
      "0.4729981378026071\n"
     ]
    }
   ],
   "source": [
    "logreg_clf = LogisticRegression()\n",
    "logreg_clf.fit(x_train, y_train)\n",
    "y_pr = logreg_clf.predict(x_test)\n",
    "print(accuracy_score(y_test, y_pr))\n",
    "# confusion_matrix(y_test, y_pr)"
   ]
  },
  {
   "cell_type": "code",
   "execution_count": 145,
   "metadata": {},
   "outputs": [
    {
     "data": {
      "text/plain": [
       "0.4171322160148976"
      ]
     },
     "execution_count": 145,
     "metadata": {},
     "output_type": "execute_result"
    }
   ],
   "source": [
    "logreg_clf = SVC()\n",
    "logreg_clf.fit(x_train, y_train)\n",
    "y_pr = logreg_clf.predict(x_test)\n",
    "accuracy_score(y_test, y_pr)"
   ]
  },
  {
   "cell_type": "code",
   "execution_count": 159,
   "metadata": {},
   "outputs": [
    {
     "data": {
      "text/plain": [
       "0.425512104283054"
      ]
     },
     "execution_count": 159,
     "metadata": {},
     "output_type": "execute_result"
    }
   ],
   "source": [
    "logreg_clf = KNeighborsClassifier(n_neighbors=500)\n",
    "logreg_clf.fit(x_train, y_train)\n",
    "y_pr = logreg_clf.predict(x_test)\n",
    "accuracy_score(y_test, y_pr)"
   ]
  },
  {
   "cell_type": "markdown",
   "metadata": {},
   "source": [
    "### Только по последним химшлакам и маркам"
   ]
  },
  {
   "cell_type": "code",
   "execution_count": 166,
   "metadata": {},
   "outputs": [],
   "source": [
    "X_small = X.loc[:, 'химшлак последний Al2O3':]"
   ]
  },
  {
   "cell_type": "code",
   "execution_count": 180,
   "metadata": {},
   "outputs": [],
   "source": [
    "x_train, x_test, y_train, y_test = train_test_split(X_small, ln_y_to_class, test_size=0.25)"
   ]
  },
  {
   "cell_type": "code",
   "execution_count": 168,
   "metadata": {},
   "outputs": [
    {
     "name": "stdout",
     "output_type": "stream",
     "text": [
      "0.45344506517690875\n"
     ]
    }
   ],
   "source": [
    "logreg_clf = LogisticRegression()\n",
    "logreg_clf.fit(x_train, y_train)\n",
    "y_pr = logreg_clf.predict(x_test)\n",
    "print(accuracy_score(y_test, y_pr))\n",
    "# confusion_matrix(y_test, y_pr)"
   ]
  },
  {
   "cell_type": "code",
   "execution_count": 211,
   "metadata": {},
   "outputs": [
    {
     "name": "stdout",
     "output_type": "stream",
     "text": [
      "{'C': 0.001, 'penalty': 'l2'}\n"
     ]
    },
    {
     "data": {
      "text/plain": [
       "0.445059769615301"
      ]
     },
     "execution_count": 211,
     "metadata": {},
     "output_type": "execute_result"
    }
   ],
   "source": [
    "grid={\"C\":np.logspace(-3,3,7), \"penalty\":[\"l1\",\"l2\"]}\n",
    "grid_cv = GridSearchCV(LogisticRegression(), param_grid=grid)\n",
    "grid_cv.fit(x_train, y_train)\n",
    "print(grid_cv.best_params_)\n",
    "logreg_clf = grid_cv.best_estimator_\n",
    "cross_val_score(logreg_clf, x_test, y_test, scoring='accuracy').mean()\n",
    "\n",
    "# logreg_clf = LogisticRegression()\n",
    "# logreg_clf.fit(x_train, y_train)\n",
    "# y_pr = logreg_clf.predict(x_test)\n",
    "# print(accuracy_score(y_test, y_pr))"
   ]
  },
  {
   "cell_type": "code",
   "execution_count": 169,
   "metadata": {},
   "outputs": [
    {
     "data": {
      "text/plain": [
       "0.4543761638733706"
      ]
     },
     "execution_count": 169,
     "metadata": {},
     "output_type": "execute_result"
    }
   ],
   "source": [
    "logreg_clf = SVC()\n",
    "logreg_clf.fit(x_train, y_train)\n",
    "y_pr = logreg_clf.predict(x_test)\n",
    "accuracy_score(y_test, y_pr)"
   ]
  },
  {
   "cell_type": "code",
   "execution_count": 170,
   "metadata": {},
   "outputs": [
    {
     "data": {
      "text/plain": [
       "0.4664804469273743"
      ]
     },
     "execution_count": 170,
     "metadata": {},
     "output_type": "execute_result"
    }
   ],
   "source": [
    "logreg_clf = KNeighborsClassifier(n_neighbors=500)\n",
    "logreg_clf.fit(x_train, y_train)\n",
    "y_pr = logreg_clf.predict(x_test)\n",
    "accuracy_score(y_test, y_pr)"
   ]
  },
  {
   "cell_type": "code",
   "execution_count": 25,
   "metadata": {},
   "outputs": [
    {
     "data": {
      "text/plain": [
       "[<matplotlib.lines.Line2D at 0x29866493130>]"
      ]
     },
     "execution_count": 25,
     "metadata": {},
     "output_type": "execute_result"
    },
    {
     "data": {
      "image/png": "[encoded data removed]",
      "text/plain": [
       "<Figure size 432x288 with 1 Axes>"
      ]
     },
     "metadata": {
      "needs_background": "light"
     },
     "output_type": "display_data"
    }
   ],
   "source": [
    "lg = LinearRegression()\n",
    "lg.fit(x_train, y_train)\n",
    "y_predicted = lg.predict(x_test)\n",
    "plt.scatter(y_test, y_predicted)\n",
    "plt.plot([-2, 2], [-1, 2], c='r')"
   ]
  },
  {
   "cell_type": "code",
   "execution_count": 18,
   "metadata": {},
   "outputs": [
    {
     "data": {
      "text/plain": [
       "2.0653098670776404"
      ]
     },
     "execution_count": 18,
     "metadata": {},
     "output_type": "execute_result"
    }
   ],
   "source": [
    "abs(cross_val_score(LinearRegression(), X, y, scoring='neg_mean_absolute_percentage_error')).mean()"
   ]
  },
  {
   "cell_type": "code",
   "execution_count": 26,
   "metadata": {},
   "outputs": [],
   "source": [
    "from sklearn.manifold import TSNE"
   ]
  },
  {
   "cell_type": "code",
   "execution_count": null,
   "metadata": {},
   "outputs": [],
   "source": []
  }
 ],
 "metadata": {
  "kernelspec": {
   "display_name": "Python 3",
   "language": "python",
   "name": "python3"
  },
  "language_info": {
   "codemirror_mode": {
    "name": "ipython",
    "version": 3
   },
   "file_extension": ".py",
   "mimetype": "text/x-python",
   "name": "python",
   "nbconvert_exporter": "python",
   "pygments_lexer": "ipython3",
   "version": "3.8.5"
  }
 },
 "nbformat": 4,
 "nbformat_minor": 4
}
