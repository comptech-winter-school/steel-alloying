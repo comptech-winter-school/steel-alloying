{
 "cells": [
  {
   "cell_type": "code",
   "execution_count": 363,
   "metadata": {},
   "outputs": [],
   "source": [
    "import pandas as pd\n",
    "import seaborn as sns\n",
    "import numpy as np\n",
    "import matplotlib.pyplot as plt\n",
    "from sklearn.ensemble import IsolationForest"
   ]
  },
  {
   "cell_type": "code",
   "execution_count": 364,
   "metadata": {},
   "outputs": [
    {
     "data": {
      "text/html": [
       "<div>\n",
       "<style scoped>\n",
       "    .dataframe tbody tr th:only-of-type {\n",
       "        vertical-align: middle;\n",
       "    }\n",
       "\n",
       "    .dataframe tbody tr th {\n",
       "        vertical-align: top;\n",
       "    }\n",
       "\n",
       "    .dataframe thead th {\n",
       "        text-align: right;\n",
       "    }\n",
       "</style>\n",
       "<table border=\"1\" class=\"dataframe\">\n",
       "  <thead>\n",
       "    <tr style=\"text-align: right;\">\n",
       "      <th></th>\n",
       "      <th>nplv</th>\n",
       "      <th>DT</th>\n",
       "      <th>МАРКА</th>\n",
       "      <th>ПРОФИЛЬ</th>\n",
       "      <th>t вып-обр</th>\n",
       "      <th>t обработка</th>\n",
       "      <th>t под током</th>\n",
       "      <th>t продувка</th>\n",
       "      <th>ПСН гр.</th>\n",
       "      <th>чист расход C</th>\n",
       "      <th>...</th>\n",
       "      <th>химшлак первый MnO_1</th>\n",
       "      <th>химшлак первый R_1</th>\n",
       "      <th>химшлак первый SiO2_1</th>\n",
       "      <th>химшлак последний Al2O3</th>\n",
       "      <th>химшлак последний CaO</th>\n",
       "      <th>химшлак последний FeO</th>\n",
       "      <th>химшлак последний MgO</th>\n",
       "      <th>химшлак последний MnO</th>\n",
       "      <th>химшлак последний R</th>\n",
       "      <th>химшлак последний SiO2</th>\n",
       "    </tr>\n",
       "  </thead>\n",
       "  <tbody>\n",
       "    <tr>\n",
       "      <th>0</th>\n",
       "      <td>г6837?3&lt;87?</td>\n",
       "      <td>2070-06-21 00:14:00</td>\n",
       "      <td>Э76ХФ</td>\n",
       "      <td>Р65</td>\n",
       "      <td>29.0</td>\n",
       "      <td>45.366667</td>\n",
       "      <td>24.400000</td>\n",
       "      <td>41.033333</td>\n",
       "      <td>NaN</td>\n",
       "      <td>0.456460</td>\n",
       "      <td>...</td>\n",
       "      <td>0.12</td>\n",
       "      <td>2.6</td>\n",
       "      <td>NaN</td>\n",
       "      <td>NaN</td>\n",
       "      <td>53.4</td>\n",
       "      <td>1.0</td>\n",
       "      <td>5.8</td>\n",
       "      <td>0.15</td>\n",
       "      <td>2.6</td>\n",
       "      <td>NaN</td>\n",
       "    </tr>\n",
       "    <tr>\n",
       "      <th>1</th>\n",
       "      <td>г683863&lt;886</td>\n",
       "      <td>2070-06-21 01:07:00</td>\n",
       "      <td>Э76ХФ</td>\n",
       "      <td>Р65</td>\n",
       "      <td>26.0</td>\n",
       "      <td>44.066667</td>\n",
       "      <td>13.866667</td>\n",
       "      <td>44.066667</td>\n",
       "      <td>NaN</td>\n",
       "      <td>0.359285</td>\n",
       "      <td>...</td>\n",
       "      <td>0.14</td>\n",
       "      <td>2.2</td>\n",
       "      <td>NaN</td>\n",
       "      <td>NaN</td>\n",
       "      <td>59.3</td>\n",
       "      <td>0.6</td>\n",
       "      <td>4.1</td>\n",
       "      <td>0.11</td>\n",
       "      <td>2.3</td>\n",
       "      <td>NaN</td>\n",
       "    </tr>\n",
       "    <tr>\n",
       "      <th>2</th>\n",
       "      <td>г683863&lt;887</td>\n",
       "      <td>2070-06-21 02:00:00</td>\n",
       "      <td>Э76ХФ</td>\n",
       "      <td>Р65</td>\n",
       "      <td>24.0</td>\n",
       "      <td>43.350000</td>\n",
       "      <td>17.950000</td>\n",
       "      <td>43.350000</td>\n",
       "      <td>NaN</td>\n",
       "      <td>0.331665</td>\n",
       "      <td>...</td>\n",
       "      <td>0.12</td>\n",
       "      <td>2.6</td>\n",
       "      <td>NaN</td>\n",
       "      <td>NaN</td>\n",
       "      <td>57.2</td>\n",
       "      <td>0.5</td>\n",
       "      <td>8.1</td>\n",
       "      <td>0.13</td>\n",
       "      <td>2.3</td>\n",
       "      <td>NaN</td>\n",
       "    </tr>\n",
       "    <tr>\n",
       "      <th>3</th>\n",
       "      <td>г683863&lt;888</td>\n",
       "      <td>2070-06-21 02:58:00</td>\n",
       "      <td>Э76ХФ</td>\n",
       "      <td>Р65</td>\n",
       "      <td>17.0</td>\n",
       "      <td>46.183333</td>\n",
       "      <td>19.816667</td>\n",
       "      <td>46.183333</td>\n",
       "      <td>NaN</td>\n",
       "      <td>0.377945</td>\n",
       "      <td>...</td>\n",
       "      <td>0.11</td>\n",
       "      <td>2.4</td>\n",
       "      <td>NaN</td>\n",
       "      <td>NaN</td>\n",
       "      <td>60.3</td>\n",
       "      <td>0.5</td>\n",
       "      <td>6.3</td>\n",
       "      <td>0.12</td>\n",
       "      <td>2.6</td>\n",
       "      <td>NaN</td>\n",
       "    </tr>\n",
       "    <tr>\n",
       "      <th>4</th>\n",
       "      <td>г683863&lt;889</td>\n",
       "      <td>2070-06-21 03:50:00</td>\n",
       "      <td>Э76ХФ</td>\n",
       "      <td>Р65</td>\n",
       "      <td>20.0</td>\n",
       "      <td>48.500000</td>\n",
       "      <td>17.033333</td>\n",
       "      <td>48.500000</td>\n",
       "      <td>NaN</td>\n",
       "      <td>0.389875</td>\n",
       "      <td>...</td>\n",
       "      <td>0.12</td>\n",
       "      <td>2.4</td>\n",
       "      <td>NaN</td>\n",
       "      <td>NaN</td>\n",
       "      <td>60.3</td>\n",
       "      <td>0.6</td>\n",
       "      <td>4.5</td>\n",
       "      <td>0.09</td>\n",
       "      <td>2.5</td>\n",
       "      <td>NaN</td>\n",
       "    </tr>\n",
       "  </tbody>\n",
       "</table>\n",
       "<p>5 rows × 84 columns</p>\n",
       "</div>"
      ],
      "text/plain": [
       "          nplv                   DT  МАРКА ПРОФИЛЬ  t вып-обр  t обработка  \\\n",
       "0  г6837?3<87?  2070-06-21 00:14:00  Э76ХФ     Р65       29.0    45.366667   \n",
       "1  г683863<886  2070-06-21 01:07:00  Э76ХФ     Р65       26.0    44.066667   \n",
       "2  г683863<887  2070-06-21 02:00:00  Э76ХФ     Р65       24.0    43.350000   \n",
       "3  г683863<888  2070-06-21 02:58:00  Э76ХФ     Р65       17.0    46.183333   \n",
       "4  г683863<889  2070-06-21 03:50:00  Э76ХФ     Р65       20.0    48.500000   \n",
       "\n",
       "   t под током  t продувка  ПСН гр.  чист расход C  ...  химшлак первый MnO_1  \\\n",
       "0    24.400000   41.033333      NaN       0.456460  ...                  0.12   \n",
       "1    13.866667   44.066667      NaN       0.359285  ...                  0.14   \n",
       "2    17.950000   43.350000      NaN       0.331665  ...                  0.12   \n",
       "3    19.816667   46.183333      NaN       0.377945  ...                  0.11   \n",
       "4    17.033333   48.500000      NaN       0.389875  ...                  0.12   \n",
       "\n",
       "   химшлак первый R_1  химшлак первый SiO2_1  химшлак последний Al2O3  \\\n",
       "0                 2.6                    NaN                      NaN   \n",
       "1                 2.2                    NaN                      NaN   \n",
       "2                 2.6                    NaN                      NaN   \n",
       "3                 2.4                    NaN                      NaN   \n",
       "4                 2.4                    NaN                      NaN   \n",
       "\n",
       "   химшлак последний CaO  химшлак последний FeO  химшлак последний MgO  \\\n",
       "0                   53.4                    1.0                    5.8   \n",
       "1                   59.3                    0.6                    4.1   \n",
       "2                   57.2                    0.5                    8.1   \n",
       "3                   60.3                    0.5                    6.3   \n",
       "4                   60.3                    0.6                    4.5   \n",
       "\n",
       "   химшлак последний MnO  химшлак последний R  химшлак последний SiO2  \n",
       "0                   0.15                  2.6                     NaN  \n",
       "1                   0.11                  2.3                     NaN  \n",
       "2                   0.13                  2.3                     NaN  \n",
       "3                   0.12                  2.6                     NaN  \n",
       "4                   0.09                  2.5                     NaN  \n",
       "\n",
       "[5 rows x 84 columns]"
      ]
     },
     "execution_count": 364,
     "metadata": {},
     "output_type": "execute_result"
    }
   ],
   "source": [
    "data = pd.read_table('steel_alloying.csv', sep=';', index_col=0, decimal=',')\n",
    "data.head()"
   ]
  },
  {
   "cell_type": "code",
   "execution_count": 365,
   "metadata": {},
   "outputs": [
    {
     "data": {
      "text/plain": [
       "(7041, 84)"
      ]
     },
     "execution_count": 365,
     "metadata": {},
     "output_type": "execute_result"
    }
   ],
   "source": [
    "data.shape"
   ]
  },
  {
   "cell_type": "code",
   "execution_count": 366,
   "metadata": {},
   "outputs": [
    {
     "name": "stdout",
     "output_type": "stream",
     "text": [
      "<class 'pandas.core.frame.DataFrame'>\n",
      "Int64Index: 7041 entries, 0 to 7040\n",
      "Data columns (total 84 columns):\n",
      " #   Column                          Non-Null Count  Dtype  \n",
      "---  ------                          --------------  -----  \n",
      " 0   nplv                            7041 non-null   object \n",
      " 1   DT                              7041 non-null   object \n",
      " 2   МАРКА                           7041 non-null   object \n",
      " 3   ПРОФИЛЬ                         7041 non-null   object \n",
      " 4   t вып-обр                       6444 non-null   float64\n",
      " 5   t обработка                     6440 non-null   float64\n",
      " 6   t под током                     6440 non-null   float64\n",
      " 7   t продувка                      6444 non-null   float64\n",
      " 8   ПСН гр.                         5249 non-null   float64\n",
      " 9   чист расход C                   6435 non-null   float64\n",
      " 10  чист расход Cr                  5883 non-null   float64\n",
      " 11  чист расход Mn                  6431 non-null   float64\n",
      " 12  чист расход Si                  6431 non-null   float64\n",
      " 13  чист расход V                   6178 non-null   float64\n",
      " 14  температура первая              6436 non-null   float64\n",
      " 15  температура последняя           6436 non-null   float64\n",
      " 16  Ar (интенс.)                    6426 non-null   float64\n",
      " 17  N2 (интенс.)                    1389 non-null   float64\n",
      " 18  эл. энергия (интенс.)           6440 non-null   float64\n",
      " 19  произв жидкая сталь             6444 non-null   float64\n",
      " 20  произв количество обработок     6444 non-null   float64\n",
      " 21  произв  количество плавок       6444 non-null   float64\n",
      " 22  произв количество плавок (цел)  6444 non-null   float64\n",
      " 23  расход газ Ar                   6426 non-null   float64\n",
      " 24  расход газ  N2                  1389 non-null   float64\n",
      " 25  расход C пров.                  724 non-null    float64\n",
      " 26  сыпуч известь РП                4770 non-null   float64\n",
      " 27  сыпуч кварцит                   13 non-null     float64\n",
      " 28  сыпуч кокс пыль УСТК            6422 non-null   float64\n",
      " 29  сыпуч  кокс. мелочь (сух.)      7 non-null      float64\n",
      " 30  сыпуч  кокс. мелочь КМ1         6307 non-null   float64\n",
      " 31  сыпуч  шпат плав.               5910 non-null   float64\n",
      " 32  ферспл CaC2                     6244 non-null   float64\n",
      " 33  ферспл FeMo                     33 non-null     float64\n",
      " 34  ферспл FeSi-75                  5 non-null      float64\n",
      " 35  ферспл FeV азот.                383 non-null    float64\n",
      " 36  ферспл  FeV-80                  6179 non-null   float64\n",
      " 37  ферспл  Mn5Si65Al0.5            6400 non-null   float64\n",
      " 38  ферспл  Ni H1 пласт.            82 non-null     float64\n",
      " 39  ферспл SiMn18                   6398 non-null   float64\n",
      " 40  ферспл  ферванит                1017 non-null   float64\n",
      " 41  ферспл  фх850А                  5883 non-null   float64\n",
      " 42  эл. энергия                     6440 non-null   float64\n",
      " 43  химсталь первый Al_1            6444 non-null   float64\n",
      " 44  химсталь первый C_1             6444 non-null   float64\n",
      " 45  химсталь первый Cr_1            6444 non-null   float64\n",
      " 46  химсталь первый Cu_1            6444 non-null   float64\n",
      " 47  химсталь первый Mn_1            6444 non-null   float64\n",
      " 48  химсталь первый Mo_1            6443 non-null   float64\n",
      " 49  химсталь первый N_1             6443 non-null   float64\n",
      " 50  химсталь первый Ni_1            6444 non-null   float64\n",
      " 51  химсталь первый P_1             6444 non-null   float64\n",
      " 52  химсталь первый S_1             6444 non-null   float64\n",
      " 53  химсталь первый Si_1            6444 non-null   float64\n",
      " 54  химсталь первый Ti_1            6444 non-null   float64\n",
      " 55  химсталь первый V_1             6444 non-null   float64\n",
      " 56  химсталь последний Al           6444 non-null   float64\n",
      " 57  химсталь последний C            6444 non-null   float64\n",
      " 58  химсталь последний Ca           6218 non-null   float64\n",
      " 59  химсталь последний Cr           6444 non-null   float64\n",
      " 60  химсталь последний Cu           6444 non-null   float64\n",
      " 61  химсталь последний Mn           6444 non-null   float64\n",
      " 62  химсталь последний Mo           6444 non-null   float64\n",
      " 63  химсталь последний N            6442 non-null   float64\n",
      " 64  химсталь последний Ni           6444 non-null   float64\n",
      " 65  химсталь последний P            6444 non-null   float64\n",
      " 66  химсталь последний S            6444 non-null   float64\n",
      " 67  химсталь последний Si           6444 non-null   float64\n",
      " 68  химсталь последний Ti           6444 non-null   float64\n",
      " 69  химсталь последний V            6444 non-null   float64\n",
      " 70  химшлак первый Al2O3_1          4742 non-null   float64\n",
      " 71  химшлак первый CaO_1            6444 non-null   float64\n",
      " 72  химшлак первый FeO_1            6444 non-null   float64\n",
      " 73  химшлак первый MgO_1            6443 non-null   float64\n",
      " 74  химшлак первый MnO_1            6444 non-null   float64\n",
      " 75  химшлак первый R_1              6444 non-null   float64\n",
      " 76  химшлак первый SiO2_1           4742 non-null   float64\n",
      " 77  химшлак последний Al2O3         4742 non-null   float64\n",
      " 78  химшлак последний CaO           6444 non-null   float64\n",
      " 79  химшлак последний FeO           6444 non-null   float64\n",
      " 80  химшлак последний MgO           6443 non-null   float64\n",
      " 81  химшлак последний MnO           6444 non-null   float64\n",
      " 82  химшлак последний R             6444 non-null   float64\n",
      " 83  химшлак последний SiO2          4742 non-null   float64\n",
      "dtypes: float64(80), object(4)\n",
      "memory usage: 4.6+ MB\n"
     ]
    }
   ],
   "source": [
    "data.info()"
   ]
  },
  {
   "cell_type": "code",
   "execution_count": 367,
   "metadata": {},
   "outputs": [],
   "source": [
    "# data['ПРОФИЛЬ'].value_counts()"
   ]
  },
  {
   "cell_type": "code",
   "execution_count": 368,
   "metadata": {},
   "outputs": [],
   "source": [
    "# data.columns"
   ]
  },
  {
   "cell_type": "code",
   "execution_count": 369,
   "metadata": {},
   "outputs": [
    {
     "data": {
      "text/html": [
       "<div>\n",
       "<style scoped>\n",
       "    .dataframe tbody tr th:only-of-type {\n",
       "        vertical-align: middle;\n",
       "    }\n",
       "\n",
       "    .dataframe tbody tr th {\n",
       "        vertical-align: top;\n",
       "    }\n",
       "\n",
       "    .dataframe thead th {\n",
       "        text-align: right;\n",
       "    }\n",
       "</style>\n",
       "<table border=\"1\" class=\"dataframe\">\n",
       "  <thead>\n",
       "    <tr style=\"text-align: right;\">\n",
       "      <th></th>\n",
       "      <th>МАРКА</th>\n",
       "      <th>t вып-обр</th>\n",
       "      <th>t обработка</th>\n",
       "      <th>t под током</th>\n",
       "      <th>t продувка</th>\n",
       "      <th>ПСН гр.</th>\n",
       "      <th>чист расход C</th>\n",
       "      <th>чист расход Cr</th>\n",
       "      <th>чист расход Mn</th>\n",
       "      <th>чист расход Si</th>\n",
       "      <th>...</th>\n",
       "      <th>химшлак первый MnO_1</th>\n",
       "      <th>химшлак первый R_1</th>\n",
       "      <th>химшлак первый SiO2_1</th>\n",
       "      <th>химшлак последний Al2O3</th>\n",
       "      <th>химшлак последний CaO</th>\n",
       "      <th>химшлак последний FeO</th>\n",
       "      <th>химшлак последний MgO</th>\n",
       "      <th>химшлак последний MnO</th>\n",
       "      <th>химшлак последний R</th>\n",
       "      <th>химшлак последний SiO2</th>\n",
       "    </tr>\n",
       "  </thead>\n",
       "  <tbody>\n",
       "    <tr>\n",
       "      <th>0</th>\n",
       "      <td>Э76ХФ</td>\n",
       "      <td>29.0</td>\n",
       "      <td>45.366667</td>\n",
       "      <td>24.400000</td>\n",
       "      <td>41.033333</td>\n",
       "      <td>NaN</td>\n",
       "      <td>0.456460</td>\n",
       "      <td>0.059572</td>\n",
       "      <td>0.117446</td>\n",
       "      <td>0.104762</td>\n",
       "      <td>...</td>\n",
       "      <td>0.12</td>\n",
       "      <td>2.6</td>\n",
       "      <td>NaN</td>\n",
       "      <td>NaN</td>\n",
       "      <td>53.4</td>\n",
       "      <td>1.0</td>\n",
       "      <td>5.8</td>\n",
       "      <td>0.15</td>\n",
       "      <td>2.6</td>\n",
       "      <td>NaN</td>\n",
       "    </tr>\n",
       "    <tr>\n",
       "      <th>1</th>\n",
       "      <td>Э76ХФ</td>\n",
       "      <td>26.0</td>\n",
       "      <td>44.066667</td>\n",
       "      <td>13.866667</td>\n",
       "      <td>44.066667</td>\n",
       "      <td>NaN</td>\n",
       "      <td>0.359285</td>\n",
       "      <td>0.083738</td>\n",
       "      <td>0.160923</td>\n",
       "      <td>0.110327</td>\n",
       "      <td>...</td>\n",
       "      <td>0.14</td>\n",
       "      <td>2.2</td>\n",
       "      <td>NaN</td>\n",
       "      <td>NaN</td>\n",
       "      <td>59.3</td>\n",
       "      <td>0.6</td>\n",
       "      <td>4.1</td>\n",
       "      <td>0.11</td>\n",
       "      <td>2.3</td>\n",
       "      <td>NaN</td>\n",
       "    </tr>\n",
       "    <tr>\n",
       "      <th>2</th>\n",
       "      <td>Э76ХФ</td>\n",
       "      <td>24.0</td>\n",
       "      <td>43.350000</td>\n",
       "      <td>17.950000</td>\n",
       "      <td>43.350000</td>\n",
       "      <td>NaN</td>\n",
       "      <td>0.331665</td>\n",
       "      <td>0.081490</td>\n",
       "      <td>0.132332</td>\n",
       "      <td>0.139860</td>\n",
       "      <td>...</td>\n",
       "      <td>0.12</td>\n",
       "      <td>2.6</td>\n",
       "      <td>NaN</td>\n",
       "      <td>NaN</td>\n",
       "      <td>57.2</td>\n",
       "      <td>0.5</td>\n",
       "      <td>8.1</td>\n",
       "      <td>0.13</td>\n",
       "      <td>2.3</td>\n",
       "      <td>NaN</td>\n",
       "    </tr>\n",
       "    <tr>\n",
       "      <th>3</th>\n",
       "      <td>Э76ХФ</td>\n",
       "      <td>17.0</td>\n",
       "      <td>46.183333</td>\n",
       "      <td>19.816667</td>\n",
       "      <td>46.183333</td>\n",
       "      <td>NaN</td>\n",
       "      <td>0.377945</td>\n",
       "      <td>0.133194</td>\n",
       "      <td>0.221605</td>\n",
       "      <td>0.165186</td>\n",
       "      <td>...</td>\n",
       "      <td>0.11</td>\n",
       "      <td>2.4</td>\n",
       "      <td>NaN</td>\n",
       "      <td>NaN</td>\n",
       "      <td>60.3</td>\n",
       "      <td>0.5</td>\n",
       "      <td>6.3</td>\n",
       "      <td>0.12</td>\n",
       "      <td>2.6</td>\n",
       "      <td>NaN</td>\n",
       "    </tr>\n",
       "    <tr>\n",
       "      <th>4</th>\n",
       "      <td>Э76ХФ</td>\n",
       "      <td>20.0</td>\n",
       "      <td>48.500000</td>\n",
       "      <td>17.033333</td>\n",
       "      <td>48.500000</td>\n",
       "      <td>NaN</td>\n",
       "      <td>0.389875</td>\n",
       "      <td>0.105094</td>\n",
       "      <td>0.169459</td>\n",
       "      <td>0.143024</td>\n",
       "      <td>...</td>\n",
       "      <td>0.12</td>\n",
       "      <td>2.4</td>\n",
       "      <td>NaN</td>\n",
       "      <td>NaN</td>\n",
       "      <td>60.3</td>\n",
       "      <td>0.6</td>\n",
       "      <td>4.5</td>\n",
       "      <td>0.09</td>\n",
       "      <td>2.5</td>\n",
       "      <td>NaN</td>\n",
       "    </tr>\n",
       "  </tbody>\n",
       "</table>\n",
       "<p>5 rows × 81 columns</p>\n",
       "</div>"
      ],
      "text/plain": [
       "   МАРКА  t вып-обр  t обработка  t под током  t продувка  ПСН гр.  \\\n",
       "0  Э76ХФ       29.0    45.366667    24.400000   41.033333      NaN   \n",
       "1  Э76ХФ       26.0    44.066667    13.866667   44.066667      NaN   \n",
       "2  Э76ХФ       24.0    43.350000    17.950000   43.350000      NaN   \n",
       "3  Э76ХФ       17.0    46.183333    19.816667   46.183333      NaN   \n",
       "4  Э76ХФ       20.0    48.500000    17.033333   48.500000      NaN   \n",
       "\n",
       "   чист расход C  чист расход Cr  чист расход Mn  чист расход Si  ...  \\\n",
       "0       0.456460        0.059572        0.117446        0.104762  ...   \n",
       "1       0.359285        0.083738        0.160923        0.110327  ...   \n",
       "2       0.331665        0.081490        0.132332        0.139860  ...   \n",
       "3       0.377945        0.133194        0.221605        0.165186  ...   \n",
       "4       0.389875        0.105094        0.169459        0.143024  ...   \n",
       "\n",
       "   химшлак первый MnO_1  химшлак первый R_1  химшлак первый SiO2_1  \\\n",
       "0                  0.12                 2.6                    NaN   \n",
       "1                  0.14                 2.2                    NaN   \n",
       "2                  0.12                 2.6                    NaN   \n",
       "3                  0.11                 2.4                    NaN   \n",
       "4                  0.12                 2.4                    NaN   \n",
       "\n",
       "   химшлак последний Al2O3  химшлак последний CaO  химшлак последний FeO  \\\n",
       "0                      NaN                   53.4                    1.0   \n",
       "1                      NaN                   59.3                    0.6   \n",
       "2                      NaN                   57.2                    0.5   \n",
       "3                      NaN                   60.3                    0.5   \n",
       "4                      NaN                   60.3                    0.6   \n",
       "\n",
       "   химшлак последний MgO  химшлак последний MnO  химшлак последний R  \\\n",
       "0                    5.8                   0.15                  2.6   \n",
       "1                    4.1                   0.11                  2.3   \n",
       "2                    8.1                   0.13                  2.3   \n",
       "3                    6.3                   0.12                  2.6   \n",
       "4                    4.5                   0.09                  2.5   \n",
       "\n",
       "   химшлак последний SiO2  \n",
       "0                     NaN  \n",
       "1                     NaN  \n",
       "2                     NaN  \n",
       "3                     NaN  \n",
       "4                     NaN  \n",
       "\n",
       "[5 rows x 81 columns]"
      ]
     },
     "execution_count": 369,
     "metadata": {},
     "output_type": "execute_result"
    }
   ],
   "source": [
    "data.drop(['nplv', 'DT', 'ПРОФИЛЬ'], axis=1, inplace=True)\n",
    "data.head()"
   ]
  },
  {
   "cell_type": "code",
   "execution_count": 370,
   "metadata": {},
   "outputs": [
    {
     "data": {
      "text/plain": [
       "Э76ХФ     4953\n",
       "Э90ХАФ    1384\n",
       "Э73Ф       227\n",
       "Э76Ф        86\n",
       "Ш2.2        59\n",
       "Э76         56\n",
       "900А        54\n",
       "R350HT      54\n",
       "Э76ХАФ      50\n",
       "R260        35\n",
       "G2HH        34\n",
       "Ш2Л         31\n",
       "НХ           7\n",
       "09Г2С        4\n",
       "С345         3\n",
       "С255         2\n",
       "С355         1\n",
       "Ст3сп        1\n",
       "Name: МАРКА, dtype: int64"
      ]
     },
     "execution_count": 370,
     "metadata": {},
     "output_type": "execute_result"
    }
   ],
   "source": [
    "data['МАРКА'].value_counts()"
   ]
  },
  {
   "cell_type": "code",
   "execution_count": 371,
   "metadata": {},
   "outputs": [],
   "source": [
    "marka_dict = {'Э76ХФ': 'Э76ХФ', 'Э90ХАФ': 'Э90ХАФ', 'Э73Ф': 'Э73Ф', 'Э76Ф': 'Э76Ф', 'Ш2.2': 'Ш2.2', 'Э76': 'Э76',\n",
    "              '900А': '900А', 'R350HT': 'R350HT', 'Э76ХАФ': 'Э76ХАФ', 'R260': 'R260', 'G2HH': 'G2HH', 'Ш2Л': 'Ш2Л',\n",
    "              'НХ': 'Другие' , '09Г2С': 'Другие', 'С345': 'Другие', 'С255': 'Другие', 'С355': 'Другие', 'Ст3сп' : 'Другие'}\n",
    "data['МАРКА'] = data['МАРКА'].map(marka_dict)   \n"
   ]
  },
  {
   "cell_type": "code",
   "execution_count": 372,
   "metadata": {},
   "outputs": [
    {
     "data": {
      "text/html": [
       "<div>\n",
       "<style scoped>\n",
       "    .dataframe tbody tr th:only-of-type {\n",
       "        vertical-align: middle;\n",
       "    }\n",
       "\n",
       "    .dataframe tbody tr th {\n",
       "        vertical-align: top;\n",
       "    }\n",
       "\n",
       "    .dataframe thead th {\n",
       "        text-align: right;\n",
       "    }\n",
       "</style>\n",
       "<table border=\"1\" class=\"dataframe\">\n",
       "  <thead>\n",
       "    <tr style=\"text-align: right;\">\n",
       "      <th></th>\n",
       "      <th>t вып-обр</th>\n",
       "      <th>t обработка</th>\n",
       "      <th>t под током</th>\n",
       "      <th>t продувка</th>\n",
       "    </tr>\n",
       "  </thead>\n",
       "  <tbody>\n",
       "    <tr>\n",
       "      <th>count</th>\n",
       "      <td>6444.000000</td>\n",
       "      <td>6440.000000</td>\n",
       "      <td>6440.000000</td>\n",
       "      <td>6444.000000</td>\n",
       "    </tr>\n",
       "    <tr>\n",
       "      <th>mean</th>\n",
       "      <td>26.492241</td>\n",
       "      <td>46.194099</td>\n",
       "      <td>21.010523</td>\n",
       "      <td>46.063051</td>\n",
       "    </tr>\n",
       "    <tr>\n",
       "      <th>std</th>\n",
       "      <td>14.842045</td>\n",
       "      <td>9.878727</td>\n",
       "      <td>4.758272</td>\n",
       "      <td>9.625492</td>\n",
       "    </tr>\n",
       "    <tr>\n",
       "      <th>min</th>\n",
       "      <td>-1.000000</td>\n",
       "      <td>4.350000</td>\n",
       "      <td>2.816667</td>\n",
       "      <td>4.350000</td>\n",
       "    </tr>\n",
       "    <tr>\n",
       "      <th>25%</th>\n",
       "      <td>14.000000</td>\n",
       "      <td>42.350000</td>\n",
       "      <td>18.033333</td>\n",
       "      <td>42.216667</td>\n",
       "    </tr>\n",
       "    <tr>\n",
       "      <th>50%</th>\n",
       "      <td>25.000000</td>\n",
       "      <td>44.683333</td>\n",
       "      <td>20.500000</td>\n",
       "      <td>44.550000</td>\n",
       "    </tr>\n",
       "    <tr>\n",
       "      <th>75%</th>\n",
       "      <td>37.000000</td>\n",
       "      <td>47.550000</td>\n",
       "      <td>23.300000</td>\n",
       "      <td>47.516667</td>\n",
       "    </tr>\n",
       "    <tr>\n",
       "      <th>max</th>\n",
       "      <td>98.000000</td>\n",
       "      <td>294.083333</td>\n",
       "      <td>67.583333</td>\n",
       "      <td>251.000000</td>\n",
       "    </tr>\n",
       "  </tbody>\n",
       "</table>\n",
       "</div>"
      ],
      "text/plain": [
       "         t вып-обр  t обработка  t под током   t продувка\n",
       "count  6444.000000  6440.000000  6440.000000  6444.000000\n",
       "mean     26.492241    46.194099    21.010523    46.063051\n",
       "std      14.842045     9.878727     4.758272     9.625492\n",
       "min      -1.000000     4.350000     2.816667     4.350000\n",
       "25%      14.000000    42.350000    18.033333    42.216667\n",
       "50%      25.000000    44.683333    20.500000    44.550000\n",
       "75%      37.000000    47.550000    23.300000    47.516667\n",
       "max      98.000000   294.083333    67.583333   251.000000"
      ]
     },
     "execution_count": 372,
     "metadata": {},
     "output_type": "execute_result"
    }
   ],
   "source": [
    "data.iloc[:, 1:5].describe()"
   ]
  },
  {
   "cell_type": "code",
   "execution_count": 373,
   "metadata": {},
   "outputs": [
    {
     "data": {
      "text/plain": [
       "<seaborn.axisgrid.PairGrid at 0x1d28fc9c550>"
      ]
     },
     "execution_count": 373,
     "metadata": {},
     "output_type": "execute_result"
    },
    {
     "data": {
      "image/png": "[encoded data removed]",
      "text/plain": [
       "<Figure size 720x720 with 20 Axes>"
      ]
     },
     "metadata": {
      "needs_background": "light"
     },
     "output_type": "display_data"
    }
   ],
   "source": [
    "sns.pairplot(data.iloc[:, 1:5])"
   ]
  },
  {
   "cell_type": "code",
   "execution_count": 374,
   "metadata": {},
   "outputs": [
    {
     "data": {
      "text/plain": [
       "кол-во пропуск  per  \n",
       "597             8.48     35\n",
       "598             8.49      4\n",
       "2299            32.65     4\n",
       "601             8.54      2\n",
       "605             8.59      2\n",
       "dtype: int64"
      ]
     },
     "execution_count": 374,
     "metadata": {},
     "output_type": "execute_result"
    }
   ],
   "source": [
    "# pd.set_option('display.max_rows', None)\n",
    "# pd.reset_option(\"display.max_rows\")\n",
    "null_values = pd.DataFrame({'кол-во пропуск' :data.iloc[:, 5:].isna().sum()})\n",
    "null_values['per'] = (null_values.iloc[:, 0] * 100 / len(data)).apply(lambda x: round(x, 2))\n",
    "null_values.value_counts().head(5) # количесвто колонок, в которых одинаковое кол-во пропусков"
   ]
  },
  {
   "cell_type": "code",
   "execution_count": 375,
   "metadata": {},
   "outputs": [
    {
     "data": {
      "text/plain": [
       "597"
      ]
     },
     "execution_count": 375,
     "metadata": {},
     "output_type": "execute_result"
    }
   ],
   "source": [
    "# Проверяем, что в 35 колонках, в которых отстутвует 597 значений, пропуски относятся к одним и тем же строкам.\n",
    "empty_columns = data[null_values[null_values.per == 8.48].index].T.isna().sum() \n",
    "(empty_columns == 35).sum()"
   ]
  },
  {
   "cell_type": "code",
   "execution_count": 376,
   "metadata": {},
   "outputs": [
    {
     "data": {
      "text/plain": [
       "Index(['произв жидкая сталь', 'произв количество обработок',\n",
       "       'произв  количество плавок', 'произв количество плавок (цел)',\n",
       "       'химсталь первый Al_1', 'химсталь первый C_1', 'химсталь первый Cr_1',\n",
       "       'химсталь первый Cu_1', 'химсталь первый Mn_1', 'химсталь первый Ni_1',\n",
       "       'химсталь первый P_1', 'химсталь первый S_1', 'химсталь первый Si_1',\n",
       "       'химсталь первый Ti_1', 'химсталь первый V_1', 'химсталь последний Al',\n",
       "       'химсталь последний C', 'химсталь последний Cr',\n",
       "       'химсталь последний Cu', 'химсталь последний Mn',\n",
       "       'химсталь последний Mo', 'химсталь последний Ni',\n",
       "       'химсталь последний P', 'химсталь последний S', 'химсталь последний Si',\n",
       "       'химсталь последний Ti', 'химсталь последний V', 'химшлак первый CaO_1',\n",
       "       'химшлак первый FeO_1', 'химшлак первый MnO_1', 'химшлак первый R_1',\n",
       "       'химшлак последний CaO', 'химшлак последний FeO',\n",
       "       'химшлак последний MnO', 'химшлак последний R'],\n",
       "      dtype='object')"
      ]
     },
     "execution_count": 376,
     "metadata": {},
     "output_type": "execute_result"
    }
   ],
   "source": [
    "data[null_values[null_values.per == 8.48].index].columns\n",
    "# в этих строках отутсвуют основные переменные, по которым мы анализуем наши данные (химшлак последний CaO, FeO, MnO, R)\n",
    "# значит можем эти строки удалять"
   ]
  },
  {
   "cell_type": "code",
   "execution_count": 377,
   "metadata": {},
   "outputs": [
    {
     "data": {
      "text/plain": [
       "(6444, 81)"
      ]
     },
     "execution_count": 377,
     "metadata": {},
     "output_type": "execute_result"
    }
   ],
   "source": [
    "data.drop(empty_columns[empty_columns == 35].index, axis=0, inplace=True)\n",
    "data.shape"
   ]
  },
  {
   "cell_type": "code",
   "execution_count": 378,
   "metadata": {},
   "outputs": [],
   "source": [
    "def df_null_values(df):\n",
    "    null_values = pd.DataFrame({'кол-во пропуск' :df.iloc[:, 5:].isna().sum()})\n",
    "    null_values['per'] = (null_values.iloc[:, 0] * 100 / len(df)).apply(lambda x: round(x, 3))\n",
    "    return null_values"
   ]
  },
  {
   "cell_type": "code",
   "execution_count": 379,
   "metadata": {},
   "outputs": [
    {
     "data": {
      "text/html": [
       "<div>\n",
       "<style scoped>\n",
       "    .dataframe tbody tr th:only-of-type {\n",
       "        vertical-align: middle;\n",
       "    }\n",
       "\n",
       "    .dataframe tbody tr th {\n",
       "        vertical-align: top;\n",
       "    }\n",
       "\n",
       "    .dataframe thead th {\n",
       "        text-align: right;\n",
       "    }\n",
       "</style>\n",
       "<table border=\"1\" class=\"dataframe\">\n",
       "  <thead>\n",
       "    <tr style=\"text-align: right;\">\n",
       "      <th></th>\n",
       "      <th>кол-во пропуск</th>\n",
       "      <th>per</th>\n",
       "    </tr>\n",
       "  </thead>\n",
       "  <tbody>\n",
       "    <tr>\n",
       "      <th>ферспл FeSi-75</th>\n",
       "      <td>6439</td>\n",
       "      <td>99.922</td>\n",
       "    </tr>\n",
       "    <tr>\n",
       "      <th>сыпуч  кокс. мелочь (сух.)</th>\n",
       "      <td>6437</td>\n",
       "      <td>99.891</td>\n",
       "    </tr>\n",
       "    <tr>\n",
       "      <th>сыпуч кварцит</th>\n",
       "      <td>6431</td>\n",
       "      <td>99.798</td>\n",
       "    </tr>\n",
       "    <tr>\n",
       "      <th>ферспл FeMo</th>\n",
       "      <td>6411</td>\n",
       "      <td>99.488</td>\n",
       "    </tr>\n",
       "    <tr>\n",
       "      <th>ферспл  Ni H1 пласт.</th>\n",
       "      <td>6362</td>\n",
       "      <td>98.727</td>\n",
       "    </tr>\n",
       "    <tr>\n",
       "      <th>ферспл FeV азот.</th>\n",
       "      <td>6061</td>\n",
       "      <td>94.056</td>\n",
       "    </tr>\n",
       "    <tr>\n",
       "      <th>расход C пров.</th>\n",
       "      <td>5720</td>\n",
       "      <td>88.765</td>\n",
       "    </tr>\n",
       "    <tr>\n",
       "      <th>ферспл  ферванит</th>\n",
       "      <td>5427</td>\n",
       "      <td>84.218</td>\n",
       "    </tr>\n",
       "    <tr>\n",
       "      <th>N2 (интенс.)</th>\n",
       "      <td>5055</td>\n",
       "      <td>78.445</td>\n",
       "    </tr>\n",
       "    <tr>\n",
       "      <th>расход газ  N2</th>\n",
       "      <td>5055</td>\n",
       "      <td>78.445</td>\n",
       "    </tr>\n",
       "    <tr>\n",
       "      <th>химшлак первый Al2O3_1</th>\n",
       "      <td>1702</td>\n",
       "      <td>26.412</td>\n",
       "    </tr>\n",
       "    <tr>\n",
       "      <th>химшлак первый SiO2_1</th>\n",
       "      <td>1702</td>\n",
       "      <td>26.412</td>\n",
       "    </tr>\n",
       "    <tr>\n",
       "      <th>химшлак последний Al2O3</th>\n",
       "      <td>1702</td>\n",
       "      <td>26.412</td>\n",
       "    </tr>\n",
       "    <tr>\n",
       "      <th>химшлак последний SiO2</th>\n",
       "      <td>1702</td>\n",
       "      <td>26.412</td>\n",
       "    </tr>\n",
       "    <tr>\n",
       "      <th>сыпуч известь РП</th>\n",
       "      <td>1674</td>\n",
       "      <td>25.978</td>\n",
       "    </tr>\n",
       "    <tr>\n",
       "      <th>ферспл  фх850А</th>\n",
       "      <td>561</td>\n",
       "      <td>8.706</td>\n",
       "    </tr>\n",
       "    <tr>\n",
       "      <th>сыпуч  шпат плав.</th>\n",
       "      <td>534</td>\n",
       "      <td>8.287</td>\n",
       "    </tr>\n",
       "  </tbody>\n",
       "</table>\n",
       "</div>"
      ],
      "text/plain": [
       "                            кол-во пропуск     per\n",
       "ферспл FeSi-75                        6439  99.922\n",
       "сыпуч  кокс. мелочь (сух.)            6437  99.891\n",
       "сыпуч кварцит                         6431  99.798\n",
       "ферспл FeMo                           6411  99.488\n",
       "ферспл  Ni H1 пласт.                  6362  98.727\n",
       "ферспл FeV азот.                      6061  94.056\n",
       "расход C пров.                        5720  88.765\n",
       "ферспл  ферванит                      5427  84.218\n",
       "N2 (интенс.)                          5055  78.445\n",
       "расход газ  N2                        5055  78.445\n",
       "химшлак первый Al2O3_1                1702  26.412\n",
       "химшлак первый SiO2_1                 1702  26.412\n",
       "химшлак последний Al2O3               1702  26.412\n",
       "химшлак последний SiO2                1702  26.412\n",
       "сыпуч известь РП                      1674  25.978\n",
       "ферспл  фх850А                         561   8.706\n",
       "сыпуч  шпат плав.                      534   8.287"
      ]
     },
     "execution_count": 379,
     "metadata": {},
     "output_type": "execute_result"
    }
   ],
   "source": [
    "null_values = df_null_values(data.iloc[:, 5:])\n",
    "columns_sortby_nan = null_values.sort_values(by='per', ascending=False).index\n",
    "null_values.sort_values(by='per', ascending=False).head(17)"
   ]
  },
  {
   "cell_type": "code",
   "execution_count": 380,
   "metadata": {},
   "outputs": [],
   "source": [
    "#удалим колонки, в которых больше 70 % пропусков \n",
    "data.drop(null_values[null_values.per > 70].index, axis=1, inplace=True)"
   ]
  },
  {
   "cell_type": "code",
   "execution_count": 381,
   "metadata": {},
   "outputs": [
    {
     "data": {
      "text/html": [
       "<div>\n",
       "<style scoped>\n",
       "    .dataframe tbody tr th:only-of-type {\n",
       "        vertical-align: middle;\n",
       "    }\n",
       "\n",
       "    .dataframe tbody tr th {\n",
       "        vertical-align: top;\n",
       "    }\n",
       "\n",
       "    .dataframe thead th {\n",
       "        text-align: right;\n",
       "    }\n",
       "</style>\n",
       "<table border=\"1\" class=\"dataframe\">\n",
       "  <thead>\n",
       "    <tr style=\"text-align: right;\">\n",
       "      <th></th>\n",
       "      <th>кол-во пропуск</th>\n",
       "      <th>per</th>\n",
       "    </tr>\n",
       "  </thead>\n",
       "  <tbody>\n",
       "    <tr>\n",
       "      <th>химшлак последний SiO2</th>\n",
       "      <td>1702</td>\n",
       "      <td>26.412</td>\n",
       "    </tr>\n",
       "    <tr>\n",
       "      <th>химшлак последний Al2O3</th>\n",
       "      <td>1702</td>\n",
       "      <td>26.412</td>\n",
       "    </tr>\n",
       "    <tr>\n",
       "      <th>химшлак первый SiO2_1</th>\n",
       "      <td>1702</td>\n",
       "      <td>26.412</td>\n",
       "    </tr>\n",
       "    <tr>\n",
       "      <th>химшлак первый Al2O3_1</th>\n",
       "      <td>1702</td>\n",
       "      <td>26.412</td>\n",
       "    </tr>\n",
       "    <tr>\n",
       "      <th>сыпуч известь РП</th>\n",
       "      <td>1674</td>\n",
       "      <td>25.978</td>\n",
       "    </tr>\n",
       "    <tr>\n",
       "      <th>ферспл  фх850А</th>\n",
       "      <td>561</td>\n",
       "      <td>8.706</td>\n",
       "    </tr>\n",
       "    <tr>\n",
       "      <th>сыпуч  шпат плав.</th>\n",
       "      <td>534</td>\n",
       "      <td>8.287</td>\n",
       "    </tr>\n",
       "  </tbody>\n",
       "</table>\n",
       "</div>"
      ],
      "text/plain": [
       "                         кол-во пропуск     per\n",
       "химшлак последний SiO2             1702  26.412\n",
       "химшлак последний Al2O3            1702  26.412\n",
       "химшлак первый SiO2_1              1702  26.412\n",
       "химшлак первый Al2O3_1             1702  26.412\n",
       "сыпуч известь РП                   1674  25.978\n",
       "ферспл  фх850А                      561   8.706\n",
       "сыпуч  шпат плав.                   534   8.287"
      ]
     },
     "execution_count": 381,
     "metadata": {},
     "output_type": "execute_result"
    }
   ],
   "source": [
    "null_values = df_null_values(data.iloc[:, 5:])\n",
    "columns_sortby_nan = null_values.sort_values(by='per', ascending=False).index\n",
    "null_values.sort_values(by='per', ascending=False).head(7)"
   ]
  },
  {
   "cell_type": "markdown",
   "metadata": {},
   "source": [
    "Для химшлаков SiO2 и Al2O3 неизветно 26 % процентов данных. Значит для этих целевых переменных выборка для обучения будет меньше. "
   ]
  },
  {
   "cell_type": "code",
   "execution_count": 382,
   "metadata": {},
   "outputs": [
    {
     "data": {
      "text/plain": [
       "6444"
      ]
     },
     "execution_count": 382,
     "metadata": {},
     "output_type": "execute_result"
    }
   ],
   "source": [
    "# проверка, что нет  данных по одним и тем же строчкам\n",
    "(data['химшлак последний SiO2'].isna() == data['химшлак первый Al2O3_1'].isna()).sum()"
   ]
  },
  {
   "cell_type": "code",
   "execution_count": 383,
   "metadata": {},
   "outputs": [
    {
     "data": {
      "text/plain": [
       "кол-во пропуск    35\n",
       "per               35\n",
       "dtype: int64"
      ]
     },
     "execution_count": 383,
     "metadata": {},
     "output_type": "execute_result"
    }
   ],
   "source": [
    "null_values[null_values.per == 0].count()\n",
    "# для 35 колонок у нас известны все значения"
   ]
  },
  {
   "cell_type": "code",
   "execution_count": 384,
   "metadata": {},
   "outputs": [
    {
     "data": {
      "text/html": [
       "<div>\n",
       "<style scoped>\n",
       "    .dataframe tbody tr th:only-of-type {\n",
       "        vertical-align: middle;\n",
       "    }\n",
       "\n",
       "    .dataframe tbody tr th {\n",
       "        vertical-align: top;\n",
       "    }\n",
       "\n",
       "    .dataframe thead th {\n",
       "        text-align: right;\n",
       "    }\n",
       "</style>\n",
       "<table border=\"1\" class=\"dataframe\">\n",
       "  <thead>\n",
       "    <tr style=\"text-align: right;\">\n",
       "      <th></th>\n",
       "      <th>кол-во пропуск</th>\n",
       "      <th>per</th>\n",
       "    </tr>\n",
       "  </thead>\n",
       "  <tbody>\n",
       "    <tr>\n",
       "      <th>сыпуч известь РП</th>\n",
       "      <td>1674</td>\n",
       "      <td>25.978</td>\n",
       "    </tr>\n",
       "    <tr>\n",
       "      <th>ферспл  фх850А</th>\n",
       "      <td>561</td>\n",
       "      <td>8.706</td>\n",
       "    </tr>\n",
       "    <tr>\n",
       "      <th>сыпуч  шпат плав.</th>\n",
       "      <td>534</td>\n",
       "      <td>8.287</td>\n",
       "    </tr>\n",
       "    <tr>\n",
       "      <th>чист расход V</th>\n",
       "      <td>266</td>\n",
       "      <td>4.128</td>\n",
       "    </tr>\n",
       "    <tr>\n",
       "      <th>ферспл  FeV-80</th>\n",
       "      <td>265</td>\n",
       "      <td>4.112</td>\n",
       "    </tr>\n",
       "    <tr>\n",
       "      <th>химсталь последний Ca</th>\n",
       "      <td>226</td>\n",
       "      <td>3.507</td>\n",
       "    </tr>\n",
       "    <tr>\n",
       "      <th>ферспл CaC2</th>\n",
       "      <td>200</td>\n",
       "      <td>3.104</td>\n",
       "    </tr>\n",
       "    <tr>\n",
       "      <th>сыпуч  кокс. мелочь КМ1</th>\n",
       "      <td>137</td>\n",
       "      <td>2.126</td>\n",
       "    </tr>\n",
       "    <tr>\n",
       "      <th>ферспл SiMn18</th>\n",
       "      <td>46</td>\n",
       "      <td>0.714</td>\n",
       "    </tr>\n",
       "    <tr>\n",
       "      <th>ферспл  Mn5Si65Al0.5</th>\n",
       "      <td>44</td>\n",
       "      <td>0.683</td>\n",
       "    </tr>\n",
       "    <tr>\n",
       "      <th>сыпуч кокс пыль УСТК</th>\n",
       "      <td>22</td>\n",
       "      <td>0.341</td>\n",
       "    </tr>\n",
       "    <tr>\n",
       "      <th>расход газ Ar</th>\n",
       "      <td>18</td>\n",
       "      <td>0.279</td>\n",
       "    </tr>\n",
       "    <tr>\n",
       "      <th>Ar (интенс.)</th>\n",
       "      <td>18</td>\n",
       "      <td>0.279</td>\n",
       "    </tr>\n",
       "    <tr>\n",
       "      <th>температура первая</th>\n",
       "      <td>8</td>\n",
       "      <td>0.124</td>\n",
       "    </tr>\n",
       "    <tr>\n",
       "      <th>температура последняя</th>\n",
       "      <td>8</td>\n",
       "      <td>0.124</td>\n",
       "    </tr>\n",
       "    <tr>\n",
       "      <th>эл. энергия</th>\n",
       "      <td>4</td>\n",
       "      <td>0.062</td>\n",
       "    </tr>\n",
       "    <tr>\n",
       "      <th>эл. энергия (интенс.)</th>\n",
       "      <td>4</td>\n",
       "      <td>0.062</td>\n",
       "    </tr>\n",
       "    <tr>\n",
       "      <th>химсталь последний N</th>\n",
       "      <td>2</td>\n",
       "      <td>0.031</td>\n",
       "    </tr>\n",
       "    <tr>\n",
       "      <th>химсталь первый Mo_1</th>\n",
       "      <td>1</td>\n",
       "      <td>0.016</td>\n",
       "    </tr>\n",
       "    <tr>\n",
       "      <th>химшлак первый MgO_1</th>\n",
       "      <td>1</td>\n",
       "      <td>0.016</td>\n",
       "    </tr>\n",
       "    <tr>\n",
       "      <th>химшлак последний MgO</th>\n",
       "      <td>1</td>\n",
       "      <td>0.016</td>\n",
       "    </tr>\n",
       "    <tr>\n",
       "      <th>химсталь первый N_1</th>\n",
       "      <td>1</td>\n",
       "      <td>0.016</td>\n",
       "    </tr>\n",
       "  </tbody>\n",
       "</table>\n",
       "</div>"
      ],
      "text/plain": [
       "                         кол-во пропуск     per\n",
       "сыпуч известь РП                   1674  25.978\n",
       "ферспл  фх850А                      561   8.706\n",
       "сыпуч  шпат плав.                   534   8.287\n",
       "чист расход V                       266   4.128\n",
       "ферспл  FeV-80                      265   4.112\n",
       "химсталь последний Ca               226   3.507\n",
       "ферспл CaC2                         200   3.104\n",
       "сыпуч  кокс. мелочь КМ1             137   2.126\n",
       "ферспл SiMn18                        46   0.714\n",
       "ферспл  Mn5Si65Al0.5                 44   0.683\n",
       "сыпуч кокс пыль УСТК                 22   0.341\n",
       "расход газ Ar                        18   0.279\n",
       "Ar (интенс.)                         18   0.279\n",
       "температура первая                    8   0.124\n",
       "температура последняя                 8   0.124\n",
       "эл. энергия                           4   0.062\n",
       "эл. энергия (интенс.)                 4   0.062\n",
       "химсталь последний N                  2   0.031\n",
       "химсталь первый Mo_1                  1   0.016\n",
       "химшлак первый MgO_1                  1   0.016\n",
       "химшлак последний MgO                 1   0.016\n",
       "химсталь первый N_1                   1   0.016"
      ]
     },
     "execution_count": 384,
     "metadata": {},
     "output_type": "execute_result"
    }
   ],
   "source": [
    "data_with_nan = null_values[null_values.per != 0].sort_values('per', ascending = False).iloc[4:, :]\n",
    "columns_with_nan = data_with_nan.index\n",
    "data_with_nan"
   ]
  },
  {
   "cell_type": "code",
   "execution_count": 385,
   "metadata": {},
   "outputs": [
    {
     "name": "stdout",
     "output_type": "stream",
     "text": [
      "0.02    6189\n",
      "NaN      200\n",
      "0.03      28\n",
      "0.01       8\n",
      "0.05       8\n",
      "0.02       6\n",
      "0.04       5\n",
      "Name: ферспл CaC2, dtype: int64\n"
     ]
    }
   ],
   "source": [
    "for name in columns_with_nan:\n",
    "    if data[name].value_counts(dropna=False).count() < 10:\n",
    "        print(data[name].value_counts(dropna=False))"
   ]
  },
  {
   "cell_type": "markdown",
   "metadata": {},
   "source": [
    "CaC2 вещество. Можно предположить, что Nan значит отсутвие в сплаве данного вещества. Заменем Nan на 0."
   ]
  },
  {
   "cell_type": "code",
   "execution_count": 386,
   "metadata": {},
   "outputs": [
    {
     "name": "stdout",
     "output_type": "stream",
     "text": [
      "0.02      6195\n",
      "0          200\n",
      "Другие      49\n",
      "Name: ферспл CaC2, dtype: int64\n"
     ]
    }
   ],
   "source": [
    "data_initial = data.copy()\n",
    "data['ферспл CaC2'] = data['ферспл CaC2'].apply(lambda x: round(x, 2))\n",
    "data['ферспл CaC2'] = data['ферспл CaC2'].map({0.02 : 0.02, np.NAN: 0, 0.03 : 'Другие', 0.01: 'Другие', 0.05: 'Другие', 0.04: 'Другие'})\n",
    "# print(data['ферспл CaC2'].value_counts(dropna=False))\n",
    "data['ферспл CaC2'] = data['ферспл CaC2'].map({0.02 : 0.02, 0: 0, 'Другие': -1})\n",
    "print(data['ферспл CaC2'].value_counts(dropna=False))\n",
    "columns_with_nan = list(columns_with_nan).copy()\n",
    "columns_with_nan.remove('ферспл CaC2')"
   ]
  },
  {
   "cell_type": "code",
   "execution_count": 399,
   "metadata": {},
   "outputs": [
    {
     "data": {
      "text/plain": [
       "['сыпуч известь РП',\n",
       " 'ферспл  фх850А',\n",
       " 'сыпуч  шпат плав.',\n",
       " 'чист расход V',\n",
       " 'ферспл  FeV-80',\n",
       " 'химсталь последний Ca',\n",
       " 'сыпуч  кокс. мелочь КМ1',\n",
       " 'ферспл SiMn18',\n",
       " 'ферспл  Mn5Si65Al0.5',\n",
       " 'сыпуч кокс пыль УСТК',\n",
       " 'расход газ Ar',\n",
       " 'Ar (интенс.)',\n",
       " 'температура первая',\n",
       " 'температура последняя',\n",
       " 'эл. энергия',\n",
       " 'эл. энергия (интенс.)',\n",
       " 'химсталь последний N',\n",
       " 'химсталь первый Mo_1',\n",
       " 'химшлак первый MgO_1',\n",
       " 'химшлак последний MgO',\n",
       " 'химсталь первый N_1']"
      ]
     },
     "execution_count": 399,
     "metadata": {},
     "output_type": "execute_result"
    }
   ],
   "source": [
    "columns_with_nan"
   ]
  },
  {
   "cell_type": "code",
   "execution_count": 387,
   "metadata": {},
   "outputs": [],
   "source": [
    "data_for_SiO2_Al2O3 = data[ ~data['химшлак последний SiO2'].isna()].copy()\n",
    "data_for_anothers = data.drop(['химшлак последний SiO2', 'химшлак первый Al2O3_1', 'химшлак последний Al2O3',\n",
    "       'химшлак первый SiO2_1'], axis=1).copy()"
   ]
  },
  {
   "cell_type": "code",
   "execution_count": 388,
   "metadata": {},
   "outputs": [
    {
     "data": {
      "text/html": [
       "<div>\n",
       "<style scoped>\n",
       "    .dataframe tbody tr th:only-of-type {\n",
       "        vertical-align: middle;\n",
       "    }\n",
       "\n",
       "    .dataframe tbody tr th {\n",
       "        vertical-align: top;\n",
       "    }\n",
       "\n",
       "    .dataframe thead th {\n",
       "        text-align: right;\n",
       "    }\n",
       "</style>\n",
       "<table border=\"1\" class=\"dataframe\">\n",
       "  <thead>\n",
       "    <tr style=\"text-align: right;\">\n",
       "      <th></th>\n",
       "      <th>кол-во пропуск</th>\n",
       "      <th>per</th>\n",
       "    </tr>\n",
       "  </thead>\n",
       "  <tbody>\n",
       "    <tr>\n",
       "      <th>сыпуч известь РП</th>\n",
       "      <td>978</td>\n",
       "      <td>20.624</td>\n",
       "    </tr>\n",
       "    <tr>\n",
       "      <th>сыпуч  шпат плав.</th>\n",
       "      <td>467</td>\n",
       "      <td>9.848</td>\n",
       "    </tr>\n",
       "    <tr>\n",
       "      <th>ферспл  фх850А</th>\n",
       "      <td>418</td>\n",
       "      <td>8.815</td>\n",
       "    </tr>\n",
       "    <tr>\n",
       "      <th>чист расход V</th>\n",
       "      <td>175</td>\n",
       "      <td>3.690</td>\n",
       "    </tr>\n",
       "    <tr>\n",
       "      <th>ферспл  FeV-80</th>\n",
       "      <td>174</td>\n",
       "      <td>3.669</td>\n",
       "    </tr>\n",
       "    <tr>\n",
       "      <th>химсталь последний Ca</th>\n",
       "      <td>166</td>\n",
       "      <td>3.501</td>\n",
       "    </tr>\n",
       "    <tr>\n",
       "      <th>сыпуч  кокс. мелочь КМ1</th>\n",
       "      <td>81</td>\n",
       "      <td>1.708</td>\n",
       "    </tr>\n",
       "  </tbody>\n",
       "</table>\n",
       "</div>"
      ],
      "text/plain": [
       "                         кол-во пропуск     per\n",
       "сыпуч известь РП                    978  20.624\n",
       "сыпуч  шпат плав.                   467   9.848\n",
       "ферспл  фх850А                      418   8.815\n",
       "чист расход V                       175   3.690\n",
       "ферспл  FeV-80                      174   3.669\n",
       "химсталь последний Ca               166   3.501\n",
       "сыпуч  кокс. мелочь КМ1              81   1.708"
      ]
     },
     "execution_count": 388,
     "metadata": {},
     "output_type": "execute_result"
    }
   ],
   "source": [
    "null_values_Si_AL = df_null_values(data_for_SiO2_Al2O3.iloc[:, 5:])\n",
    "columns_sortby_nan_Si_AL = null_values_Si_AL.sort_values(by='per', ascending=False).index\n",
    "null_values_Si_AL.sort_values(by='per', ascending=False).head(7)"
   ]
  },
  {
   "cell_type": "code",
   "execution_count": 389,
   "metadata": {},
   "outputs": [
    {
     "data": {
      "text/html": [
       "<div>\n",
       "<style scoped>\n",
       "    .dataframe tbody tr th:only-of-type {\n",
       "        vertical-align: middle;\n",
       "    }\n",
       "\n",
       "    .dataframe tbody tr th {\n",
       "        vertical-align: top;\n",
       "    }\n",
       "\n",
       "    .dataframe thead th {\n",
       "        text-align: right;\n",
       "    }\n",
       "</style>\n",
       "<table border=\"1\" class=\"dataframe\">\n",
       "  <thead>\n",
       "    <tr style=\"text-align: right;\">\n",
       "      <th></th>\n",
       "      <th>кол-во пропуск</th>\n",
       "      <th>per</th>\n",
       "    </tr>\n",
       "  </thead>\n",
       "  <tbody>\n",
       "    <tr>\n",
       "      <th>сыпуч известь РП</th>\n",
       "      <td>1674</td>\n",
       "      <td>25.978</td>\n",
       "    </tr>\n",
       "    <tr>\n",
       "      <th>ферспл  фх850А</th>\n",
       "      <td>561</td>\n",
       "      <td>8.706</td>\n",
       "    </tr>\n",
       "    <tr>\n",
       "      <th>сыпуч  шпат плав.</th>\n",
       "      <td>534</td>\n",
       "      <td>8.287</td>\n",
       "    </tr>\n",
       "    <tr>\n",
       "      <th>чист расход V</th>\n",
       "      <td>266</td>\n",
       "      <td>4.128</td>\n",
       "    </tr>\n",
       "    <tr>\n",
       "      <th>ферспл  FeV-80</th>\n",
       "      <td>265</td>\n",
       "      <td>4.112</td>\n",
       "    </tr>\n",
       "    <tr>\n",
       "      <th>химсталь последний Ca</th>\n",
       "      <td>226</td>\n",
       "      <td>3.507</td>\n",
       "    </tr>\n",
       "    <tr>\n",
       "      <th>сыпуч  кокс. мелочь КМ1</th>\n",
       "      <td>137</td>\n",
       "      <td>2.126</td>\n",
       "    </tr>\n",
       "  </tbody>\n",
       "</table>\n",
       "</div>"
      ],
      "text/plain": [
       "                         кол-во пропуск     per\n",
       "сыпуч известь РП                   1674  25.978\n",
       "ферспл  фх850А                      561   8.706\n",
       "сыпуч  шпат плав.                   534   8.287\n",
       "чист расход V                       266   4.128\n",
       "ферспл  FeV-80                      265   4.112\n",
       "химсталь последний Ca               226   3.507\n",
       "сыпуч  кокс. мелочь КМ1             137   2.126"
      ]
     },
     "execution_count": 389,
     "metadata": {},
     "output_type": "execute_result"
    }
   ],
   "source": [
    "null_values_anothers = df_null_values(data_for_anothers.iloc[:, 5:])\n",
    "columns_sortby_nan_anothers = null_values_anothers.sort_values(by='per', ascending=False).index\n",
    "null_values_anothers.sort_values(by='per', ascending=False).head(7)"
   ]
  },
  {
   "cell_type": "code",
   "execution_count": 390,
   "metadata": {},
   "outputs": [],
   "source": [
    "def description(df, columns):\n",
    "    for name in columns:\n",
    "        print(name, '\\nПропущенных значений:', df[name].isna().sum(),\\\n",
    "              '(', round(df[name].isna().sum() * 100 / len(df[name]), 2)  ,'%)',\n",
    "             '\\nМедиана: {2}, Среднее значение: {0}, Ср.откл:{1}'.format(round(df[name].mean(), 3),\\\n",
    "                                                                         round(df[name].std(), 3),\\\n",
    "                                                                         df[name].median()),\\\n",
    "              '\\nУникальных значений: {}'.format(df[name].value_counts(dropna=False).count()), '\\n')\n",
    "        fig = plt.figure(figsize=(10, 8))\n",
    "        plt.subplot(221)\n",
    "        plt.hist(df[name])\n",
    "        plt.grid()\n",
    "        plt.subplot(222)\n",
    "        sns.boxplot(y=df[name])\n",
    "        plt.show()"
   ]
  },
  {
   "cell_type": "code",
   "execution_count": 391,
   "metadata": {},
   "outputs": [],
   "source": [
    "corr_matrix = data.corr(method='spearman')"
   ]
  },
  {
   "cell_type": "code",
   "execution_count": 392,
   "metadata": {},
   "outputs": [
    {
     "data": {
      "text/plain": [
       "чист расход Si           0.362364\n",
       "сыпуч известь РП         1.000000\n",
       "ферспл  Mn5Si65Al0.5     0.310892\n",
       "химсталь первый Si_1    -0.318224\n",
       "химшлак первый MgO_1     0.320485\n",
       "химшлак первый R_1      -0.418449\n",
       "химшлак первый SiO2_1    0.310702\n",
       "Name: сыпуч известь РП, dtype: float64"
      ]
     },
     "execution_count": 392,
     "metadata": {},
     "output_type": "execute_result"
    }
   ],
   "source": [
    "izv_rp = corr_matrix['сыпуч известь РП']\n",
    "izv_rp[np.abs(izv_rp) > 0.3]"
   ]
  },
  {
   "cell_type": "code",
   "execution_count": 393,
   "metadata": {},
   "outputs": [
    {
     "name": "stdout",
     "output_type": "stream",
     "text": [
      "сыпуч известь РП \n",
      "Пропущенных значений: 1674 ( 25.98 %) \n",
      "Медиана: 0.11599999999999999, Среднее значение: 0.132, Ср.откл:0.08 \n",
      "Уникальных значений: 442 \n",
      "\n"
     ]
    },
    {
     "data": {
      "image/png": "[encoded data removed]",
      "text/plain": [
       "<Figure size 720x576 with 2 Axes>"
      ]
     },
     "metadata": {
      "needs_background": "light"
     },
     "output_type": "display_data"
    }
   ],
   "source": [
    "description(data, ['сыпуч известь РП'])"
   ]
  },
  {
   "cell_type": "code",
   "execution_count": 394,
   "metadata": {},
   "outputs": [
    {
     "data": {
      "text/plain": [
       "0"
      ]
     },
     "execution_count": 394,
     "metadata": {},
     "output_type": "execute_result"
    }
   ],
   "source": [
    "(data['сыпуч известь РП'] == 0).sum()"
   ]
  },
  {
   "cell_type": "code",
   "execution_count": 395,
   "metadata": {},
   "outputs": [],
   "source": [
    "data['ln_сып_изв'] = np.log(data['сыпуч известь РП'])"
   ]
  },
  {
   "cell_type": "code",
   "execution_count": 396,
   "metadata": {},
   "outputs": [
    {
     "name": "stdout",
     "output_type": "stream",
     "text": [
      "ln_сып_изв \n",
      "Пропущенных значений: 1674 ( 25.98 %) \n",
      "Медиана: -2.1541650878757723, Среднее значение: -2.181, Ср.откл:0.566 \n",
      "Уникальных значений: 429 \n",
      "\n"
     ]
    },
    {
     "data": {
      "image/png": "[encoded data removed]",
      "text/plain": [
       "<Figure size 720x576 with 2 Axes>"
      ]
     },
     "metadata": {
      "needs_background": "light"
     },
     "output_type": "display_data"
    }
   ],
   "source": [
    "description(data, ['ln_сып_изв'] )"
   ]
  },
  {
   "cell_type": "code",
   "execution_count": null,
   "metadata": {},
   "outputs": [],
   "source": []
  },
  {
   "cell_type": "code",
   "execution_count": 398,
   "metadata": {},
   "outputs": [],
   "source": [
    "# удаление выбросов\n",
    "out_forest = IsolationForest()\n",
    "out_forest.fit(data[columns_with_nan])\n",
    "outlier_predicted = out_forest.predict(data[columns_with_nan])"
   ]
  }
 ],
 "metadata": {
  "kernelspec": {
   "display_name": "Python 3",
   "language": "python",
   "name": "python3"
  },
  "language_info": {
   "codemirror_mode": {
    "name": "ipython",
    "version": 3
   },
   "file_extension": ".py",
   "mimetype": "text/x-python",
   "name": "python",
   "nbconvert_exporter": "python",
   "pygments_lexer": "ipython3",
   "version": "3.8.5"
  }
 },
 "nbformat": 4,
 "nbformat_minor": 4
}
